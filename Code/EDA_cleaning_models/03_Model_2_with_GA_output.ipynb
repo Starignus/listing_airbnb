{
 "cells": [
  {
   "attachments": {},
   "cell_type": "markdown",
   "metadata": {},
   "source": [
    "# Model 2\n",
    "\n",
    "This Notebook contains the modeling of the prediction of a new ```overall review metric``` that reflects the overall consumer response of satisfaction. It contains the next structure:\n",
    "\n",
    "* Uploaded Libraries, data set, variable declaration, and data split.\n",
    "* Feature selection results (the GA rounds are in the notebook ```2_Genetic_algorithm_Airbnb_Model_2_not_cut.```)\n",
    "* Training and Tuning process.\n",
    "* Final model.\n",
    "* Saving predictions for whole data set.\n",
    "\n",
    "\n",
    "Notes: The model is required to use predicted price, description, and neighborhood_overview. Those were processed in the notebook ```01_Texthero_Text_processing```. \n",
    "\n",
    "\n",
    "1) Cleaned by removing: html tags, stop words, punctuation, digits, etc.\n",
    "2) Represented by its TF-IDF (Term Frequency-Inverse Document Frequency).\n",
    "3) Transformed into two components with PCA (Principal Component Analysis.\n",
    "\n",
    "The transfomed features are:\n",
    "* description_pca_x, description_pca_y.\n",
    "* neighborhood_overview_pca_x, neighborhood_overview_pca_y."
   ]
  },
  {
   "cell_type": "markdown",
   "metadata": {},
   "source": [
    "## Libraries"
   ]
  },
  {
   "cell_type": "code",
   "execution_count": 1,
   "metadata": {
    "ExecuteTime": {
     "end_time": "2021-02-06T14:48:50.514383Z",
     "start_time": "2021-02-06T14:48:44.153014Z"
    }
   },
   "outputs": [],
   "source": [
    "%reload_ext autoreload\n",
    "%autoreload 2\n",
    "\n",
    "# visualisation and data manipulation\n",
    "import pandas as pd\n",
    "import numpy as np\n",
    "import matplotlib.pyplot as plt\n",
    "import seaborn as sns\n",
    "%matplotlib inline\n",
    "pd.set_option('display.max_columns', 200)\n",
    "\n",
    "\n",
    "# system and files managment\n",
    "import os\n",
    "import sys\n",
    "import pickle\n",
    "import ast\n",
    "import collections\n",
    "\n",
    "# model splits\n",
    "from sklearn.model_selection import train_test_split\n",
    "from sklearn.metrics import mean_squared_error as MSE\n",
    "\n",
    "# model\n",
    "import xgboost as xg\n",
    "\n",
    "import warnings\n",
    "warnings.filterwarnings('ignore')"
   ]
  },
  {
   "cell_type": "code",
   "execution_count": 2,
   "metadata": {
    "ExecuteTime": {
     "end_time": "2021-02-06T14:48:50.780748Z",
     "start_time": "2021-02-06T14:48:50.722772Z"
    }
   },
   "outputs": [],
   "source": [
    "# modules added to system path\n",
    "path_tools = os.path.abspath(r'/Users/starignus/Documents/Programing/Practise_jobexam/FDA/Airbnb')\n",
    "sys.path.extend([path_tools])"
   ]
  },
  {
   "cell_type": "code",
   "execution_count": 3,
   "metadata": {
    "ExecuteTime": {
     "end_time": "2021-02-06T14:48:51.089550Z",
     "start_time": "2021-02-06T14:48:50.936405Z"
    }
   },
   "outputs": [],
   "source": [
    "# exploring tools module\n",
    "import tools.exploring_tools as mtool \n",
    "import tools.feature_selection as fselec\n",
    "import tools.model_selection as mselec"
   ]
  },
  {
   "cell_type": "markdown",
   "metadata": {},
   "source": [
    "## Paths"
   ]
  },
  {
   "cell_type": "code",
   "execution_count": 4,
   "metadata": {
    "ExecuteTime": {
     "end_time": "2021-02-06T14:50:30.815705Z",
     "start_time": "2021-02-06T14:50:30.625928Z"
    }
   },
   "outputs": [],
   "source": [
    "path_project = r'/Users/starignus/Documents/Programing/Practise_jobexam/FDA/'\n",
    "path_input = os.path.join(path_project, 'Data', 'inputs')\n",
    "path_ouput = os.path.join(path_project, 'Data', 'outputs')\n",
    "listings = os.path.join(path_input, 'listings.csv')\n",
    "# Data set with the new metric to be predicted and the predicte price from first model\n",
    "data_set = os.path.join(path_input, 'extended_data_set_pred_01_GA_pca.pick')"
   ]
  },
  {
   "cell_type": "markdown",
   "metadata": {},
   "source": [
    "## Upload Data"
   ]
  },
  {
   "cell_type": "code",
   "execution_count": 133,
   "metadata": {
    "ExecuteTime": {
     "end_time": "2021-02-08T13:26:53.111321Z",
     "start_time": "2021-02-08T13:26:45.942426Z"
    }
   },
   "outputs": [],
   "source": [
    "df = pd.read_pickle(data_set)"
   ]
  },
  {
   "cell_type": "markdown",
   "metadata": {},
   "source": [
    "## Variable lists\n",
    "\n",
    "The model is required to use predicted price, description, and neighborhood_overview. Also, it is included variables that reflect features of the host, location, availability, time with reviews."
   ]
  },
  {
   "cell_type": "code",
   "execution_count": 131,
   "metadata": {
    "ExecuteTime": {
     "end_time": "2021-02-08T13:26:27.093437Z",
     "start_time": "2021-02-08T13:26:27.029357Z"
    }
   },
   "outputs": [],
   "source": [
    "var_all_considered = ['host_response_rate',\n",
    "'host_acceptance_rate',\n",
    "'host_is_superhost',\n",
    "'latitude',\n",
    "'longitude',\n",
    "'accommodates',\n",
    "'bedrooms',\n",
    "'beds',\n",
    "'has_availability',\n",
    "'availability_30',\n",
    "'availability_60',\n",
    "'availability_90',\n",
    "'availability_365',\n",
    "'number_of_reviews',\n",
    "'number_of_reviews_ltm',\n",
    "'instant_bookable',\n",
    "'reviews_per_month',\n",
    "'room_type_num',\n",
    "'months_since_first_reviews',\n",
    "'months_with_reviews',\n",
    "'months_as_host',\n",
    "'predicted_price_log_01_GA', # predicted price from  model 1\n",
    "'desccription_pca_x',\n",
    "'desccription_pca_y',\n",
    "'neighborhood_overview_pca_x',\n",
    "'neighborhood_overview_pca_y',\n",
    "'host_number_verifications',\n",
    "'host_response_time_category']"
   ]
  },
  {
   "cell_type": "code",
   "execution_count": 132,
   "metadata": {
    "ExecuteTime": {
     "end_time": "2021-02-08T13:26:29.158878Z",
     "start_time": "2021-02-08T13:26:29.045192Z"
    }
   },
   "outputs": [
    {
     "data": {
      "text/plain": [
       "28"
      ]
     },
     "execution_count": 132,
     "metadata": {},
     "output_type": "execute_result"
    }
   ],
   "source": [
    "len(var_all_considered)"
   ]
  },
  {
   "cell_type": "markdown",
   "metadata": {},
   "source": [
    "### Variables for the model (GA and feature Importance)\n",
    "\n",
    "From the notebook where the GA algorithm was run, the best varaibles found were:"
   ]
  },
  {
   "cell_type": "code",
   "execution_count": 31,
   "metadata": {
    "ExecuteTime": {
     "end_time": "2021-02-06T15:04:32.099073Z",
     "start_time": "2021-02-06T15:04:31.998423Z"
    }
   },
   "outputs": [],
   "source": [
    "list_var_GA = ['host_response_rate',\n",
    " 'host_acceptance_rate',\n",
    " 'host_is_superhost',\n",
    " 'latitude',\n",
    " 'bedrooms',\n",
    " 'has_availability',\n",
    " 'availability_60',\n",
    " 'availability_90',\n",
    " 'number_of_reviews',\n",
    " 'instant_bookable',\n",
    " 'reviews_per_month',\n",
    " 'months_since_first_reviews',\n",
    " 'months_as_host',\n",
    " 'predicted_price_log_01_GA',\n",
    " 'neighborhood_overview_pca_x',\n",
    " 'neighborhood_overview_pca_y',\n",
    " 'desccription_pca_x',\n",
    " 'desccription_pca_y',\n",
    " 'host_number_verifications']\n",
    "\n",
    "var_to_predict = 'overall_review_value'"
   ]
  },
  {
   "cell_type": "code",
   "execution_count": 148,
   "metadata": {
    "ExecuteTime": {
     "end_time": "2021-02-08T13:53:48.077047Z",
     "start_time": "2021-02-08T13:53:47.763293Z"
    }
   },
   "outputs": [
    {
     "data": {
      "text/plain": [
       "19"
      ]
     },
     "execution_count": 148,
     "metadata": {},
     "output_type": "execute_result"
    }
   ],
   "source": [
    "len(list_var_GA)"
   ]
  },
  {
   "cell_type": "markdown",
   "metadata": {},
   "source": [
    "## Evaluation Metric"
   ]
  },
  {
   "cell_type": "code",
   "execution_count": 25,
   "metadata": {
    "ExecuteTime": {
     "end_time": "2021-02-06T14:59:58.907116Z",
     "start_time": "2021-02-06T14:59:58.758694Z"
    }
   },
   "outputs": [],
   "source": [
    "def RMSE(y_true, y_pred):\n",
    "    return np.sqrt(MSE(y_true, y_pred))"
   ]
  },
  {
   "cell_type": "markdown",
   "metadata": {
    "ExecuteTime": {
     "end_time": "2021-02-01T22:03:37.527447Z",
     "start_time": "2021-02-01T22:03:37.166366Z"
    }
   },
   "source": [
    "## Split data set "
   ]
  },
  {
   "cell_type": "code",
   "execution_count": 134,
   "metadata": {
    "ExecuteTime": {
     "end_time": "2021-02-08T13:27:01.554614Z",
     "start_time": "2021-02-08T13:27:01.422440Z"
    }
   },
   "outputs": [],
   "source": [
    "y = df['overall_review_value'].values"
   ]
  },
  {
   "cell_type": "code",
   "execution_count": 135,
   "metadata": {
    "ExecuteTime": {
     "end_time": "2021-02-08T13:27:03.835887Z",
     "start_time": "2021-02-08T13:27:03.481269Z"
    }
   },
   "outputs": [],
   "source": [
    "X = df[var_all_considered].copy()"
   ]
  },
  {
   "cell_type": "code",
   "execution_count": 136,
   "metadata": {
    "ExecuteTime": {
     "end_time": "2021-02-08T13:27:06.413162Z",
     "start_time": "2021-02-08T13:27:06.352354Z"
    }
   },
   "outputs": [
    {
     "data": {
      "text/plain": [
       "(52534, 28)"
      ]
     },
     "execution_count": 136,
     "metadata": {},
     "output_type": "execute_result"
    }
   ],
   "source": [
    "X.shape"
   ]
  },
  {
   "cell_type": "code",
   "execution_count": 137,
   "metadata": {
    "ExecuteTime": {
     "end_time": "2021-02-08T13:27:08.573769Z",
     "start_time": "2021-02-08T13:27:08.344929Z"
    }
   },
   "outputs": [
    {
     "data": {
      "text/html": [
       "<div>\n",
       "<style scoped>\n",
       "    .dataframe tbody tr th:only-of-type {\n",
       "        vertical-align: middle;\n",
       "    }\n",
       "\n",
       "    .dataframe tbody tr th {\n",
       "        vertical-align: top;\n",
       "    }\n",
       "\n",
       "    .dataframe thead th {\n",
       "        text-align: right;\n",
       "    }\n",
       "</style>\n",
       "<table border=\"1\" class=\"dataframe\">\n",
       "  <thead>\n",
       "    <tr style=\"text-align: right;\">\n",
       "      <th></th>\n",
       "      <th>host_response_rate</th>\n",
       "      <th>host_acceptance_rate</th>\n",
       "      <th>host_is_superhost</th>\n",
       "      <th>latitude</th>\n",
       "      <th>longitude</th>\n",
       "      <th>accommodates</th>\n",
       "      <th>bedrooms</th>\n",
       "      <th>beds</th>\n",
       "      <th>has_availability</th>\n",
       "      <th>availability_30</th>\n",
       "      <th>availability_60</th>\n",
       "      <th>availability_90</th>\n",
       "      <th>availability_365</th>\n",
       "      <th>number_of_reviews</th>\n",
       "      <th>number_of_reviews_ltm</th>\n",
       "      <th>instant_bookable</th>\n",
       "      <th>reviews_per_month</th>\n",
       "      <th>room_type_num</th>\n",
       "      <th>months_since_first_reviews</th>\n",
       "      <th>months_with_reviews</th>\n",
       "      <th>months_as_host</th>\n",
       "      <th>predicted_price_log_01_GA</th>\n",
       "      <th>desccription_pca_x</th>\n",
       "      <th>desccription_pca_y</th>\n",
       "      <th>neighborhood_overview_pca_x</th>\n",
       "      <th>neighborhood_overview_pca_y</th>\n",
       "      <th>host_number_verifications</th>\n",
       "      <th>host_response_time_category</th>\n",
       "    </tr>\n",
       "  </thead>\n",
       "  <tbody>\n",
       "    <tr>\n",
       "      <th>0</th>\n",
       "      <td>100.0</td>\n",
       "      <td>90.0</td>\n",
       "      <td>0.0</td>\n",
       "      <td>51.46225</td>\n",
       "      <td>-0.11732</td>\n",
       "      <td>4</td>\n",
       "      <td>1.0</td>\n",
       "      <td>3.0</td>\n",
       "      <td>1.0</td>\n",
       "      <td>3</td>\n",
       "      <td>33</td>\n",
       "      <td>63</td>\n",
       "      <td>338</td>\n",
       "      <td>192</td>\n",
       "      <td>6</td>\n",
       "      <td>1.0</td>\n",
       "      <td>1.46</td>\n",
       "      <td>1</td>\n",
       "      <td>5.0</td>\n",
       "      <td>120.0</td>\n",
       "      <td>134.0</td>\n",
       "      <td>4.323723</td>\n",
       "      <td>-0.207060</td>\n",
       "      <td>-0.071857</td>\n",
       "      <td>0.115708</td>\n",
       "      <td>-0.066403</td>\n",
       "      <td>109</td>\n",
       "      <td>1.0</td>\n",
       "    </tr>\n",
       "    <tr>\n",
       "      <th>1</th>\n",
       "      <td>100.0</td>\n",
       "      <td>75.0</td>\n",
       "      <td>0.0</td>\n",
       "      <td>51.56802</td>\n",
       "      <td>-0.11121</td>\n",
       "      <td>2</td>\n",
       "      <td>1.0</td>\n",
       "      <td>0.0</td>\n",
       "      <td>1.0</td>\n",
       "      <td>30</td>\n",
       "      <td>60</td>\n",
       "      <td>90</td>\n",
       "      <td>365</td>\n",
       "      <td>21</td>\n",
       "      <td>1</td>\n",
       "      <td>0.0</td>\n",
       "      <td>0.17</td>\n",
       "      <td>2</td>\n",
       "      <td>9.0</td>\n",
       "      <td>114.0</td>\n",
       "      <td>133.0</td>\n",
       "      <td>3.916180</td>\n",
       "      <td>-0.156919</td>\n",
       "      <td>-0.140670</td>\n",
       "      <td>0.126038</td>\n",
       "      <td>-0.127408</td>\n",
       "      <td>93</td>\n",
       "      <td>2.0</td>\n",
       "    </tr>\n",
       "    <tr>\n",
       "      <th>2</th>\n",
       "      <td>NaN</td>\n",
       "      <td>100.0</td>\n",
       "      <td>0.0</td>\n",
       "      <td>51.48796</td>\n",
       "      <td>-0.16898</td>\n",
       "      <td>2</td>\n",
       "      <td>1.0</td>\n",
       "      <td>1.0</td>\n",
       "      <td>1.0</td>\n",
       "      <td>29</td>\n",
       "      <td>59</td>\n",
       "      <td>62</td>\n",
       "      <td>189</td>\n",
       "      <td>89</td>\n",
       "      <td>1</td>\n",
       "      <td>1.0</td>\n",
       "      <td>0.66</td>\n",
       "      <td>1</td>\n",
       "      <td>0.0</td>\n",
       "      <td>123.0</td>\n",
       "      <td>132.0</td>\n",
       "      <td>4.845178</td>\n",
       "      <td>-0.078360</td>\n",
       "      <td>-0.289400</td>\n",
       "      <td>-0.203779</td>\n",
       "      <td>0.033219</td>\n",
       "      <td>55</td>\n",
       "      <td>NaN</td>\n",
       "    </tr>\n",
       "    <tr>\n",
       "      <th>3</th>\n",
       "      <td>0.0</td>\n",
       "      <td>100.0</td>\n",
       "      <td>1.0</td>\n",
       "      <td>51.52195</td>\n",
       "      <td>-0.14094</td>\n",
       "      <td>6</td>\n",
       "      <td>3.0</td>\n",
       "      <td>3.0</td>\n",
       "      <td>1.0</td>\n",
       "      <td>16</td>\n",
       "      <td>16</td>\n",
       "      <td>16</td>\n",
       "      <td>231</td>\n",
       "      <td>42</td>\n",
       "      <td>0</td>\n",
       "      <td>0.0</td>\n",
       "      <td>0.35</td>\n",
       "      <td>1</td>\n",
       "      <td>14.0</td>\n",
       "      <td>104.0</td>\n",
       "      <td>131.0</td>\n",
       "      <td>5.372856</td>\n",
       "      <td>-0.065268</td>\n",
       "      <td>-0.359259</td>\n",
       "      <td>0.042830</td>\n",
       "      <td>-0.185334</td>\n",
       "      <td>123</td>\n",
       "      <td>4.0</td>\n",
       "    </tr>\n",
       "    <tr>\n",
       "      <th>5</th>\n",
       "      <td>NaN</td>\n",
       "      <td>100.0</td>\n",
       "      <td>1.0</td>\n",
       "      <td>51.57224</td>\n",
       "      <td>-0.20906</td>\n",
       "      <td>2</td>\n",
       "      <td>1.0</td>\n",
       "      <td>0.0</td>\n",
       "      <td>1.0</td>\n",
       "      <td>0</td>\n",
       "      <td>0</td>\n",
       "      <td>0</td>\n",
       "      <td>2</td>\n",
       "      <td>129</td>\n",
       "      <td>3</td>\n",
       "      <td>1.0</td>\n",
       "      <td>0.99</td>\n",
       "      <td>2</td>\n",
       "      <td>0.0</td>\n",
       "      <td>119.0</td>\n",
       "      <td>128.0</td>\n",
       "      <td>3.541085</td>\n",
       "      <td>0.140470</td>\n",
       "      <td>0.309092</td>\n",
       "      <td>-0.061274</td>\n",
       "      <td>-0.136107</td>\n",
       "      <td>100</td>\n",
       "      <td>NaN</td>\n",
       "    </tr>\n",
       "  </tbody>\n",
       "</table>\n",
       "</div>"
      ],
      "text/plain": [
       "   host_response_rate  host_acceptance_rate  host_is_superhost  latitude  \\\n",
       "0               100.0                  90.0                0.0  51.46225   \n",
       "1               100.0                  75.0                0.0  51.56802   \n",
       "2                 NaN                 100.0                0.0  51.48796   \n",
       "3                 0.0                 100.0                1.0  51.52195   \n",
       "5                 NaN                 100.0                1.0  51.57224   \n",
       "\n",
       "   longitude  accommodates  bedrooms  beds  has_availability  availability_30  \\\n",
       "0   -0.11732             4       1.0   3.0               1.0                3   \n",
       "1   -0.11121             2       1.0   0.0               1.0               30   \n",
       "2   -0.16898             2       1.0   1.0               1.0               29   \n",
       "3   -0.14094             6       3.0   3.0               1.0               16   \n",
       "5   -0.20906             2       1.0   0.0               1.0                0   \n",
       "\n",
       "   availability_60  availability_90  availability_365  number_of_reviews  \\\n",
       "0               33               63               338                192   \n",
       "1               60               90               365                 21   \n",
       "2               59               62               189                 89   \n",
       "3               16               16               231                 42   \n",
       "5                0                0                 2                129   \n",
       "\n",
       "   number_of_reviews_ltm  instant_bookable  reviews_per_month  room_type_num  \\\n",
       "0                      6               1.0               1.46              1   \n",
       "1                      1               0.0               0.17              2   \n",
       "2                      1               1.0               0.66              1   \n",
       "3                      0               0.0               0.35              1   \n",
       "5                      3               1.0               0.99              2   \n",
       "\n",
       "   months_since_first_reviews  months_with_reviews  months_as_host  \\\n",
       "0                         5.0                120.0           134.0   \n",
       "1                         9.0                114.0           133.0   \n",
       "2                         0.0                123.0           132.0   \n",
       "3                        14.0                104.0           131.0   \n",
       "5                         0.0                119.0           128.0   \n",
       "\n",
       "   predicted_price_log_01_GA  desccription_pca_x  desccription_pca_y  \\\n",
       "0                   4.323723           -0.207060           -0.071857   \n",
       "1                   3.916180           -0.156919           -0.140670   \n",
       "2                   4.845178           -0.078360           -0.289400   \n",
       "3                   5.372856           -0.065268           -0.359259   \n",
       "5                   3.541085            0.140470            0.309092   \n",
       "\n",
       "   neighborhood_overview_pca_x  neighborhood_overview_pca_y  \\\n",
       "0                     0.115708                    -0.066403   \n",
       "1                     0.126038                    -0.127408   \n",
       "2                    -0.203779                     0.033219   \n",
       "3                     0.042830                    -0.185334   \n",
       "5                    -0.061274                    -0.136107   \n",
       "\n",
       "   host_number_verifications  host_response_time_category  \n",
       "0                        109                          1.0  \n",
       "1                         93                          2.0  \n",
       "2                         55                          NaN  \n",
       "3                        123                          4.0  \n",
       "5                        100                          NaN  "
      ]
     },
     "execution_count": 137,
     "metadata": {},
     "output_type": "execute_result"
    }
   ],
   "source": [
    "X.head()"
   ]
  },
  {
   "cell_type": "code",
   "execution_count": 138,
   "metadata": {
    "ExecuteTime": {
     "end_time": "2021-02-08T13:27:11.253593Z",
     "start_time": "2021-02-08T13:27:11.006941Z"
    }
   },
   "outputs": [],
   "source": [
    "X_train, X_test, y_train, y_test = train_test_split(X, y, test_size=0.2, \n",
    "                                                    random_state=42)"
   ]
  },
  {
   "cell_type": "code",
   "execution_count": 139,
   "metadata": {
    "ExecuteTime": {
     "end_time": "2021-02-08T13:27:14.256621Z",
     "start_time": "2021-02-08T13:27:14.133629Z"
    }
   },
   "outputs": [
    {
     "data": {
      "text/plain": [
       "array([95. , 92.4, 70.5, ..., 90.4, 94.7, 90.4])"
      ]
     },
     "execution_count": 139,
     "metadata": {},
     "output_type": "execute_result"
    }
   ],
   "source": [
    "y_train"
   ]
  },
  {
   "cell_type": "markdown",
   "metadata": {},
   "source": [
    "# Training model"
   ]
  },
  {
   "cell_type": "markdown",
   "metadata": {},
   "source": [
    "Training with all the variables considered."
   ]
  },
  {
   "cell_type": "code",
   "execution_count": 140,
   "metadata": {
    "ExecuteTime": {
     "end_time": "2021-02-08T13:27:16.363767Z",
     "start_time": "2021-02-08T13:27:16.269413Z"
    }
   },
   "outputs": [],
   "source": [
    "# Instantiation \n",
    "clf = xg.XGBRegressor(objective ='reg:squarederror', \n",
    "                      max_depth=3, \n",
    "                      n_estimators=100, \n",
    "                      random_state=0)"
   ]
  },
  {
   "cell_type": "code",
   "execution_count": 141,
   "metadata": {
    "ExecuteTime": {
     "end_time": "2021-02-08T13:27:18.588146Z",
     "start_time": "2021-02-08T13:27:18.491747Z"
    }
   },
   "outputs": [
    {
     "data": {
      "text/plain": [
       "XGBRegressor(objective='reg:squarederror')"
      ]
     },
     "execution_count": 141,
     "metadata": {},
     "output_type": "execute_result"
    }
   ],
   "source": [
    "# set importance type to gain rather than default 'split'\n",
    "clf.set_params(importance_type='gain')"
   ]
  },
  {
   "cell_type": "code",
   "execution_count": 142,
   "metadata": {
    "ExecuteTime": {
     "end_time": "2021-02-08T13:27:41.450153Z",
     "start_time": "2021-02-08T13:27:20.722553Z"
    }
   },
   "outputs": [
    {
     "data": {
      "text/plain": [
       "XGBRegressor(objective='reg:squarederror')"
      ]
     },
     "execution_count": 142,
     "metadata": {},
     "output_type": "execute_result"
    }
   ],
   "source": [
    "clf.fit(X_train, y_train, verbose=True)"
   ]
  },
  {
   "cell_type": "code",
   "execution_count": 143,
   "metadata": {
    "ExecuteTime": {
     "end_time": "2021-02-08T13:27:43.840569Z",
     "start_time": "2021-02-08T13:27:43.556114Z"
    }
   },
   "outputs": [],
   "source": [
    "# Predict the model \n",
    "pred = clf.predict(X_test) "
   ]
  },
  {
   "cell_type": "code",
   "execution_count": 144,
   "metadata": {
    "ExecuteTime": {
     "end_time": "2021-02-08T13:27:48.014995Z",
     "start_time": "2021-02-08T13:27:47.890540Z"
    }
   },
   "outputs": [
    {
     "name": "stdout",
     "output_type": "stream",
     "text": [
      "RMSE :  8.600046\n"
     ]
    }
   ],
   "source": [
    "# RMSE Computation \n",
    "rmse = np.sqrt(MSE(y_test, pred)) \n",
    "print(\"RMSE : % f\" %(rmse))"
   ]
  },
  {
   "cell_type": "code",
   "execution_count": 145,
   "metadata": {
    "ExecuteTime": {
     "end_time": "2021-02-08T13:28:17.592123Z",
     "start_time": "2021-02-08T13:28:12.472137Z"
    }
   },
   "outputs": [
    {
     "data": {
      "image/png": "[encoded data removed]",
      "text/plain": [
       "<Figure size 720x1440 with 1 Axes>"
      ]
     },
     "metadata": {
      "needs_background": "light"
     },
     "output_type": "display_data"
    }
   ],
   "source": [
    "df_feat_import_1 = fselec.feature_importance(clf, model_type='Uncalibrated', feature_list=list(X_train.columns))"
   ]
  },
  {
   "cell_type": "code",
   "execution_count": 146,
   "metadata": {
    "ExecuteTime": {
     "end_time": "2021-02-08T13:28:44.658406Z",
     "start_time": "2021-02-08T13:28:44.570298Z"
    }
   },
   "outputs": [
    {
     "data": {
      "text/html": [
       "<div>\n",
       "<style scoped>\n",
       "    .dataframe tbody tr th:only-of-type {\n",
       "        vertical-align: middle;\n",
       "    }\n",
       "\n",
       "    .dataframe tbody tr th {\n",
       "        vertical-align: top;\n",
       "    }\n",
       "\n",
       "    .dataframe thead th {\n",
       "        text-align: right;\n",
       "    }\n",
       "</style>\n",
       "<table border=\"1\" class=\"dataframe\">\n",
       "  <thead>\n",
       "    <tr style=\"text-align: right;\">\n",
       "      <th></th>\n",
       "      <th>Feature_importance%</th>\n",
       "    </tr>\n",
       "  </thead>\n",
       "  <tbody>\n",
       "    <tr>\n",
       "      <th>host_is_superhost</th>\n",
       "      <td>19.663939</td>\n",
       "    </tr>\n",
       "    <tr>\n",
       "      <th>availability_90</th>\n",
       "      <td>8.020429</td>\n",
       "    </tr>\n",
       "    <tr>\n",
       "      <th>number_of_reviews</th>\n",
       "      <td>7.372169</td>\n",
       "    </tr>\n",
       "    <tr>\n",
       "      <th>availability_30</th>\n",
       "      <td>6.373343</td>\n",
       "    </tr>\n",
       "    <tr>\n",
       "      <th>instant_bookable</th>\n",
       "      <td>5.184789</td>\n",
       "    </tr>\n",
       "    <tr>\n",
       "      <th>host_response_rate</th>\n",
       "      <td>4.689346</td>\n",
       "    </tr>\n",
       "    <tr>\n",
       "      <th>months_since_first_reviews</th>\n",
       "      <td>3.762942</td>\n",
       "    </tr>\n",
       "    <tr>\n",
       "      <th>host_response_time_category</th>\n",
       "      <td>3.550380</td>\n",
       "    </tr>\n",
       "    <tr>\n",
       "      <th>availability_365</th>\n",
       "      <td>3.440085</td>\n",
       "    </tr>\n",
       "    <tr>\n",
       "      <th>host_number_verifications</th>\n",
       "      <td>3.321156</td>\n",
       "    </tr>\n",
       "    <tr>\n",
       "      <th>host_acceptance_rate</th>\n",
       "      <td>3.151592</td>\n",
       "    </tr>\n",
       "    <tr>\n",
       "      <th>reviews_per_month</th>\n",
       "      <td>2.969645</td>\n",
       "    </tr>\n",
       "    <tr>\n",
       "      <th>availability_60</th>\n",
       "      <td>2.959222</td>\n",
       "    </tr>\n",
       "    <tr>\n",
       "      <th>months_as_host</th>\n",
       "      <td>2.538802</td>\n",
       "    </tr>\n",
       "    <tr>\n",
       "      <th>neighborhood_overview_pca_x</th>\n",
       "      <td>2.476553</td>\n",
       "    </tr>\n",
       "    <tr>\n",
       "      <th>months_with_reviews</th>\n",
       "      <td>2.421774</td>\n",
       "    </tr>\n",
       "    <tr>\n",
       "      <th>has_availability</th>\n",
       "      <td>2.326319</td>\n",
       "    </tr>\n",
       "    <tr>\n",
       "      <th>latitude</th>\n",
       "      <td>2.135211</td>\n",
       "    </tr>\n",
       "    <tr>\n",
       "      <th>number_of_reviews_ltm</th>\n",
       "      <td>2.061656</td>\n",
       "    </tr>\n",
       "    <tr>\n",
       "      <th>bedrooms</th>\n",
       "      <td>1.985700</td>\n",
       "    </tr>\n",
       "    <tr>\n",
       "      <th>desccription_pca_y</th>\n",
       "      <td>1.793051</td>\n",
       "    </tr>\n",
       "    <tr>\n",
       "      <th>accommodates</th>\n",
       "      <td>1.750424</td>\n",
       "    </tr>\n",
       "    <tr>\n",
       "      <th>beds</th>\n",
       "      <td>1.333675</td>\n",
       "    </tr>\n",
       "    <tr>\n",
       "      <th>room_type_num</th>\n",
       "      <td>1.191993</td>\n",
       "    </tr>\n",
       "    <tr>\n",
       "      <th>predicted_price_log_01_GA</th>\n",
       "      <td>1.132292</td>\n",
       "    </tr>\n",
       "    <tr>\n",
       "      <th>longitude</th>\n",
       "      <td>1.048042</td>\n",
       "    </tr>\n",
       "    <tr>\n",
       "      <th>desccription_pca_x</th>\n",
       "      <td>0.783199</td>\n",
       "    </tr>\n",
       "    <tr>\n",
       "      <th>neighborhood_overview_pca_y</th>\n",
       "      <td>0.562269</td>\n",
       "    </tr>\n",
       "  </tbody>\n",
       "</table>\n",
       "</div>"
      ],
      "text/plain": [
       "                             Feature_importance%\n",
       "host_is_superhost                      19.663939\n",
       "availability_90                         8.020429\n",
       "number_of_reviews                       7.372169\n",
       "availability_30                         6.373343\n",
       "instant_bookable                        5.184789\n",
       "host_response_rate                      4.689346\n",
       "months_since_first_reviews              3.762942\n",
       "host_response_time_category             3.550380\n",
       "availability_365                        3.440085\n",
       "host_number_verifications               3.321156\n",
       "host_acceptance_rate                    3.151592\n",
       "reviews_per_month                       2.969645\n",
       "availability_60                         2.959222\n",
       "months_as_host                          2.538802\n",
       "neighborhood_overview_pca_x             2.476553\n",
       "months_with_reviews                     2.421774\n",
       "has_availability                        2.326319\n",
       "latitude                                2.135211\n",
       "number_of_reviews_ltm                   2.061656\n",
       "bedrooms                                1.985700\n",
       "desccription_pca_y                      1.793051\n",
       "accommodates                            1.750424\n",
       "beds                                    1.333675\n",
       "room_type_num                           1.191993\n",
       "predicted_price_log_01_GA               1.132292\n",
       "longitude                               1.048042\n",
       "desccription_pca_x                      0.783199\n",
       "neighborhood_overview_pca_y             0.562269"
      ]
     },
     "execution_count": 146,
     "metadata": {},
     "output_type": "execute_result"
    }
   ],
   "source": [
    "df_feat_import_1"
   ]
  },
  {
   "cell_type": "markdown",
   "metadata": {},
   "source": [
    "## From GA results"
   ]
  },
  {
   "cell_type": "markdown",
   "metadata": {},
   "source": [
    "Traing now a model with the best features from GA and feeature importance. The variable required were left in the model. "
   ]
  },
  {
   "cell_type": "code",
   "execution_count": 17,
   "metadata": {
    "ExecuteTime": {
     "end_time": "2021-02-06T14:58:02.407214Z",
     "start_time": "2021-02-06T14:58:02.242276Z"
    }
   },
   "outputs": [],
   "source": [
    "clf_2 = xg.XGBRegressor(objective ='reg:squarederror', \n",
    "                        max_depth=3, \n",
    "                        n_estimators=100, \n",
    "                        random_state=0)"
   ]
  },
  {
   "cell_type": "code",
   "execution_count": 18,
   "metadata": {
    "ExecuteTime": {
     "end_time": "2021-02-06T14:58:03.440858Z",
     "start_time": "2021-02-06T14:58:03.370780Z"
    }
   },
   "outputs": [
    {
     "data": {
      "text/plain": [
       "XGBRegressor(objective='reg:squarederror')"
      ]
     },
     "execution_count": 18,
     "metadata": {},
     "output_type": "execute_result"
    }
   ],
   "source": [
    "# set importance type to gain rather than default 'split'\n",
    "clf_2.set_params(importance_type='gain')"
   ]
  },
  {
   "cell_type": "code",
   "execution_count": 19,
   "metadata": {
    "ExecuteTime": {
     "end_time": "2021-02-06T14:58:08.076195Z",
     "start_time": "2021-02-06T14:58:08.006707Z"
    }
   },
   "outputs": [],
   "source": [
    "eval_set_2 = [(X_train[list_var_GA], y_train), (X_test[list_var_GA], y_test)] "
   ]
  },
  {
   "cell_type": "code",
   "execution_count": 20,
   "metadata": {
    "ExecuteTime": {
     "end_time": "2021-02-06T14:58:25.238283Z",
     "start_time": "2021-02-06T14:58:09.649396Z"
    },
    "scrolled": true
   },
   "outputs": [
    {
     "name": "stdout",
     "output_type": "stream",
     "text": [
      "[0]\tvalidation_0-rmse:80.6858\tvalidation_1-rmse:80.6021\n",
      "[1]\tvalidation_0-rmse:72.7168\tvalidation_1-rmse:72.6343\n",
      "[2]\tvalidation_0-rmse:65.5514\tvalidation_1-rmse:65.4751\n",
      "[3]\tvalidation_0-rmse:59.1165\tvalidation_1-rmse:59.0441\n",
      "[4]\tvalidation_0-rmse:53.3364\tvalidation_1-rmse:53.2672\n",
      "[5]\tvalidation_0-rmse:48.1474\tvalidation_1-rmse:48.0846\n",
      "[6]\tvalidation_0-rmse:43.4918\tvalidation_1-rmse:43.4355\n",
      "[7]\tvalidation_0-rmse:39.3186\tvalidation_1-rmse:39.271\n",
      "[8]\tvalidation_0-rmse:35.5813\tvalidation_1-rmse:35.5436\n",
      "[9]\tvalidation_0-rmse:32.2362\tvalidation_1-rmse:32.2068\n",
      "[10]\tvalidation_0-rmse:29.2474\tvalidation_1-rmse:29.2298\n",
      "[11]\tvalidation_0-rmse:26.5804\tvalidation_1-rmse:26.5729\n",
      "[12]\tvalidation_0-rmse:24.2053\tvalidation_1-rmse:24.213\n",
      "[13]\tvalidation_0-rmse:22.0936\tvalidation_1-rmse:22.1154\n",
      "[14]\tvalidation_0-rmse:20.2223\tvalidation_1-rmse:20.2614\n",
      "[15]\tvalidation_0-rmse:18.5676\tvalidation_1-rmse:18.6217\n",
      "[16]\tvalidation_0-rmse:17.11\tvalidation_1-rmse:17.1823\n",
      "[17]\tvalidation_0-rmse:15.83\tvalidation_1-rmse:15.9208\n",
      "[18]\tvalidation_0-rmse:14.7105\tvalidation_1-rmse:14.8191\n",
      "[19]\tvalidation_0-rmse:13.7357\tvalidation_1-rmse:13.8637\n",
      "[20]\tvalidation_0-rmse:12.8911\tvalidation_1-rmse:13.0386\n",
      "[21]\tvalidation_0-rmse:12.1649\tvalidation_1-rmse:12.3332\n",
      "[22]\tvalidation_0-rmse:11.541\tvalidation_1-rmse:11.7278\n",
      "[23]\tvalidation_0-rmse:11.0093\tvalidation_1-rmse:11.2153\n",
      "[24]\tvalidation_0-rmse:10.5568\tvalidation_1-rmse:10.7818\n",
      "[25]\tvalidation_0-rmse:10.1756\tvalidation_1-rmse:10.4176\n",
      "[26]\tvalidation_0-rmse:9.85453\tvalidation_1-rmse:10.1125\n",
      "[27]\tvalidation_0-rmse:9.58351\tvalidation_1-rmse:9.85975\n",
      "[28]\tvalidation_0-rmse:9.35971\tvalidation_1-rmse:9.64916\n",
      "[29]\tvalidation_0-rmse:9.17135\tvalidation_1-rmse:9.47906\n",
      "[30]\tvalidation_0-rmse:9.01719\tvalidation_1-rmse:9.33463\n",
      "[31]\tvalidation_0-rmse:8.88943\tvalidation_1-rmse:9.21747\n",
      "[32]\tvalidation_0-rmse:8.78267\tvalidation_1-rmse:9.11963\n",
      "[33]\tvalidation_0-rmse:8.69466\tvalidation_1-rmse:9.03948\n",
      "[34]\tvalidation_0-rmse:8.62232\tvalidation_1-rmse:8.97419\n",
      "[35]\tvalidation_0-rmse:8.56312\tvalidation_1-rmse:8.92153\n",
      "[36]\tvalidation_0-rmse:8.5134\tvalidation_1-rmse:8.87908\n",
      "[37]\tvalidation_0-rmse:8.4702\tvalidation_1-rmse:8.8374\n",
      "[38]\tvalidation_0-rmse:8.43684\tvalidation_1-rmse:8.80999\n",
      "[39]\tvalidation_0-rmse:8.40783\tvalidation_1-rmse:8.78431\n",
      "[40]\tvalidation_0-rmse:8.38484\tvalidation_1-rmse:8.76573\n",
      "[41]\tvalidation_0-rmse:8.3636\tvalidation_1-rmse:8.74785\n",
      "[42]\tvalidation_0-rmse:8.34701\tvalidation_1-rmse:8.73446\n",
      "[43]\tvalidation_0-rmse:8.33143\tvalidation_1-rmse:8.72143\n",
      "[44]\tvalidation_0-rmse:8.31968\tvalidation_1-rmse:8.71217\n",
      "[45]\tvalidation_0-rmse:8.3081\tvalidation_1-rmse:8.70297\n",
      "[46]\tvalidation_0-rmse:8.29917\tvalidation_1-rmse:8.69837\n",
      "[47]\tvalidation_0-rmse:8.29141\tvalidation_1-rmse:8.69274\n",
      "[48]\tvalidation_0-rmse:8.28486\tvalidation_1-rmse:8.68823\n",
      "[49]\tvalidation_0-rmse:8.2775\tvalidation_1-rmse:8.67927\n",
      "[50]\tvalidation_0-rmse:8.27239\tvalidation_1-rmse:8.67673\n",
      "[51]\tvalidation_0-rmse:8.26721\tvalidation_1-rmse:8.6729\n",
      "[52]\tvalidation_0-rmse:8.26359\tvalidation_1-rmse:8.67214\n",
      "[53]\tvalidation_0-rmse:8.25981\tvalidation_1-rmse:8.66969\n",
      "[54]\tvalidation_0-rmse:8.25523\tvalidation_1-rmse:8.66653\n",
      "[55]\tvalidation_0-rmse:8.25114\tvalidation_1-rmse:8.66383\n",
      "[56]\tvalidation_0-rmse:8.2466\tvalidation_1-rmse:8.6596\n",
      "[57]\tvalidation_0-rmse:8.2423\tvalidation_1-rmse:8.65822\n",
      "[58]\tvalidation_0-rmse:8.23939\tvalidation_1-rmse:8.65632\n",
      "[59]\tvalidation_0-rmse:8.23641\tvalidation_1-rmse:8.65554\n",
      "[60]\tvalidation_0-rmse:8.23381\tvalidation_1-rmse:8.65407\n",
      "[61]\tvalidation_0-rmse:8.23157\tvalidation_1-rmse:8.65343\n",
      "[62]\tvalidation_0-rmse:8.22917\tvalidation_1-rmse:8.65264\n",
      "[63]\tvalidation_0-rmse:8.22706\tvalidation_1-rmse:8.6503\n",
      "[64]\tvalidation_0-rmse:8.22363\tvalidation_1-rmse:8.64926\n",
      "[65]\tvalidation_0-rmse:8.2211\tvalidation_1-rmse:8.64774\n",
      "[66]\tvalidation_0-rmse:8.21899\tvalidation_1-rmse:8.6464\n",
      "[67]\tvalidation_0-rmse:8.21451\tvalidation_1-rmse:8.64052\n",
      "[68]\tvalidation_0-rmse:8.21211\tvalidation_1-rmse:8.63922\n",
      "[69]\tvalidation_0-rmse:8.21072\tvalidation_1-rmse:8.639\n",
      "[70]\tvalidation_0-rmse:8.20925\tvalidation_1-rmse:8.63864\n",
      "[71]\tvalidation_0-rmse:8.20671\tvalidation_1-rmse:8.63606\n",
      "[72]\tvalidation_0-rmse:8.20475\tvalidation_1-rmse:8.63538\n",
      "[73]\tvalidation_0-rmse:8.2025\tvalidation_1-rmse:8.63448\n",
      "[74]\tvalidation_0-rmse:8.20099\tvalidation_1-rmse:8.6347\n",
      "[75]\tvalidation_0-rmse:8.199\tvalidation_1-rmse:8.63379\n",
      "[76]\tvalidation_0-rmse:8.19546\tvalidation_1-rmse:8.62952\n",
      "[77]\tvalidation_0-rmse:8.19386\tvalidation_1-rmse:8.62939\n",
      "[78]\tvalidation_0-rmse:8.19178\tvalidation_1-rmse:8.63021\n",
      "[79]\tvalidation_0-rmse:8.1905\tvalidation_1-rmse:8.63039\n",
      "[80]\tvalidation_0-rmse:8.18914\tvalidation_1-rmse:8.6294\n",
      "[81]\tvalidation_0-rmse:8.18792\tvalidation_1-rmse:8.62971\n",
      "[82]\tvalidation_0-rmse:8.18649\tvalidation_1-rmse:8.63013\n",
      "[83]\tvalidation_0-rmse:8.18561\tvalidation_1-rmse:8.63085\n",
      "[84]\tvalidation_0-rmse:8.18386\tvalidation_1-rmse:8.62988\n",
      "[85]\tvalidation_0-rmse:8.18259\tvalidation_1-rmse:8.62963\n",
      "[86]\tvalidation_0-rmse:8.17971\tvalidation_1-rmse:8.62928\n",
      "[87]\tvalidation_0-rmse:8.17849\tvalidation_1-rmse:8.62917\n",
      "[88]\tvalidation_0-rmse:8.17706\tvalidation_1-rmse:8.62805\n",
      "[89]\tvalidation_0-rmse:8.17588\tvalidation_1-rmse:8.6284\n",
      "[90]\tvalidation_0-rmse:8.17449\tvalidation_1-rmse:8.62829\n",
      "[91]\tvalidation_0-rmse:8.17309\tvalidation_1-rmse:8.62639\n",
      "[92]\tvalidation_0-rmse:8.17177\tvalidation_1-rmse:8.62678\n",
      "[93]\tvalidation_0-rmse:8.16845\tvalidation_1-rmse:8.62737\n",
      "[94]\tvalidation_0-rmse:8.16677\tvalidation_1-rmse:8.62675\n",
      "[95]\tvalidation_0-rmse:8.16603\tvalidation_1-rmse:8.62758\n",
      "[96]\tvalidation_0-rmse:8.16496\tvalidation_1-rmse:8.62761\n",
      "[97]\tvalidation_0-rmse:8.16286\tvalidation_1-rmse:8.62684\n",
      "[98]\tvalidation_0-rmse:8.16083\tvalidation_1-rmse:8.62663\n",
      "[99]\tvalidation_0-rmse:8.15935\tvalidation_1-rmse:8.62616\n"
     ]
    },
    {
     "data": {
      "text/plain": [
       "XGBRegressor(objective='reg:squarederror')"
      ]
     },
     "execution_count": 20,
     "metadata": {},
     "output_type": "execute_result"
    }
   ],
   "source": [
    "clf_2.fit(X_train[list_var_GA], y_train, eval_set=eval_set_2)"
   ]
  },
  {
   "cell_type": "code",
   "execution_count": 21,
   "metadata": {
    "ExecuteTime": {
     "end_time": "2021-02-06T14:58:31.389806Z",
     "start_time": "2021-02-06T14:58:31.312391Z"
    }
   },
   "outputs": [
    {
     "data": {
      "text/plain": [
       "(42027, 19)"
      ]
     },
     "execution_count": 21,
     "metadata": {},
     "output_type": "execute_result"
    }
   ],
   "source": [
    "X_train[list_var_GA].shape"
   ]
  },
  {
   "cell_type": "code",
   "execution_count": 22,
   "metadata": {
    "ExecuteTime": {
     "end_time": "2021-02-06T14:58:34.511134Z",
     "start_time": "2021-02-06T14:58:34.438255Z"
    }
   },
   "outputs": [
    {
     "data": {
      "text/plain": [
       "(10507, 19)"
      ]
     },
     "execution_count": 22,
     "metadata": {},
     "output_type": "execute_result"
    }
   ],
   "source": [
    "X_test[list_var_GA].shape"
   ]
  },
  {
   "cell_type": "code",
   "execution_count": 23,
   "metadata": {
    "ExecuteTime": {
     "end_time": "2021-02-06T14:58:41.133090Z",
     "start_time": "2021-02-06T14:58:40.994019Z"
    }
   },
   "outputs": [],
   "source": [
    "# Predict the model \n",
    "pred_2 = clf_2.predict(X_test[list_var_GA]) "
   ]
  },
  {
   "cell_type": "code",
   "execution_count": 26,
   "metadata": {
    "ExecuteTime": {
     "end_time": "2021-02-06T15:00:18.559778Z",
     "start_time": "2021-02-06T15:00:18.493073Z"
    }
   },
   "outputs": [
    {
     "name": "stdout",
     "output_type": "stream",
     "text": [
      "RMSE :  8.6262\n"
     ]
    }
   ],
   "source": [
    "# RMSE Computation \n",
    "rmse_2 = RMSE(y_test, pred_2) \n",
    "print(\"RMSE : % .4f\" %(rmse_2))"
   ]
  },
  {
   "cell_type": "code",
   "execution_count": 27,
   "metadata": {
    "ExecuteTime": {
     "end_time": "2021-02-06T15:04:03.869615Z",
     "start_time": "2021-02-06T15:04:03.360810Z"
    }
   },
   "outputs": [],
   "source": [
    "# retrieve performance metrics\n",
    "results_2 = clf_2.evals_result()"
   ]
  },
  {
   "cell_type": "code",
   "execution_count": 63,
   "metadata": {
    "ExecuteTime": {
     "end_time": "2021-02-06T15:51:23.083565Z",
     "start_time": "2021-02-06T15:51:22.629928Z"
    }
   },
   "outputs": [
    {
     "data": {
      "image/png": "[encoded data removed]",
      "text/plain": [
       "<Figure size 720x360 with 1 Axes>"
      ]
     },
     "metadata": {
      "needs_background": "light"
     },
     "output_type": "display_data"
    }
   ],
   "source": [
    "fselec.xgboost_learning_curve(results_2,y_lim=[8, 10])"
   ]
  },
  {
   "cell_type": "code",
   "execution_count": 29,
   "metadata": {
    "ExecuteTime": {
     "end_time": "2021-02-06T15:04:13.947523Z",
     "start_time": "2021-02-06T15:04:13.051612Z"
    }
   },
   "outputs": [
    {
     "data": {
      "image/png": "[encoded data removed]",
      "text/plain": [
       "<Figure size 720x1440 with 1 Axes>"
      ]
     },
     "metadata": {
      "needs_background": "light"
     },
     "output_type": "display_data"
    }
   ],
   "source": [
    "df_feat_import_2 = fselec.feature_importance(clf_2, model_type='Uncalibrated', feature_list=list_var_GA)"
   ]
  },
  {
   "cell_type": "code",
   "execution_count": 30,
   "metadata": {
    "ExecuteTime": {
     "end_time": "2021-02-06T15:04:17.908997Z",
     "start_time": "2021-02-06T15:04:17.845232Z"
    }
   },
   "outputs": [
    {
     "data": {
      "text/html": [
       "<div>\n",
       "<style scoped>\n",
       "    .dataframe tbody tr th:only-of-type {\n",
       "        vertical-align: middle;\n",
       "    }\n",
       "\n",
       "    .dataframe tbody tr th {\n",
       "        vertical-align: top;\n",
       "    }\n",
       "\n",
       "    .dataframe thead th {\n",
       "        text-align: right;\n",
       "    }\n",
       "</style>\n",
       "<table border=\"1\" class=\"dataframe\">\n",
       "  <thead>\n",
       "    <tr style=\"text-align: right;\">\n",
       "      <th></th>\n",
       "      <th>Feature_importance%</th>\n",
       "    </tr>\n",
       "  </thead>\n",
       "  <tbody>\n",
       "    <tr>\n",
       "      <th>host_is_superhost</th>\n",
       "      <td>25.673542</td>\n",
       "    </tr>\n",
       "    <tr>\n",
       "      <th>availability_90</th>\n",
       "      <td>9.822762</td>\n",
       "    </tr>\n",
       "    <tr>\n",
       "      <th>number_of_reviews</th>\n",
       "      <td>8.996095</td>\n",
       "    </tr>\n",
       "    <tr>\n",
       "      <th>instant_bookable</th>\n",
       "      <td>6.982974</td>\n",
       "    </tr>\n",
       "    <tr>\n",
       "      <th>host_response_rate</th>\n",
       "      <td>5.553941</td>\n",
       "    </tr>\n",
       "    <tr>\n",
       "      <th>availability_60</th>\n",
       "      <td>4.991377</td>\n",
       "    </tr>\n",
       "    <tr>\n",
       "      <th>host_number_verifications</th>\n",
       "      <td>4.252883</td>\n",
       "    </tr>\n",
       "    <tr>\n",
       "      <th>months_since_first_reviews</th>\n",
       "      <td>4.019692</td>\n",
       "    </tr>\n",
       "    <tr>\n",
       "      <th>months_as_host</th>\n",
       "      <td>3.929407</td>\n",
       "    </tr>\n",
       "    <tr>\n",
       "      <th>host_acceptance_rate</th>\n",
       "      <td>3.661424</td>\n",
       "    </tr>\n",
       "    <tr>\n",
       "      <th>neighborhood_overview_pca_x</th>\n",
       "      <td>3.442763</td>\n",
       "    </tr>\n",
       "    <tr>\n",
       "      <th>reviews_per_month</th>\n",
       "      <td>3.432536</td>\n",
       "    </tr>\n",
       "    <tr>\n",
       "      <th>has_availability</th>\n",
       "      <td>3.050634</td>\n",
       "    </tr>\n",
       "    <tr>\n",
       "      <th>bedrooms</th>\n",
       "      <td>2.724344</td>\n",
       "    </tr>\n",
       "    <tr>\n",
       "      <th>latitude</th>\n",
       "      <td>2.593118</td>\n",
       "    </tr>\n",
       "    <tr>\n",
       "      <th>predicted_price_log_01_GA</th>\n",
       "      <td>2.359314</td>\n",
       "    </tr>\n",
       "    <tr>\n",
       "      <th>desccription_pca_y</th>\n",
       "      <td>2.153621</td>\n",
       "    </tr>\n",
       "    <tr>\n",
       "      <th>desccription_pca_x</th>\n",
       "      <td>1.257120</td>\n",
       "    </tr>\n",
       "    <tr>\n",
       "      <th>neighborhood_overview_pca_y</th>\n",
       "      <td>1.102457</td>\n",
       "    </tr>\n",
       "  </tbody>\n",
       "</table>\n",
       "</div>"
      ],
      "text/plain": [
       "                             Feature_importance%\n",
       "host_is_superhost                      25.673542\n",
       "availability_90                         9.822762\n",
       "number_of_reviews                       8.996095\n",
       "instant_bookable                        6.982974\n",
       "host_response_rate                      5.553941\n",
       "availability_60                         4.991377\n",
       "host_number_verifications               4.252883\n",
       "months_since_first_reviews              4.019692\n",
       "months_as_host                          3.929407\n",
       "host_acceptance_rate                    3.661424\n",
       "neighborhood_overview_pca_x             3.442763\n",
       "reviews_per_month                       3.432536\n",
       "has_availability                        3.050634\n",
       "bedrooms                                2.724344\n",
       "latitude                                2.593118\n",
       "predicted_price_log_01_GA               2.359314\n",
       "desccription_pca_y                      2.153621\n",
       "desccription_pca_x                      1.257120\n",
       "neighborhood_overview_pca_y             1.102457"
      ]
     },
     "execution_count": 30,
     "metadata": {},
     "output_type": "execute_result"
    }
   ],
   "source": [
    "# We can still see from here \n",
    "df_feat_import_2"
   ]
  },
  {
   "cell_type": "code",
   "execution_count": 32,
   "metadata": {
    "ExecuteTime": {
     "end_time": "2021-02-06T15:04:59.609614Z",
     "start_time": "2021-02-06T15:04:58.086768Z"
    }
   },
   "outputs": [],
   "source": [
    "corr_spear_2 = df[list_var_GA + [var_to_predict]].corr(method='spearman').abs()"
   ]
  },
  {
   "cell_type": "code",
   "execution_count": 33,
   "metadata": {
    "ExecuteTime": {
     "end_time": "2021-02-06T15:05:06.967713Z",
     "start_time": "2021-02-06T15:05:00.754105Z"
    }
   },
   "outputs": [
    {
     "data": {
      "image/png": "[encoded data removed]",
      "text/plain": [
       "<Figure size 1440x1080 with 2 Axes>"
      ]
     },
     "metadata": {
      "needs_background": "light"
     },
     "output_type": "display_data"
    }
   ],
   "source": [
    "mtool.heat_map_corr(corr_spear_2, cmap='coolwarm', square=False, annot=True)"
   ]
  },
  {
   "cell_type": "markdown",
   "metadata": {},
   "source": [
    "To quantfiy the imporvement in perfomrance in our different rounds, including the feature selection process and parameter tunning,a base line model will be biuld. To keep things simple the base line model predicts that the best price is the the mean value of our training set."
   ]
  },
  {
   "cell_type": "code",
   "execution_count": 34,
   "metadata": {
    "ExecuteTime": {
     "end_time": "2021-02-06T15:05:13.178008Z",
     "start_time": "2021-02-06T15:05:13.101298Z"
    }
   },
   "outputs": [],
   "source": [
    "# \"Learn\" the mean from the training data\n",
    "mean_train = np.mean(y_train)\n",
    "# Get predictions on the test set\n",
    "baseline_predictions_0 = np.ones(y_test.shape) * mean_train"
   ]
  },
  {
   "cell_type": "code",
   "execution_count": 35,
   "metadata": {
    "ExecuteTime": {
     "end_time": "2021-02-06T15:05:17.188759Z",
     "start_time": "2021-02-06T15:05:17.129377Z"
    }
   },
   "outputs": [
    {
     "name": "stdout",
     "output_type": "stream",
     "text": [
      "Baseline RMSE is 9.2300\n"
     ]
    }
   ],
   "source": [
    "# Compute RMSE\n",
    "rmse_baseline = RMSE(y_test, baseline_predictions_0)\n",
    "print(\"Baseline RMSE is {:.4f}\".format(rmse_baseline))"
   ]
  },
  {
   "cell_type": "markdown",
   "metadata": {},
   "source": [
    "The model with the GA coming from our feature selection has a smaller error. "
   ]
  },
  {
   "cell_type": "code",
   "execution_count": 36,
   "metadata": {
    "ExecuteTime": {
     "end_time": "2021-02-06T15:14:23.704444Z",
     "start_time": "2021-02-06T15:14:23.422938Z"
    }
   },
   "outputs": [
    {
     "name": "stdout",
     "output_type": "stream",
     "text": [
      "Change in performance -0.6037990728339881\n",
      "Change in % -6.5417358047187815\n"
     ]
    }
   ],
   "source": [
    "# The performance of the XGB model has a 6% relative uplift w.r.t the base line \n",
    "print(\"Change in performance\", rmse_2 - rmse_baseline)\n",
    "print(\"Change in %\", ((rmse_2 - rmse_baseline) / rmse_baseline) * 100)"
   ]
  },
  {
   "cell_type": "markdown",
   "metadata": {},
   "source": [
    "# Training and tunning"
   ]
  },
  {
   "cell_type": "markdown",
   "metadata": {},
   "source": [
    "Some of the parameters of XGboost have different name as the ones used in skleanr. But since XGboost module in python has an sklearn wrapper it uses sklearn style naming convention too. The parameters names which will change are:\n",
    "\n",
    "* ```eta``` –> ```learning_rate```\n",
    "* ```lambda``` –> ```reg_lambda```\n",
    "* ```alpha``` –> ```reg_alpha```\n",
    "\n",
    "\n",
    "In sklern style we have as well ```n_estimators``` parameter in GBM. Well this exists as a parameter in XGBClassifier and XGBRegressor. Sometimes is called ```num_boosting_rounds```[(Ref 1)](https://xgboost.readthedocs.io/en/latest/python/python_api.html), [(Ref 2)](https://xgboost.readthedocs.io/en/latest/parameter.html)."
   ]
  },
  {
   "cell_type": "code",
   "execution_count": 37,
   "metadata": {
    "ExecuteTime": {
     "end_time": "2021-02-06T15:15:02.832815Z",
     "start_time": "2021-02-06T15:15:02.773506Z"
    }
   },
   "outputs": [],
   "source": [
    "# starting with parameters of the model with 14 variables\n",
    "params = {\n",
    "    # Parameters to tune.\n",
    "    'max_depth':3,\n",
    "    'min_child_weight': 1,\n",
    "    'subsample': 1,\n",
    "    'colsample_bytree': 1,\n",
    "    'learnig_rate':0.1,\n",
    "    'reg_lambda':1,\n",
    "    # Other parameters\n",
    "    'objective':'reg:squarederror',\n",
    "    'random_state':0,\n",
    "    'eval_metric': 'rmse',\n",
    "    'importance_type':'gain'\n",
    "}"
   ]
  },
  {
   "cell_type": "markdown",
   "metadata": {},
   "source": [
    "Before tunning the parameters in the dictionary, first I will look how to get the number of boosters or estimators to build. ```n_estimators``` is the same ```num_boost_round```. Its optimal value highly depends on the other parameters, and thus it should be re-tuned each time you update a parameter. You could do this by tuning it together with all parameters in a grid-search, but it requires a lot of computational effort.\n",
    "\n",
    "Tehrefore, it can be used the method of XGBoost that provides a good way to find the best number of estimators whilst training. In XGboost, the trees are built sequentially instead of fixing the number of rounds at the beginning, the model can be test at each step and see if adding a new tree/round improves performance.\n",
    "\n",
    "```num_boost_round``` are the maximum number of trees or boosting rounds that will be allowed. So it can be set to a large number hoping to find the optimal number before reaching it. If we find it has not improved the performance on the test set, it can be used the ```early_stopping_round rounds``` to stop the training and keep the best number of boosting rounds. If we set up to 10, it means that from a current point of evaluation, it will continue 10 more times and asses if there is still significative improvement by addding more trees. If that is not the case, when ending the 10 round it will stop.\n",
    "\n",
    "Here I explore first how it will be used to train the model once the parameters are tuned, so the best numbers of rounds or booster are found."
   ]
  },
  {
   "cell_type": "code",
   "execution_count": 38,
   "metadata": {
    "ExecuteTime": {
     "end_time": "2021-02-06T15:15:06.688061Z",
     "start_time": "2021-02-06T15:15:06.632194Z"
    }
   },
   "outputs": [],
   "source": [
    "num_boost_round = 999"
   ]
  },
  {
   "cell_type": "code",
   "execution_count": 39,
   "metadata": {
    "ExecuteTime": {
     "end_time": "2021-02-06T15:15:07.754067Z",
     "start_time": "2021-02-06T15:15:07.635112Z"
    }
   },
   "outputs": [],
   "source": [
    "dtrain = xg.DMatrix(X_train[list_var_GA], label=y_train)\n",
    "dtest = xg.DMatrix(X_test[list_var_GA], label=y_test)"
   ]
  },
  {
   "cell_type": "code",
   "execution_count": 40,
   "metadata": {
    "ExecuteTime": {
     "end_time": "2021-02-06T15:15:14.684723Z",
     "start_time": "2021-02-06T15:15:08.919310Z"
    },
    "scrolled": true
   },
   "outputs": [
    {
     "name": "stdout",
     "output_type": "stream",
     "text": [
      "[0]\tTest-rmse:62.9166\n",
      "Will train until Test-rmse hasn't improved in 10 rounds.\n",
      "[1]\tTest-rmse:44.4662\n",
      "[2]\tTest-rmse:31.7261\n",
      "[3]\tTest-rmse:23.0484\n",
      "[4]\tTest-rmse:17.2876\n",
      "[5]\tTest-rmse:13.5993\n",
      "[6]\tTest-rmse:11.3791\n",
      "[7]\tTest-rmse:10.1057\n",
      "[8]\tTest-rmse:9.40816\n",
      "[9]\tTest-rmse:9.04942\n",
      "[10]\tTest-rmse:8.87629\n",
      "[11]\tTest-rmse:8.77855\n",
      "[12]\tTest-rmse:8.73185\n",
      "[13]\tTest-rmse:8.70652\n",
      "[14]\tTest-rmse:8.69438\n",
      "[15]\tTest-rmse:8.68564\n",
      "[16]\tTest-rmse:8.68207\n",
      "[17]\tTest-rmse:8.65911\n",
      "[18]\tTest-rmse:8.65506\n",
      "[19]\tTest-rmse:8.6509\n",
      "[20]\tTest-rmse:8.64751\n",
      "[21]\tTest-rmse:8.64314\n",
      "[22]\tTest-rmse:8.64084\n",
      "[23]\tTest-rmse:8.63423\n",
      "[24]\tTest-rmse:8.62909\n",
      "[25]\tTest-rmse:8.62627\n",
      "[26]\tTest-rmse:8.62584\n",
      "[27]\tTest-rmse:8.62318\n",
      "[28]\tTest-rmse:8.62131\n",
      "[29]\tTest-rmse:8.62183\n",
      "[30]\tTest-rmse:8.62216\n",
      "[31]\tTest-rmse:8.62194\n",
      "[32]\tTest-rmse:8.62247\n",
      "[33]\tTest-rmse:8.61685\n",
      "[34]\tTest-rmse:8.61595\n",
      "[35]\tTest-rmse:8.61608\n",
      "[36]\tTest-rmse:8.61707\n",
      "[37]\tTest-rmse:8.61807\n",
      "[38]\tTest-rmse:8.62036\n",
      "[39]\tTest-rmse:8.62159\n",
      "[40]\tTest-rmse:8.62112\n",
      "[41]\tTest-rmse:8.62278\n",
      "[42]\tTest-rmse:8.62144\n",
      "[43]\tTest-rmse:8.62465\n",
      "[44]\tTest-rmse:8.62535\n",
      "Stopping. Best iteration:\n",
      "[34]\tTest-rmse:8.61595\n",
      "\n"
     ]
    }
   ],
   "source": [
    "model_0 = xg.train(params,\n",
    "                    dtrain,\n",
    "                    num_boost_round=num_boost_round,\n",
    "                    evals=[(dtest, \"Test\")],\n",
    "                    early_stopping_rounds=10)"
   ]
  },
  {
   "cell_type": "code",
   "execution_count": 41,
   "metadata": {
    "ExecuteTime": {
     "end_time": "2021-02-06T15:46:19.852324Z",
     "start_time": "2021-02-06T15:46:19.614748Z"
    }
   },
   "outputs": [
    {
     "name": "stdout",
     "output_type": "stream",
     "text": [
      "Best RMSE: 8.6159 with 35 rounds\n"
     ]
    }
   ],
   "source": [
    "print(\"Best RMSE: {:.4f} with {} rounds\".format(\n",
    "                 model_0.best_score,\n",
    "                 model_0.best_iteration + 1))"
   ]
  },
  {
   "cell_type": "code",
   "execution_count": 42,
   "metadata": {
    "ExecuteTime": {
     "end_time": "2021-02-06T15:46:32.982152Z",
     "start_time": "2021-02-06T15:46:32.923995Z"
    }
   },
   "outputs": [
    {
     "data": {
      "text/plain": [
       "35"
      ]
     },
     "execution_count": 42,
     "metadata": {},
     "output_type": "execute_result"
    }
   ],
   "source": [
    "### If early stop happens\n",
    "model_0.best_ntree_limit"
   ]
  },
  {
   "cell_type": "markdown",
   "metadata": {},
   "source": [
    "The model with the defined parameters was trained with more rounds than optimal, and the RMSE is about 0.3991"
   ]
  },
  {
   "cell_type": "markdown",
   "metadata": {},
   "source": [
    "```ntree_limit```is an integer number that limits the number of trees in the prediction; defaults to ```best_ntree_limit``` if defined (i.e. it has been trained with early stopping), otherwise 0 (use all trees)."
   ]
  },
  {
   "cell_type": "code",
   "execution_count": 43,
   "metadata": {
    "ExecuteTime": {
     "end_time": "2021-02-06T15:47:14.596086Z",
     "start_time": "2021-02-06T15:47:14.385140Z"
    }
   },
   "outputs": [
    {
     "data": {
      "text/plain": [
       "array([88.63312 , 84.98031 , 79.2354  , ..., 81.538376, 92.46199 ,\n",
       "       91.90815 ], dtype=float32)"
      ]
     },
     "execution_count": 43,
     "metadata": {},
     "output_type": "execute_result"
    }
   ],
   "source": [
    "# model prediction given the trees it was trained on\n",
    "pred_model_0 = model_0.predict(dtest, ntree_limit=model_0.best_ntree_limit) \n",
    "pred_model_0"
   ]
  },
  {
   "cell_type": "code",
   "execution_count": 44,
   "metadata": {
    "ExecuteTime": {
     "end_time": "2021-02-06T15:47:17.410136Z",
     "start_time": "2021-02-06T15:47:17.351871Z"
    }
   },
   "outputs": [
    {
     "name": "stdout",
     "output_type": "stream",
     "text": [
      "RMSE is 8.6159\n"
     ]
    }
   ],
   "source": [
    "# Compute RMSE\n",
    "rmse_untuned = RMSE(y_test, pred_model_0)\n",
    "print(\"RMSE is {:.4f}\".format(rmse_untuned))"
   ]
  },
  {
   "cell_type": "code",
   "execution_count": 45,
   "metadata": {
    "ExecuteTime": {
     "end_time": "2021-02-06T15:47:28.114245Z",
     "start_time": "2021-02-06T15:47:28.054000Z"
    }
   },
   "outputs": [
    {
     "data": {
      "text/plain": [
       "array([88.54794 , 85.065254, 79.200966, ..., 81.64159 , 92.52591 ,\n",
       "       91.74522 ], dtype=float32)"
      ]
     },
     "execution_count": 45,
     "metadata": {},
     "output_type": "execute_result"
    }
   ],
   "source": [
    "# If we do not provide the best_ntree_limit it will use all the trees\n",
    "pred_model_0_f = model_0.predict(dtest) \n",
    "pred_model_0_f"
   ]
  },
  {
   "cell_type": "code",
   "execution_count": 46,
   "metadata": {
    "ExecuteTime": {
     "end_time": "2021-02-06T15:47:39.076315Z",
     "start_time": "2021-02-06T15:47:39.012986Z"
    }
   },
   "outputs": [
    {
     "name": "stdout",
     "output_type": "stream",
     "text": [
      "RMSE is 8.6254\n"
     ]
    }
   ],
   "source": [
    "# Compute RMSE\n",
    "rmse_untuned_f = RMSE(y_test, pred_model_0_f)\n",
    "print(\"RMSE is {:.4f}\".format(rmse_untuned_f))"
   ]
  },
  {
   "cell_type": "code",
   "execution_count": 47,
   "metadata": {
    "ExecuteTime": {
     "end_time": "2021-02-06T15:48:10.724532Z",
     "start_time": "2021-02-06T15:47:53.495917Z"
    }
   },
   "outputs": [],
   "source": [
    "cv_results_0 = xg.cv(params, \n",
    "                      dtrain,\n",
    "                      num_boost_round=num_boost_round,\n",
    "                      seed=42,\n",
    "                      nfold=5,\n",
    "                      metrics={'rmse'},\n",
    "                      early_stopping_rounds=10)"
   ]
  },
  {
   "cell_type": "code",
   "execution_count": 48,
   "metadata": {
    "ExecuteTime": {
     "end_time": "2021-02-06T15:48:12.897559Z",
     "start_time": "2021-02-06T15:48:12.822316Z"
    },
    "format": "row"
   },
   "outputs": [
    {
     "data": {
      "text/html": [
       "<div>\n",
       "<style scoped>\n",
       "    .dataframe tbody tr th:only-of-type {\n",
       "        vertical-align: middle;\n",
       "    }\n",
       "\n",
       "    .dataframe tbody tr th {\n",
       "        vertical-align: top;\n",
       "    }\n",
       "\n",
       "    .dataframe thead th {\n",
       "        text-align: right;\n",
       "    }\n",
       "</style>\n",
       "<table border=\"1\" class=\"dataframe\">\n",
       "  <thead>\n",
       "    <tr style=\"text-align: right;\">\n",
       "      <th></th>\n",
       "      <th>train-rmse-mean</th>\n",
       "      <th>train-rmse-std</th>\n",
       "      <th>test-rmse-mean</th>\n",
       "      <th>test-rmse-std</th>\n",
       "    </tr>\n",
       "  </thead>\n",
       "  <tbody>\n",
       "    <tr>\n",
       "      <th>0</th>\n",
       "      <td>62.993146</td>\n",
       "      <td>0.011453</td>\n",
       "      <td>62.995660</td>\n",
       "      <td>0.090718</td>\n",
       "    </tr>\n",
       "    <tr>\n",
       "      <th>1</th>\n",
       "      <td>44.519732</td>\n",
       "      <td>0.003395</td>\n",
       "      <td>44.525948</td>\n",
       "      <td>0.080285</td>\n",
       "    </tr>\n",
       "    <tr>\n",
       "      <th>2</th>\n",
       "      <td>31.753268</td>\n",
       "      <td>0.008140</td>\n",
       "      <td>31.761070</td>\n",
       "      <td>0.062397</td>\n",
       "    </tr>\n",
       "    <tr>\n",
       "      <th>3</th>\n",
       "      <td>23.037735</td>\n",
       "      <td>0.016774</td>\n",
       "      <td>23.052677</td>\n",
       "      <td>0.040393</td>\n",
       "    </tr>\n",
       "    <tr>\n",
       "      <th>4</th>\n",
       "      <td>17.217413</td>\n",
       "      <td>0.025735</td>\n",
       "      <td>17.239322</td>\n",
       "      <td>0.040078</td>\n",
       "    </tr>\n",
       "  </tbody>\n",
       "</table>\n",
       "</div>"
      ],
      "text/plain": [
       "   train-rmse-mean  train-rmse-std  test-rmse-mean  test-rmse-std\n",
       "0        62.993146        0.011453       62.995660       0.090718\n",
       "1        44.519732        0.003395       44.525948       0.080285\n",
       "2        31.753268        0.008140       31.761070       0.062397\n",
       "3        23.037735        0.016774       23.052677       0.040393\n",
       "4        17.217413        0.025735       17.239322       0.040078"
      ]
     },
     "execution_count": 48,
     "metadata": {},
     "output_type": "execute_result"
    }
   ],
   "source": [
    "cv_results_0.head()"
   ]
  },
  {
   "cell_type": "code",
   "execution_count": 49,
   "metadata": {
    "ExecuteTime": {
     "end_time": "2021-02-06T15:48:13.641104Z",
     "start_time": "2021-02-06T15:48:13.530342Z"
    }
   },
   "outputs": [
    {
     "data": {
      "text/plain": [
       "(29, 4)"
      ]
     },
     "execution_count": 49,
     "metadata": {},
     "output_type": "execute_result"
    }
   ],
   "source": [
    "cv_results_0.shape"
   ]
  },
  {
   "cell_type": "code",
   "execution_count": 50,
   "metadata": {
    "ExecuteTime": {
     "end_time": "2021-02-06T15:48:14.656885Z",
     "start_time": "2021-02-06T15:48:14.580697Z"
    }
   },
   "outputs": [
    {
     "data": {
      "text/plain": [
       "28"
      ]
     },
     "execution_count": 50,
     "metadata": {},
     "output_type": "execute_result"
    }
   ],
   "source": [
    "cv_results_0['test-rmse-mean'].argmin()"
   ]
  },
  {
   "cell_type": "code",
   "execution_count": 60,
   "metadata": {
    "ExecuteTime": {
     "end_time": "2021-02-06T15:50:38.156720Z",
     "start_time": "2021-02-06T15:50:37.575103Z"
    }
   },
   "outputs": [
    {
     "name": "stdout",
     "output_type": "stream",
     "text": [
      "train-rmse-mean 8.1560068\n",
      "test-rmse-mean 8.353543\n",
      "train-rmse-std 0.003394557373208327\n",
      "test-rmse-std 0.040077921346297625\n"
     ]
    },
    {
     "data": {
      "image/png": "[encoded data removed]",
      "text/plain": [
       "<Figure size 720x360 with 1 Axes>"
      ]
     },
     "metadata": {
      "needs_background": "light"
     },
     "output_type": "display_data"
    }
   ],
   "source": [
    "fselec.xgboost_learning_curve(cv_results_0, \n",
    "                              train_label='train-rmse-mean',\n",
    "                              test_label='test-rmse-mean',\n",
    "                              std_col=['train-rmse-std', 'test-rmse-std'],\n",
    "                              y_lim=[8, 9.5]\n",
    "                             )"
   ]
  },
  {
   "cell_type": "markdown",
   "metadata": {},
   "source": [
    "With the current parameters we can see that as the number of bossters increases the variance or overfit occures since the corss validation error gets larger than the training error. So having fewer trees, leads to higher bias or underfittin. That is that the cross validating error is aproximatley equal to the training error."
   ]
  },
  {
   "cell_type": "markdown",
   "metadata": {},
   "source": [
    "If we were having infinite resources and not time constrains, a full grid search could be run with all the parameters together and find the optimal solution. It requires a lot of computational effort and we could find one model that could be closer to that optimal one that gives enough performance for our porpouse."
   ]
  },
  {
   "cell_type": "markdown",
   "metadata": {},
   "source": [
    "## Tuning the parameters that constraint the architecture or complexity of the trees: \n",
    "* ```max_depth``` is the maximum number of nodes allowed from the root to the last leaf of a tree. The deeper a tree is, the more it can model more complex relationships by adding more nodes. But if we go deeper, the splits become less relevant and are sometimes only due to noise, causing the model to overfit.\n",
    "\n",
    "* ```min_child_weight``` is the number of samples (if all samples have a weight=1) required so it can be created a new node in the tree. When ```min_child_weight``` is small, it allows the algorithm to create children that correspond to fewer samples, thus allowing for more complex trees, but again, more likely to overfit (the children are learnig from few examples, therefore overfits).\n",
    "\n",
    "Therefore, it is important to tune them together in order to find a good trade-off between model bias and variance\n",
    "The following list contains all the combinations of both parameters to try."
   ]
  },
  {
   "cell_type": "code",
   "execution_count": 64,
   "metadata": {
    "ExecuteTime": {
     "end_time": "2021-02-06T15:52:12.888797Z",
     "start_time": "2021-02-06T15:52:12.728977Z"
    }
   },
   "outputs": [],
   "source": [
    "gridsearch_params_complx = [(max_depth, min_child_weight) \n",
    "                            for max_depth in range(2,6)\n",
    "                            for min_child_weight in range(1,7)]"
   ]
  },
  {
   "cell_type": "code",
   "execution_count": 65,
   "metadata": {
    "ExecuteTime": {
     "end_time": "2021-02-06T15:52:19.750568Z",
     "start_time": "2021-02-06T15:52:19.697716Z"
    }
   },
   "outputs": [
    {
     "data": {
      "text/plain": [
       "24"
      ]
     },
     "execution_count": 65,
     "metadata": {},
     "output_type": "execute_result"
    }
   ],
   "source": [
    "len(gridsearch_params_complx)"
   ]
  },
  {
   "cell_type": "code",
   "execution_count": 66,
   "metadata": {
    "ExecuteTime": {
     "end_time": "2021-02-06T16:00:42.663424Z",
     "start_time": "2021-02-06T15:52:22.239285Z"
    }
   },
   "outputs": [
    {
     "name": "stdout",
     "output_type": "stream",
     "text": [
      "CV for max_depth=2 and min_child_weight=1\n",
      "\\RMSE 8.3775398 for 44 rounds\n",
      "CV for max_depth=2 and min_child_weight=2\n",
      "\\RMSE 8.3669586 for 58 rounds\n",
      "CV for max_depth=2 and min_child_weight=3\n",
      "\\RMSE 8.371609799999998 for 52 rounds\n",
      "CV for max_depth=2 and min_child_weight=4\n",
      "\\RMSE 8.363371400000002 for 69 rounds\n",
      "CV for max_depth=2 and min_child_weight=5\n",
      "\\RMSE 8.366883999999999 for 70 rounds\n",
      "CV for max_depth=2 and min_child_weight=6\n",
      "\\RMSE 8.3583274 for 86 rounds\n",
      "CV for max_depth=3 and min_child_weight=1\n",
      "\\RMSE 8.353543 for 29 rounds\n",
      "CV for max_depth=3 and min_child_weight=2\n",
      "\\RMSE 8.354997800000001 for 27 rounds\n",
      "CV for max_depth=3 and min_child_weight=3\n",
      "\\RMSE 8.3518584 for 47 rounds\n",
      "CV for max_depth=3 and min_child_weight=4\n",
      "\\RMSE 8.3578444 for 38 rounds\n",
      "CV for max_depth=3 and min_child_weight=5\n",
      "\\RMSE 8.350658399999999 for 37 rounds\n",
      "CV for max_depth=3 and min_child_weight=6\n",
      "\\RMSE 8.352981199999999 for 50 rounds\n",
      "CV for max_depth=4 and min_child_weight=1\n",
      "\\RMSE 8.3335968 for 24 rounds\n",
      "CV for max_depth=4 and min_child_weight=2\n",
      "\\RMSE 8.331376 for 22 rounds\n",
      "CV for max_depth=4 and min_child_weight=3\n",
      "\\RMSE 8.3441938 for 25 rounds\n",
      "CV for max_depth=4 and min_child_weight=4\n",
      "\\RMSE 8.336429 for 22 rounds\n",
      "CV for max_depth=4 and min_child_weight=5\n",
      "\\RMSE 8.334775 for 25 rounds\n",
      "CV for max_depth=4 and min_child_weight=6\n",
      "\\RMSE 8.3186076 for 28 rounds\n",
      "CV for max_depth=5 and min_child_weight=1\n",
      "\\RMSE 8.3536628 for 16 rounds\n",
      "CV for max_depth=5 and min_child_weight=2\n",
      "\\RMSE 8.3264882 for 18 rounds\n",
      "CV for max_depth=5 and min_child_weight=3\n",
      "\\RMSE 8.3446228 for 17 rounds\n",
      "CV for max_depth=5 and min_child_weight=4\n",
      "\\RMSE 8.348304200000001 for 20 rounds\n",
      "CV for max_depth=5 and min_child_weight=5\n",
      "\\RMSE 8.3580434 for 17 rounds\n",
      "CV for max_depth=5 and min_child_weight=6\n",
      "\\RMSE 8.332579399999998 for 20 rounds\n",
      "Best params: max_depth = 4, min_child_weight = 6, MSER: 8.3186076\n",
      "Execution Time 0:08:20.134010\n"
     ]
    }
   ],
   "source": [
    "min_test_err, min_train_err, boost_rounds = mselec.grid_search(gridsearch_params=gridsearch_params_complx,\n",
    "                                                                orignal_params=params,\n",
    "                                                                param_list_name=['max_depth', 'min_child_weight'],\n",
    "                                                                dtrain=dtrain,\n",
    "                                                                num_boost_round=num_boost_round,\n",
    "                                                                seed=42,\n",
    "                                                                nfold=5,\n",
    "                                                                metrics={'rmse'},\n",
    "                                                                early_stopping_rounds=10)"
   ]
  },
  {
   "cell_type": "markdown",
   "metadata": {},
   "source": [
    "44 minutes execution time"
   ]
  },
  {
   "cell_type": "markdown",
   "metadata": {
    "ExecuteTime": {
     "end_time": "2021-02-04T14:42:41.639471Z",
     "start_time": "2021-02-04T14:42:40.274399Z"
    }
   },
   "source": [
    "We get the best score with a max_depth of 5 and min_child_weight of 6, so let's update the params"
   ]
  },
  {
   "cell_type": "code",
   "execution_count": 67,
   "metadata": {
    "ExecuteTime": {
     "end_time": "2021-02-06T16:11:50.881079Z",
     "start_time": "2021-02-06T16:11:50.417010Z"
    }
   },
   "outputs": [],
   "source": [
    "# updating the dicitonary with the optimal values found \n",
    "params['max_depth'] = 4\n",
    "params['min_child_weight'] = 6"
   ]
  },
  {
   "cell_type": "code",
   "execution_count": 68,
   "metadata": {
    "ExecuteTime": {
     "end_time": "2021-02-06T16:11:52.865970Z",
     "start_time": "2021-02-06T16:11:52.378846Z"
    }
   },
   "outputs": [
    {
     "data": {
      "image/png": "[encoded data removed]",
      "text/plain": [
       "<Figure size 720x432 with 1 Axes>"
      ]
     },
     "metadata": {
      "needs_background": "light"
     },
     "output_type": "display_data"
    }
   ],
   "source": [
    "# I my remove this, I am just checking \n",
    "mselec.grid_search_rounds(min_test_err, min_train_err, boost_rounds, y_limit=None)"
   ]
  },
  {
   "cell_type": "markdown",
   "metadata": {},
   "source": [
    "## Tuning the parameters that control the sampling of the data set at each boosting round. "
   ]
  },
  {
   "cell_type": "markdown",
   "metadata": {},
   "source": [
    "What they do is that instead of allowing the whole data set to be used at every round, it builds a tree on slightly different data at each step. This approach is followed since it makes it less likely to overfit to a single sample or feature.\n",
    "\n",
    "* ```subsample``` is the fraction of observations or rows to subsample at each step.The default is set to 1 meaning that is using the whole observations or rows.\n",
    "\n",
    "* ```colsample_bytree``` is fraction of features/variables/columns to be used. The default is set to 1 meaning that is using all features.\n"
   ]
  },
  {
   "cell_type": "code",
   "execution_count": 69,
   "metadata": {
    "ExecuteTime": {
     "end_time": "2021-02-06T16:12:01.608020Z",
     "start_time": "2021-02-06T16:12:01.527559Z"
    }
   },
   "outputs": [],
   "source": [
    "gridsearch_params = [(subsample, colsample)\n",
    "                    for subsample in [i/10. for i in range(5,11)]\n",
    "                    for colsample in [i/10. for i in range(5,11)]\n",
    "                    ]"
   ]
  },
  {
   "cell_type": "code",
   "execution_count": 70,
   "metadata": {
    "ExecuteTime": {
     "end_time": "2021-02-06T16:12:02.913160Z",
     "start_time": "2021-02-06T16:12:02.848205Z"
    }
   },
   "outputs": [
    {
     "data": {
      "text/plain": [
       "36"
      ]
     },
     "execution_count": 70,
     "metadata": {},
     "output_type": "execute_result"
    }
   ],
   "source": [
    "len(gridsearch_params)"
   ]
  },
  {
   "cell_type": "code",
   "execution_count": 71,
   "metadata": {
    "ExecuteTime": {
     "end_time": "2021-02-06T16:20:21.767894Z",
     "start_time": "2021-02-06T16:12:05.004947Z"
    }
   },
   "outputs": [
    {
     "name": "stdout",
     "output_type": "stream",
     "text": [
      "CV for subsample=0.5 and colsample_bytree=0.5\n",
      "\\RMSE 8.383105200000001 for 24 rounds\n",
      "CV for subsample=0.5 and colsample_bytree=0.6\n",
      "\\RMSE 8.3920778 for 22 rounds\n",
      "CV for subsample=0.5 and colsample_bytree=0.7\n",
      "\\RMSE 8.3907508 for 20 rounds\n",
      "CV for subsample=0.5 and colsample_bytree=0.8\n",
      "\\RMSE 8.3802204 for 17 rounds\n",
      "CV for subsample=0.5 and colsample_bytree=0.9\n",
      "\\RMSE 8.396671999999999 for 18 rounds\n",
      "CV for subsample=0.5 and colsample_bytree=1.0\n",
      "\\RMSE 8.3959096 for 18 rounds\n",
      "CV for subsample=0.6 and colsample_bytree=0.5\n",
      "\\RMSE 8.382763399999998 for 20 rounds\n",
      "CV for subsample=0.6 and colsample_bytree=0.6\n",
      "\\RMSE 8.37922 for 24 rounds\n",
      "CV for subsample=0.6 and colsample_bytree=0.7\n",
      "\\RMSE 8.3865554 for 21 rounds\n",
      "CV for subsample=0.6 and colsample_bytree=0.8\n",
      "\\RMSE 8.3780822 for 17 rounds\n",
      "CV for subsample=0.6 and colsample_bytree=0.9\n",
      "\\RMSE 8.3817984 for 23 rounds\n",
      "CV for subsample=0.6 and colsample_bytree=1.0\n",
      "\\RMSE 8.3830702 for 26 rounds\n",
      "CV for subsample=0.7 and colsample_bytree=0.5\n",
      "\\RMSE 8.3621854 for 31 rounds\n",
      "CV for subsample=0.7 and colsample_bytree=0.6\n",
      "\\RMSE 8.3656492 for 23 rounds\n",
      "CV for subsample=0.7 and colsample_bytree=0.7\n",
      "\\RMSE 8.382411800000002 for 22 rounds\n",
      "CV for subsample=0.7 and colsample_bytree=0.8\n",
      "\\RMSE 8.346026 for 21 rounds\n",
      "CV for subsample=0.7 and colsample_bytree=0.9\n",
      "\\RMSE 8.3570132 for 20 rounds\n",
      "CV for subsample=0.7 and colsample_bytree=1.0\n",
      "\\RMSE 8.364702 for 16 rounds\n",
      "CV for subsample=0.8 and colsample_bytree=0.5\n",
      "\\RMSE 8.3660474 for 23 rounds\n",
      "CV for subsample=0.8 and colsample_bytree=0.6\n",
      "\\RMSE 8.3479238 for 21 rounds\n",
      "CV for subsample=0.8 and colsample_bytree=0.7\n",
      "\\RMSE 8.3623548 for 23 rounds\n",
      "CV for subsample=0.8 and colsample_bytree=0.8\n",
      "\\RMSE 8.358774400000001 for 23 rounds\n",
      "CV for subsample=0.8 and colsample_bytree=0.9\n",
      "\\RMSE 8.3488062 for 22 rounds\n",
      "CV for subsample=0.8 and colsample_bytree=1.0\n",
      "\\RMSE 8.345827400000001 for 22 rounds\n",
      "CV for subsample=0.9 and colsample_bytree=0.5\n",
      "\\RMSE 8.342950400000001 for 32 rounds\n",
      "CV for subsample=0.9 and colsample_bytree=0.6\n",
      "\\RMSE 8.3477024 for 23 rounds\n",
      "CV for subsample=0.9 and colsample_bytree=0.7\n",
      "\\RMSE 8.3416472 for 29 rounds\n",
      "CV for subsample=0.9 and colsample_bytree=0.8\n",
      "\\RMSE 8.334767600000001 for 29 rounds\n",
      "CV for subsample=0.9 and colsample_bytree=0.9\n",
      "\\RMSE 8.3498298 for 22 rounds\n",
      "CV for subsample=0.9 and colsample_bytree=1.0\n",
      "\\RMSE 8.338220799999998 for 34 rounds\n",
      "CV for subsample=1.0 and colsample_bytree=0.5\n",
      "\\RMSE 8.360415 for 30 rounds\n",
      "CV for subsample=1.0 and colsample_bytree=0.6\n",
      "\\RMSE 8.3530468 for 27 rounds\n",
      "CV for subsample=1.0 and colsample_bytree=0.7\n",
      "\\RMSE 8.3440652 for 22 rounds\n",
      "CV for subsample=1.0 and colsample_bytree=0.8\n",
      "\\RMSE 8.3387858 for 35 rounds\n",
      "CV for subsample=1.0 and colsample_bytree=0.9\n",
      "\\RMSE 8.3325444 for 22 rounds\n",
      "CV for subsample=1.0 and colsample_bytree=1.0\n",
      "\\RMSE 8.3186076 for 28 rounds\n",
      "Best params: subsample = 1.0, colsample_bytree = 1.0, MSER: 8.3186076\n",
      "Execution Time 0:08:16.701622\n"
     ]
    }
   ],
   "source": [
    "min_test_err_2, min_train_err_2, boost_rounds_2 = mselec.grid_search(gridsearch_params=gridsearch_params,\n",
    "                                                                orignal_params=params,\n",
    "                                                                param_list_name=['subsample', 'colsample_bytree'],\n",
    "                                                                dtrain=dtrain,\n",
    "                                                                num_boost_round=num_boost_round,\n",
    "                                                                seed=42,\n",
    "                                                                nfold=5,\n",
    "                                                                metrics={'rmse'},\n",
    "                                                                early_stopping_rounds=10)"
   ]
  },
  {
   "cell_type": "markdown",
   "metadata": {},
   "source": [
    "We get the best parameters are subsample = 1.0, colsample_bytree = 1.0, so let's update the params."
   ]
  },
  {
   "cell_type": "code",
   "execution_count": 72,
   "metadata": {
    "ExecuteTime": {
     "end_time": "2021-02-06T16:32:42.645002Z",
     "start_time": "2021-02-06T16:32:41.067246Z"
    }
   },
   "outputs": [],
   "source": [
    "params['subsample'] = 1.0\n",
    "params['colsample_bytree'] = 1.0"
   ]
  },
  {
   "cell_type": "code",
   "execution_count": 73,
   "metadata": {
    "ExecuteTime": {
     "end_time": "2021-02-06T16:32:43.981174Z",
     "start_time": "2021-02-06T16:32:43.547076Z"
    }
   },
   "outputs": [
    {
     "data": {
      "image/png": "[encoded data removed]",
      "text/plain": [
       "<Figure size 720x432 with 1 Axes>"
      ]
     },
     "metadata": {
      "needs_background": "light"
     },
     "output_type": "display_data"
    }
   ],
   "source": [
    "# I my remove this, I am just checking the path of the search\n",
    "mselec.grid_search_rounds(min_test_err_2, min_train_err_2, boost_rounds_2, y_limit=None)"
   ]
  },
  {
   "cell_type": "markdown",
   "metadata": {},
   "source": [
    "## Tuning the parameters that controls the learning and model regularisation"
   ]
  },
  {
   "cell_type": "markdown",
   "metadata": {},
   "source": [
    "* ```eta``` alias ```learning_rate``` controls the shrinkage of the weights associated to features after each round, in other words it defines the amount of \"correction\" we make at each step. Remeber that that at each boosting round is correcting the errors of previous rounds. So having a small value of this parameter makes our model more robust to everfitting, so the smaller it is the most conservative it becomes. But the price to pay is to to increase the number of boosting rounds which takes more time to train, and sometimes without achiving great improvements.\n",
    "\n",
    "* ```reg_lambda```L2 regularization term on weights. Increasing this value will make model more conservative to avoid overfitting."
   ]
  },
  {
   "cell_type": "code",
   "execution_count": 77,
   "metadata": {
    "ExecuteTime": {
     "end_time": "2021-02-06T16:33:27.084064Z",
     "start_time": "2021-02-06T16:33:27.024119Z"
    }
   },
   "outputs": [],
   "source": [
    "learning_rate_val = [.2, .1, .05, .01, .005]"
   ]
  },
  {
   "cell_type": "code",
   "execution_count": 78,
   "metadata": {
    "ExecuteTime": {
     "end_time": "2021-02-06T16:33:28.113976Z",
     "start_time": "2021-02-06T16:33:28.050476Z"
    }
   },
   "outputs": [],
   "source": [
    "reag_lambda_val = [1e-5, 1e-2, 0.1, 1, 20, 80, 120]"
   ]
  },
  {
   "cell_type": "code",
   "execution_count": 79,
   "metadata": {
    "ExecuteTime": {
     "end_time": "2021-02-06T16:33:29.018711Z",
     "start_time": "2021-02-06T16:33:28.949086Z"
    }
   },
   "outputs": [],
   "source": [
    "gridsearch_params = [(learning_rate, reg_lambda)\n",
    "                    for learning_rate in learning_rate_val\n",
    "                    for reg_lambda in reag_lambda_val\n",
    "                    ]"
   ]
  },
  {
   "cell_type": "code",
   "execution_count": 80,
   "metadata": {
    "ExecuteTime": {
     "end_time": "2021-02-06T16:33:30.052270Z",
     "start_time": "2021-02-06T16:33:29.953071Z"
    }
   },
   "outputs": [
    {
     "data": {
      "text/plain": [
       "35"
      ]
     },
     "execution_count": 80,
     "metadata": {},
     "output_type": "execute_result"
    }
   ],
   "source": [
    "len(gridsearch_params)"
   ]
  },
  {
   "cell_type": "code",
   "execution_count": 81,
   "metadata": {
    "ExecuteTime": {
     "end_time": "2021-02-06T19:12:21.507788Z",
     "start_time": "2021-02-06T16:33:32.365826Z"
    }
   },
   "outputs": [
    {
     "name": "stdout",
     "output_type": "stream",
     "text": [
      "CV for learning_rate=0.2 and reg_lambda=1e-05\n",
      "\\RMSE 8.32381 for 32 rounds\n",
      "CV for learning_rate=0.2 and reg_lambda=0.01\n",
      "\\RMSE 8.3219892 for 38 rounds\n",
      "CV for learning_rate=0.2 and reg_lambda=0.1\n",
      "\\RMSE 8.327109399999998 for 34 rounds\n",
      "CV for learning_rate=0.2 and reg_lambda=1\n",
      "\\RMSE 8.321111400000001 for 43 rounds\n",
      "CV for learning_rate=0.2 and reg_lambda=20\n",
      "\\RMSE 8.3164682 for 43 rounds\n",
      "CV for learning_rate=0.2 and reg_lambda=80\n",
      "\\RMSE 8.3148716 for 69 rounds\n",
      "CV for learning_rate=0.2 and reg_lambda=120\n",
      "\\RMSE 8.3162792 for 62 rounds\n",
      "CV for learning_rate=0.1 and reg_lambda=1e-05\n",
      "\\RMSE 8.309088200000001 for 94 rounds\n",
      "CV for learning_rate=0.1 and reg_lambda=0.01\n",
      "\\RMSE 8.308441 for 89 rounds\n",
      "CV for learning_rate=0.1 and reg_lambda=0.1\n",
      "\\RMSE 8.313497800000002 for 84 rounds\n",
      "CV for learning_rate=0.1 and reg_lambda=1\n",
      "\\RMSE 8.309262999999998 for 109 rounds\n",
      "CV for learning_rate=0.1 and reg_lambda=20\n",
      "\\RMSE 8.3017418 for 146 rounds\n",
      "CV for learning_rate=0.1 and reg_lambda=80\n",
      "\\RMSE 8.3125412 for 184 rounds\n",
      "CV for learning_rate=0.1 and reg_lambda=120\n",
      "\\RMSE 8.314555 for 121 rounds\n",
      "CV for learning_rate=0.05 and reg_lambda=1e-05\n",
      "\\RMSE 8.309044199999999 for 169 rounds\n",
      "CV for learning_rate=0.05 and reg_lambda=0.01\n",
      "\\RMSE 8.3064784 for 182 rounds\n",
      "CV for learning_rate=0.05 and reg_lambda=0.1\n",
      "\\RMSE 8.307435 for 187 rounds\n",
      "CV for learning_rate=0.05 and reg_lambda=1\n",
      "\\RMSE 8.31067 for 172 rounds\n",
      "CV for learning_rate=0.05 and reg_lambda=20\n",
      "\\RMSE 8.299500599999998 for 274 rounds\n",
      "CV for learning_rate=0.05 and reg_lambda=80\n",
      "\\RMSE 8.311174600000001 for 274 rounds\n",
      "CV for learning_rate=0.05 and reg_lambda=120\n",
      "\\RMSE 8.315561200000001 for 234 rounds\n",
      "CV for learning_rate=0.01 and reg_lambda=1e-05\n",
      "\\RMSE 8.3121656 for 740 rounds\n",
      "CV for learning_rate=0.01 and reg_lambda=0.01\n",
      "\\RMSE 8.308429799999999 for 839 rounds\n",
      "CV for learning_rate=0.01 and reg_lambda=0.1\n",
      "\\RMSE 8.3099456 for 785 rounds\n",
      "CV for learning_rate=0.01 and reg_lambda=1\n",
      "\\RMSE 8.308783600000002 for 840 rounds\n",
      "CV for learning_rate=0.01 and reg_lambda=20\n",
      "\\RMSE 8.302796599999999 for 999 rounds\n",
      "CV for learning_rate=0.01 and reg_lambda=80\n",
      "\\RMSE 8.316137600000001 for 993 rounds\n",
      "CV for learning_rate=0.01 and reg_lambda=120\n",
      "\\RMSE 8.3160208 for 999 rounds\n",
      "CV for learning_rate=0.005 and reg_lambda=1e-05\n",
      "\\RMSE 8.3437184 for 999 rounds\n",
      "CV for learning_rate=0.005 and reg_lambda=0.01\n",
      "\\RMSE 8.3451948 for 999 rounds\n",
      "CV for learning_rate=0.005 and reg_lambda=0.1\n",
      "\\RMSE 8.3440726 for 999 rounds\n",
      "CV for learning_rate=0.005 and reg_lambda=1\n",
      "\\RMSE 8.344365400000001 for 999 rounds\n",
      "CV for learning_rate=0.005 and reg_lambda=20\n",
      "\\RMSE 8.358154200000001 for 999 rounds\n",
      "CV for learning_rate=0.005 and reg_lambda=80\n",
      "\\RMSE 8.3844336 for 999 rounds\n",
      "CV for learning_rate=0.005 and reg_lambda=120\n",
      "\\RMSE 8.392349800000002 for 999 rounds\n",
      "Best params: learning_rate = 0.05, reg_lambda = 20, MSER: 8.299500599999998\n",
      "Execution Time 2:38:48.824130\n"
     ]
    }
   ],
   "source": [
    "min_test_err_3, min_train_err_3, boost_rounds_3 = mselec.grid_search(gridsearch_params=gridsearch_params,\n",
    "                                                                orignal_params=params,\n",
    "                                                                param_list_name=['learning_rate', 'reg_lambda'],\n",
    "                                                                dtrain=dtrain,\n",
    "                                                                num_boost_round=num_boost_round,\n",
    "                                                                seed=42,\n",
    "                                                                nfold=5,\n",
    "                                                                metrics={'rmse'},\n",
    "                                                                early_stopping_rounds=10)"
   ]
  },
  {
   "cell_type": "code",
   "execution_count": 158,
   "metadata": {
    "ExecuteTime": {
     "end_time": "2021-02-08T17:06:04.330909Z",
     "start_time": "2021-02-08T17:06:03.562030Z"
    }
   },
   "outputs": [],
   "source": [
    "params['learning_rate'] = 0.05\n",
    "params['reg_lambda'] = 20"
   ]
  },
  {
   "cell_type": "code",
   "execution_count": 83,
   "metadata": {
    "ExecuteTime": {
     "end_time": "2021-02-06T19:29:50.636438Z",
     "start_time": "2021-02-06T19:29:49.976756Z"
    }
   },
   "outputs": [
    {
     "data": {
      "image/png": "[encoded data removed]",
      "text/plain": [
       "<Figure size 720x432 with 1 Axes>"
      ]
     },
     "metadata": {
      "needs_background": "light"
     },
     "output_type": "display_data"
    }
   ],
   "source": [
    "# I my remove this, I am just checking the path of the search\n",
    "mselec.grid_search_rounds(min_test_err_3, min_train_err_3, boost_rounds_3, y_limit=None)"
   ]
  },
  {
   "cell_type": "code",
   "execution_count": 160,
   "metadata": {
    "ExecuteTime": {
     "end_time": "2021-02-08T17:06:38.885651Z",
     "start_time": "2021-02-08T17:06:38.815607Z"
    }
   },
   "outputs": [],
   "source": [
    "params_final = {'max_depth': 4,\n",
    "                 'min_child_weight': 6,\n",
    "                 'subsample': 1.0,\n",
    "                 'colsample_bytree': 1.0,\n",
    "                 'reg_lambda': 20,\n",
    "                 'objective': 'reg:squarederror',\n",
    "                 'random_state': 0,\n",
    "                 'eval_metric': 'rmse',\n",
    "                 'importance_type': 'gain',\n",
    "                 'learning_rate': 0.05}"
   ]
  },
  {
   "cell_type": "markdown",
   "metadata": {},
   "source": [
    "## Training  the model"
   ]
  },
  {
   "cell_type": "markdown",
   "metadata": {},
   "source": [
    "Finding the optimal  value of ```num_boost_round optimal``` highly depends on the other parameters, and thus it should be re-tuned each time you update a parameter. In the CV we did something similar for finding the best other parameters, but now that we have the final set, it is the turn to find the optimal number of boosters. Let's see how much we improve our base line score, and the one from the untune model."
   ]
  },
  {
   "cell_type": "code",
   "execution_count": 162,
   "metadata": {
    "ExecuteTime": {
     "end_time": "2021-02-08T17:07:55.061554Z",
     "start_time": "2021-02-08T17:07:04.602355Z"
    },
    "scrolled": true
   },
   "outputs": [
    {
     "name": "stdout",
     "output_type": "stream",
     "text": [
      "[0]\tTest-rmse:85.0384\n",
      "Will train until Test-rmse hasn't improved in 10 rounds.\n",
      "[1]\tTest-rmse:80.8338\n",
      "[2]\tTest-rmse:76.8428\n",
      "[3]\tTest-rmse:73.0513\n",
      "[4]\tTest-rmse:69.4562\n",
      "[5]\tTest-rmse:66.0401\n",
      "[6]\tTest-rmse:62.7996\n",
      "[7]\tTest-rmse:59.7228\n",
      "[8]\tTest-rmse:56.8041\n",
      "[9]\tTest-rmse:54.0332\n",
      "[10]\tTest-rmse:51.4066\n",
      "[11]\tTest-rmse:48.9132\n",
      "[12]\tTest-rmse:46.5504\n",
      "[13]\tTest-rmse:44.3087\n",
      "[14]\tTest-rmse:42.1831\n",
      "[15]\tTest-rmse:40.1683\n",
      "[16]\tTest-rmse:38.2597\n",
      "[17]\tTest-rmse:36.451\n",
      "[18]\tTest-rmse:34.7366\n",
      "[19]\tTest-rmse:33.1143\n",
      "[20]\tTest-rmse:31.5792\n",
      "[21]\tTest-rmse:30.1253\n",
      "[22]\tTest-rmse:28.75\n",
      "[23]\tTest-rmse:27.451\n",
      "[24]\tTest-rmse:26.2209\n",
      "[25]\tTest-rmse:25.0596\n",
      "[26]\tTest-rmse:23.9633\n",
      "[27]\tTest-rmse:22.9281\n",
      "[28]\tTest-rmse:21.952\n",
      "[29]\tTest-rmse:21.0339\n",
      "[30]\tTest-rmse:20.1678\n",
      "[31]\tTest-rmse:19.3522\n",
      "[32]\tTest-rmse:18.5872\n",
      "[33]\tTest-rmse:17.8669\n",
      "[34]\tTest-rmse:17.1897\n",
      "[35]\tTest-rmse:16.5558\n",
      "[36]\tTest-rmse:15.9626\n",
      "[37]\tTest-rmse:15.4061\n",
      "[38]\tTest-rmse:14.886\n",
      "[39]\tTest-rmse:14.4006\n",
      "[40]\tTest-rmse:13.9469\n",
      "[41]\tTest-rmse:13.5238\n",
      "[42]\tTest-rmse:13.1314\n",
      "[43]\tTest-rmse:12.7654\n",
      "[44]\tTest-rmse:12.4262\n",
      "[45]\tTest-rmse:12.1117\n",
      "[46]\tTest-rmse:11.8218\n",
      "[47]\tTest-rmse:11.5536\n",
      "[48]\tTest-rmse:11.3046\n",
      "[49]\tTest-rmse:11.075\n",
      "[50]\tTest-rmse:10.864\n",
      "[51]\tTest-rmse:10.6693\n",
      "[52]\tTest-rmse:10.49\n",
      "[53]\tTest-rmse:10.3251\n",
      "[54]\tTest-rmse:10.1746\n",
      "[55]\tTest-rmse:10.036\n",
      "[56]\tTest-rmse:9.9078\n",
      "[57]\tTest-rmse:9.79448\n",
      "[58]\tTest-rmse:9.68852\n",
      "[59]\tTest-rmse:9.59207\n",
      "[60]\tTest-rmse:9.50252\n",
      "[61]\tTest-rmse:9.42195\n",
      "[62]\tTest-rmse:9.34996\n",
      "[63]\tTest-rmse:9.28354\n",
      "[64]\tTest-rmse:9.22276\n",
      "[65]\tTest-rmse:9.16785\n",
      "[66]\tTest-rmse:9.11712\n",
      "[67]\tTest-rmse:9.07251\n",
      "[68]\tTest-rmse:9.02951\n",
      "[69]\tTest-rmse:8.99294\n",
      "[70]\tTest-rmse:8.95919\n",
      "[71]\tTest-rmse:8.92894\n",
      "[72]\tTest-rmse:8.90125\n",
      "[73]\tTest-rmse:8.87512\n",
      "[74]\tTest-rmse:8.85171\n",
      "[75]\tTest-rmse:8.83154\n",
      "[76]\tTest-rmse:8.81295\n",
      "[77]\tTest-rmse:8.79568\n",
      "[78]\tTest-rmse:8.77848\n",
      "[79]\tTest-rmse:8.76358\n",
      "[80]\tTest-rmse:8.75091\n",
      "[81]\tTest-rmse:8.7388\n",
      "[82]\tTest-rmse:8.72801\n",
      "[83]\tTest-rmse:8.7183\n",
      "[84]\tTest-rmse:8.70906\n",
      "[85]\tTest-rmse:8.70168\n",
      "[86]\tTest-rmse:8.69297\n",
      "[87]\tTest-rmse:8.68652\n",
      "[88]\tTest-rmse:8.68023\n",
      "[89]\tTest-rmse:8.67452\n",
      "[90]\tTest-rmse:8.66919\n",
      "[91]\tTest-rmse:8.66351\n",
      "[92]\tTest-rmse:8.65926\n",
      "[93]\tTest-rmse:8.65461\n",
      "[94]\tTest-rmse:8.65158\n",
      "[95]\tTest-rmse:8.64816\n",
      "[96]\tTest-rmse:8.64568\n",
      "[97]\tTest-rmse:8.64283\n",
      "[98]\tTest-rmse:8.63997\n",
      "[99]\tTest-rmse:8.63754\n",
      "[100]\tTest-rmse:8.63426\n",
      "[101]\tTest-rmse:8.63226\n",
      "[102]\tTest-rmse:8.62898\n",
      "[103]\tTest-rmse:8.62791\n",
      "[104]\tTest-rmse:8.62574\n",
      "[105]\tTest-rmse:8.62498\n",
      "[106]\tTest-rmse:8.62362\n",
      "[107]\tTest-rmse:8.62309\n",
      "[108]\tTest-rmse:8.62214\n",
      "[109]\tTest-rmse:8.62105\n",
      "[110]\tTest-rmse:8.61915\n",
      "[111]\tTest-rmse:8.61834\n",
      "[112]\tTest-rmse:8.61651\n",
      "[113]\tTest-rmse:8.61574\n",
      "[114]\tTest-rmse:8.61425\n",
      "[115]\tTest-rmse:8.61361\n",
      "[116]\tTest-rmse:8.61217\n",
      "[117]\tTest-rmse:8.61139\n",
      "[118]\tTest-rmse:8.61055\n",
      "[119]\tTest-rmse:8.60962\n",
      "[120]\tTest-rmse:8.60853\n",
      "[121]\tTest-rmse:8.60792\n",
      "[122]\tTest-rmse:8.60756\n",
      "[123]\tTest-rmse:8.60683\n",
      "[124]\tTest-rmse:8.60546\n",
      "[125]\tTest-rmse:8.60448\n",
      "[126]\tTest-rmse:8.60417\n",
      "[127]\tTest-rmse:8.60369\n",
      "[128]\tTest-rmse:8.60364\n",
      "[129]\tTest-rmse:8.60324\n",
      "[130]\tTest-rmse:8.60173\n",
      "[131]\tTest-rmse:8.6015\n",
      "[132]\tTest-rmse:8.60066\n",
      "[133]\tTest-rmse:8.59915\n",
      "[134]\tTest-rmse:8.5989\n",
      "[135]\tTest-rmse:8.59779\n",
      "[136]\tTest-rmse:8.59803\n",
      "[137]\tTest-rmse:8.59785\n",
      "[138]\tTest-rmse:8.5976\n",
      "[139]\tTest-rmse:8.5958\n",
      "[140]\tTest-rmse:8.59419\n",
      "[141]\tTest-rmse:8.59381\n",
      "[142]\tTest-rmse:8.59317\n",
      "[143]\tTest-rmse:8.59317\n",
      "[144]\tTest-rmse:8.59305\n",
      "[145]\tTest-rmse:8.59213\n",
      "[146]\tTest-rmse:8.59162\n",
      "[147]\tTest-rmse:8.59122\n",
      "[148]\tTest-rmse:8.5912\n",
      "[149]\tTest-rmse:8.59096\n",
      "[150]\tTest-rmse:8.58998\n",
      "[151]\tTest-rmse:8.58966\n",
      "[152]\tTest-rmse:8.58934\n",
      "[153]\tTest-rmse:8.58935\n",
      "[154]\tTest-rmse:8.58902\n",
      "[155]\tTest-rmse:8.58875\n",
      "[156]\tTest-rmse:8.58821\n",
      "[157]\tTest-rmse:8.5881\n",
      "[158]\tTest-rmse:8.58813\n",
      "[159]\tTest-rmse:8.58808\n",
      "[160]\tTest-rmse:8.58765\n",
      "[161]\tTest-rmse:8.58719\n",
      "[162]\tTest-rmse:8.58693\n",
      "[163]\tTest-rmse:8.58581\n",
      "[164]\tTest-rmse:8.58528\n",
      "[165]\tTest-rmse:8.58517\n",
      "[166]\tTest-rmse:8.58528\n",
      "[167]\tTest-rmse:8.5847\n",
      "[168]\tTest-rmse:8.5846\n",
      "[169]\tTest-rmse:8.5848\n",
      "[170]\tTest-rmse:8.58472\n",
      "[171]\tTest-rmse:8.58471\n",
      "[172]\tTest-rmse:8.58449\n",
      "[173]\tTest-rmse:8.58448\n",
      "[174]\tTest-rmse:8.58427\n",
      "[175]\tTest-rmse:8.58411\n",
      "[176]\tTest-rmse:8.5841\n",
      "[177]\tTest-rmse:8.58416\n",
      "[178]\tTest-rmse:8.58394\n",
      "[179]\tTest-rmse:8.58318\n",
      "[180]\tTest-rmse:8.58315\n",
      "[181]\tTest-rmse:8.58241\n",
      "[182]\tTest-rmse:8.5826\n",
      "[183]\tTest-rmse:8.58239\n",
      "[184]\tTest-rmse:8.58221\n",
      "[185]\tTest-rmse:8.58251\n",
      "[186]\tTest-rmse:8.58253\n",
      "[187]\tTest-rmse:8.58286\n",
      "[188]\tTest-rmse:8.58264\n",
      "[189]\tTest-rmse:8.58293\n",
      "[190]\tTest-rmse:8.58264\n",
      "[191]\tTest-rmse:8.58229\n",
      "[192]\tTest-rmse:8.58205\n",
      "[193]\tTest-rmse:8.58137\n",
      "[194]\tTest-rmse:8.58122\n",
      "[195]\tTest-rmse:8.58127\n",
      "[196]\tTest-rmse:8.58054\n",
      "[197]\tTest-rmse:8.58037\n",
      "[198]\tTest-rmse:8.58042\n",
      "[199]\tTest-rmse:8.57963\n",
      "[200]\tTest-rmse:8.57945\n",
      "[201]\tTest-rmse:8.57939\n",
      "[202]\tTest-rmse:8.57891\n",
      "[203]\tTest-rmse:8.57935\n",
      "[204]\tTest-rmse:8.57933\n",
      "[205]\tTest-rmse:8.57895\n",
      "[206]\tTest-rmse:8.57898\n",
      "[207]\tTest-rmse:8.57908\n",
      "[208]\tTest-rmse:8.57882\n",
      "[209]\tTest-rmse:8.579\n",
      "[210]\tTest-rmse:8.57901\n",
      "[211]\tTest-rmse:8.57886\n",
      "[212]\tTest-rmse:8.57879\n",
      "[213]\tTest-rmse:8.57835\n",
      "[214]\tTest-rmse:8.5781\n",
      "[215]\tTest-rmse:8.57765\n",
      "[216]\tTest-rmse:8.57785\n",
      "[217]\tTest-rmse:8.57751\n",
      "[218]\tTest-rmse:8.57743\n",
      "[219]\tTest-rmse:8.57746\n",
      "[220]\tTest-rmse:8.57573\n",
      "[221]\tTest-rmse:8.57568\n",
      "[222]\tTest-rmse:8.57566\n",
      "[223]\tTest-rmse:8.57569\n",
      "[224]\tTest-rmse:8.57572\n",
      "[225]\tTest-rmse:8.57582\n",
      "[226]\tTest-rmse:8.57553\n",
      "[227]\tTest-rmse:8.57544\n",
      "[228]\tTest-rmse:8.57561\n",
      "[229]\tTest-rmse:8.57556\n",
      "[230]\tTest-rmse:8.57555\n",
      "[231]\tTest-rmse:8.57532\n",
      "[232]\tTest-rmse:8.57494\n",
      "[233]\tTest-rmse:8.57484\n"
     ]
    }
   ],
   "source": [
    "model_1 = xg.train(params_final,\n",
    "                    dtrain,\n",
    "                    num_boost_round=num_boost_round,\n",
    "                    evals=[(dtest, \"Test\")],\n",
    "                    early_stopping_rounds=10)"
   ]
  },
  {
   "cell_type": "code",
   "execution_count": 166,
   "metadata": {
    "ExecuteTime": {
     "end_time": "2021-02-08T17:10:03.704747Z",
     "start_time": "2021-02-08T17:10:03.644177Z"
    }
   },
   "outputs": [
    {
     "name": "stdout",
     "output_type": "stream",
     "text": [
      "Best RMSE: 8.5748 with 234 rounds\n"
     ]
    }
   ],
   "source": [
    "print(\"Best RMSE: {:.4f} with {} rounds\".format(\n",
    "                 model_1.best_score,\n",
    "                 model_1.best_iteration + 1))"
   ]
  },
  {
   "cell_type": "code",
   "execution_count": 167,
   "metadata": {
    "ExecuteTime": {
     "end_time": "2021-02-08T17:10:05.721055Z",
     "start_time": "2021-02-08T17:10:05.614797Z"
    }
   },
   "outputs": [
    {
     "data": {
      "text/plain": [
       "234"
      ]
     },
     "execution_count": 167,
     "metadata": {},
     "output_type": "execute_result"
    }
   ],
   "source": [
    "# If early stop happens\n",
    "model_1.best_ntree_limit"
   ]
  },
  {
   "cell_type": "markdown",
   "metadata": {},
   "source": [
    "```ntree_limit```is an integer number that limits the number of trees in the prediction; defaults to ```best_ntree_limit``` if defined (i.e. it has been trained with early stopping), otherwise 0 (use all trees)."
   ]
  },
  {
   "cell_type": "code",
   "execution_count": 168,
   "metadata": {
    "ExecuteTime": {
     "end_time": "2021-02-08T17:10:09.190541Z",
     "start_time": "2021-02-08T17:10:09.087427Z"
    }
   },
   "outputs": [
    {
     "data": {
      "text/plain": [
       "array([88.82621, 85.84186, 78.1075 , ..., 87.21129, 92.2968 , 91.62172],\n",
       "      dtype=float32)"
      ]
     },
     "execution_count": 168,
     "metadata": {},
     "output_type": "execute_result"
    }
   ],
   "source": [
    "# model prediction given the trees it was trained on\n",
    "pred_model_1 = model_1.predict(dtest, ntree_limit=model_1.best_ntree_limit) \n",
    "pred_model_1"
   ]
  },
  {
   "cell_type": "code",
   "execution_count": 169,
   "metadata": {
    "ExecuteTime": {
     "end_time": "2021-02-08T17:10:11.722830Z",
     "start_time": "2021-02-08T17:10:11.644787Z"
    }
   },
   "outputs": [
    {
     "name": "stdout",
     "output_type": "stream",
     "text": [
      "Tuned before num_boost_dound and limit the trees for early stop RMSE is 8.5748\n"
     ]
    }
   ],
   "source": [
    "# Compute v\n",
    "rmse_tuned = RMSE(y_test, pred_model_1)\n",
    "print(\"Tuned before num_boost_dound and limit the trees for early stop RMSE is {:.4f}\".format(rmse_tuned))"
   ]
  },
  {
   "cell_type": "code",
   "execution_count": 170,
   "metadata": {
    "ExecuteTime": {
     "end_time": "2021-02-08T17:10:13.800011Z",
     "start_time": "2021-02-08T17:10:13.716060Z"
    }
   },
   "outputs": [
    {
     "data": {
      "text/plain": [
       "array([88.54794 , 85.065254, 79.200966, ..., 81.64159 , 92.52591 ,\n",
       "       91.74522 ], dtype=float32)"
      ]
     },
     "execution_count": 170,
     "metadata": {},
     "output_type": "execute_result"
    }
   ],
   "source": [
    "# If we do not provide the best_ntree_limit it will use all the trees\n",
    "pred_model_1_f = model_0.predict(dtest) \n",
    "pred_model_1_f"
   ]
  },
  {
   "cell_type": "code",
   "execution_count": 171,
   "metadata": {
    "ExecuteTime": {
     "end_time": "2021-02-08T17:10:16.967708Z",
     "start_time": "2021-02-08T17:10:16.895081Z"
    }
   },
   "outputs": [
    {
     "name": "stdout",
     "output_type": "stream",
     "text": [
      "Tuned before num_boost_dound and full trees RMSE is 8.6254\n"
     ]
    }
   ],
   "source": [
    "# Compute RMSE\n",
    "rmse_tuned_f = RMSE(y_test, pred_model_1_f)\n",
    "print(\"Tuned before num_boost_dound and full trees RMSE is {:.4f}\".format(rmse_tuned_f))"
   ]
  },
  {
   "cell_type": "code",
   "execution_count": 172,
   "metadata": {
    "ExecuteTime": {
     "end_time": "2021-02-08T17:13:47.324892Z",
     "start_time": "2021-02-08T17:10:24.118356Z"
    }
   },
   "outputs": [],
   "source": [
    "cv_results_f = xg.cv(params_final, \n",
    "                      dtrain,\n",
    "                      num_boost_round=num_boost_round,\n",
    "                      seed=42,\n",
    "                      nfold=5,\n",
    "                      metrics={'rmse'},\n",
    "                      early_stopping_rounds=10)"
   ]
  },
  {
   "cell_type": "code",
   "execution_count": 173,
   "metadata": {
    "ExecuteTime": {
     "end_time": "2021-02-08T17:16:27.468144Z",
     "start_time": "2021-02-08T17:16:27.253115Z"
    },
    "format": "row"
   },
   "outputs": [
    {
     "data": {
      "text/html": [
       "<div>\n",
       "<style scoped>\n",
       "    .dataframe tbody tr th:only-of-type {\n",
       "        vertical-align: middle;\n",
       "    }\n",
       "\n",
       "    .dataframe tbody tr th {\n",
       "        vertical-align: top;\n",
       "    }\n",
       "\n",
       "    .dataframe thead th {\n",
       "        text-align: right;\n",
       "    }\n",
       "</style>\n",
       "<table border=\"1\" class=\"dataframe\">\n",
       "  <thead>\n",
       "    <tr style=\"text-align: right;\">\n",
       "      <th></th>\n",
       "      <th>train-rmse-mean</th>\n",
       "      <th>train-rmse-std</th>\n",
       "      <th>test-rmse-mean</th>\n",
       "      <th>test-rmse-std</th>\n",
       "    </tr>\n",
       "  </thead>\n",
       "  <tbody>\n",
       "    <tr>\n",
       "      <th>0</th>\n",
       "      <td>85.129619</td>\n",
       "      <td>0.019424</td>\n",
       "      <td>85.126147</td>\n",
       "      <td>0.092496</td>\n",
       "    </tr>\n",
       "    <tr>\n",
       "      <th>1</th>\n",
       "      <td>80.916627</td>\n",
       "      <td>0.018929</td>\n",
       "      <td>80.920721</td>\n",
       "      <td>0.092142</td>\n",
       "    </tr>\n",
       "    <tr>\n",
       "      <th>2</th>\n",
       "      <td>76.923178</td>\n",
       "      <td>0.018967</td>\n",
       "      <td>76.928516</td>\n",
       "      <td>0.092789</td>\n",
       "    </tr>\n",
       "    <tr>\n",
       "      <th>3</th>\n",
       "      <td>73.135362</td>\n",
       "      <td>0.017442</td>\n",
       "      <td>73.137103</td>\n",
       "      <td>0.091569</td>\n",
       "    </tr>\n",
       "    <tr>\n",
       "      <th>4</th>\n",
       "      <td>69.539517</td>\n",
       "      <td>0.013788</td>\n",
       "      <td>69.538329</td>\n",
       "      <td>0.091126</td>\n",
       "    </tr>\n",
       "  </tbody>\n",
       "</table>\n",
       "</div>"
      ],
      "text/plain": [
       "   train-rmse-mean  train-rmse-std  test-rmse-mean  test-rmse-std\n",
       "0        85.129619        0.019424       85.126147       0.092496\n",
       "1        80.916627        0.018929       80.920721       0.092142\n",
       "2        76.923178        0.018967       76.928516       0.092789\n",
       "3        73.135362        0.017442       73.137103       0.091569\n",
       "4        69.539517        0.013788       69.538329       0.091126"
      ]
     },
     "execution_count": 173,
     "metadata": {},
     "output_type": "execute_result"
    }
   ],
   "source": [
    "cv_results_f.head()"
   ]
  },
  {
   "cell_type": "code",
   "execution_count": 174,
   "metadata": {
    "ExecuteTime": {
     "end_time": "2021-02-08T17:16:33.278138Z",
     "start_time": "2021-02-08T17:16:33.091444Z"
    }
   },
   "outputs": [
    {
     "data": {
      "text/plain": [
       "(234, 4)"
      ]
     },
     "execution_count": 174,
     "metadata": {},
     "output_type": "execute_result"
    }
   ],
   "source": [
    "cv_results_f.shape"
   ]
  },
  {
   "cell_type": "code",
   "execution_count": 175,
   "metadata": {
    "ExecuteTime": {
     "end_time": "2021-02-08T17:16:37.589747Z",
     "start_time": "2021-02-08T17:16:37.239342Z"
    }
   },
   "outputs": [
    {
     "data": {
      "text/plain": [
       "232"
      ]
     },
     "execution_count": 175,
     "metadata": {},
     "output_type": "execute_result"
    }
   ],
   "source": [
    "cv_results_f['test-rmse-mean'].argmin()"
   ]
  },
  {
   "cell_type": "code",
   "execution_count": 176,
   "metadata": {
    "ExecuteTime": {
     "end_time": "2021-02-08T17:16:45.207770Z",
     "start_time": "2021-02-08T17:16:41.228839Z"
    }
   },
   "outputs": [
    {
     "name": "stdout",
     "output_type": "stream",
     "text": [
      "train-rmse-mean 7.99671\n",
      "test-rmse-mean 8.3015374\n",
      "train-rmse-std 0.002512448017374782\n",
      "test-rmse-std 0.03424285805478289\n"
     ]
    },
    {
     "data": {
      "image/png": "[encoded data removed]",
      "text/plain": [
       "<Figure size 720x360 with 1 Axes>"
      ]
     },
     "metadata": {
      "needs_background": "light"
     },
     "output_type": "display_data"
    }
   ],
   "source": [
    "fselec.xgboost_learning_curve(cv_results_f, \n",
    "                              train_label='train-rmse-mean',\n",
    "                              test_label='test-rmse-mean',\n",
    "                              std_col=['train-rmse-std', 'test-rmse-std'],\n",
    "                              y_lim=[7, 10]\n",
    "                             )"
   ]
  },
  {
   "cell_type": "markdown",
   "metadata": {},
   "source": [
    "Although it was found the best number of rounds, as we mentioned before, it has been trained with more rounds than optimal. Therefore, before using it for predictions, it should be retrained with the good number of rounds. Since ```best num_boost_round``` was found, there is no need the early_stopping_round anymore."
   ]
  },
  {
   "cell_type": "code",
   "execution_count": 177,
   "metadata": {
    "ExecuteTime": {
     "end_time": "2021-02-08T17:16:50.624386Z",
     "start_time": "2021-02-08T17:16:50.364274Z"
    }
   },
   "outputs": [
    {
     "data": {
      "text/plain": [
       "234"
      ]
     },
     "execution_count": 177,
     "metadata": {},
     "output_type": "execute_result"
    }
   ],
   "source": [
    "num_boost_round = model_1.best_iteration + 1\n",
    "num_boost_round"
   ]
  },
  {
   "cell_type": "code",
   "execution_count": 178,
   "metadata": {
    "ExecuteTime": {
     "end_time": "2021-02-08T17:18:06.844024Z",
     "start_time": "2021-02-08T17:16:57.710995Z"
    }
   },
   "outputs": [
    {
     "name": "stdout",
     "output_type": "stream",
     "text": [
      "[0]\tTest-rmse:85.0384\n",
      "[1]\tTest-rmse:80.8338\n",
      "[2]\tTest-rmse:76.8428\n",
      "[3]\tTest-rmse:73.0513\n",
      "[4]\tTest-rmse:69.4562\n",
      "[5]\tTest-rmse:66.0401\n",
      "[6]\tTest-rmse:62.7996\n",
      "[7]\tTest-rmse:59.7228\n",
      "[8]\tTest-rmse:56.8041\n",
      "[9]\tTest-rmse:54.0332\n",
      "[10]\tTest-rmse:51.4066\n",
      "[11]\tTest-rmse:48.9132\n",
      "[12]\tTest-rmse:46.5504\n",
      "[13]\tTest-rmse:44.3087\n",
      "[14]\tTest-rmse:42.1831\n",
      "[15]\tTest-rmse:40.1683\n",
      "[16]\tTest-rmse:38.2597\n",
      "[17]\tTest-rmse:36.451\n",
      "[18]\tTest-rmse:34.7366\n",
      "[19]\tTest-rmse:33.1143\n",
      "[20]\tTest-rmse:31.5792\n",
      "[21]\tTest-rmse:30.1253\n",
      "[22]\tTest-rmse:28.75\n",
      "[23]\tTest-rmse:27.451\n",
      "[24]\tTest-rmse:26.2209\n",
      "[25]\tTest-rmse:25.0596\n",
      "[26]\tTest-rmse:23.9633\n",
      "[27]\tTest-rmse:22.9281\n",
      "[28]\tTest-rmse:21.952\n",
      "[29]\tTest-rmse:21.0339\n",
      "[30]\tTest-rmse:20.1678\n",
      "[31]\tTest-rmse:19.3522\n",
      "[32]\tTest-rmse:18.5872\n",
      "[33]\tTest-rmse:17.8669\n",
      "[34]\tTest-rmse:17.1897\n",
      "[35]\tTest-rmse:16.5558\n",
      "[36]\tTest-rmse:15.9626\n",
      "[37]\tTest-rmse:15.4061\n",
      "[38]\tTest-rmse:14.886\n",
      "[39]\tTest-rmse:14.4006\n",
      "[40]\tTest-rmse:13.9469\n",
      "[41]\tTest-rmse:13.5238\n",
      "[42]\tTest-rmse:13.1314\n",
      "[43]\tTest-rmse:12.7654\n",
      "[44]\tTest-rmse:12.4262\n",
      "[45]\tTest-rmse:12.1117\n",
      "[46]\tTest-rmse:11.8218\n",
      "[47]\tTest-rmse:11.5536\n",
      "[48]\tTest-rmse:11.3046\n",
      "[49]\tTest-rmse:11.075\n",
      "[50]\tTest-rmse:10.864\n",
      "[51]\tTest-rmse:10.6693\n",
      "[52]\tTest-rmse:10.49\n",
      "[53]\tTest-rmse:10.3251\n",
      "[54]\tTest-rmse:10.1746\n",
      "[55]\tTest-rmse:10.036\n",
      "[56]\tTest-rmse:9.9078\n",
      "[57]\tTest-rmse:9.79448\n",
      "[58]\tTest-rmse:9.68852\n",
      "[59]\tTest-rmse:9.59207\n",
      "[60]\tTest-rmse:9.50252\n",
      "[61]\tTest-rmse:9.42195\n",
      "[62]\tTest-rmse:9.34996\n",
      "[63]\tTest-rmse:9.28354\n",
      "[64]\tTest-rmse:9.22276\n",
      "[65]\tTest-rmse:9.16785\n",
      "[66]\tTest-rmse:9.11712\n",
      "[67]\tTest-rmse:9.07251\n",
      "[68]\tTest-rmse:9.02951\n",
      "[69]\tTest-rmse:8.99294\n",
      "[70]\tTest-rmse:8.95919\n",
      "[71]\tTest-rmse:8.92894\n",
      "[72]\tTest-rmse:8.90125\n",
      "[73]\tTest-rmse:8.87512\n",
      "[74]\tTest-rmse:8.85171\n",
      "[75]\tTest-rmse:8.83154\n",
      "[76]\tTest-rmse:8.81295\n",
      "[77]\tTest-rmse:8.79568\n",
      "[78]\tTest-rmse:8.77848\n",
      "[79]\tTest-rmse:8.76358\n",
      "[80]\tTest-rmse:8.75091\n",
      "[81]\tTest-rmse:8.7388\n",
      "[82]\tTest-rmse:8.72801\n",
      "[83]\tTest-rmse:8.7183\n",
      "[84]\tTest-rmse:8.70906\n",
      "[85]\tTest-rmse:8.70168\n",
      "[86]\tTest-rmse:8.69297\n",
      "[87]\tTest-rmse:8.68652\n",
      "[88]\tTest-rmse:8.68023\n",
      "[89]\tTest-rmse:8.67452\n",
      "[90]\tTest-rmse:8.66919\n",
      "[91]\tTest-rmse:8.66351\n",
      "[92]\tTest-rmse:8.65926\n",
      "[93]\tTest-rmse:8.65461\n",
      "[94]\tTest-rmse:8.65158\n",
      "[95]\tTest-rmse:8.64816\n",
      "[96]\tTest-rmse:8.64568\n",
      "[97]\tTest-rmse:8.64283\n",
      "[98]\tTest-rmse:8.63997\n",
      "[99]\tTest-rmse:8.63754\n",
      "[100]\tTest-rmse:8.63426\n",
      "[101]\tTest-rmse:8.63226\n",
      "[102]\tTest-rmse:8.62898\n",
      "[103]\tTest-rmse:8.62791\n",
      "[104]\tTest-rmse:8.62574\n",
      "[105]\tTest-rmse:8.62498\n",
      "[106]\tTest-rmse:8.62362\n",
      "[107]\tTest-rmse:8.62309\n",
      "[108]\tTest-rmse:8.62214\n",
      "[109]\tTest-rmse:8.62105\n",
      "[110]\tTest-rmse:8.61915\n",
      "[111]\tTest-rmse:8.61834\n",
      "[112]\tTest-rmse:8.61651\n",
      "[113]\tTest-rmse:8.61574\n",
      "[114]\tTest-rmse:8.61425\n",
      "[115]\tTest-rmse:8.61361\n",
      "[116]\tTest-rmse:8.61217\n",
      "[117]\tTest-rmse:8.61139\n",
      "[118]\tTest-rmse:8.61055\n",
      "[119]\tTest-rmse:8.60962\n",
      "[120]\tTest-rmse:8.60853\n",
      "[121]\tTest-rmse:8.60792\n",
      "[122]\tTest-rmse:8.60756\n",
      "[123]\tTest-rmse:8.60683\n",
      "[124]\tTest-rmse:8.60546\n",
      "[125]\tTest-rmse:8.60448\n",
      "[126]\tTest-rmse:8.60417\n",
      "[127]\tTest-rmse:8.60369\n",
      "[128]\tTest-rmse:8.60364\n",
      "[129]\tTest-rmse:8.60324\n",
      "[130]\tTest-rmse:8.60173\n",
      "[131]\tTest-rmse:8.6015\n",
      "[132]\tTest-rmse:8.60066\n",
      "[133]\tTest-rmse:8.59915\n",
      "[134]\tTest-rmse:8.5989\n",
      "[135]\tTest-rmse:8.59779\n",
      "[136]\tTest-rmse:8.59803\n",
      "[137]\tTest-rmse:8.59785\n",
      "[138]\tTest-rmse:8.5976\n",
      "[139]\tTest-rmse:8.5958\n",
      "[140]\tTest-rmse:8.59419\n",
      "[141]\tTest-rmse:8.59381\n",
      "[142]\tTest-rmse:8.59317\n",
      "[143]\tTest-rmse:8.59317\n",
      "[144]\tTest-rmse:8.59305\n",
      "[145]\tTest-rmse:8.59213\n",
      "[146]\tTest-rmse:8.59162\n",
      "[147]\tTest-rmse:8.59122\n",
      "[148]\tTest-rmse:8.5912\n",
      "[149]\tTest-rmse:8.59096\n",
      "[150]\tTest-rmse:8.58998\n",
      "[151]\tTest-rmse:8.58966\n",
      "[152]\tTest-rmse:8.58934\n",
      "[153]\tTest-rmse:8.58935\n",
      "[154]\tTest-rmse:8.58902\n",
      "[155]\tTest-rmse:8.58875\n",
      "[156]\tTest-rmse:8.58821\n",
      "[157]\tTest-rmse:8.5881\n",
      "[158]\tTest-rmse:8.58813\n",
      "[159]\tTest-rmse:8.58808\n",
      "[160]\tTest-rmse:8.58765\n",
      "[161]\tTest-rmse:8.58719\n",
      "[162]\tTest-rmse:8.58693\n",
      "[163]\tTest-rmse:8.58581\n",
      "[164]\tTest-rmse:8.58528\n",
      "[165]\tTest-rmse:8.58517\n",
      "[166]\tTest-rmse:8.58528\n",
      "[167]\tTest-rmse:8.5847\n",
      "[168]\tTest-rmse:8.5846\n",
      "[169]\tTest-rmse:8.5848\n",
      "[170]\tTest-rmse:8.58472\n",
      "[171]\tTest-rmse:8.58471\n",
      "[172]\tTest-rmse:8.58449\n",
      "[173]\tTest-rmse:8.58448\n",
      "[174]\tTest-rmse:8.58427\n",
      "[175]\tTest-rmse:8.58411\n",
      "[176]\tTest-rmse:8.5841\n",
      "[177]\tTest-rmse:8.58416\n",
      "[178]\tTest-rmse:8.58394\n",
      "[179]\tTest-rmse:8.58318\n",
      "[180]\tTest-rmse:8.58315\n",
      "[181]\tTest-rmse:8.58241\n",
      "[182]\tTest-rmse:8.5826\n",
      "[183]\tTest-rmse:8.58239\n",
      "[184]\tTest-rmse:8.58221\n",
      "[185]\tTest-rmse:8.58251\n",
      "[186]\tTest-rmse:8.58253\n",
      "[187]\tTest-rmse:8.58286\n",
      "[188]\tTest-rmse:8.58264\n",
      "[189]\tTest-rmse:8.58293\n",
      "[190]\tTest-rmse:8.58264\n",
      "[191]\tTest-rmse:8.58229\n",
      "[192]\tTest-rmse:8.58205\n",
      "[193]\tTest-rmse:8.58137\n",
      "[194]\tTest-rmse:8.58122\n",
      "[195]\tTest-rmse:8.58127\n",
      "[196]\tTest-rmse:8.58054\n",
      "[197]\tTest-rmse:8.58037\n",
      "[198]\tTest-rmse:8.58042\n",
      "[199]\tTest-rmse:8.57963\n",
      "[200]\tTest-rmse:8.57945\n",
      "[201]\tTest-rmse:8.57939\n",
      "[202]\tTest-rmse:8.57891\n",
      "[203]\tTest-rmse:8.57935\n",
      "[204]\tTest-rmse:8.57933\n",
      "[205]\tTest-rmse:8.57895\n",
      "[206]\tTest-rmse:8.57898\n",
      "[207]\tTest-rmse:8.57908\n",
      "[208]\tTest-rmse:8.57882\n",
      "[209]\tTest-rmse:8.579\n",
      "[210]\tTest-rmse:8.57901\n",
      "[211]\tTest-rmse:8.57886\n",
      "[212]\tTest-rmse:8.57879\n",
      "[213]\tTest-rmse:8.57835\n",
      "[214]\tTest-rmse:8.5781\n",
      "[215]\tTest-rmse:8.57765\n",
      "[216]\tTest-rmse:8.57785\n",
      "[217]\tTest-rmse:8.57751\n",
      "[218]\tTest-rmse:8.57743\n",
      "[219]\tTest-rmse:8.57746\n",
      "[220]\tTest-rmse:8.57573\n",
      "[221]\tTest-rmse:8.57568\n",
      "[222]\tTest-rmse:8.57566\n",
      "[223]\tTest-rmse:8.57569\n",
      "[224]\tTest-rmse:8.57572\n",
      "[225]\tTest-rmse:8.57582\n",
      "[226]\tTest-rmse:8.57553\n",
      "[227]\tTest-rmse:8.57544\n",
      "[228]\tTest-rmse:8.57561\n",
      "[229]\tTest-rmse:8.57556\n",
      "[230]\tTest-rmse:8.57555\n",
      "[231]\tTest-rmse:8.57532\n",
      "[232]\tTest-rmse:8.57494\n",
      "[233]\tTest-rmse:8.57484\n"
     ]
    }
   ],
   "source": [
    "model_final = xg.train(params_final,\n",
    "                       dtrain,\n",
    "                       num_boost_round=num_boost_round,\n",
    "                       evals=[(dtest, \"Test\")])"
   ]
  },
  {
   "cell_type": "code",
   "execution_count": 179,
   "metadata": {
    "ExecuteTime": {
     "end_time": "2021-02-08T17:19:26.233802Z",
     "start_time": "2021-02-08T17:19:26.156764Z"
    }
   },
   "outputs": [
    {
     "data": {
      "text/plain": [
       "array([88.82621, 85.84186, 78.1075 , ..., 87.21129, 92.2968 , 91.62172],\n",
       "      dtype=float32)"
      ]
     },
     "execution_count": 179,
     "metadata": {},
     "output_type": "execute_result"
    }
   ],
   "source": [
    "# If we do not provide the best_ntree_limit it will use all the trees\n",
    "pred_model_f_f = model_final.predict(dtest) \n",
    "pred_model_f_f"
   ]
  },
  {
   "cell_type": "code",
   "execution_count": 180,
   "metadata": {
    "ExecuteTime": {
     "end_time": "2021-02-08T17:19:29.441347Z",
     "start_time": "2021-02-08T17:19:29.344374Z"
    }
   },
   "outputs": [
    {
     "name": "stdout",
     "output_type": "stream",
     "text": [
      "Final RMSE is 8.5748\n"
     ]
    }
   ],
   "source": [
    "# Compute RMSE\n",
    "rmse_tuned_f_f = RMSE(y_test, pred_model_f_f)\n",
    "print(\"Final RMSE is {:.4f}\".format(rmse_tuned_f_f))"
   ]
  },
  {
   "cell_type": "code",
   "execution_count": 181,
   "metadata": {
    "ExecuteTime": {
     "end_time": "2021-02-08T17:19:35.553836Z",
     "start_time": "2021-02-08T17:19:35.425730Z"
    }
   },
   "outputs": [],
   "source": [
    "model_final.save_model(\"overall_review_score_model_fina_GA_FS.model\")"
   ]
  },
  {
   "cell_type": "code",
   "execution_count": 182,
   "metadata": {
    "ExecuteTime": {
     "end_time": "2021-02-08T17:19:37.891086Z",
     "start_time": "2021-02-08T17:19:37.638535Z"
    }
   },
   "outputs": [
    {
     "name": "stdout",
     "output_type": "stream",
     "text": [
      "Change in performance -0.051318112212294764\n",
      "Change in % -0.5949130837250743\n"
     ]
    }
   ],
   "source": [
    "# The performance of the model without tunig is lower\n",
    "# We gain by tuning a 0.6% relative uplift\n",
    "print(\"Change in performance\", rmse_tuned_f_f - rmse_2)\n",
    "print(\"Change in %\", ((rmse_tuned_f_f - rmse_2) / rmse_2) * 100)"
   ]
  },
  {
   "cell_type": "code",
   "execution_count": 183,
   "metadata": {
    "ExecuteTime": {
     "end_time": "2021-02-08T17:19:40.297455Z",
     "start_time": "2021-02-08T17:19:40.085402Z"
    }
   },
   "outputs": [
    {
     "name": "stdout",
     "output_type": "stream",
     "text": [
      "Change in performance -0.6551171850462829\n",
      "Change in % -7.0977312462388555\n"
     ]
    }
   ],
   "source": [
    "# The performance of the XGB model has a 7% relative uplift w.r.t the base line \n",
    "print(\"Change in performance\", rmse_tuned_f_f - rmse_baseline)\n",
    "print(\"Change in %\", ((rmse_tuned_f_f - rmse_baseline) / rmse_baseline) * 100)"
   ]
  },
  {
   "cell_type": "markdown",
   "metadata": {
    "ExecuteTime": {
     "end_time": "2021-02-08T17:48:28.721336Z",
     "start_time": "2021-02-08T17:48:26.640204Z"
    }
   },
   "source": [
    "Getting final model featuer importance"
   ]
  },
  {
   "cell_type": "code",
   "execution_count": 187,
   "metadata": {
    "ExecuteTime": {
     "end_time": "2021-02-08T17:29:28.375315Z",
     "start_time": "2021-02-08T17:29:28.075010Z"
    }
   },
   "outputs": [],
   "source": [
    "# Instance with final parameters to get the feature feature importance \n",
    "clf_f_f = xg.XGBRegressor(objective ='reg:squarederror', \n",
    "                      max_depth=4, \n",
    "                      n_estimators=234,\n",
    "                      min_child_weight=6,\n",
    "                      subsample=1.0,\n",
    "                      colsample_bytree=1.0,\n",
    "                      learning_rate=0.1,\n",
    "                      reg_lambda=20,\n",
    "                      eval_metric='rmse',\n",
    "                      random_state=0)"
   ]
  },
  {
   "cell_type": "code",
   "execution_count": 188,
   "metadata": {
    "ExecuteTime": {
     "end_time": "2021-02-08T17:29:32.010269Z",
     "start_time": "2021-02-08T17:29:31.926509Z"
    }
   },
   "outputs": [
    {
     "data": {
      "text/plain": [
       "XGBRegressor(colsample_bytree=1.0, eval_metric='rmse', max_depth=4,\n",
       "             min_child_weight=6, n_estimators=234, objective='reg:squarederror',\n",
       "             reg_lambda=20, subsample=1.0)"
      ]
     },
     "execution_count": 188,
     "metadata": {},
     "output_type": "execute_result"
    }
   ],
   "source": [
    "# set importance type to gain rather than default 'split'\n",
    "clf_f_f.set_params(importance_type='gain')"
   ]
  },
  {
   "cell_type": "code",
   "execution_count": 191,
   "metadata": {
    "ExecuteTime": {
     "end_time": "2021-02-08T17:44:52.978437Z",
     "start_time": "2021-02-08T17:44:14.347291Z"
    }
   },
   "outputs": [
    {
     "data": {
      "text/plain": [
       "XGBRegressor(colsample_bytree=1.0, eval_metric='rmse', max_depth=4,\n",
       "             min_child_weight=6, n_estimators=234, objective='reg:squarederror',\n",
       "             reg_lambda=20, subsample=1.0)"
      ]
     },
     "execution_count": 191,
     "metadata": {},
     "output_type": "execute_result"
    }
   ],
   "source": [
    "clf_f_f.fit(X_train[list_var_GA], y_train)"
   ]
  },
  {
   "cell_type": "code",
   "execution_count": 192,
   "metadata": {
    "ExecuteTime": {
     "end_time": "2021-02-08T17:45:32.077276Z",
     "start_time": "2021-02-08T17:45:30.035311Z"
    }
   },
   "outputs": [
    {
     "data": {
      "image/png": "[encoded data removed]",
      "text/plain": [
       "<Figure size 720x1440 with 1 Axes>"
      ]
     },
     "metadata": {
      "needs_background": "light"
     },
     "output_type": "display_data"
    }
   ],
   "source": [
    "df_feat_import_f_f = fselec.feature_importance(clf_f_f, model_type='Uncalibrated', feature_list=list_var_GA)"
   ]
  },
  {
   "cell_type": "code",
   "execution_count": 193,
   "metadata": {
    "ExecuteTime": {
     "end_time": "2021-02-08T17:45:41.285132Z",
     "start_time": "2021-02-08T17:45:41.196789Z"
    }
   },
   "outputs": [
    {
     "data": {
      "text/html": [
       "<div>\n",
       "<style scoped>\n",
       "    .dataframe tbody tr th:only-of-type {\n",
       "        vertical-align: middle;\n",
       "    }\n",
       "\n",
       "    .dataframe tbody tr th {\n",
       "        vertical-align: top;\n",
       "    }\n",
       "\n",
       "    .dataframe thead th {\n",
       "        text-align: right;\n",
       "    }\n",
       "</style>\n",
       "<table border=\"1\" class=\"dataframe\">\n",
       "  <thead>\n",
       "    <tr style=\"text-align: right;\">\n",
       "      <th></th>\n",
       "      <th>Feature_importance%</th>\n",
       "    </tr>\n",
       "  </thead>\n",
       "  <tbody>\n",
       "    <tr>\n",
       "      <th>host_is_superhost</th>\n",
       "      <td>22.950920</td>\n",
       "    </tr>\n",
       "    <tr>\n",
       "      <th>instant_bookable</th>\n",
       "      <td>13.276325</td>\n",
       "    </tr>\n",
       "    <tr>\n",
       "      <th>availability_90</th>\n",
       "      <td>7.056178</td>\n",
       "    </tr>\n",
       "    <tr>\n",
       "      <th>availability_60</th>\n",
       "      <td>5.736556</td>\n",
       "    </tr>\n",
       "    <tr>\n",
       "      <th>host_response_rate</th>\n",
       "      <td>5.422876</td>\n",
       "    </tr>\n",
       "    <tr>\n",
       "      <th>number_of_reviews</th>\n",
       "      <td>5.005566</td>\n",
       "    </tr>\n",
       "    <tr>\n",
       "      <th>host_acceptance_rate</th>\n",
       "      <td>4.782241</td>\n",
       "    </tr>\n",
       "    <tr>\n",
       "      <th>host_number_verifications</th>\n",
       "      <td>4.637665</td>\n",
       "    </tr>\n",
       "    <tr>\n",
       "      <th>reviews_per_month</th>\n",
       "      <td>4.319179</td>\n",
       "    </tr>\n",
       "    <tr>\n",
       "      <th>neighborhood_overview_pca_x</th>\n",
       "      <td>3.730767</td>\n",
       "    </tr>\n",
       "    <tr>\n",
       "      <th>bedrooms</th>\n",
       "      <td>3.445701</td>\n",
       "    </tr>\n",
       "    <tr>\n",
       "      <th>has_availability</th>\n",
       "      <td>3.296118</td>\n",
       "    </tr>\n",
       "    <tr>\n",
       "      <th>months_as_host</th>\n",
       "      <td>3.001118</td>\n",
       "    </tr>\n",
       "    <tr>\n",
       "      <th>months_since_first_reviews</th>\n",
       "      <td>2.891196</td>\n",
       "    </tr>\n",
       "    <tr>\n",
       "      <th>latitude</th>\n",
       "      <td>2.623170</td>\n",
       "    </tr>\n",
       "    <tr>\n",
       "      <th>predicted_price_log_01_GA</th>\n",
       "      <td>2.412449</td>\n",
       "    </tr>\n",
       "    <tr>\n",
       "      <th>desccription_pca_y</th>\n",
       "      <td>2.084501</td>\n",
       "    </tr>\n",
       "    <tr>\n",
       "      <th>desccription_pca_x</th>\n",
       "      <td>1.859632</td>\n",
       "    </tr>\n",
       "    <tr>\n",
       "      <th>neighborhood_overview_pca_y</th>\n",
       "      <td>1.467847</td>\n",
       "    </tr>\n",
       "  </tbody>\n",
       "</table>\n",
       "</div>"
      ],
      "text/plain": [
       "                             Feature_importance%\n",
       "host_is_superhost                      22.950920\n",
       "instant_bookable                       13.276325\n",
       "availability_90                         7.056178\n",
       "availability_60                         5.736556\n",
       "host_response_rate                      5.422876\n",
       "number_of_reviews                       5.005566\n",
       "host_acceptance_rate                    4.782241\n",
       "host_number_verifications               4.637665\n",
       "reviews_per_month                       4.319179\n",
       "neighborhood_overview_pca_x             3.730767\n",
       "bedrooms                                3.445701\n",
       "has_availability                        3.296118\n",
       "months_as_host                          3.001118\n",
       "months_since_first_reviews              2.891196\n",
       "latitude                                2.623170\n",
       "predicted_price_log_01_GA               2.412449\n",
       "desccription_pca_y                      2.084501\n",
       "desccription_pca_x                      1.859632\n",
       "neighborhood_overview_pca_y             1.467847"
      ]
     },
     "execution_count": 193,
     "metadata": {},
     "output_type": "execute_result"
    }
   ],
   "source": [
    "df_feat_import_f_f"
   ]
  },
  {
   "cell_type": "markdown",
   "metadata": {},
   "source": [
    "# Prediction price for th whole data set"
   ]
  },
  {
   "cell_type": "code",
   "execution_count": 112,
   "metadata": {
    "ExecuteTime": {
     "end_time": "2021-02-06T20:35:51.752438Z",
     "start_time": "2021-02-06T20:35:51.393004Z"
    }
   },
   "outputs": [],
   "source": [
    "# Predict all the preices in the data set\n",
    "all_data = xg.DMatrix(df[list_var_GA])"
   ]
  },
  {
   "cell_type": "code",
   "execution_count": 113,
   "metadata": {
    "ExecuteTime": {
     "end_time": "2021-02-06T20:35:54.533342Z",
     "start_time": "2021-02-06T20:35:53.685202Z"
    }
   },
   "outputs": [],
   "source": [
    "pred_model_all = model_final.predict(all_data) "
   ]
  },
  {
   "cell_type": "code",
   "execution_count": 114,
   "metadata": {
    "ExecuteTime": {
     "end_time": "2021-02-06T20:35:59.530222Z",
     "start_time": "2021-02-06T20:35:55.817469Z"
    }
   },
   "outputs": [],
   "source": [
    "# Price is in log scale so we need to convert it back\n",
    "df_c = df.copy()"
   ]
  },
  {
   "cell_type": "code",
   "execution_count": 115,
   "metadata": {
    "ExecuteTime": {
     "end_time": "2021-02-06T20:36:28.056781Z",
     "start_time": "2021-02-06T20:36:27.939572Z"
    }
   },
   "outputs": [],
   "source": [
    "df_c['predicted_overall_review_value'] = pred_model_all"
   ]
  },
  {
   "cell_type": "code",
   "execution_count": 120,
   "metadata": {
    "ExecuteTime": {
     "end_time": "2021-02-06T20:40:29.010599Z",
     "start_time": "2021-02-06T20:40:28.776374Z"
    }
   },
   "outputs": [
    {
     "data": {
      "text/html": [
       "<div>\n",
       "<style scoped>\n",
       "    .dataframe tbody tr th:only-of-type {\n",
       "        vertical-align: middle;\n",
       "    }\n",
       "\n",
       "    .dataframe tbody tr th {\n",
       "        vertical-align: top;\n",
       "    }\n",
       "\n",
       "    .dataframe thead th {\n",
       "        text-align: right;\n",
       "    }\n",
       "</style>\n",
       "<table border=\"1\" class=\"dataframe\">\n",
       "  <thead>\n",
       "    <tr style=\"text-align: right;\">\n",
       "      <th></th>\n",
       "      <th>overall_review_value</th>\n",
       "      <th>predicted_overall_review_value</th>\n",
       "    </tr>\n",
       "  </thead>\n",
       "  <tbody>\n",
       "    <tr>\n",
       "      <th>count</th>\n",
       "      <td>52534.000000</td>\n",
       "      <td>52534.000000</td>\n",
       "    </tr>\n",
       "    <tr>\n",
       "      <th>mean</th>\n",
       "      <td>89.584568</td>\n",
       "      <td>89.618629</td>\n",
       "    </tr>\n",
       "    <tr>\n",
       "      <th>std</th>\n",
       "      <td>9.001203</td>\n",
       "      <td>3.216149</td>\n",
       "    </tr>\n",
       "    <tr>\n",
       "      <th>min</th>\n",
       "      <td>2.000000</td>\n",
       "      <td>56.790398</td>\n",
       "    </tr>\n",
       "    <tr>\n",
       "      <th>25%</th>\n",
       "      <td>87.900000</td>\n",
       "      <td>88.125374</td>\n",
       "    </tr>\n",
       "    <tr>\n",
       "      <th>50%</th>\n",
       "      <td>92.000000</td>\n",
       "      <td>90.054092</td>\n",
       "    </tr>\n",
       "    <tr>\n",
       "      <th>75%</th>\n",
       "      <td>94.900000</td>\n",
       "      <td>91.692818</td>\n",
       "    </tr>\n",
       "    <tr>\n",
       "      <th>max</th>\n",
       "      <td>95.000000</td>\n",
       "      <td>95.774910</td>\n",
       "    </tr>\n",
       "    <tr>\n",
       "      <th>median</th>\n",
       "      <td>92.000000</td>\n",
       "      <td>90.054092</td>\n",
       "    </tr>\n",
       "    <tr>\n",
       "      <th>skew</th>\n",
       "      <td>-4.363099</td>\n",
       "      <td>-1.603783</td>\n",
       "    </tr>\n",
       "    <tr>\n",
       "      <th>kurt</th>\n",
       "      <td>26.438822</td>\n",
       "      <td>6.136485</td>\n",
       "    </tr>\n",
       "  </tbody>\n",
       "</table>\n",
       "</div>"
      ],
      "text/plain": [
       "        overall_review_value  predicted_overall_review_value\n",
       "count           52534.000000                    52534.000000\n",
       "mean               89.584568                       89.618629\n",
       "std                 9.001203                        3.216149\n",
       "min                 2.000000                       56.790398\n",
       "25%                87.900000                       88.125374\n",
       "50%                92.000000                       90.054092\n",
       "75%                94.900000                       91.692818\n",
       "max                95.000000                       95.774910\n",
       "median             92.000000                       90.054092\n",
       "skew               -4.363099                       -1.603783\n",
       "kurt               26.438822                        6.136485"
      ]
     },
     "execution_count": 120,
     "metadata": {},
     "output_type": "execute_result"
    }
   ],
   "source": [
    "mtool.stats_summary(df_c[['overall_review_value', 'predicted_overall_review_value']]).T"
   ]
  },
  {
   "cell_type": "code",
   "execution_count": 118,
   "metadata": {
    "ExecuteTime": {
     "end_time": "2021-02-06T20:37:26.955931Z",
     "start_time": "2021-02-06T20:37:21.625689Z"
    }
   },
   "outputs": [
    {
     "data": {
      "image/png": "[encoded data removed]",
      "text/plain": [
       "<Figure size 720x576 with 1 Axes>"
      ]
     },
     "metadata": {
      "needs_background": "light"
     },
     "output_type": "display_data"
    }
   ],
   "source": [
    "fig, ax = plt.subplots(figsize=(10,8))\n",
    "mtool.plotting_one_kde(df_c, 'predicted_overall_review_value', ax=ax, color='g')\n",
    "mtool.plotting_one_kde(df_c, 'overall_review_value', ax=ax, color='b')\n",
    "None"
   ]
  },
  {
   "cell_type": "markdown",
   "metadata": {},
   "source": [
    "* The *predicted_overall_review_value* is less skewed and with a smaller kurtosis (smaller pick) than the *overall_review_value*. The dispersio of the predicted review score also is smaller."
   ]
  },
  {
   "cell_type": "code",
   "execution_count": 121,
   "metadata": {
    "ExecuteTime": {
     "end_time": "2021-02-06T20:44:42.103795Z",
     "start_time": "2021-02-06T20:44:38.714484Z"
    }
   },
   "outputs": [],
   "source": [
    "# df_c.to_pickle(os.path.join(path_input, 'extended_data_set_pred_model_02_GA_FS.pick'))"
   ]
  },
  {
   "cell_type": "code",
   "execution_count": null,
   "metadata": {},
   "outputs": [],
   "source": []
  }
 ],
 "metadata": {
  "kernelspec": {
   "display_name": "py37playc",
   "language": "python",
   "name": "py37playc"
  },
  "language_info": {
   "codemirror_mode": {
    "name": "ipython",
    "version": 3
   },
   "file_extension": ".py",
   "mimetype": "text/x-python",
   "name": "python",
   "nbconvert_exporter": "python",
   "pygments_lexer": "ipython3",
   "version": "3.7.1"
  },
  "latex_envs": {
   "LaTeX_envs_menu_present": true,
   "autoclose": false,
   "autocomplete": true,
   "bibliofile": "biblio.bib",
   "cite_by": "apalike",
   "current_citInitial": 1,
   "eqLabelWithNumbers": true,
   "eqNumInitial": 1,
   "hotkeys": {
    "equation": "Ctrl-E",
    "itemize": "Ctrl-I"
   },
   "labels_anchors": false,
   "latex_user_defs": false,
   "report_style_numbering": false,
   "user_envs_cfg": false
  },
  "toc": {
   "base_numbering": 1,
   "nav_menu": {},
   "number_sections": true,
   "sideBar": true,
   "skip_h1_title": false,
   "title_cell": "Table of Contents",
   "title_sidebar": "Contents",
   "toc_cell": false,
   "toc_position": {
    "height": "calc(100% - 180px)",
    "left": "10px",
    "top": "150px",
    "width": "313.391px"
   },
   "toc_section_display": true,
   "toc_window_display": true
  },
  "varInspector": {
   "cols": {
    "lenName": 16,
    "lenType": 16,
    "lenVar": 40
   },
   "kernels_config": {
    "python": {
     "delete_cmd_postfix": "",
     "delete_cmd_prefix": "del ",
     "library": "var_list.py",
     "varRefreshCmd": "print(var_dic_list())"
    },
    "r": {
     "delete_cmd_postfix": ") ",
     "delete_cmd_prefix": "rm(",
     "library": "var_list.r",
     "varRefreshCmd": "cat(var_dic_list()) "
    }
   },
   "types_to_exclude": [
    "module",
    "function",
    "builtin_function_or_method",
    "instance",
    "_Feature"
   ],
   "window_display": false
  }
 },
 "nbformat": 4,
 "nbformat_minor": 2
}
