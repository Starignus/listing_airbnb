{
 "cells": [
  {
   "attachments": {},
   "cell_type": "markdown",
   "metadata": {},
   "source": [
    "# Model 1: Modelling first listing Price\n",
    "\n",
    "\n",
    "This Notebook contains the modeling of the pricing model for the first Airbnb listing.  It contains the next structure:\n",
    "\n",
    "* Uploaded Libraries, data set, variable declaration, and data split.\n",
    "* Feature selection results (the GA rounds are in the notebook ```01_Genetic_algorithm_Airbnb_Model_1```)\n",
    "* Training and Tuning process.\n",
    "* Final model.\n",
    "* Saving predictions for whole data set."
   ]
  },
  {
   "cell_type": "markdown",
   "metadata": {},
   "source": [
    "## Libraries"
   ]
  },
  {
   "cell_type": "code",
   "execution_count": 35,
   "metadata": {
    "ExecuteTime": {
     "end_time": "2021-02-07T20:51:11.230081Z",
     "start_time": "2021-02-07T20:51:08.639592Z"
    }
   },
   "outputs": [],
   "source": [
    "%reload_ext autoreload\n",
    "%autoreload 2\n",
    "\n",
    "# visualisation and data manipulation\n",
    "import pandas as pd\n",
    "import numpy as np\n",
    "import matplotlib.pyplot as plt\n",
    "import seaborn as sns\n",
    "%matplotlib inline\n",
    "pd.set_option('display.max_columns', 200)\n",
    "\n",
    "\n",
    "# system and files managment\n",
    "import os\n",
    "import sys\n",
    "import pickle\n",
    "import ast\n",
    "import collections\n",
    "\n",
    "# model splits\n",
    "from sklearn.model_selection import train_test_split\n",
    "from sklearn.metrics import mean_squared_error as MSE\n",
    "\n",
    "# model\n",
    "import xgboost as xg\n",
    "\n",
    "import warnings\n",
    "warnings.filterwarnings('ignore')"
   ]
  },
  {
   "cell_type": "code",
   "execution_count": 36,
   "metadata": {
    "ExecuteTime": {
     "end_time": "2021-02-07T20:51:14.214059Z",
     "start_time": "2021-02-07T20:51:14.023924Z"
    }
   },
   "outputs": [],
   "source": [
    "# modules added to system path\n",
    "path_tools = os.path.abspath(r'/Users/starignus/Documents/Programing/Practise_jobexam/FDA/Airbnb')\n",
    "sys.path.extend([path_tools])"
   ]
  },
  {
   "cell_type": "code",
   "execution_count": 37,
   "metadata": {
    "ExecuteTime": {
     "end_time": "2021-02-07T20:51:15.110066Z",
     "start_time": "2021-02-07T20:51:14.933514Z"
    }
   },
   "outputs": [],
   "source": [
    "# exploring tools module\n",
    "import tools.exploring_tools as mtool \n",
    "import tools.feature_selection as fselec\n",
    "import tools.model_selection as mselec"
   ]
  },
  {
   "cell_type": "markdown",
   "metadata": {},
   "source": [
    "## Paths"
   ]
  },
  {
   "cell_type": "code",
   "execution_count": 38,
   "metadata": {
    "ExecuteTime": {
     "end_time": "2021-02-07T20:51:16.205395Z",
     "start_time": "2021-02-07T20:51:16.015095Z"
    }
   },
   "outputs": [],
   "source": [
    "path_project = r'/Users/starignus/Documents/Programing/Practise_jobexam/FDA/'\n",
    "path_input = os.path.join(path_project, 'Data', 'inputs')\n",
    "path_ouput = os.path.join(path_project, 'Data', 'outputs')\n",
    "listings = os.path.join(path_input, 'listings.csv')\n",
    "data_set = os.path.join(path_input, 'extended_data_set.pickle')"
   ]
  },
  {
   "cell_type": "markdown",
   "metadata": {},
   "source": [
    "## Upload Data"
   ]
  },
  {
   "cell_type": "code",
   "execution_count": 39,
   "metadata": {
    "ExecuteTime": {
     "end_time": "2021-02-07T20:51:26.917500Z",
     "start_time": "2021-02-07T20:51:16.983676Z"
    }
   },
   "outputs": [],
   "source": [
    "df = pd.read_pickle(data_set)"
   ]
  },
  {
   "attachments": {},
   "cell_type": "markdown",
   "metadata": {},
   "source": [
    "## Variables list\n",
    "The  model is using features just related to the property, the location, and amenities (top 42)."
   ]
  },
  {
   "cell_type": "code",
   "execution_count": 40,
   "metadata": {
    "ExecuteTime": {
     "end_time": "2021-02-07T20:51:28.023305Z",
     "start_time": "2021-02-07T20:51:27.860941Z"
    }
   },
   "outputs": [],
   "source": [
    "var_set_1 = [\n",
    "'price_log',\n",
    "'latitude',\n",
    "'longitude',\n",
    "'accommodates',\n",
    "'bedrooms',\n",
    "'beds',\n",
    "'minimum_nights',\n",
    "'maximum_nights',\n",
    "'minimum_minimum_nights',\n",
    "'maximum_minimum_nights',\n",
    "'minimum_maximum_nights',\n",
    "'maximum_maximum_nights',\n",
    "'minimum_nights_avg_ntm',\n",
    "'maximum_nights_avg_ntm',\n",
    "'has_availability',\n",
    "'availability_30',\n",
    "'availability_60',\n",
    "'availability_90',\n",
    "'availability_365',\n",
    "'bathrooms',\n",
    "'bathrooms_shared',\n",
    "'number_amenities',\n",
    "'room_type_num']\n",
    "\n",
    "var_amenties = ['wifi',\n",
    "'heating',\n",
    "'essentials',\n",
    "'kitchen',\n",
    "'smoke_alarm',\n",
    "'washer',\n",
    "'hangers',\n",
    "'iron',\n",
    "'tv',\n",
    "'hair_dryer',\n",
    "'shampoo',\n",
    "'dedicated_workspace',\n",
    "'carbon_monoxide_alarm',\n",
    "'hot_water',\n",
    "'dryer',\n",
    "'refrigerator',\n",
    "'dishes_and_silverware',\n",
    "'cooking_basics',\n",
    "'oven',\n",
    "'bed_linens',\n",
    "'microwave',\n",
    "'stove',\n",
    "'fire_extinguisher',\n",
    "'first_aid_kit',\n",
    "'private_entrance',\n",
    "'dishwasher',\n",
    "'coffee_maker',\n",
    "'long_term_stays_allowed',\n",
    "'elevator',\n",
    "'free_parking_on_premises',\n",
    "'extra_pillows_and_blankets',\n",
    "'lock_on_bedroom_door',\n",
    "'host_greets_you',\n",
    "'cable_tv',\n",
    "'luggage_dropoff_allowed',\n",
    "'patio_or_balcony',\n",
    "'garden_or_backyard',\n",
    "'breakfast',\n",
    "'paid_parking_off_premises',\n",
    "'lockbox',\n",
    "'free_street_parking',\n",
    "'bathtub']"
   ]
  },
  {
   "cell_type": "markdown",
   "metadata": {
    "ExecuteTime": {
     "end_time": "2021-02-01T22:03:37.527447Z",
     "start_time": "2021-02-01T22:03:37.166366Z"
    }
   },
   "source": [
    "## split data set "
   ]
  },
  {
   "cell_type": "code",
   "execution_count": 41,
   "metadata": {
    "ExecuteTime": {
     "end_time": "2021-02-07T20:51:28.951840Z",
     "start_time": "2021-02-07T20:51:28.594437Z"
    }
   },
   "outputs": [],
   "source": [
    "y = df['price_log'].values"
   ]
  },
  {
   "cell_type": "code",
   "execution_count": 42,
   "metadata": {
    "ExecuteTime": {
     "end_time": "2021-02-07T20:51:30.531001Z",
     "start_time": "2021-02-07T20:51:29.789517Z"
    }
   },
   "outputs": [],
   "source": [
    "X = df[var_set_1[1:] + var_amenties].copy()"
   ]
  },
  {
   "cell_type": "code",
   "execution_count": 43,
   "metadata": {
    "ExecuteTime": {
     "end_time": "2021-02-07T20:51:31.628226Z",
     "start_time": "2021-02-07T20:51:31.108316Z"
    }
   },
   "outputs": [
    {
     "data": {
      "text/html": [
       "<div>\n",
       "<style scoped>\n",
       "    .dataframe tbody tr th:only-of-type {\n",
       "        vertical-align: middle;\n",
       "    }\n",
       "\n",
       "    .dataframe tbody tr th {\n",
       "        vertical-align: top;\n",
       "    }\n",
       "\n",
       "    .dataframe thead th {\n",
       "        text-align: right;\n",
       "    }\n",
       "</style>\n",
       "<table border=\"1\" class=\"dataframe\">\n",
       "  <thead>\n",
       "    <tr style=\"text-align: right;\">\n",
       "      <th></th>\n",
       "      <th>latitude</th>\n",
       "      <th>longitude</th>\n",
       "      <th>accommodates</th>\n",
       "      <th>bedrooms</th>\n",
       "      <th>beds</th>\n",
       "      <th>minimum_nights</th>\n",
       "      <th>maximum_nights</th>\n",
       "      <th>minimum_minimum_nights</th>\n",
       "      <th>maximum_minimum_nights</th>\n",
       "      <th>minimum_maximum_nights</th>\n",
       "      <th>maximum_maximum_nights</th>\n",
       "      <th>minimum_nights_avg_ntm</th>\n",
       "      <th>maximum_nights_avg_ntm</th>\n",
       "      <th>has_availability</th>\n",
       "      <th>availability_30</th>\n",
       "      <th>availability_60</th>\n",
       "      <th>availability_90</th>\n",
       "      <th>availability_365</th>\n",
       "      <th>bathrooms</th>\n",
       "      <th>bathrooms_shared</th>\n",
       "      <th>number_amenities</th>\n",
       "      <th>room_type_num</th>\n",
       "      <th>wifi</th>\n",
       "      <th>heating</th>\n",
       "      <th>essentials</th>\n",
       "      <th>kitchen</th>\n",
       "      <th>smoke_alarm</th>\n",
       "      <th>washer</th>\n",
       "      <th>hangers</th>\n",
       "      <th>iron</th>\n",
       "      <th>tv</th>\n",
       "      <th>hair_dryer</th>\n",
       "      <th>shampoo</th>\n",
       "      <th>dedicated_workspace</th>\n",
       "      <th>carbon_monoxide_alarm</th>\n",
       "      <th>hot_water</th>\n",
       "      <th>dryer</th>\n",
       "      <th>refrigerator</th>\n",
       "      <th>dishes_and_silverware</th>\n",
       "      <th>cooking_basics</th>\n",
       "      <th>oven</th>\n",
       "      <th>bed_linens</th>\n",
       "      <th>microwave</th>\n",
       "      <th>stove</th>\n",
       "      <th>fire_extinguisher</th>\n",
       "      <th>first_aid_kit</th>\n",
       "      <th>private_entrance</th>\n",
       "      <th>dishwasher</th>\n",
       "      <th>coffee_maker</th>\n",
       "      <th>long_term_stays_allowed</th>\n",
       "      <th>elevator</th>\n",
       "      <th>free_parking_on_premises</th>\n",
       "      <th>extra_pillows_and_blankets</th>\n",
       "      <th>lock_on_bedroom_door</th>\n",
       "      <th>host_greets_you</th>\n",
       "      <th>cable_tv</th>\n",
       "      <th>luggage_dropoff_allowed</th>\n",
       "      <th>patio_or_balcony</th>\n",
       "      <th>garden_or_backyard</th>\n",
       "      <th>breakfast</th>\n",
       "      <th>paid_parking_off_premises</th>\n",
       "      <th>lockbox</th>\n",
       "      <th>free_street_parking</th>\n",
       "      <th>bathtub</th>\n",
       "    </tr>\n",
       "  </thead>\n",
       "  <tbody>\n",
       "    <tr>\n",
       "      <th>0</th>\n",
       "      <td>51.46225</td>\n",
       "      <td>-0.11732</td>\n",
       "      <td>4</td>\n",
       "      <td>1.0</td>\n",
       "      <td>3.0</td>\n",
       "      <td>2</td>\n",
       "      <td>1125</td>\n",
       "      <td>2.0</td>\n",
       "      <td>2.0</td>\n",
       "      <td>1125.0</td>\n",
       "      <td>1125.0</td>\n",
       "      <td>2.0</td>\n",
       "      <td>1125.0</td>\n",
       "      <td>1.0</td>\n",
       "      <td>3</td>\n",
       "      <td>33</td>\n",
       "      <td>63</td>\n",
       "      <td>338</td>\n",
       "      <td>1.0</td>\n",
       "      <td>0.0</td>\n",
       "      <td>28</td>\n",
       "      <td>1</td>\n",
       "      <td>1.0</td>\n",
       "      <td>1.0</td>\n",
       "      <td>1.0</td>\n",
       "      <td>1.0</td>\n",
       "      <td>1.0</td>\n",
       "      <td>1.0</td>\n",
       "      <td>1.0</td>\n",
       "      <td>1.0</td>\n",
       "      <td>1.0</td>\n",
       "      <td>1.0</td>\n",
       "      <td>0.0</td>\n",
       "      <td>1.0</td>\n",
       "      <td>1.0</td>\n",
       "      <td>1.0</td>\n",
       "      <td>0.0</td>\n",
       "      <td>1.0</td>\n",
       "      <td>1.0</td>\n",
       "      <td>1.0</td>\n",
       "      <td>1.0</td>\n",
       "      <td>0.0</td>\n",
       "      <td>1.0</td>\n",
       "      <td>1.0</td>\n",
       "      <td>1.0</td>\n",
       "      <td>0.0</td>\n",
       "      <td>0.0</td>\n",
       "      <td>0.0</td>\n",
       "      <td>1.0</td>\n",
       "      <td>1.0</td>\n",
       "      <td>0.0</td>\n",
       "      <td>0.0</td>\n",
       "      <td>0.0</td>\n",
       "      <td>0.0</td>\n",
       "      <td>0.0</td>\n",
       "      <td>1.0</td>\n",
       "      <td>0.0</td>\n",
       "      <td>0.0</td>\n",
       "      <td>0.0</td>\n",
       "      <td>0.0</td>\n",
       "      <td>1.0</td>\n",
       "      <td>1.0</td>\n",
       "      <td>0.0</td>\n",
       "      <td>0.0</td>\n",
       "    </tr>\n",
       "    <tr>\n",
       "      <th>1</th>\n",
       "      <td>51.56802</td>\n",
       "      <td>-0.11121</td>\n",
       "      <td>2</td>\n",
       "      <td>1.0</td>\n",
       "      <td>0.0</td>\n",
       "      <td>1</td>\n",
       "      <td>29</td>\n",
       "      <td>1.0</td>\n",
       "      <td>1.0</td>\n",
       "      <td>29.0</td>\n",
       "      <td>29.0</td>\n",
       "      <td>1.0</td>\n",
       "      <td>29.0</td>\n",
       "      <td>1.0</td>\n",
       "      <td>30</td>\n",
       "      <td>60</td>\n",
       "      <td>90</td>\n",
       "      <td>365</td>\n",
       "      <td>1.0</td>\n",
       "      <td>1.0</td>\n",
       "      <td>41</td>\n",
       "      <td>2</td>\n",
       "      <td>1.0</td>\n",
       "      <td>1.0</td>\n",
       "      <td>1.0</td>\n",
       "      <td>1.0</td>\n",
       "      <td>1.0</td>\n",
       "      <td>1.0</td>\n",
       "      <td>1.0</td>\n",
       "      <td>1.0</td>\n",
       "      <td>1.0</td>\n",
       "      <td>1.0</td>\n",
       "      <td>1.0</td>\n",
       "      <td>1.0</td>\n",
       "      <td>1.0</td>\n",
       "      <td>1.0</td>\n",
       "      <td>1.0</td>\n",
       "      <td>1.0</td>\n",
       "      <td>1.0</td>\n",
       "      <td>1.0</td>\n",
       "      <td>1.0</td>\n",
       "      <td>1.0</td>\n",
       "      <td>0.0</td>\n",
       "      <td>1.0</td>\n",
       "      <td>1.0</td>\n",
       "      <td>0.0</td>\n",
       "      <td>0.0</td>\n",
       "      <td>0.0</td>\n",
       "      <td>1.0</td>\n",
       "      <td>1.0</td>\n",
       "      <td>0.0</td>\n",
       "      <td>0.0</td>\n",
       "      <td>1.0</td>\n",
       "      <td>1.0</td>\n",
       "      <td>1.0</td>\n",
       "      <td>1.0</td>\n",
       "      <td>1.0</td>\n",
       "      <td>1.0</td>\n",
       "      <td>0.0</td>\n",
       "      <td>0.0</td>\n",
       "      <td>1.0</td>\n",
       "      <td>0.0</td>\n",
       "      <td>1.0</td>\n",
       "      <td>1.0</td>\n",
       "    </tr>\n",
       "    <tr>\n",
       "      <th>2</th>\n",
       "      <td>51.48796</td>\n",
       "      <td>-0.16898</td>\n",
       "      <td>2</td>\n",
       "      <td>1.0</td>\n",
       "      <td>1.0</td>\n",
       "      <td>10</td>\n",
       "      <td>50</td>\n",
       "      <td>10.0</td>\n",
       "      <td>10.0</td>\n",
       "      <td>50.0</td>\n",
       "      <td>50.0</td>\n",
       "      <td>10.0</td>\n",
       "      <td>50.0</td>\n",
       "      <td>1.0</td>\n",
       "      <td>29</td>\n",
       "      <td>59</td>\n",
       "      <td>62</td>\n",
       "      <td>189</td>\n",
       "      <td>1.0</td>\n",
       "      <td>0.0</td>\n",
       "      <td>24</td>\n",
       "      <td>1</td>\n",
       "      <td>1.0</td>\n",
       "      <td>1.0</td>\n",
       "      <td>1.0</td>\n",
       "      <td>1.0</td>\n",
       "      <td>1.0</td>\n",
       "      <td>1.0</td>\n",
       "      <td>1.0</td>\n",
       "      <td>1.0</td>\n",
       "      <td>1.0</td>\n",
       "      <td>1.0</td>\n",
       "      <td>1.0</td>\n",
       "      <td>1.0</td>\n",
       "      <td>0.0</td>\n",
       "      <td>1.0</td>\n",
       "      <td>1.0</td>\n",
       "      <td>1.0</td>\n",
       "      <td>1.0</td>\n",
       "      <td>1.0</td>\n",
       "      <td>0.0</td>\n",
       "      <td>0.0</td>\n",
       "      <td>1.0</td>\n",
       "      <td>0.0</td>\n",
       "      <td>1.0</td>\n",
       "      <td>0.0</td>\n",
       "      <td>0.0</td>\n",
       "      <td>0.0</td>\n",
       "      <td>1.0</td>\n",
       "      <td>1.0</td>\n",
       "      <td>0.0</td>\n",
       "      <td>0.0</td>\n",
       "      <td>0.0</td>\n",
       "      <td>0.0</td>\n",
       "      <td>0.0</td>\n",
       "      <td>1.0</td>\n",
       "      <td>1.0</td>\n",
       "      <td>0.0</td>\n",
       "      <td>0.0</td>\n",
       "      <td>0.0</td>\n",
       "      <td>0.0</td>\n",
       "      <td>0.0</td>\n",
       "      <td>0.0</td>\n",
       "      <td>0.0</td>\n",
       "    </tr>\n",
       "    <tr>\n",
       "      <th>3</th>\n",
       "      <td>51.52195</td>\n",
       "      <td>-0.14094</td>\n",
       "      <td>6</td>\n",
       "      <td>3.0</td>\n",
       "      <td>3.0</td>\n",
       "      <td>4</td>\n",
       "      <td>365</td>\n",
       "      <td>4.0</td>\n",
       "      <td>4.0</td>\n",
       "      <td>365.0</td>\n",
       "      <td>365.0</td>\n",
       "      <td>4.0</td>\n",
       "      <td>365.0</td>\n",
       "      <td>1.0</td>\n",
       "      <td>16</td>\n",
       "      <td>16</td>\n",
       "      <td>16</td>\n",
       "      <td>231</td>\n",
       "      <td>2.0</td>\n",
       "      <td>0.0</td>\n",
       "      <td>27</td>\n",
       "      <td>1</td>\n",
       "      <td>1.0</td>\n",
       "      <td>1.0</td>\n",
       "      <td>1.0</td>\n",
       "      <td>1.0</td>\n",
       "      <td>1.0</td>\n",
       "      <td>1.0</td>\n",
       "      <td>1.0</td>\n",
       "      <td>1.0</td>\n",
       "      <td>1.0</td>\n",
       "      <td>1.0</td>\n",
       "      <td>1.0</td>\n",
       "      <td>1.0</td>\n",
       "      <td>0.0</td>\n",
       "      <td>1.0</td>\n",
       "      <td>1.0</td>\n",
       "      <td>1.0</td>\n",
       "      <td>1.0</td>\n",
       "      <td>1.0</td>\n",
       "      <td>1.0</td>\n",
       "      <td>1.0</td>\n",
       "      <td>1.0</td>\n",
       "      <td>1.0</td>\n",
       "      <td>0.0</td>\n",
       "      <td>0.0</td>\n",
       "      <td>0.0</td>\n",
       "      <td>1.0</td>\n",
       "      <td>1.0</td>\n",
       "      <td>1.0</td>\n",
       "      <td>1.0</td>\n",
       "      <td>0.0</td>\n",
       "      <td>0.0</td>\n",
       "      <td>0.0</td>\n",
       "      <td>0.0</td>\n",
       "      <td>0.0</td>\n",
       "      <td>0.0</td>\n",
       "      <td>0.0</td>\n",
       "      <td>0.0</td>\n",
       "      <td>0.0</td>\n",
       "      <td>1.0</td>\n",
       "      <td>1.0</td>\n",
       "      <td>0.0</td>\n",
       "      <td>0.0</td>\n",
       "    </tr>\n",
       "    <tr>\n",
       "      <th>4</th>\n",
       "      <td>51.47935</td>\n",
       "      <td>-0.19743</td>\n",
       "      <td>2</td>\n",
       "      <td>1.0</td>\n",
       "      <td>1.0</td>\n",
       "      <td>3</td>\n",
       "      <td>21</td>\n",
       "      <td>3.0</td>\n",
       "      <td>3.0</td>\n",
       "      <td>21.0</td>\n",
       "      <td>21.0</td>\n",
       "      <td>3.0</td>\n",
       "      <td>21.0</td>\n",
       "      <td>1.0</td>\n",
       "      <td>29</td>\n",
       "      <td>59</td>\n",
       "      <td>89</td>\n",
       "      <td>364</td>\n",
       "      <td>1.0</td>\n",
       "      <td>0.0</td>\n",
       "      <td>16</td>\n",
       "      <td>2</td>\n",
       "      <td>1.0</td>\n",
       "      <td>1.0</td>\n",
       "      <td>1.0</td>\n",
       "      <td>0.0</td>\n",
       "      <td>1.0</td>\n",
       "      <td>0.0</td>\n",
       "      <td>1.0</td>\n",
       "      <td>1.0</td>\n",
       "      <td>1.0</td>\n",
       "      <td>1.0</td>\n",
       "      <td>1.0</td>\n",
       "      <td>1.0</td>\n",
       "      <td>1.0</td>\n",
       "      <td>1.0</td>\n",
       "      <td>0.0</td>\n",
       "      <td>0.0</td>\n",
       "      <td>0.0</td>\n",
       "      <td>0.0</td>\n",
       "      <td>0.0</td>\n",
       "      <td>0.0</td>\n",
       "      <td>0.0</td>\n",
       "      <td>0.0</td>\n",
       "      <td>0.0</td>\n",
       "      <td>0.0</td>\n",
       "      <td>0.0</td>\n",
       "      <td>0.0</td>\n",
       "      <td>0.0</td>\n",
       "      <td>0.0</td>\n",
       "      <td>0.0</td>\n",
       "      <td>0.0</td>\n",
       "      <td>0.0</td>\n",
       "      <td>1.0</td>\n",
       "      <td>0.0</td>\n",
       "      <td>0.0</td>\n",
       "      <td>0.0</td>\n",
       "      <td>0.0</td>\n",
       "      <td>0.0</td>\n",
       "      <td>1.0</td>\n",
       "      <td>0.0</td>\n",
       "      <td>0.0</td>\n",
       "      <td>0.0</td>\n",
       "      <td>0.0</td>\n",
       "    </tr>\n",
       "  </tbody>\n",
       "</table>\n",
       "</div>"
      ],
      "text/plain": [
       "   latitude  longitude  accommodates  bedrooms  beds  minimum_nights  \\\n",
       "0  51.46225   -0.11732             4       1.0   3.0               2   \n",
       "1  51.56802   -0.11121             2       1.0   0.0               1   \n",
       "2  51.48796   -0.16898             2       1.0   1.0              10   \n",
       "3  51.52195   -0.14094             6       3.0   3.0               4   \n",
       "4  51.47935   -0.19743             2       1.0   1.0               3   \n",
       "\n",
       "   maximum_nights  minimum_minimum_nights  maximum_minimum_nights  \\\n",
       "0            1125                     2.0                     2.0   \n",
       "1              29                     1.0                     1.0   \n",
       "2              50                    10.0                    10.0   \n",
       "3             365                     4.0                     4.0   \n",
       "4              21                     3.0                     3.0   \n",
       "\n",
       "   minimum_maximum_nights  maximum_maximum_nights  minimum_nights_avg_ntm  \\\n",
       "0                  1125.0                  1125.0                     2.0   \n",
       "1                    29.0                    29.0                     1.0   \n",
       "2                    50.0                    50.0                    10.0   \n",
       "3                   365.0                   365.0                     4.0   \n",
       "4                    21.0                    21.0                     3.0   \n",
       "\n",
       "   maximum_nights_avg_ntm  has_availability  availability_30  availability_60  \\\n",
       "0                  1125.0               1.0                3               33   \n",
       "1                    29.0               1.0               30               60   \n",
       "2                    50.0               1.0               29               59   \n",
       "3                   365.0               1.0               16               16   \n",
       "4                    21.0               1.0               29               59   \n",
       "\n",
       "   availability_90  availability_365  bathrooms  bathrooms_shared  \\\n",
       "0               63               338        1.0               0.0   \n",
       "1               90               365        1.0               1.0   \n",
       "2               62               189        1.0               0.0   \n",
       "3               16               231        2.0               0.0   \n",
       "4               89               364        1.0               0.0   \n",
       "\n",
       "   number_amenities  room_type_num  wifi  heating  essentials  kitchen  \\\n",
       "0                28              1   1.0      1.0         1.0      1.0   \n",
       "1                41              2   1.0      1.0         1.0      1.0   \n",
       "2                24              1   1.0      1.0         1.0      1.0   \n",
       "3                27              1   1.0      1.0         1.0      1.0   \n",
       "4                16              2   1.0      1.0         1.0      0.0   \n",
       "\n",
       "   smoke_alarm  washer  hangers  iron   tv  hair_dryer  shampoo  \\\n",
       "0          1.0     1.0      1.0   1.0  1.0         1.0      0.0   \n",
       "1          1.0     1.0      1.0   1.0  1.0         1.0      1.0   \n",
       "2          1.0     1.0      1.0   1.0  1.0         1.0      1.0   \n",
       "3          1.0     1.0      1.0   1.0  1.0         1.0      1.0   \n",
       "4          1.0     0.0      1.0   1.0  1.0         1.0      1.0   \n",
       "\n",
       "   dedicated_workspace  carbon_monoxide_alarm  hot_water  dryer  refrigerator  \\\n",
       "0                  1.0                    1.0        1.0    0.0           1.0   \n",
       "1                  1.0                    1.0        1.0    1.0           1.0   \n",
       "2                  1.0                    0.0        1.0    1.0           1.0   \n",
       "3                  1.0                    0.0        1.0    1.0           1.0   \n",
       "4                  1.0                    1.0        1.0    0.0           0.0   \n",
       "\n",
       "   dishes_and_silverware  cooking_basics  oven  bed_linens  microwave  stove  \\\n",
       "0                    1.0             1.0   1.0         0.0        1.0    1.0   \n",
       "1                    1.0             1.0   1.0         1.0        0.0    1.0   \n",
       "2                    1.0             1.0   0.0         0.0        1.0    0.0   \n",
       "3                    1.0             1.0   1.0         1.0        1.0    1.0   \n",
       "4                    0.0             0.0   0.0         0.0        0.0    0.0   \n",
       "\n",
       "   fire_extinguisher  first_aid_kit  private_entrance  dishwasher  \\\n",
       "0                1.0            0.0               0.0         0.0   \n",
       "1                1.0            0.0               0.0         0.0   \n",
       "2                1.0            0.0               0.0         0.0   \n",
       "3                0.0            0.0               0.0         1.0   \n",
       "4                0.0            0.0               0.0         0.0   \n",
       "\n",
       "   coffee_maker  long_term_stays_allowed  elevator  free_parking_on_premises  \\\n",
       "0           1.0                      1.0       0.0                       0.0   \n",
       "1           1.0                      1.0       0.0                       0.0   \n",
       "2           1.0                      1.0       0.0                       0.0   \n",
       "3           1.0                      1.0       1.0                       0.0   \n",
       "4           0.0                      0.0       0.0                       0.0   \n",
       "\n",
       "   extra_pillows_and_blankets  lock_on_bedroom_door  host_greets_you  \\\n",
       "0                         0.0                   0.0              0.0   \n",
       "1                         1.0                   1.0              1.0   \n",
       "2                         0.0                   0.0              0.0   \n",
       "3                         0.0                   0.0              0.0   \n",
       "4                         0.0                   1.0              0.0   \n",
       "\n",
       "   cable_tv  luggage_dropoff_allowed  patio_or_balcony  garden_or_backyard  \\\n",
       "0       1.0                      0.0               0.0                 0.0   \n",
       "1       1.0                      1.0               1.0                 0.0   \n",
       "2       1.0                      1.0               0.0                 0.0   \n",
       "3       0.0                      0.0               0.0                 0.0   \n",
       "4       0.0                      0.0               0.0                 0.0   \n",
       "\n",
       "   breakfast  paid_parking_off_premises  lockbox  free_street_parking  bathtub  \n",
       "0        0.0                        1.0      1.0                  0.0      0.0  \n",
       "1        0.0                        1.0      0.0                  1.0      1.0  \n",
       "2        0.0                        0.0      0.0                  0.0      0.0  \n",
       "3        0.0                        1.0      1.0                  0.0      0.0  \n",
       "4        1.0                        0.0      0.0                  0.0      0.0  "
      ]
     },
     "execution_count": 43,
     "metadata": {},
     "output_type": "execute_result"
    }
   ],
   "source": [
    "X.head()"
   ]
  },
  {
   "cell_type": "code",
   "execution_count": 44,
   "metadata": {
    "ExecuteTime": {
     "end_time": "2021-02-07T20:51:33.343080Z",
     "start_time": "2021-02-07T20:51:32.939391Z"
    }
   },
   "outputs": [],
   "source": [
    "X_train, X_test, y_train, y_test = train_test_split(X, y, test_size=0.2, \n",
    "                                                    random_state=42)"
   ]
  },
  {
   "cell_type": "code",
   "execution_count": 45,
   "metadata": {
    "ExecuteTime": {
     "end_time": "2021-02-07T20:51:34.682834Z",
     "start_time": "2021-02-07T20:51:34.439368Z"
    }
   },
   "outputs": [
    {
     "data": {
      "text/plain": [
       "array([3.33220451, 4.15888308, 4.31748811, ..., 4.38202663, 3.55534806,\n",
       "       3.09104245])"
      ]
     },
     "execution_count": 45,
     "metadata": {},
     "output_type": "execute_result"
    }
   ],
   "source": [
    "y_train"
   ]
  },
  {
   "cell_type": "code",
   "execution_count": 46,
   "metadata": {
    "ExecuteTime": {
     "end_time": "2021-02-07T20:51:56.317046Z",
     "start_time": "2021-02-07T20:51:56.150992Z"
    }
   },
   "outputs": [
    {
     "data": {
      "text/plain": [
       "(60891, 64)"
      ]
     },
     "execution_count": 46,
     "metadata": {},
     "output_type": "execute_result"
    }
   ],
   "source": [
    "X_train.shape"
   ]
  },
  {
   "cell_type": "code",
   "execution_count": 47,
   "metadata": {
    "ExecuteTime": {
     "end_time": "2021-02-07T20:52:42.693098Z",
     "start_time": "2021-02-07T20:52:42.276900Z"
    }
   },
   "outputs": [
    {
     "data": {
      "text/plain": [
       "(15223, 64)"
      ]
     },
     "execution_count": 47,
     "metadata": {},
     "output_type": "execute_result"
    }
   ],
   "source": [
    "X_test.shape"
   ]
  },
  {
   "cell_type": "markdown",
   "metadata": {},
   "source": [
    "# Feature selection"
   ]
  },
  {
   "cell_type": "markdown",
   "metadata": {},
   "source": [
    "Performance of the model with all the variabels avialable to be used."
   ]
  },
  {
   "cell_type": "code",
   "execution_count": 80,
   "metadata": {
    "ExecuteTime": {
     "end_time": "2021-02-08T17:22:08.799012Z",
     "start_time": "2021-02-08T17:22:08.584294Z"
    }
   },
   "outputs": [],
   "source": [
    "# Instantiation \n",
    "clf = xg.XGBRegressor(objective ='reg:squarederror', \n",
    "                      max_depth=3, \n",
    "                      n_estimators=100, \n",
    "                      random_state=0)"
   ]
  },
  {
   "cell_type": "markdown",
   "metadata": {},
   "source": [
    "The feature importance measure taken is **gain** which is the average contribution of the feature to the model  across all the trees. A higher value of this metric when compared to another feature implies it is more important for generating a prediction. This metric ease the interpretation of the relative importance of each feature.\n",
    "\n",
    "The idea of Gain is to account for the improvement in accuracy brought by a feature to the branches it is on. The main idea is that before adding a new split on a feature $x_i$ to the branch there was some wrongly classified elements, after adding the split on this feature, there are two new branches, and each of these branch is more accurate. Meaning that an observation on this branch will be classified as one, and on the other branch the opotite.\n",
    "\n",
    "There are another importance messures like **weight** that is the number of times a feature is used to split the data across all trees; and **coverage** that is defined as the number of samples/observations affected by the split."
   ]
  },
  {
   "cell_type": "code",
   "execution_count": 13,
   "metadata": {
    "ExecuteTime": {
     "end_time": "2021-02-05T12:12:18.588191Z",
     "start_time": "2021-02-05T12:12:18.450686Z"
    }
   },
   "outputs": [
    {
     "data": {
      "text/plain": [
       "XGBRegressor(objective='reg:squarederror')"
      ]
     },
     "execution_count": 13,
     "metadata": {},
     "output_type": "execute_result"
    }
   ],
   "source": [
    "# set importance type to gain rather than default 'split'\n",
    "clf.set_params(importance_type='gain')"
   ]
  },
  {
   "cell_type": "code",
   "execution_count": 14,
   "metadata": {
    "ExecuteTime": {
     "end_time": "2021-02-05T12:13:19.630426Z",
     "start_time": "2021-02-05T12:12:18.609187Z"
    }
   },
   "outputs": [
    {
     "data": {
      "text/plain": [
       "XGBRegressor(objective='reg:squarederror')"
      ]
     },
     "execution_count": 14,
     "metadata": {},
     "output_type": "execute_result"
    }
   ],
   "source": [
    "clf.fit(X_train, y_train, verbose=True)"
   ]
  },
  {
   "cell_type": "code",
   "execution_count": 15,
   "metadata": {
    "ExecuteTime": {
     "end_time": "2021-02-05T12:13:20.483296Z",
     "start_time": "2021-02-05T12:13:19.639978Z"
    }
   },
   "outputs": [],
   "source": [
    "# Predict the model \n",
    "pred = clf.predict(X_test) "
   ]
  },
  {
   "cell_type": "code",
   "execution_count": 59,
   "metadata": {
    "ExecuteTime": {
     "end_time": "2021-02-08T17:14:46.836539Z",
     "start_time": "2021-02-08T17:14:46.524219Z"
    }
   },
   "outputs": [],
   "source": [
    "# The  model is using features just related to the property, the location, and amenities.\n",
    "def RMSE(y_true, y_pred):\n",
    "    return np.sqrt(MSE(y_true, y_pred))"
   ]
  },
  {
   "cell_type": "code",
   "execution_count": 17,
   "metadata": {
    "ExecuteTime": {
     "end_time": "2021-02-05T12:13:23.866272Z",
     "start_time": "2021-02-05T12:13:23.792089Z"
    }
   },
   "outputs": [
    {
     "name": "stdout",
     "output_type": "stream",
     "text": [
      "RMSE :  0.400235\n"
     ]
    }
   ],
   "source": [
    "# RMSE Computation \n",
    "rmse = np.sqrt(MSE(y_test, pred)) \n",
    "print(\"RMSE : % f\" %(rmse))"
   ]
  },
  {
   "cell_type": "code",
   "execution_count": 18,
   "metadata": {
    "ExecuteTime": {
     "end_time": "2021-02-05T12:13:24.757029Z",
     "start_time": "2021-02-05T12:13:24.638242Z"
    }
   },
   "outputs": [
    {
     "data": {
      "text/plain": [
       "1.4921753176414525"
      ]
     },
     "execution_count": 18,
     "metadata": {},
     "output_type": "execute_result"
    }
   ],
   "source": [
    "# error in the unts of £ since we did a log transformation of the price to model it\n",
    "np.exp(0.400235)"
   ]
  },
  {
   "cell_type": "code",
   "execution_count": 19,
   "metadata": {
    "ExecuteTime": {
     "end_time": "2021-02-05T12:13:37.976682Z",
     "start_time": "2021-02-05T12:13:25.409524Z"
    }
   },
   "outputs": [
    {
     "data": {
      "image/png": "[encoded data removed]",
      "text/plain": [
       "<Figure size 720x1440 with 1 Axes>"
      ]
     },
     "metadata": {
      "needs_background": "light"
     },
     "output_type": "display_data"
    }
   ],
   "source": [
    "df_feat_import_1 = fselec.feature_importance(clf, model_type='Uncalibrated', feature_list=list(X_train.columns))"
   ]
  },
  {
   "cell_type": "code",
   "execution_count": 20,
   "metadata": {
    "ExecuteTime": {
     "end_time": "2021-02-05T12:13:40.804090Z",
     "start_time": "2021-02-05T12:13:40.714454Z"
    }
   },
   "outputs": [
    {
     "data": {
      "text/html": [
       "<div>\n",
       "<style scoped>\n",
       "    .dataframe tbody tr th:only-of-type {\n",
       "        vertical-align: middle;\n",
       "    }\n",
       "\n",
       "    .dataframe tbody tr th {\n",
       "        vertical-align: top;\n",
       "    }\n",
       "\n",
       "    .dataframe thead th {\n",
       "        text-align: right;\n",
       "    }\n",
       "</style>\n",
       "<table border=\"1\" class=\"dataframe\">\n",
       "  <thead>\n",
       "    <tr style=\"text-align: right;\">\n",
       "      <th></th>\n",
       "      <th>Feature_importance%</th>\n",
       "    </tr>\n",
       "  </thead>\n",
       "  <tbody>\n",
       "    <tr>\n",
       "      <th>room_type_num</th>\n",
       "      <td>44.551601</td>\n",
       "    </tr>\n",
       "    <tr>\n",
       "      <th>bathrooms</th>\n",
       "      <td>10.771441</td>\n",
       "    </tr>\n",
       "    <tr>\n",
       "      <th>bathrooms_shared</th>\n",
       "      <td>6.925835</td>\n",
       "    </tr>\n",
       "    <tr>\n",
       "      <th>accommodates</th>\n",
       "      <td>6.229731</td>\n",
       "    </tr>\n",
       "    <tr>\n",
       "      <th>tv</th>\n",
       "      <td>3.979994</td>\n",
       "    </tr>\n",
       "    <tr>\n",
       "      <th>bedrooms</th>\n",
       "      <td>2.972055</td>\n",
       "    </tr>\n",
       "    <tr>\n",
       "      <th>availability_60</th>\n",
       "      <td>1.982256</td>\n",
       "    </tr>\n",
       "    <tr>\n",
       "      <th>dishwasher</th>\n",
       "      <td>1.748774</td>\n",
       "    </tr>\n",
       "    <tr>\n",
       "      <th>dryer</th>\n",
       "      <td>1.629311</td>\n",
       "    </tr>\n",
       "    <tr>\n",
       "      <th>availability_30</th>\n",
       "      <td>1.620284</td>\n",
       "    </tr>\n",
       "    <tr>\n",
       "      <th>availability_90</th>\n",
       "      <td>1.288873</td>\n",
       "    </tr>\n",
       "    <tr>\n",
       "      <th>longitude</th>\n",
       "      <td>1.145783</td>\n",
       "    </tr>\n",
       "    <tr>\n",
       "      <th>latitude</th>\n",
       "      <td>1.079955</td>\n",
       "    </tr>\n",
       "    <tr>\n",
       "      <th>elevator</th>\n",
       "      <td>0.983926</td>\n",
       "    </tr>\n",
       "    <tr>\n",
       "      <th>microwave</th>\n",
       "      <td>0.923354</td>\n",
       "    </tr>\n",
       "    <tr>\n",
       "      <th>kitchen</th>\n",
       "      <td>0.877909</td>\n",
       "    </tr>\n",
       "    <tr>\n",
       "      <th>maximum_nights</th>\n",
       "      <td>0.823549</td>\n",
       "    </tr>\n",
       "    <tr>\n",
       "      <th>free_street_parking</th>\n",
       "      <td>0.783180</td>\n",
       "    </tr>\n",
       "    <tr>\n",
       "      <th>cooking_basics</th>\n",
       "      <td>0.651131</td>\n",
       "    </tr>\n",
       "    <tr>\n",
       "      <th>minimum_minimum_nights</th>\n",
       "      <td>0.603976</td>\n",
       "    </tr>\n",
       "    <tr>\n",
       "      <th>availability_365</th>\n",
       "      <td>0.587191</td>\n",
       "    </tr>\n",
       "    <tr>\n",
       "      <th>lockbox</th>\n",
       "      <td>0.476498</td>\n",
       "    </tr>\n",
       "    <tr>\n",
       "      <th>heating</th>\n",
       "      <td>0.439998</td>\n",
       "    </tr>\n",
       "    <tr>\n",
       "      <th>hot_water</th>\n",
       "      <td>0.431588</td>\n",
       "    </tr>\n",
       "    <tr>\n",
       "      <th>washer</th>\n",
       "      <td>0.430053</td>\n",
       "    </tr>\n",
       "  </tbody>\n",
       "</table>\n",
       "</div>"
      ],
      "text/plain": [
       "                        Feature_importance%\n",
       "room_type_num                     44.551601\n",
       "bathrooms                         10.771441\n",
       "bathrooms_shared                   6.925835\n",
       "accommodates                       6.229731\n",
       "tv                                 3.979994\n",
       "bedrooms                           2.972055\n",
       "availability_60                    1.982256\n",
       "dishwasher                         1.748774\n",
       "dryer                              1.629311\n",
       "availability_30                    1.620284\n",
       "availability_90                    1.288873\n",
       "longitude                          1.145783\n",
       "latitude                           1.079955\n",
       "elevator                           0.983926\n",
       "microwave                          0.923354\n",
       "kitchen                            0.877909\n",
       "maximum_nights                     0.823549\n",
       "free_street_parking                0.783180\n",
       "cooking_basics                     0.651131\n",
       "minimum_minimum_nights             0.603976\n",
       "availability_365                   0.587191\n",
       "lockbox                            0.476498\n",
       "heating                            0.439998\n",
       "hot_water                          0.431588\n",
       "washer                             0.430053"
      ]
     },
     "execution_count": 20,
     "metadata": {},
     "output_type": "execute_result"
    }
   ],
   "source": [
    "df_feat_import_1.head(25)"
   ]
  },
  {
   "cell_type": "markdown",
   "metadata": {},
   "source": [
    "Evaluation run when fitting the model:"
   ]
  },
  {
   "cell_type": "code",
   "execution_count": 78,
   "metadata": {
    "ExecuteTime": {
     "end_time": "2021-02-08T17:21:57.884570Z",
     "start_time": "2021-02-08T17:21:57.231348Z"
    }
   },
   "outputs": [],
   "source": [
    "eval_set = [(X_train, y_train), (X_test, y_test)] "
   ]
  },
  {
   "cell_type": "code",
   "execution_count": 81,
   "metadata": {
    "ExecuteTime": {
     "end_time": "2021-02-08T17:23:19.812317Z",
     "start_time": "2021-02-08T17:22:16.675521Z"
    }
   },
   "outputs": [
    {
     "data": {
      "text/plain": [
       "XGBRegressor(objective='reg:squarederror')"
      ]
     },
     "execution_count": 81,
     "metadata": {},
     "output_type": "execute_result"
    }
   ],
   "source": [
    "clf.fit(X_train, y_train, eval_metric=[\"rmse\", \"mae\"], eval_set=eval_set, verbose=False)"
   ]
  },
  {
   "cell_type": "code",
   "execution_count": 82,
   "metadata": {
    "ExecuteTime": {
     "end_time": "2021-02-08T17:23:22.870698Z",
     "start_time": "2021-02-08T17:23:22.519628Z"
    }
   },
   "outputs": [],
   "source": [
    "# Predict the model \n",
    "pred_1 = clf.predict(X_test) "
   ]
  },
  {
   "cell_type": "code",
   "execution_count": 83,
   "metadata": {
    "ExecuteTime": {
     "end_time": "2021-02-08T17:23:24.852092Z",
     "start_time": "2021-02-08T17:23:24.649996Z"
    }
   },
   "outputs": [],
   "source": [
    "# evaluating prediction\n",
    "rmse_1 = RMSE(y_test, pred_1)"
   ]
  },
  {
   "cell_type": "code",
   "execution_count": 85,
   "metadata": {
    "ExecuteTime": {
     "end_time": "2021-02-08T17:27:07.848809Z",
     "start_time": "2021-02-08T17:27:06.691264Z"
    }
   },
   "outputs": [
    {
     "data": {
      "text/plain": [
       "0.40023450030435226"
      ]
     },
     "execution_count": 85,
     "metadata": {},
     "output_type": "execute_result"
    }
   ],
   "source": [
    "rmse_1"
   ]
  },
  {
   "cell_type": "code",
   "execution_count": 26,
   "metadata": {
    "ExecuteTime": {
     "end_time": "2021-02-05T12:17:23.193664Z",
     "start_time": "2021-02-05T12:17:22.763665Z"
    }
   },
   "outputs": [
    {
     "data": {
      "text/plain": [
       "1.4921745720081268"
      ]
     },
     "execution_count": 26,
     "metadata": {},
     "output_type": "execute_result"
    }
   ],
   "source": [
    "# reported in table\n",
    "np.exp(rmse_1)"
   ]
  },
  {
   "cell_type": "code",
   "execution_count": 27,
   "metadata": {
    "ExecuteTime": {
     "end_time": "2021-02-05T12:17:24.145679Z",
     "start_time": "2021-02-05T12:17:23.721412Z"
    }
   },
   "outputs": [],
   "source": [
    "# retrieve performance metrics\n",
    "results = clf.evals_result()"
   ]
  },
  {
   "cell_type": "code",
   "execution_count": 28,
   "metadata": {
    "ExecuteTime": {
     "end_time": "2021-02-05T12:17:29.620618Z",
     "start_time": "2021-02-05T12:17:24.262417Z"
    }
   },
   "outputs": [
    {
     "data": {
      "image/png": "[encoded data removed]",
      "text/plain": [
       "<Figure size 720x360 with 1 Axes>"
      ]
     },
     "metadata": {
      "needs_background": "light"
     },
     "output_type": "display_data"
    }
   ],
   "source": [
    "fselec.xgboost_learning_curve(results)"
   ]
  },
  {
   "cell_type": "markdown",
   "metadata": {},
   "source": [
    "Running to test adding an early stop to the boosting rounds."
   ]
  },
  {
   "cell_type": "code",
   "execution_count": 29,
   "metadata": {
    "ExecuteTime": {
     "end_time": "2021-02-05T12:18:09.638035Z",
     "start_time": "2021-02-05T12:18:09.381632Z"
    }
   },
   "outputs": [],
   "source": [
    "# Instantiation \n",
    "clf_test = xg.XGBRegressor(objective ='reg:squarederror', \n",
    "                      max_depth=2, \n",
    "                      n_estimators=50, \n",
    "                      random_state=0)"
   ]
  },
  {
   "cell_type": "code",
   "execution_count": 30,
   "metadata": {
    "ExecuteTime": {
     "end_time": "2021-02-05T12:18:12.338413Z",
     "start_time": "2021-02-05T12:18:12.010725Z"
    }
   },
   "outputs": [
    {
     "data": {
      "text/plain": [
       "XGBRegressor(max_depth=2, n_estimators=50, objective='reg:squarederror')"
      ]
     },
     "execution_count": 30,
     "metadata": {},
     "output_type": "execute_result"
    }
   ],
   "source": [
    "# set importance type to gain rather than default 'split'\n",
    "clf_test.set_params(importance_type='gain')"
   ]
  },
  {
   "cell_type": "code",
   "execution_count": 31,
   "metadata": {
    "ExecuteTime": {
     "end_time": "2021-02-05T12:19:06.194479Z",
     "start_time": "2021-02-05T12:18:14.761233Z"
    },
    "scrolled": true
   },
   "outputs": [
    {
     "data": {
      "text/plain": [
       "XGBRegressor(max_depth=2, n_estimators=50, objective='reg:squarederror')"
      ]
     },
     "execution_count": 31,
     "metadata": {},
     "output_type": "execute_result"
    }
   ],
   "source": [
    "clf_test.fit(X_train, y_train, eval_metric=[\"rmse\"], eval_set=eval_set, early_stopping_rounds=40, verbose=False)"
   ]
  },
  {
   "cell_type": "code",
   "execution_count": 32,
   "metadata": {
    "ExecuteTime": {
     "end_time": "2021-02-05T12:19:08.242566Z",
     "start_time": "2021-02-05T12:19:07.932712Z"
    }
   },
   "outputs": [
    {
     "data": {
      "text/plain": [
       "array([4.632261 , 4.055711 , 4.1891146, ..., 3.6586137, 4.018154 ,\n",
       "       3.592351 ], dtype=float32)"
      ]
     },
     "execution_count": 32,
     "metadata": {},
     "output_type": "execute_result"
    }
   ],
   "source": [
    "# Predict the model \n",
    "pred_1 = clf_test.predict(X_test, ntree_limit=clf_test.best_ntree_limit) \n",
    "pred_1"
   ]
  },
  {
   "cell_type": "code",
   "execution_count": 33,
   "metadata": {
    "ExecuteTime": {
     "end_time": "2021-02-05T12:19:10.118114Z",
     "start_time": "2021-02-05T12:19:09.843209Z"
    }
   },
   "outputs": [
    {
     "data": {
      "text/plain": [
       "array([4.632261 , 4.055711 , 4.1891146, ..., 3.6586137, 4.018154 ,\n",
       "       3.592351 ], dtype=float32)"
      ]
     },
     "execution_count": 33,
     "metadata": {},
     "output_type": "execute_result"
    }
   ],
   "source": [
    "pred_1 = clf_test.predict(X_test) \n",
    "pred_1"
   ]
  },
  {
   "cell_type": "code",
   "execution_count": 34,
   "metadata": {
    "ExecuteTime": {
     "end_time": "2021-02-05T12:19:11.125894Z",
     "start_time": "2021-02-05T12:19:11.032477Z"
    }
   },
   "outputs": [],
   "source": [
    "# evaluating prediction\n",
    "rmse_1_2 = RMSE(y_test, pred_1)"
   ]
  },
  {
   "cell_type": "code",
   "execution_count": 35,
   "metadata": {
    "ExecuteTime": {
     "end_time": "2021-02-05T12:19:12.211237Z",
     "start_time": "2021-02-05T12:19:12.077421Z"
    }
   },
   "outputs": [
    {
     "data": {
      "text/plain": [
       "0.431931152084622"
      ]
     },
     "execution_count": 35,
     "metadata": {},
     "output_type": "execute_result"
    }
   ],
   "source": [
    "rmse_1_2"
   ]
  },
  {
   "cell_type": "code",
   "execution_count": 137,
   "metadata": {
    "ExecuteTime": {
     "end_time": "2021-02-08T18:09:56.207033Z",
     "start_time": "2021-02-08T18:09:55.844138Z"
    }
   },
   "outputs": [
    {
     "data": {
      "text/plain": [
       "1.5402272954767986"
      ]
     },
     "execution_count": 137,
     "metadata": {},
     "output_type": "execute_result"
    }
   ],
   "source": [
    "np.exp(0.43193)"
   ]
  },
  {
   "cell_type": "code",
   "execution_count": 36,
   "metadata": {
    "ExecuteTime": {
     "end_time": "2021-02-05T12:19:13.275326Z",
     "start_time": "2021-02-05T12:19:13.194884Z"
    }
   },
   "outputs": [],
   "source": [
    "# retrieve performance metrics\n",
    "results = clf_test.evals_result()"
   ]
  },
  {
   "cell_type": "code",
   "execution_count": 37,
   "metadata": {
    "ExecuteTime": {
     "end_time": "2021-02-05T12:19:15.435296Z",
     "start_time": "2021-02-05T12:19:14.233469Z"
    }
   },
   "outputs": [
    {
     "data": {
      "image/png": "[encoded data removed]",
      "text/plain": [
       "<Figure size 720x360 with 1 Axes>"
      ]
     },
     "metadata": {
      "needs_background": "light"
     },
     "output_type": "display_data"
    }
   ],
   "source": [
    "fselec.xgboost_learning_curve(results)"
   ]
  },
  {
   "cell_type": "markdown",
   "metadata": {},
   "source": [
    "## Genetic algorithm results.\n",
    "From the notebook where the GA algorithm was run, the best varaibles found were:"
   ]
  },
  {
   "cell_type": "code",
   "execution_count": 86,
   "metadata": {
    "ExecuteTime": {
     "end_time": "2021-02-08T17:28:39.922045Z",
     "start_time": "2021-02-08T17:28:39.060175Z"
    }
   },
   "outputs": [],
   "source": [
    "list_var_GA = ['latitude', 'longitude', 'accommodates', 'bedrooms', 'maximum_nights',\n",
    "       'availability_30', 'bathrooms_shared', 'room_type_num', 'tv',\n",
    "       'hot_water', 'dishwasher', 'cable_tv']"
   ]
  },
  {
   "cell_type": "markdown",
   "metadata": {},
   "source": [
    "Traing now a model with the best features from GA."
   ]
  },
  {
   "cell_type": "code",
   "execution_count": 87,
   "metadata": {
    "ExecuteTime": {
     "end_time": "2021-02-08T17:28:41.685254Z",
     "start_time": "2021-02-08T17:28:41.549725Z"
    }
   },
   "outputs": [],
   "source": [
    "clf_2 = xg.XGBRegressor(objective ='reg:squarederror', \n",
    "                        max_depth=3, \n",
    "                        n_estimators=100, \n",
    "                        random_state=0)"
   ]
  },
  {
   "cell_type": "code",
   "execution_count": 88,
   "metadata": {
    "ExecuteTime": {
     "end_time": "2021-02-08T17:28:43.255763Z",
     "start_time": "2021-02-08T17:28:43.117078Z"
    }
   },
   "outputs": [
    {
     "data": {
      "text/plain": [
       "XGBRegressor(objective='reg:squarederror')"
      ]
     },
     "execution_count": 88,
     "metadata": {},
     "output_type": "execute_result"
    }
   ],
   "source": [
    "# set importance type to gain rather than default 'split'\n",
    "clf_2.set_params(importance_type='gain')"
   ]
  },
  {
   "cell_type": "code",
   "execution_count": 89,
   "metadata": {
    "ExecuteTime": {
     "end_time": "2021-02-08T17:28:45.038247Z",
     "start_time": "2021-02-08T17:28:44.815088Z"
    }
   },
   "outputs": [],
   "source": [
    "eval_set_2 = [(X_train[list_var_GA], y_train), (X_test[list_var_GA], y_test)] "
   ]
  },
  {
   "cell_type": "code",
   "execution_count": 90,
   "metadata": {
    "ExecuteTime": {
     "end_time": "2021-02-08T17:29:01.804099Z",
     "start_time": "2021-02-08T17:28:47.466337Z"
    },
    "scrolled": true
   },
   "outputs": [
    {
     "name": "stdout",
     "output_type": "stream",
     "text": [
      "[0]\tvalidation_0-rmse:3.51505\tvalidation_1-rmse:3.50868\n",
      "[1]\tvalidation_0-rmse:3.17052\tvalidation_1-rmse:3.16444\n",
      "[2]\tvalidation_0-rmse:2.86126\tvalidation_1-rmse:2.85545\n",
      "[3]\tvalidation_0-rmse:2.58363\tvalidation_1-rmse:2.57816\n",
      "[4]\tvalidation_0-rmse:2.33458\tvalidation_1-rmse:2.32933\n",
      "[5]\tvalidation_0-rmse:2.11139\tvalidation_1-rmse:2.10635\n",
      "[6]\tvalidation_0-rmse:1.91143\tvalidation_1-rmse:1.90651\n",
      "[7]\tvalidation_0-rmse:1.73255\tvalidation_1-rmse:1.72777\n",
      "[8]\tvalidation_0-rmse:1.57269\tvalidation_1-rmse:1.56809\n",
      "[9]\tvalidation_0-rmse:1.43008\tvalidation_1-rmse:1.42569\n",
      "[10]\tvalidation_0-rmse:1.30289\tvalidation_1-rmse:1.29867\n",
      "[11]\tvalidation_0-rmse:1.18976\tvalidation_1-rmse:1.18565\n",
      "[12]\tvalidation_0-rmse:1.08942\tvalidation_1-rmse:1.08545\n",
      "[13]\tvalidation_0-rmse:1.00072\tvalidation_1-rmse:0.997136\n",
      "[14]\tvalidation_0-rmse:0.922404\tvalidation_1-rmse:0.918872\n",
      "[15]\tvalidation_0-rmse:0.853542\tvalidation_1-rmse:0.850157\n",
      "[16]\tvalidation_0-rmse:0.793233\tvalidation_1-rmse:0.78992\n",
      "[17]\tvalidation_0-rmse:0.74056\tvalidation_1-rmse:0.737437\n",
      "[18]\tvalidation_0-rmse:0.69483\tvalidation_1-rmse:0.691758\n",
      "[19]\tvalidation_0-rmse:0.655216\tvalidation_1-rmse:0.652114\n",
      "[20]\tvalidation_0-rmse:0.621138\tvalidation_1-rmse:0.618208\n",
      "[21]\tvalidation_0-rmse:0.59168\tvalidation_1-rmse:0.588725\n",
      "[22]\tvalidation_0-rmse:0.566693\tvalidation_1-rmse:0.563754\n",
      "[23]\tvalidation_0-rmse:0.545336\tvalidation_1-rmse:0.542464\n",
      "[24]\tvalidation_0-rmse:0.527254\tvalidation_1-rmse:0.524472\n",
      "[25]\tvalidation_0-rmse:0.511305\tvalidation_1-rmse:0.508566\n",
      "[26]\tvalidation_0-rmse:0.498301\tvalidation_1-rmse:0.495592\n",
      "[27]\tvalidation_0-rmse:0.487294\tvalidation_1-rmse:0.484622\n",
      "[28]\tvalidation_0-rmse:0.478082\tvalidation_1-rmse:0.475503\n",
      "[29]\tvalidation_0-rmse:0.469883\tvalidation_1-rmse:0.467298\n",
      "[30]\tvalidation_0-rmse:0.463448\tvalidation_1-rmse:0.460939\n",
      "[31]\tvalidation_0-rmse:0.457494\tvalidation_1-rmse:0.45493\n",
      "[32]\tvalidation_0-rmse:0.452568\tvalidation_1-rmse:0.450098\n",
      "[33]\tvalidation_0-rmse:0.448526\tvalidation_1-rmse:0.446042\n",
      "[34]\tvalidation_0-rmse:0.445179\tvalidation_1-rmse:0.44278\n",
      "[35]\tvalidation_0-rmse:0.442025\tvalidation_1-rmse:0.43969\n",
      "[36]\tvalidation_0-rmse:0.439596\tvalidation_1-rmse:0.437294\n",
      "[37]\tvalidation_0-rmse:0.437559\tvalidation_1-rmse:0.435246\n",
      "[38]\tvalidation_0-rmse:0.435602\tvalidation_1-rmse:0.433307\n",
      "[39]\tvalidation_0-rmse:0.433888\tvalidation_1-rmse:0.431698\n",
      "[40]\tvalidation_0-rmse:0.432551\tvalidation_1-rmse:0.430402\n",
      "[41]\tvalidation_0-rmse:0.430905\tvalidation_1-rmse:0.428748\n",
      "[42]\tvalidation_0-rmse:0.429755\tvalidation_1-rmse:0.427628\n",
      "[43]\tvalidation_0-rmse:0.428438\tvalidation_1-rmse:0.426329\n",
      "[44]\tvalidation_0-rmse:0.427584\tvalidation_1-rmse:0.425503\n",
      "[45]\tvalidation_0-rmse:0.426441\tvalidation_1-rmse:0.424421\n",
      "[46]\tvalidation_0-rmse:0.425373\tvalidation_1-rmse:0.423399\n",
      "[47]\tvalidation_0-rmse:0.424706\tvalidation_1-rmse:0.422828\n",
      "[48]\tvalidation_0-rmse:0.424006\tvalidation_1-rmse:0.422147\n",
      "[49]\tvalidation_0-rmse:0.42343\tvalidation_1-rmse:0.421613\n",
      "[50]\tvalidation_0-rmse:0.422834\tvalidation_1-rmse:0.421051\n",
      "[51]\tvalidation_0-rmse:0.422382\tvalidation_1-rmse:0.42062\n",
      "[52]\tvalidation_0-rmse:0.421867\tvalidation_1-rmse:0.420123\n",
      "[53]\tvalidation_0-rmse:0.421371\tvalidation_1-rmse:0.419648\n",
      "[54]\tvalidation_0-rmse:0.420992\tvalidation_1-rmse:0.419246\n",
      "[55]\tvalidation_0-rmse:0.420621\tvalidation_1-rmse:0.41894\n",
      "[56]\tvalidation_0-rmse:0.420264\tvalidation_1-rmse:0.418585\n",
      "[57]\tvalidation_0-rmse:0.419816\tvalidation_1-rmse:0.418203\n",
      "[58]\tvalidation_0-rmse:0.419417\tvalidation_1-rmse:0.417825\n",
      "[59]\tvalidation_0-rmse:0.419075\tvalidation_1-rmse:0.417467\n",
      "[60]\tvalidation_0-rmse:0.418705\tvalidation_1-rmse:0.417145\n",
      "[61]\tvalidation_0-rmse:0.418319\tvalidation_1-rmse:0.416824\n",
      "[62]\tvalidation_0-rmse:0.41799\tvalidation_1-rmse:0.416535\n",
      "[63]\tvalidation_0-rmse:0.417726\tvalidation_1-rmse:0.416309\n",
      "[64]\tvalidation_0-rmse:0.417446\tvalidation_1-rmse:0.416043\n",
      "[65]\tvalidation_0-rmse:0.417146\tvalidation_1-rmse:0.41576\n",
      "[66]\tvalidation_0-rmse:0.416834\tvalidation_1-rmse:0.415458\n",
      "[67]\tvalidation_0-rmse:0.416538\tvalidation_1-rmse:0.415225\n",
      "[68]\tvalidation_0-rmse:0.416362\tvalidation_1-rmse:0.415074\n",
      "[69]\tvalidation_0-rmse:0.416103\tvalidation_1-rmse:0.41482\n",
      "[70]\tvalidation_0-rmse:0.415852\tvalidation_1-rmse:0.414616\n",
      "[71]\tvalidation_0-rmse:0.415577\tvalidation_1-rmse:0.414408\n",
      "[72]\tvalidation_0-rmse:0.415399\tvalidation_1-rmse:0.414243\n",
      "[73]\tvalidation_0-rmse:0.415174\tvalidation_1-rmse:0.414008\n",
      "[74]\tvalidation_0-rmse:0.414992\tvalidation_1-rmse:0.41387\n",
      "[75]\tvalidation_0-rmse:0.414659\tvalidation_1-rmse:0.413569\n",
      "[76]\tvalidation_0-rmse:0.414406\tvalidation_1-rmse:0.413354\n",
      "[77]\tvalidation_0-rmse:0.414226\tvalidation_1-rmse:0.413201\n",
      "[78]\tvalidation_0-rmse:0.414043\tvalidation_1-rmse:0.413023\n",
      "[79]\tvalidation_0-rmse:0.413791\tvalidation_1-rmse:0.412836\n",
      "[80]\tvalidation_0-rmse:0.41362\tvalidation_1-rmse:0.412671\n",
      "[81]\tvalidation_0-rmse:0.413452\tvalidation_1-rmse:0.412504\n",
      "[82]\tvalidation_0-rmse:0.413288\tvalidation_1-rmse:0.412393\n",
      "[83]\tvalidation_0-rmse:0.413103\tvalidation_1-rmse:0.412259\n",
      "[84]\tvalidation_0-rmse:0.412969\tvalidation_1-rmse:0.412168\n",
      "[85]\tvalidation_0-rmse:0.412758\tvalidation_1-rmse:0.411964\n",
      "[86]\tvalidation_0-rmse:0.412657\tvalidation_1-rmse:0.411859\n",
      "[87]\tvalidation_0-rmse:0.412502\tvalidation_1-rmse:0.411714\n",
      "[88]\tvalidation_0-rmse:0.412343\tvalidation_1-rmse:0.411532\n",
      "[89]\tvalidation_0-rmse:0.412237\tvalidation_1-rmse:0.411467\n",
      "[90]\tvalidation_0-rmse:0.412124\tvalidation_1-rmse:0.411376\n",
      "[91]\tvalidation_0-rmse:0.412011\tvalidation_1-rmse:0.411309\n",
      "[92]\tvalidation_0-rmse:0.411829\tvalidation_1-rmse:0.411155\n",
      "[93]\tvalidation_0-rmse:0.411615\tvalidation_1-rmse:0.410992\n",
      "[94]\tvalidation_0-rmse:0.411504\tvalidation_1-rmse:0.410918\n",
      "[95]\tvalidation_0-rmse:0.411381\tvalidation_1-rmse:0.410824\n",
      "[96]\tvalidation_0-rmse:0.411146\tvalidation_1-rmse:0.410578\n",
      "[97]\tvalidation_0-rmse:0.411024\tvalidation_1-rmse:0.410479\n",
      "[98]\tvalidation_0-rmse:0.410923\tvalidation_1-rmse:0.410371\n",
      "[99]\tvalidation_0-rmse:0.410779\tvalidation_1-rmse:0.410259\n"
     ]
    },
    {
     "data": {
      "text/plain": [
       "XGBRegressor(objective='reg:squarederror')"
      ]
     },
     "execution_count": 90,
     "metadata": {},
     "output_type": "execute_result"
    }
   ],
   "source": [
    "clf_2.fit(X_train[list_var_GA], y_train, eval_set=eval_set_2)"
   ]
  },
  {
   "cell_type": "code",
   "execution_count": 91,
   "metadata": {
    "ExecuteTime": {
     "end_time": "2021-02-08T17:29:52.822414Z",
     "start_time": "2021-02-08T17:29:52.356419Z"
    }
   },
   "outputs": [
    {
     "data": {
      "text/plain": [
       "(60891, 12)"
      ]
     },
     "execution_count": 91,
     "metadata": {},
     "output_type": "execute_result"
    }
   ],
   "source": [
    "X_train[list_var_GA].shape"
   ]
  },
  {
   "cell_type": "code",
   "execution_count": 92,
   "metadata": {
    "ExecuteTime": {
     "end_time": "2021-02-08T17:29:54.820556Z",
     "start_time": "2021-02-08T17:29:54.623467Z"
    }
   },
   "outputs": [
    {
     "data": {
      "text/plain": [
       "(15223, 12)"
      ]
     },
     "execution_count": 92,
     "metadata": {},
     "output_type": "execute_result"
    }
   ],
   "source": [
    "X_test[list_var_GA].shape"
   ]
  },
  {
   "cell_type": "code",
   "execution_count": 93,
   "metadata": {
    "ExecuteTime": {
     "end_time": "2021-02-08T17:29:57.696936Z",
     "start_time": "2021-02-08T17:29:57.011820Z"
    }
   },
   "outputs": [],
   "source": [
    "# Predict the model \n",
    "pred_2 = clf_2.predict(X_test[list_var_GA]) "
   ]
  },
  {
   "cell_type": "code",
   "execution_count": 94,
   "metadata": {
    "ExecuteTime": {
     "end_time": "2021-02-08T17:30:00.173390Z",
     "start_time": "2021-02-08T17:29:59.738520Z"
    }
   },
   "outputs": [
    {
     "name": "stdout",
     "output_type": "stream",
     "text": [
      "RMSE :  0.4103\n"
     ]
    }
   ],
   "source": [
    "# RMSE Computation \n",
    "rmse_2 = RMSE(y_test, pred_2) \n",
    "print(\"RMSE : % .4f\" %(rmse_2))"
   ]
  },
  {
   "cell_type": "code",
   "execution_count": 95,
   "metadata": {
    "ExecuteTime": {
     "end_time": "2021-02-08T17:30:02.920074Z",
     "start_time": "2021-02-08T17:30:02.169388Z"
    }
   },
   "outputs": [
    {
     "data": {
      "text/plain": [
       "1.5072091504823253"
      ]
     },
     "execution_count": 95,
     "metadata": {},
     "output_type": "execute_result"
    }
   ],
   "source": [
    "np.exp(rmse_2)"
   ]
  },
  {
   "cell_type": "code",
   "execution_count": 96,
   "metadata": {
    "ExecuteTime": {
     "end_time": "2021-02-08T17:30:21.890097Z",
     "start_time": "2021-02-08T17:30:21.564444Z"
    }
   },
   "outputs": [
    {
     "name": "stdout",
     "output_type": "stream",
     "text": [
      "Change in performance 0.010025195697066447\n",
      "Change in % 2.5048304655003353\n"
     ]
    }
   ],
   "source": [
    "# The performance of the model with the selected varibles \n",
    "# has a relaive relative 2.5% uplift w.r.t the model with all the variables. \n",
    "print(\"Change in performance\", rmse_2 - rmse_1)\n",
    "print(\"Change in %\", ((rmse_2 - rmse_1) / rmse_1) * 100)"
   ]
  },
  {
   "cell_type": "code",
   "execution_count": 97,
   "metadata": {
    "ExecuteTime": {
     "end_time": "2021-02-08T17:30:40.896055Z",
     "start_time": "2021-02-08T17:30:40.479263Z"
    }
   },
   "outputs": [
    {
     "name": "stdout",
     "output_type": "stream",
     "text": [
      "Change in performance £ 0.015034578474198534\n",
      "Change in % 1.0075616322804255\n"
     ]
    }
   ],
   "source": [
    "# Looking in £ units\n",
    "# The performance of the model with the selected varibles \n",
    "# has a relaive relative 1% uplift w.r.t the model with all the variables. \n",
    "print(\"Change in performance £\", np.exp(rmse_2) - np.exp(rmse_1))\n",
    "print(\"Change in %\", (np.exp(rmse_2) - np.exp(rmse_1))/np.exp(rmse_1) * 100)"
   ]
  },
  {
   "cell_type": "code",
   "execution_count": 98,
   "metadata": {
    "ExecuteTime": {
     "end_time": "2021-02-08T17:31:28.991367Z",
     "start_time": "2021-02-08T17:31:26.927127Z"
    }
   },
   "outputs": [],
   "source": [
    "# retrieve performance metrics\n",
    "results_2 = clf_2.evals_result()"
   ]
  },
  {
   "cell_type": "code",
   "execution_count": 99,
   "metadata": {
    "ExecuteTime": {
     "end_time": "2021-02-08T17:31:33.012173Z",
     "start_time": "2021-02-08T17:31:31.276812Z"
    }
   },
   "outputs": [
    {
     "data": {
      "image/png": "[encoded data removed]",
      "text/plain": [
       "<Figure size 720x360 with 1 Axes>"
      ]
     },
     "metadata": {
      "needs_background": "light"
     },
     "output_type": "display_data"
    }
   ],
   "source": [
    "fselec.xgboost_learning_curve(results_2)"
   ]
  },
  {
   "cell_type": "code",
   "execution_count": 100,
   "metadata": {
    "ExecuteTime": {
     "end_time": "2021-02-08T17:32:14.166198Z",
     "start_time": "2021-02-08T17:32:09.189596Z"
    }
   },
   "outputs": [
    {
     "data": {
      "image/png": "[encoded data removed]",
      "text/plain": [
       "<Figure size 720x1440 with 1 Axes>"
      ]
     },
     "metadata": {
      "needs_background": "light"
     },
     "output_type": "display_data"
    }
   ],
   "source": [
    "df_feat_import_2 = fselec.feature_importance(clf_2, model_type='Uncalibrated', feature_list=list_var_GA)"
   ]
  },
  {
   "cell_type": "code",
   "execution_count": 101,
   "metadata": {
    "ExecuteTime": {
     "end_time": "2021-02-08T17:32:16.259730Z",
     "start_time": "2021-02-08T17:32:16.101766Z"
    }
   },
   "outputs": [
    {
     "data": {
      "text/html": [
       "<div>\n",
       "<style scoped>\n",
       "    .dataframe tbody tr th:only-of-type {\n",
       "        vertical-align: middle;\n",
       "    }\n",
       "\n",
       "    .dataframe tbody tr th {\n",
       "        vertical-align: top;\n",
       "    }\n",
       "\n",
       "    .dataframe thead th {\n",
       "        text-align: right;\n",
       "    }\n",
       "</style>\n",
       "<table border=\"1\" class=\"dataframe\">\n",
       "  <thead>\n",
       "    <tr style=\"text-align: right;\">\n",
       "      <th></th>\n",
       "      <th>Feature_importance%</th>\n",
       "    </tr>\n",
       "  </thead>\n",
       "  <tbody>\n",
       "    <tr>\n",
       "      <th>room_type_num</th>\n",
       "      <td>63.133419</td>\n",
       "    </tr>\n",
       "    <tr>\n",
       "      <th>accommodates</th>\n",
       "      <td>9.053519</td>\n",
       "    </tr>\n",
       "    <tr>\n",
       "      <th>bedrooms</th>\n",
       "      <td>8.388864</td>\n",
       "    </tr>\n",
       "    <tr>\n",
       "      <th>bathrooms_shared</th>\n",
       "      <td>5.873417</td>\n",
       "    </tr>\n",
       "    <tr>\n",
       "      <th>tv</th>\n",
       "      <td>4.094971</td>\n",
       "    </tr>\n",
       "    <tr>\n",
       "      <th>dishwasher</th>\n",
       "      <td>3.219708</td>\n",
       "    </tr>\n",
       "    <tr>\n",
       "      <th>availability_30</th>\n",
       "      <td>1.831721</td>\n",
       "    </tr>\n",
       "    <tr>\n",
       "      <th>latitude</th>\n",
       "      <td>1.538228</td>\n",
       "    </tr>\n",
       "    <tr>\n",
       "      <th>longitude</th>\n",
       "      <td>1.521373</td>\n",
       "    </tr>\n",
       "    <tr>\n",
       "      <th>maximum_nights</th>\n",
       "      <td>0.719187</td>\n",
       "    </tr>\n",
       "    <tr>\n",
       "      <th>hot_water</th>\n",
       "      <td>0.625593</td>\n",
       "    </tr>\n",
       "    <tr>\n",
       "      <th>cable_tv</th>\n",
       "      <td>0.000000</td>\n",
       "    </tr>\n",
       "  </tbody>\n",
       "</table>\n",
       "</div>"
      ],
      "text/plain": [
       "                  Feature_importance%\n",
       "room_type_num               63.133419\n",
       "accommodates                 9.053519\n",
       "bedrooms                     8.388864\n",
       "bathrooms_shared             5.873417\n",
       "tv                           4.094971\n",
       "dishwasher                   3.219708\n",
       "availability_30              1.831721\n",
       "latitude                     1.538228\n",
       "longitude                    1.521373\n",
       "maximum_nights               0.719187\n",
       "hot_water                    0.625593\n",
       "cable_tv                     0.000000"
      ]
     },
     "execution_count": 101,
     "metadata": {},
     "output_type": "execute_result"
    }
   ],
   "source": [
    "# We can still see from here \n",
    "df_feat_import_2"
   ]
  },
  {
   "cell_type": "code",
   "execution_count": 8,
   "metadata": {
    "ExecuteTime": {
     "end_time": "2021-02-06T15:02:20.361262Z",
     "start_time": "2021-02-06T15:02:19.559217Z"
    }
   },
   "outputs": [],
   "source": [
    "corr_spear_2 = df[list_var_GA + ['price_log']].corr(method='spearman').abs()"
   ]
  },
  {
   "cell_type": "code",
   "execution_count": 9,
   "metadata": {
    "ExecuteTime": {
     "end_time": "2021-02-06T15:02:27.834345Z",
     "start_time": "2021-02-06T15:02:23.793814Z"
    }
   },
   "outputs": [
    {
     "data": {
      "image/png": "[encoded data removed]",
      "text/plain": [
       "<Figure size 1440x1080 with 2 Axes>"
      ]
     },
     "metadata": {
      "needs_background": "light"
     },
     "output_type": "display_data"
    }
   ],
   "source": [
    "mtool.heat_map_corr(corr_spear_2, cmap='coolwarm', square=False, annot=True)"
   ]
  },
  {
   "cell_type": "markdown",
   "metadata": {},
   "source": [
    "To quantfiy the imporvement in perfomrance in our different rounds, including the feature selection process and parameter tunning,a base line model will be biuld. To keep things simple the base line model predicts that the best price is the the mean value of our training set."
   ]
  },
  {
   "cell_type": "code",
   "execution_count": 102,
   "metadata": {
    "ExecuteTime": {
     "end_time": "2021-02-08T17:32:35.650717Z",
     "start_time": "2021-02-08T17:32:35.448894Z"
    }
   },
   "outputs": [],
   "source": [
    "# \"Learn\" the mean from the training data\n",
    "mean_train = np.mean(y_train)\n",
    "# Get predictions on the test set\n",
    "baseline_predictions_0 = np.ones(y_test.shape) * mean_train"
   ]
  },
  {
   "cell_type": "code",
   "execution_count": 103,
   "metadata": {
    "ExecuteTime": {
     "end_time": "2021-02-08T17:32:37.774663Z",
     "start_time": "2021-02-08T17:32:37.630895Z"
    }
   },
   "outputs": [
    {
     "name": "stdout",
     "output_type": "stream",
     "text": [
      "Baseline RMSE is 0.7305\n"
     ]
    }
   ],
   "source": [
    "# Compute RMSE\n",
    "rmse_baseline = RMSE(y_test, baseline_predictions_0)\n",
    "print(\"Baseline RMSE is {:.4f}\".format(rmse_baseline))"
   ]
  },
  {
   "cell_type": "code",
   "execution_count": 104,
   "metadata": {
    "ExecuteTime": {
     "end_time": "2021-02-08T17:32:39.641382Z",
     "start_time": "2021-02-08T17:32:39.452526Z"
    }
   },
   "outputs": [
    {
     "data": {
      "text/plain": [
       "2.0760583573459903"
      ]
     },
     "execution_count": 104,
     "metadata": {},
     "output_type": "execute_result"
    }
   ],
   "source": [
    "np.exp(rmse_baseline)"
   ]
  },
  {
   "cell_type": "markdown",
   "metadata": {},
   "source": [
    "The model with the GA coming from our feature selection has a smaller error. "
   ]
  },
  {
   "cell_type": "code",
   "execution_count": 105,
   "metadata": {
    "ExecuteTime": {
     "end_time": "2021-02-08T17:32:45.407145Z",
     "start_time": "2021-02-08T17:32:45.118941Z"
    }
   },
   "outputs": [
    {
     "name": "stdout",
     "output_type": "stream",
     "text": [
      "Change in performance -0.3202113793820787\n",
      "Change in % -43.83628458032616\n"
     ]
    }
   ],
   "source": [
    "# The performance of the XGB model has a 43.8% relative uplift w.r.t the base line \n",
    "print(\"Change in performance\", rmse_2 - rmse_baseline)\n",
    "print(\"Change in %\", ((rmse_2 - rmse_baseline) / rmse_baseline) * 100)"
   ]
  },
  {
   "cell_type": "code",
   "execution_count": 106,
   "metadata": {
    "ExecuteTime": {
     "end_time": "2021-02-08T17:32:48.696956Z",
     "start_time": "2021-02-08T17:32:48.473518Z"
    }
   },
   "outputs": [
    {
     "name": "stdout",
     "output_type": "stream",
     "text": [
      "Change in performance £ -0.568849206863665\n",
      "Change in % -27.40044396395848\n"
     ]
    }
   ],
   "source": [
    "# Looking in £ units\n",
    "# The performance of the XGB model has a 27.4% relative uplift w.r.t the base line\n",
    "print(\"Change in performance £\", np.exp(rmse_2) - np.exp(rmse_baseline))\n",
    "print(\"Change in %\", (np.exp(rmse_2) - np.exp(rmse_baseline))/np.exp(rmse_baseline) * 100)"
   ]
  },
  {
   "cell_type": "markdown",
   "metadata": {},
   "source": [
    "# Training and tunning"
   ]
  },
  {
   "cell_type": "markdown",
   "metadata": {},
   "source": [
    "Some of the parameters of XGboost have different name as the ones used in skleanr. But since XGboost module in python has an sklearn wrapper it uses sklearn style naming convention too. The parameters names which will change are:\n",
    "\n",
    "* ```eta``` –> ```learning_rate```\n",
    "* ```lambda``` –> ```reg_lambda```\n",
    "* ```alpha``` –> ```reg_alpha```\n",
    "\n",
    "\n",
    "In sklern style we have as well ```n_estimators``` parameter in GBM. Well this exists as a parameter in XGBClassifier and XGBRegressor. Sometimes is called ```num_boosting_rounds```[(Ref 1)](https://xgboost.readthedocs.io/en/latest/python/python_api.html), [(Ref 2)](https://xgboost.readthedocs.io/en/latest/parameter.html)."
   ]
  },
  {
   "cell_type": "code",
   "execution_count": 22,
   "metadata": {
    "ExecuteTime": {
     "end_time": "2021-02-06T18:47:19.709409Z",
     "start_time": "2021-02-06T18:47:17.950340Z"
    }
   },
   "outputs": [],
   "source": [
    "# starting with parameters of the model with 14 variables\n",
    "params = {\n",
    "    # Parameters to tune.\n",
    "    'max_depth':3,\n",
    "    'min_child_weight': 1,\n",
    "    'subsample': 1,\n",
    "    'colsample_bytree': 1,\n",
    "    'learnig_rate':0.1,\n",
    "    'reg_lambda':1,\n",
    "    # Other parameters\n",
    "    'objective':'reg:squarederror',\n",
    "    'random_state':0,\n",
    "    'eval_metric': 'rmse',\n",
    "    'importance_type':'gain'\n",
    "}"
   ]
  },
  {
   "cell_type": "markdown",
   "metadata": {},
   "source": [
    "Before tunning the parameters in the dictionary, first I will look how to get the number of boosters or estimators to build. ```n_estimators``` is the same ```num_boost_round```. Its optimal value highly depends on the other parameters, and thus it should be re-tuned each time you update a parameter. You could do this by tuning it together with all parameters in a grid-search, but it requires a lot of computational effort.\n",
    "\n",
    "Tehrefore, it can be used the method of XGBoost that provides a good way to find the best number of estimators whilst training. In XGboost, the trees are built sequentially instead of fixing the number of rounds at the beginning, the model can be test at each step and see if adding a new tree/round improves performance.\n",
    "\n",
    "```num_boost_round``` are the maximum number of trees or boosting rounds that will be allowed. So it can be set to a large number hoping to find the optimal number before reaching it. If we find it has not improved the performance on the test set, it can be used the ```early_stopping_round rounds``` to stop the training and keep the best number of boosting rounds. If we set up to 10, it means that from a current point of evaluation, it will continue 10 more times and asses if there is still significative improvement by addding more trees. If that is not the case, when ending the 10 round it will stop.\n",
    "\n",
    "Here I explore first how it will be used to train the model once the parameters are tuned, so the best numbers of rounds or booster are found."
   ]
  },
  {
   "cell_type": "code",
   "execution_count": 61,
   "metadata": {
    "ExecuteTime": {
     "end_time": "2021-02-05T12:21:30.194152Z",
     "start_time": "2021-02-05T12:21:30.119453Z"
    }
   },
   "outputs": [],
   "source": [
    "num_boost_round = 999"
   ]
  },
  {
   "cell_type": "code",
   "execution_count": 21,
   "metadata": {
    "ExecuteTime": {
     "end_time": "2021-02-06T18:47:04.929482Z",
     "start_time": "2021-02-06T18:47:04.639812Z"
    }
   },
   "outputs": [],
   "source": [
    "dtrain = xg.DMatrix(X_train[list_var_GA], label=y_train)\n",
    "dtest = xg.DMatrix(X_test[list_var_GA], label=y_test)"
   ]
  },
  {
   "cell_type": "code",
   "execution_count": 63,
   "metadata": {
    "ExecuteTime": {
     "end_time": "2021-02-05T12:22:16.713619Z",
     "start_time": "2021-02-05T12:21:32.038747Z"
    },
    "scrolled": true
   },
   "outputs": [
    {
     "name": "stdout",
     "output_type": "stream",
     "text": [
      "[0]\tTest-rmse:2.74489\n",
      "Will train until Test-rmse hasn't improved in 10 rounds.\n",
      "[1]\tTest-rmse:1.95081\n",
      "[2]\tTest-rmse:1.40512\n",
      "[3]\tTest-rmse:1.03776\n",
      "[4]\tTest-rmse:0.795899\n",
      "[5]\tTest-rmse:0.643602\n",
      "[6]\tTest-rmse:0.550792\n",
      "[7]\tTest-rmse:0.497682\n",
      "[8]\tTest-rmse:0.467586\n",
      "[9]\tTest-rmse:0.448465\n",
      "[10]\tTest-rmse:0.438903\n",
      "[11]\tTest-rmse:0.433401\n",
      "[12]\tTest-rmse:0.429688\n",
      "[13]\tTest-rmse:0.426105\n",
      "[14]\tTest-rmse:0.424406\n",
      "[15]\tTest-rmse:0.422271\n",
      "[16]\tTest-rmse:0.421051\n",
      "[17]\tTest-rmse:0.419356\n",
      "[18]\tTest-rmse:0.41857\n",
      "[19]\tTest-rmse:0.417487\n",
      "[20]\tTest-rmse:0.4168\n",
      "[21]\tTest-rmse:0.415734\n",
      "[22]\tTest-rmse:0.415192\n",
      "[23]\tTest-rmse:0.414648\n",
      "[24]\tTest-rmse:0.413736\n",
      "[25]\tTest-rmse:0.413123\n",
      "[26]\tTest-rmse:0.413025\n",
      "[27]\tTest-rmse:0.412622\n",
      "[28]\tTest-rmse:0.412346\n",
      "[29]\tTest-rmse:0.411782\n",
      "[30]\tTest-rmse:0.411285\n",
      "[31]\tTest-rmse:0.411117\n",
      "[32]\tTest-rmse:0.410752\n",
      "[33]\tTest-rmse:0.410614\n",
      "[34]\tTest-rmse:0.410533\n",
      "[35]\tTest-rmse:0.410409\n",
      "[36]\tTest-rmse:0.409939\n",
      "[37]\tTest-rmse:0.409616\n",
      "[38]\tTest-rmse:0.409432\n",
      "[39]\tTest-rmse:0.409348\n",
      "[40]\tTest-rmse:0.40892\n",
      "[41]\tTest-rmse:0.408761\n",
      "[42]\tTest-rmse:0.408736\n",
      "[43]\tTest-rmse:0.408408\n",
      "[44]\tTest-rmse:0.408229\n",
      "[45]\tTest-rmse:0.408182\n",
      "[46]\tTest-rmse:0.408099\n",
      "[47]\tTest-rmse:0.407727\n",
      "[48]\tTest-rmse:0.407652\n",
      "[49]\tTest-rmse:0.407424\n",
      "[50]\tTest-rmse:0.407431\n",
      "[51]\tTest-rmse:0.407285\n",
      "[52]\tTest-rmse:0.407124\n",
      "[53]\tTest-rmse:0.406997\n",
      "[54]\tTest-rmse:0.406957\n",
      "[55]\tTest-rmse:0.406847\n",
      "[56]\tTest-rmse:0.406425\n",
      "[57]\tTest-rmse:0.406285\n",
      "[58]\tTest-rmse:0.406144\n",
      "[59]\tTest-rmse:0.405963\n",
      "[60]\tTest-rmse:0.405867\n",
      "[61]\tTest-rmse:0.405812\n",
      "[62]\tTest-rmse:0.405805\n",
      "[63]\tTest-rmse:0.405686\n",
      "[64]\tTest-rmse:0.405528\n",
      "[65]\tTest-rmse:0.405512\n",
      "[66]\tTest-rmse:0.405474\n",
      "[67]\tTest-rmse:0.405343\n",
      "[68]\tTest-rmse:0.405164\n",
      "[69]\tTest-rmse:0.405011\n",
      "[70]\tTest-rmse:0.405021\n",
      "[71]\tTest-rmse:0.404797\n",
      "[72]\tTest-rmse:0.404887\n",
      "[73]\tTest-rmse:0.404915\n",
      "[74]\tTest-rmse:0.404911\n",
      "[75]\tTest-rmse:0.404855\n",
      "[76]\tTest-rmse:0.40468\n",
      "[77]\tTest-rmse:0.404671\n",
      "[78]\tTest-rmse:0.404676\n",
      "[79]\tTest-rmse:0.404573\n",
      "[80]\tTest-rmse:0.404543\n",
      "[81]\tTest-rmse:0.404535\n",
      "[82]\tTest-rmse:0.4045\n",
      "[83]\tTest-rmse:0.404449\n",
      "[84]\tTest-rmse:0.404467\n",
      "[85]\tTest-rmse:0.404346\n",
      "[86]\tTest-rmse:0.404218\n",
      "[87]\tTest-rmse:0.404269\n",
      "[88]\tTest-rmse:0.404274\n",
      "[89]\tTest-rmse:0.40413\n",
      "[90]\tTest-rmse:0.404119\n",
      "[91]\tTest-rmse:0.404079\n",
      "[92]\tTest-rmse:0.403832\n",
      "[93]\tTest-rmse:0.403803\n",
      "[94]\tTest-rmse:0.403767\n",
      "[95]\tTest-rmse:0.40378\n",
      "[96]\tTest-rmse:0.403781\n",
      "[97]\tTest-rmse:0.403564\n",
      "[98]\tTest-rmse:0.403548\n",
      "[99]\tTest-rmse:0.403556\n",
      "[100]\tTest-rmse:0.403536\n",
      "[101]\tTest-rmse:0.403546\n",
      "[102]\tTest-rmse:0.403556\n",
      "[103]\tTest-rmse:0.403422\n",
      "[104]\tTest-rmse:0.403386\n",
      "[105]\tTest-rmse:0.403388\n",
      "[106]\tTest-rmse:0.403244\n",
      "[107]\tTest-rmse:0.40326\n",
      "[108]\tTest-rmse:0.403178\n",
      "[109]\tTest-rmse:0.403112\n",
      "[110]\tTest-rmse:0.403059\n",
      "[111]\tTest-rmse:0.402983\n",
      "[112]\tTest-rmse:0.402986\n",
      "[113]\tTest-rmse:0.402968\n",
      "[114]\tTest-rmse:0.402958\n",
      "[115]\tTest-rmse:0.402954\n",
      "[116]\tTest-rmse:0.402934\n",
      "[117]\tTest-rmse:0.40289\n",
      "[118]\tTest-rmse:0.402791\n",
      "[119]\tTest-rmse:0.402703\n",
      "[120]\tTest-rmse:0.402685\n",
      "[121]\tTest-rmse:0.402541\n",
      "[122]\tTest-rmse:0.402536\n",
      "[123]\tTest-rmse:0.402408\n",
      "[124]\tTest-rmse:0.402383\n",
      "[125]\tTest-rmse:0.402355\n",
      "[126]\tTest-rmse:0.40231\n",
      "[127]\tTest-rmse:0.402174\n",
      "[128]\tTest-rmse:0.402137\n",
      "[129]\tTest-rmse:0.402127\n",
      "[130]\tTest-rmse:0.402165\n",
      "[131]\tTest-rmse:0.402186\n",
      "[132]\tTest-rmse:0.402149\n",
      "[133]\tTest-rmse:0.402148\n",
      "[134]\tTest-rmse:0.402101\n",
      "[135]\tTest-rmse:0.4021\n",
      "[136]\tTest-rmse:0.402054\n",
      "[137]\tTest-rmse:0.402006\n",
      "[138]\tTest-rmse:0.402036\n",
      "[139]\tTest-rmse:0.402061\n",
      "[140]\tTest-rmse:0.402041\n",
      "[141]\tTest-rmse:0.401987\n",
      "[142]\tTest-rmse:0.401941\n",
      "[143]\tTest-rmse:0.40191\n",
      "[144]\tTest-rmse:0.401842\n",
      "[145]\tTest-rmse:0.401841\n",
      "[146]\tTest-rmse:0.401773\n",
      "[147]\tTest-rmse:0.401654\n",
      "[148]\tTest-rmse:0.401664\n",
      "[149]\tTest-rmse:0.401641\n",
      "[150]\tTest-rmse:0.401592\n",
      "[151]\tTest-rmse:0.401502\n",
      "[152]\tTest-rmse:0.401413\n",
      "[153]\tTest-rmse:0.401383\n",
      "[154]\tTest-rmse:0.401368\n",
      "[155]\tTest-rmse:0.401325\n",
      "[156]\tTest-rmse:0.401308\n",
      "[157]\tTest-rmse:0.401314\n",
      "[158]\tTest-rmse:0.401278\n",
      "[159]\tTest-rmse:0.401257\n",
      "[160]\tTest-rmse:0.401253\n",
      "[161]\tTest-rmse:0.401268\n",
      "[162]\tTest-rmse:0.401246\n",
      "[163]\tTest-rmse:0.401255\n",
      "[164]\tTest-rmse:0.401128\n",
      "[165]\tTest-rmse:0.401029\n",
      "[166]\tTest-rmse:0.400946\n",
      "[167]\tTest-rmse:0.400893\n",
      "[168]\tTest-rmse:0.400808\n",
      "[169]\tTest-rmse:0.400832\n",
      "[170]\tTest-rmse:0.400773\n",
      "[171]\tTest-rmse:0.400824\n",
      "[172]\tTest-rmse:0.400773\n",
      "[173]\tTest-rmse:0.400759\n",
      "[174]\tTest-rmse:0.400716\n",
      "[175]\tTest-rmse:0.400738\n",
      "[176]\tTest-rmse:0.400696\n",
      "[177]\tTest-rmse:0.400642\n",
      "[178]\tTest-rmse:0.400646\n",
      "[179]\tTest-rmse:0.400652\n",
      "[180]\tTest-rmse:0.400691\n",
      "[181]\tTest-rmse:0.400689\n",
      "[182]\tTest-rmse:0.40069\n",
      "[183]\tTest-rmse:0.400645\n",
      "[184]\tTest-rmse:0.400611\n",
      "[185]\tTest-rmse:0.400554\n",
      "[186]\tTest-rmse:0.400552\n",
      "[187]\tTest-rmse:0.40056\n",
      "[188]\tTest-rmse:0.400574\n",
      "[189]\tTest-rmse:0.400522\n",
      "[190]\tTest-rmse:0.40054\n",
      "[191]\tTest-rmse:0.400542\n",
      "[192]\tTest-rmse:0.400519\n",
      "[193]\tTest-rmse:0.400522\n",
      "[194]\tTest-rmse:0.400531\n",
      "[195]\tTest-rmse:0.400563\n",
      "[196]\tTest-rmse:0.400611\n",
      "[197]\tTest-rmse:0.400496\n",
      "[198]\tTest-rmse:0.400489\n",
      "[199]\tTest-rmse:0.400451\n",
      "[200]\tTest-rmse:0.40045\n",
      "[201]\tTest-rmse:0.400427\n",
      "[202]\tTest-rmse:0.400436\n",
      "[203]\tTest-rmse:0.400387\n",
      "[204]\tTest-rmse:0.400336\n",
      "[205]\tTest-rmse:0.400176\n",
      "[206]\tTest-rmse:0.40013\n",
      "[207]\tTest-rmse:0.400128\n",
      "[208]\tTest-rmse:0.400134\n",
      "[209]\tTest-rmse:0.400133\n",
      "[210]\tTest-rmse:0.400025\n",
      "[211]\tTest-rmse:0.39999\n",
      "[212]\tTest-rmse:0.399926\n",
      "[213]\tTest-rmse:0.399954\n",
      "[214]\tTest-rmse:0.399959\n",
      "[215]\tTest-rmse:0.399964\n",
      "[216]\tTest-rmse:0.399859\n",
      "[217]\tTest-rmse:0.399795\n",
      "[218]\tTest-rmse:0.399809\n",
      "[219]\tTest-rmse:0.39981\n",
      "[220]\tTest-rmse:0.399808\n",
      "[221]\tTest-rmse:0.399773\n",
      "[222]\tTest-rmse:0.399757\n",
      "[223]\tTest-rmse:0.399723\n",
      "[224]\tTest-rmse:0.399727\n",
      "[225]\tTest-rmse:0.399688\n",
      "[226]\tTest-rmse:0.399693\n",
      "[227]\tTest-rmse:0.399708\n",
      "[228]\tTest-rmse:0.399738\n",
      "[229]\tTest-rmse:0.399723\n",
      "[230]\tTest-rmse:0.399729\n",
      "[231]\tTest-rmse:0.399701\n",
      "[232]\tTest-rmse:0.399655\n",
      "[233]\tTest-rmse:0.399657\n",
      "[234]\tTest-rmse:0.399624\n",
      "[235]\tTest-rmse:0.399602\n",
      "[236]\tTest-rmse:0.399599\n",
      "[237]\tTest-rmse:0.399632\n",
      "[238]\tTest-rmse:0.399639\n",
      "[239]\tTest-rmse:0.399601\n",
      "[240]\tTest-rmse:0.399574\n",
      "[241]\tTest-rmse:0.39957\n",
      "[242]\tTest-rmse:0.399586\n",
      "[243]\tTest-rmse:0.399589\n",
      "[244]\tTest-rmse:0.399581\n",
      "[245]\tTest-rmse:0.399563\n",
      "[246]\tTest-rmse:0.399526\n",
      "[247]\tTest-rmse:0.399546\n",
      "[248]\tTest-rmse:0.399542\n",
      "[249]\tTest-rmse:0.399488\n",
      "[250]\tTest-rmse:0.399445\n",
      "[251]\tTest-rmse:0.39944\n",
      "[252]\tTest-rmse:0.399429\n",
      "[253]\tTest-rmse:0.399433\n",
      "[254]\tTest-rmse:0.399451\n",
      "[255]\tTest-rmse:0.399423\n",
      "[256]\tTest-rmse:0.399397\n",
      "[257]\tTest-rmse:0.399438\n",
      "[258]\tTest-rmse:0.399483\n",
      "[259]\tTest-rmse:0.399478\n",
      "[260]\tTest-rmse:0.399456\n",
      "[261]\tTest-rmse:0.399328\n",
      "[262]\tTest-rmse:0.399296\n",
      "[263]\tTest-rmse:0.399261\n",
      "[264]\tTest-rmse:0.3993\n",
      "[265]\tTest-rmse:0.399315\n",
      "[266]\tTest-rmse:0.399282\n",
      "[267]\tTest-rmse:0.399259\n",
      "[268]\tTest-rmse:0.39926\n",
      "[269]\tTest-rmse:0.39923\n",
      "[270]\tTest-rmse:0.399149\n",
      "[271]\tTest-rmse:0.399146\n",
      "[272]\tTest-rmse:0.399249\n",
      "[273]\tTest-rmse:0.399267\n",
      "[274]\tTest-rmse:0.399258\n",
      "[275]\tTest-rmse:0.399229\n",
      "[276]\tTest-rmse:0.399236\n",
      "[277]\tTest-rmse:0.399198\n",
      "[278]\tTest-rmse:0.399196\n",
      "[279]\tTest-rmse:0.399181\n",
      "[280]\tTest-rmse:0.39919\n",
      "[281]\tTest-rmse:0.399175\n",
      "Stopping. Best iteration:\n",
      "[271]\tTest-rmse:0.399146\n",
      "\n"
     ]
    }
   ],
   "source": [
    "model_0 = xg.train(params,\n",
    "                    dtrain,\n",
    "                    num_boost_round=num_boost_round,\n",
    "                    evals=[(dtest, \"Test\")],\n",
    "                    early_stopping_rounds=10)"
   ]
  },
  {
   "cell_type": "code",
   "execution_count": 64,
   "metadata": {
    "ExecuteTime": {
     "end_time": "2021-02-05T12:22:18.063637Z",
     "start_time": "2021-02-05T12:22:17.970425Z"
    }
   },
   "outputs": [
    {
     "name": "stdout",
     "output_type": "stream",
     "text": [
      "Best RMSE: 0.3991 with 272 rounds\n"
     ]
    }
   ],
   "source": [
    "print(\"Best RMSE: {:.4f} with {} rounds\".format(\n",
    "                 model_0.best_score,\n",
    "                 model_0.best_iteration + 1))"
   ]
  },
  {
   "cell_type": "code",
   "execution_count": 65,
   "metadata": {
    "ExecuteTime": {
     "end_time": "2021-02-05T12:22:19.145619Z",
     "start_time": "2021-02-05T12:22:19.021265Z"
    }
   },
   "outputs": [
    {
     "data": {
      "text/plain": [
       "272"
      ]
     },
     "execution_count": 65,
     "metadata": {},
     "output_type": "execute_result"
    }
   ],
   "source": [
    "### If early stop happens\n",
    "model_0.best_ntree_limit"
   ]
  },
  {
   "cell_type": "markdown",
   "metadata": {},
   "source": [
    "The model with the defined parameters was trained with more rounds than optimal, and the RMSE is about 0.3991"
   ]
  },
  {
   "cell_type": "markdown",
   "metadata": {},
   "source": [
    "```ntree_limit```is an integer number that limits the number of trees in the prediction; defaults to ```best_ntree_limit``` if defined (i.e. it has been trained with early stopping), otherwise 0 (use all trees)."
   ]
  },
  {
   "cell_type": "code",
   "execution_count": 66,
   "metadata": {
    "ExecuteTime": {
     "end_time": "2021-02-05T12:22:21.175347Z",
     "start_time": "2021-02-05T12:22:20.632268Z"
    }
   },
   "outputs": [
    {
     "data": {
      "text/plain": [
       "array([4.8905153, 4.1272764, 3.8595452, ..., 3.561665 , 4.036723 ,\n",
       "       3.618933 ], dtype=float32)"
      ]
     },
     "execution_count": 66,
     "metadata": {},
     "output_type": "execute_result"
    }
   ],
   "source": [
    "# model prediction given the trees it was trained on\n",
    "pred_model_0 = model_0.predict(dtest, ntree_limit=model_0.best_ntree_limit) \n",
    "pred_model_0"
   ]
  },
  {
   "cell_type": "code",
   "execution_count": 67,
   "metadata": {
    "ExecuteTime": {
     "end_time": "2021-02-05T12:22:22.280073Z",
     "start_time": "2021-02-05T12:22:22.141421Z"
    }
   },
   "outputs": [
    {
     "name": "stdout",
     "output_type": "stream",
     "text": [
      "RMSE is 0.3991\n"
     ]
    }
   ],
   "source": [
    "# Compute RMSE\n",
    "rmse_untuned = RMSE(y_test, pred_model_0)\n",
    "print(\"RMSE is {:.4f}\".format(rmse_untuned))"
   ]
  },
  {
   "cell_type": "code",
   "execution_count": 68,
   "metadata": {
    "ExecuteTime": {
     "end_time": "2021-02-05T12:22:22.383286Z",
     "start_time": "2021-02-05T12:22:22.291212Z"
    }
   },
   "outputs": [
    {
     "data": {
      "text/plain": [
       "1.4905516241239225"
      ]
     },
     "execution_count": 68,
     "metadata": {},
     "output_type": "execute_result"
    }
   ],
   "source": [
    "np.exp(rmse_untuned)"
   ]
  },
  {
   "cell_type": "code",
   "execution_count": 69,
   "metadata": {
    "ExecuteTime": {
     "end_time": "2021-02-05T12:22:24.494916Z",
     "start_time": "2021-02-05T12:22:24.339006Z"
    }
   },
   "outputs": [
    {
     "data": {
      "text/plain": [
       "array([4.88933  , 4.126551 , 3.8708925, ..., 3.5660264, 4.038771 ,\n",
       "       3.6133492], dtype=float32)"
      ]
     },
     "execution_count": 69,
     "metadata": {},
     "output_type": "execute_result"
    }
   ],
   "source": [
    "# If we do not provide the best_ntree_limit it will use all the trees\n",
    "pred_model_0_f = model_0.predict(dtest) \n",
    "pred_model_0_f"
   ]
  },
  {
   "cell_type": "code",
   "execution_count": 70,
   "metadata": {
    "ExecuteTime": {
     "end_time": "2021-02-05T12:22:25.635880Z",
     "start_time": "2021-02-05T12:22:25.459187Z"
    }
   },
   "outputs": [
    {
     "name": "stdout",
     "output_type": "stream",
     "text": [
      "Baseline RMSE is 0.3992\n"
     ]
    }
   ],
   "source": [
    "# Compute RMSE\n",
    "rmse_untuned_f = RMSE(y_test, pred_model_0_f)\n",
    "print(\"Baseline RMSE is {:.4f}\".format(rmse_untuned_f))"
   ]
  },
  {
   "cell_type": "code",
   "execution_count": 71,
   "metadata": {
    "ExecuteTime": {
     "end_time": "2021-02-05T12:22:26.857660Z",
     "start_time": "2021-02-05T12:22:26.758472Z"
    }
   },
   "outputs": [
    {
     "data": {
      "text/plain": [
       "1.490594012957888"
      ]
     },
     "execution_count": 71,
     "metadata": {},
     "output_type": "execute_result"
    }
   ],
   "source": [
    "np.exp(rmse_untuned_f)"
   ]
  },
  {
   "cell_type": "code",
   "execution_count": 72,
   "metadata": {
    "ExecuteTime": {
     "end_time": "2021-02-05T12:24:44.704138Z",
     "start_time": "2021-02-05T12:22:27.834136Z"
    }
   },
   "outputs": [],
   "source": [
    "cv_results_0 = xg.cv(params, \n",
    "                      dtrain,\n",
    "                      num_boost_round=num_boost_round,\n",
    "                      seed=42,\n",
    "                      nfold=5,\n",
    "                      metrics={'rmse'},\n",
    "                      early_stopping_rounds=10)"
   ]
  },
  {
   "cell_type": "code",
   "execution_count": 73,
   "metadata": {
    "ExecuteTime": {
     "end_time": "2021-02-05T12:24:45.747075Z",
     "start_time": "2021-02-05T12:24:45.527334Z"
    },
    "format": "row"
   },
   "outputs": [
    {
     "data": {
      "text/html": [
       "<div>\n",
       "<style scoped>\n",
       "    .dataframe tbody tr th:only-of-type {\n",
       "        vertical-align: middle;\n",
       "    }\n",
       "\n",
       "    .dataframe tbody tr th {\n",
       "        vertical-align: top;\n",
       "    }\n",
       "\n",
       "    .dataframe thead th {\n",
       "        text-align: right;\n",
       "    }\n",
       "</style>\n",
       "<table border=\"1\" class=\"dataframe\">\n",
       "  <thead>\n",
       "    <tr style=\"text-align: right;\">\n",
       "      <th></th>\n",
       "      <th>train-rmse-mean</th>\n",
       "      <th>train-rmse-std</th>\n",
       "      <th>test-rmse-mean</th>\n",
       "      <th>test-rmse-std</th>\n",
       "    </tr>\n",
       "  </thead>\n",
       "  <tbody>\n",
       "    <tr>\n",
       "      <th>0</th>\n",
       "      <td>2.750812</td>\n",
       "      <td>0.001594</td>\n",
       "      <td>2.750791</td>\n",
       "      <td>0.008484</td>\n",
       "    </tr>\n",
       "    <tr>\n",
       "      <th>1</th>\n",
       "      <td>1.955832</td>\n",
       "      <td>0.001240</td>\n",
       "      <td>1.955748</td>\n",
       "      <td>0.008203</td>\n",
       "    </tr>\n",
       "    <tr>\n",
       "      <th>2</th>\n",
       "      <td>1.409908</td>\n",
       "      <td>0.001142</td>\n",
       "      <td>1.409913</td>\n",
       "      <td>0.008322</td>\n",
       "    </tr>\n",
       "    <tr>\n",
       "      <th>3</th>\n",
       "      <td>1.041586</td>\n",
       "      <td>0.001185</td>\n",
       "      <td>1.041706</td>\n",
       "      <td>0.008407</td>\n",
       "    </tr>\n",
       "    <tr>\n",
       "      <th>4</th>\n",
       "      <td>0.799326</td>\n",
       "      <td>0.001176</td>\n",
       "      <td>0.799528</td>\n",
       "      <td>0.008605</td>\n",
       "    </tr>\n",
       "  </tbody>\n",
       "</table>\n",
       "</div>"
      ],
      "text/plain": [
       "   train-rmse-mean  train-rmse-std  test-rmse-mean  test-rmse-std\n",
       "0         2.750812        0.001594        2.750791       0.008484\n",
       "1         1.955832        0.001240        1.955748       0.008203\n",
       "2         1.409908        0.001142        1.409913       0.008322\n",
       "3         1.041586        0.001185        1.041706       0.008407\n",
       "4         0.799326        0.001176        0.799528       0.008605"
      ]
     },
     "execution_count": 73,
     "metadata": {},
     "output_type": "execute_result"
    }
   ],
   "source": [
    "cv_results_0.head()"
   ]
  },
  {
   "cell_type": "code",
   "execution_count": 74,
   "metadata": {
    "ExecuteTime": {
     "end_time": "2021-02-05T12:24:46.713691Z",
     "start_time": "2021-02-05T12:24:46.635616Z"
    }
   },
   "outputs": [
    {
     "data": {
      "text/plain": [
       "(264, 4)"
      ]
     },
     "execution_count": 74,
     "metadata": {},
     "output_type": "execute_result"
    }
   ],
   "source": [
    "cv_results_0.shape"
   ]
  },
  {
   "cell_type": "code",
   "execution_count": 75,
   "metadata": {
    "ExecuteTime": {
     "end_time": "2021-02-05T12:24:47.422258Z",
     "start_time": "2021-02-05T12:24:47.365739Z"
    }
   },
   "outputs": [
    {
     "data": {
      "text/plain": [
       "263"
      ]
     },
     "execution_count": 75,
     "metadata": {},
     "output_type": "execute_result"
    }
   ],
   "source": [
    "cv_results_0['test-rmse-mean'].argmin()"
   ]
  },
  {
   "cell_type": "code",
   "execution_count": 76,
   "metadata": {
    "ExecuteTime": {
     "end_time": "2021-02-05T12:24:49.114119Z",
     "start_time": "2021-02-05T12:24:48.310676Z"
    }
   },
   "outputs": [
    {
     "name": "stdout",
     "output_type": "stream",
     "text": [
      "train-rmse-mean 0.3863628\n",
      "test-rmse-mean 0.40335299999999996\n",
      "train-rmse-std 0.0011180484068232422\n",
      "test-rmse-std 0.0059536744754815065\n"
     ]
    },
    {
     "data": {
      "image/png": "[encoded data removed]",
      "text/plain": [
       "<Figure size 720x360 with 1 Axes>"
      ]
     },
     "metadata": {
      "needs_background": "light"
     },
     "output_type": "display_data"
    }
   ],
   "source": [
    "fselec.xgboost_learning_curve(cv_results_0, \n",
    "                              train_label='train-rmse-mean',\n",
    "                              test_label='test-rmse-mean',\n",
    "                              std_col=['train-rmse-std', 'test-rmse-std'],\n",
    "                              y_lim=[0.35, 0.5]\n",
    "                             )"
   ]
  },
  {
   "cell_type": "markdown",
   "metadata": {},
   "source": [
    "With the current parameters we can see that as the number of bossters increases the variance or overfit occures since the corss validation error gets larger than the training error. So having fewer trees, leads to higher bias or underfittin. That is that the cross validating error is aproximatley equal to the training error."
   ]
  },
  {
   "cell_type": "markdown",
   "metadata": {},
   "source": [
    "If we were having infinite resources and not time constrains, a full grid search could be run with all the parameters together and find the optimal solution. It requires a lot of computational effort and we could find one model that could be closer to that optimal one that gives enough performance for our porpouse."
   ]
  },
  {
   "cell_type": "markdown",
   "metadata": {},
   "source": [
    "## Tuning the parameters that constraint the architecture or complexity of the trees: \n",
    "* ```max_depth``` is the maximum number of nodes allowed from the root to the last leaf of a tree. The deeper a tree is, the more it can model more complex relationships by adding more nodes. But if we go deeper, the splits become less relevant and are sometimes only due to noise, causing the model to overfit.\n",
    "\n",
    "* ```min_child_weight``` is the number of samples (if all samples have a weight=1) required so it can be created a new node in the tree. When ```min_child_weight``` is small, it allows the algorithm to create children that correspond to fewer samples, thus allowing for more complex trees, but again, more likely to overfit (the children are learnig from few examples, therefore overfits).\n",
    "\n",
    "Therefore, it is important to tune them together in order to find a good trade-off between model bias and variance\n",
    "The following list contains all the combinations of both parameters to try."
   ]
  },
  {
   "cell_type": "code",
   "execution_count": 77,
   "metadata": {
    "ExecuteTime": {
     "end_time": "2021-02-05T12:29:40.468927Z",
     "start_time": "2021-02-05T12:29:40.239627Z"
    }
   },
   "outputs": [],
   "source": [
    "gridsearch_params_complx = [(max_depth, min_child_weight) \n",
    "                            for max_depth in range(2,6)\n",
    "                            for min_child_weight in range(1,7)]"
   ]
  },
  {
   "cell_type": "code",
   "execution_count": 78,
   "metadata": {
    "ExecuteTime": {
     "end_time": "2021-02-05T12:29:41.539293Z",
     "start_time": "2021-02-05T12:29:41.401616Z"
    }
   },
   "outputs": [
    {
     "data": {
      "text/plain": [
       "24"
      ]
     },
     "execution_count": 78,
     "metadata": {},
     "output_type": "execute_result"
    }
   ],
   "source": [
    "len(gridsearch_params_complx)"
   ]
  },
  {
   "cell_type": "code",
   "execution_count": 79,
   "metadata": {
    "ExecuteTime": {
     "end_time": "2021-02-05T13:14:22.793404Z",
     "start_time": "2021-02-05T12:29:56.105846Z"
    }
   },
   "outputs": [
    {
     "name": "stdout",
     "output_type": "stream",
     "text": [
      "CV for max_depth=2 and min_child_weight=1\n",
      "\\RMSE 0.4066362 for 404 rounds\n",
      "CV for max_depth=2 and min_child_weight=2\n",
      "\\RMSE 0.40588940000000007 for 574 rounds\n",
      "CV for max_depth=2 and min_child_weight=3\n",
      "\\RMSE 0.4060804 for 508 rounds\n",
      "CV for max_depth=2 and min_child_weight=4\n",
      "\\RMSE 0.40682159999999995 for 415 rounds\n",
      "CV for max_depth=2 and min_child_weight=5\n",
      "\\RMSE 0.4061818 for 489 rounds\n",
      "CV for max_depth=2 and min_child_weight=6\n",
      "\\RMSE 0.405888 for 531 rounds\n",
      "CV for max_depth=3 and min_child_weight=1\n",
      "\\RMSE 0.40335299999999996 for 264 rounds\n",
      "CV for max_depth=3 and min_child_weight=2\n",
      "\\RMSE 0.40279419999999994 for 307 rounds\n",
      "CV for max_depth=3 and min_child_weight=3\n",
      "\\RMSE 0.4022956 for 387 rounds\n",
      "CV for max_depth=3 and min_child_weight=4\n",
      "\\RMSE 0.4023975999999999 for 388 rounds\n",
      "CV for max_depth=3 and min_child_weight=5\n",
      "\\RMSE 0.40241699999999997 for 354 rounds\n",
      "CV for max_depth=3 and min_child_weight=6\n",
      "\\RMSE 0.4026708 for 322 rounds\n",
      "CV for max_depth=4 and min_child_weight=1\n",
      "\\RMSE 0.40251479999999995 for 141 rounds\n",
      "CV for max_depth=4 and min_child_weight=2\n",
      "\\RMSE 0.40108360000000004 for 231 rounds\n",
      "CV for max_depth=4 and min_child_weight=3\n",
      "\\RMSE 0.40112260000000005 for 185 rounds\n",
      "CV for max_depth=4 and min_child_weight=4\n",
      "\\RMSE 0.40213079999999995 for 135 rounds\n",
      "CV for max_depth=4 and min_child_weight=5\n",
      "\\RMSE 0.401063 for 191 rounds\n",
      "CV for max_depth=4 and min_child_weight=6\n",
      "\\RMSE 0.40076600000000007 for 216 rounds\n",
      "CV for max_depth=5 and min_child_weight=1\n",
      "\\RMSE 0.39968760000000003 for 138 rounds\n",
      "CV for max_depth=5 and min_child_weight=2\n",
      "\\RMSE 0.3997408 for 167 rounds\n",
      "CV for max_depth=5 and min_child_weight=3\n",
      "\\RMSE 0.4002126 for 126 rounds\n",
      "CV for max_depth=5 and min_child_weight=4\n",
      "\\RMSE 0.400117 for 131 rounds\n",
      "CV for max_depth=5 and min_child_weight=5\n",
      "\\RMSE 0.4004504 for 112 rounds\n",
      "CV for max_depth=5 and min_child_weight=6\n",
      "\\RMSE 0.4003094 for 168 rounds\n",
      "Best params: max_depth = 5, min_child_weight = 1, MSER: 0.39968760000000003\n",
      "Execution Time 0:44:26.550668\n"
     ]
    }
   ],
   "source": [
    "min_test_err, min_train_err, boost_rounds = mselec.grid_search(gridsearch_params=gridsearch_params_complx,\n",
    "                                                                orignal_params=params,\n",
    "                                                                param_list_name=['max_depth', 'min_child_weight'],\n",
    "                                                                dtrain=dtrain,\n",
    "                                                                num_boost_round=num_boost_round,\n",
    "                                                                seed=42,\n",
    "                                                                nfold=5,\n",
    "                                                                metrics={'rmse'},\n",
    "                                                                early_stopping_rounds=10)"
   ]
  },
  {
   "cell_type": "markdown",
   "metadata": {},
   "source": [
    "44 minutes execution time"
   ]
  },
  {
   "cell_type": "markdown",
   "metadata": {
    "ExecuteTime": {
     "end_time": "2021-02-04T14:42:41.639471Z",
     "start_time": "2021-02-04T14:42:40.274399Z"
    }
   },
   "source": [
    "We get the best score with a max_depth of 5 and min_child_weight of 6, so let's update the params"
   ]
  },
  {
   "cell_type": "code",
   "execution_count": 80,
   "metadata": {
    "ExecuteTime": {
     "end_time": "2021-02-05T13:15:59.443429Z",
     "start_time": "2021-02-05T13:15:58.990265Z"
    }
   },
   "outputs": [],
   "source": [
    "# updating the dicitonary with the optimal values found \n",
    "params['max_depth'] = 5\n",
    "params['min_child_weight'] = 1"
   ]
  },
  {
   "cell_type": "code",
   "execution_count": 81,
   "metadata": {
    "ExecuteTime": {
     "end_time": "2021-02-05T13:16:03.163097Z",
     "start_time": "2021-02-05T13:16:02.308325Z"
    }
   },
   "outputs": [
    {
     "data": {
      "image/png": "[encoded data removed]",
      "text/plain": [
       "<Figure size 720x432 with 1 Axes>"
      ]
     },
     "metadata": {
      "needs_background": "light"
     },
     "output_type": "display_data"
    }
   ],
   "source": [
    "# I my remove this, I am just checking \n",
    "mselec.grid_search_rounds(min_test_err, min_train_err, boost_rounds, y_limit=None)"
   ]
  },
  {
   "cell_type": "markdown",
   "metadata": {},
   "source": [
    "## Tuning the parameters that control the sampling of the data set at each boosting round. "
   ]
  },
  {
   "cell_type": "markdown",
   "metadata": {},
   "source": [
    "What they do is that instead of allowing the whole data set to be used at every round, it builds a tree on slightly different data at each step. This approach is followed since it makes it less likely to overfit to a single sample or feature.\n",
    "\n",
    "* ```subsample``` is the fraction of observations or rows to subsample at each step.The default is set to 1 meaning that is using the whole observations or rows.\n",
    "\n",
    "* ```colsample_bytree``` is fraction of features/variables/columns to be used. The default is set to 1 meaning that is using all features.\n"
   ]
  },
  {
   "cell_type": "code",
   "execution_count": 82,
   "metadata": {
    "ExecuteTime": {
     "end_time": "2021-02-05T13:16:10.488724Z",
     "start_time": "2021-02-05T13:16:10.417833Z"
    }
   },
   "outputs": [],
   "source": [
    "gridsearch_params = [(subsample, colsample)\n",
    "                    for subsample in [i/10. for i in range(5,11)]\n",
    "                    for colsample in [i/10. for i in range(5,11)]\n",
    "                    ]"
   ]
  },
  {
   "cell_type": "code",
   "execution_count": 83,
   "metadata": {
    "ExecuteTime": {
     "end_time": "2021-02-05T13:16:12.485092Z",
     "start_time": "2021-02-05T13:16:12.418611Z"
    }
   },
   "outputs": [
    {
     "data": {
      "text/plain": [
       "36"
      ]
     },
     "execution_count": 83,
     "metadata": {},
     "output_type": "execute_result"
    }
   ],
   "source": [
    "len(gridsearch_params)"
   ]
  },
  {
   "cell_type": "code",
   "execution_count": 84,
   "metadata": {
    "ExecuteTime": {
     "end_time": "2021-02-05T13:59:06.315292Z",
     "start_time": "2021-02-05T13:16:17.962286Z"
    }
   },
   "outputs": [
    {
     "name": "stdout",
     "output_type": "stream",
     "text": [
      "CV for subsample=0.5 and colsample_bytree=0.5\n",
      "\\RMSE 0.4042236 for 91 rounds\n",
      "CV for subsample=0.5 and colsample_bytree=0.6\n",
      "\\RMSE 0.4038746 for 91 rounds\n",
      "CV for subsample=0.5 and colsample_bytree=0.7\n",
      "\\RMSE 0.4033848 for 104 rounds\n",
      "CV for subsample=0.5 and colsample_bytree=0.8\n",
      "\\RMSE 0.40277320000000005 for 103 rounds\n",
      "CV for subsample=0.5 and colsample_bytree=0.9\n",
      "\\RMSE 0.4028866000000001 for 124 rounds\n",
      "CV for subsample=0.5 and colsample_bytree=1.0\n",
      "\\RMSE 0.403868 for 92 rounds\n",
      "CV for subsample=0.6 and colsample_bytree=0.5\n",
      "\\RMSE 0.40337900000000004 for 90 rounds\n",
      "CV for subsample=0.6 and colsample_bytree=0.6\n",
      "\\RMSE 0.402278 for 129 rounds\n",
      "CV for subsample=0.6 and colsample_bytree=0.7\n",
      "\\RMSE 0.40259999999999996 for 113 rounds\n",
      "CV for subsample=0.6 and colsample_bytree=0.8\n",
      "\\RMSE 0.403024 for 135 rounds\n",
      "CV for subsample=0.6 and colsample_bytree=0.9\n",
      "\\RMSE 0.402397 for 80 rounds\n",
      "CV for subsample=0.6 and colsample_bytree=1.0\n",
      "\\RMSE 0.40250139999999995 for 113 rounds\n",
      "CV for subsample=0.7 and colsample_bytree=0.5\n",
      "\\RMSE 0.4023428 for 140 rounds\n",
      "CV for subsample=0.7 and colsample_bytree=0.6\n",
      "\\RMSE 0.401947 for 122 rounds\n",
      "CV for subsample=0.7 and colsample_bytree=0.7\n",
      "\\RMSE 0.40196660000000006 for 93 rounds\n",
      "CV for subsample=0.7 and colsample_bytree=0.8\n",
      "\\RMSE 0.4020728 for 145 rounds\n",
      "CV for subsample=0.7 and colsample_bytree=0.9\n",
      "\\RMSE 0.4012732 for 122 rounds\n",
      "CV for subsample=0.7 and colsample_bytree=1.0\n",
      "\\RMSE 0.40258580000000005 for 74 rounds\n",
      "CV for subsample=0.8 and colsample_bytree=0.5\n",
      "\\RMSE 0.40129339999999997 for 132 rounds\n",
      "CV for subsample=0.8 and colsample_bytree=0.6\n",
      "\\RMSE 0.4022298 for 113 rounds\n",
      "CV for subsample=0.8 and colsample_bytree=0.7\n",
      "\\RMSE 0.40154180000000006 for 110 rounds\n",
      "CV for subsample=0.8 and colsample_bytree=0.8\n",
      "\\RMSE 0.40120120000000004 for 124 rounds\n",
      "CV for subsample=0.8 and colsample_bytree=0.9\n",
      "\\RMSE 0.40069479999999996 for 140 rounds\n",
      "CV for subsample=0.8 and colsample_bytree=1.0\n",
      "\\RMSE 0.40186320000000003 for 87 rounds\n",
      "CV for subsample=0.9 and colsample_bytree=0.5\n",
      "\\RMSE 0.40087039999999996 for 134 rounds\n",
      "CV for subsample=0.9 and colsample_bytree=0.6\n",
      "\\RMSE 0.400851 for 167 rounds\n",
      "CV for subsample=0.9 and colsample_bytree=0.7\n",
      "\\RMSE 0.40028199999999997 for 158 rounds\n",
      "CV for subsample=0.9 and colsample_bytree=0.8\n",
      "\\RMSE 0.40124960000000004 for 109 rounds\n",
      "CV for subsample=0.9 and colsample_bytree=0.9\n",
      "\\RMSE 0.40000979999999997 for 130 rounds\n",
      "CV for subsample=0.9 and colsample_bytree=1.0\n",
      "\\RMSE 0.40059379999999994 for 139 rounds\n",
      "CV for subsample=1.0 and colsample_bytree=0.5\n",
      "\\RMSE 0.4007968 for 147 rounds\n",
      "CV for subsample=1.0 and colsample_bytree=0.6\n",
      "\\RMSE 0.40077999999999997 for 159 rounds\n",
      "CV for subsample=1.0 and colsample_bytree=0.7\n",
      "\\RMSE 0.4007836 for 112 rounds\n",
      "CV for subsample=1.0 and colsample_bytree=0.8\n",
      "\\RMSE 0.4006895999999999 for 112 rounds\n",
      "CV for subsample=1.0 and colsample_bytree=0.9\n",
      "\\RMSE 0.4005526 for 105 rounds\n",
      "CV for subsample=1.0 and colsample_bytree=1.0\n",
      "\\RMSE 0.39968760000000003 for 138 rounds\n",
      "Best params: subsample = 1.0, colsample_bytree = 1.0, MSER: 0.39968760000000003\n",
      "Execution Time 0:42:47.970398\n"
     ]
    }
   ],
   "source": [
    "min_test_err_2, min_train_err_2, boost_rounds_2 = mselec.grid_search(gridsearch_params=gridsearch_params,\n",
    "                                                                orignal_params=params,\n",
    "                                                                param_list_name=['subsample', 'colsample_bytree'],\n",
    "                                                                dtrain=dtrain,\n",
    "                                                                num_boost_round=num_boost_round,\n",
    "                                                                seed=42,\n",
    "                                                                nfold=5,\n",
    "                                                                metrics={'rmse'},\n",
    "                                                                early_stopping_rounds=10)"
   ]
  },
  {
   "cell_type": "markdown",
   "metadata": {},
   "source": [
    "We get the best parameters are subsample = 1.0, colsample_bytree = 1.0, so let's update the params."
   ]
  },
  {
   "cell_type": "code",
   "execution_count": 85,
   "metadata": {
    "ExecuteTime": {
     "end_time": "2021-02-05T14:00:07.227736Z",
     "start_time": "2021-02-05T14:00:06.638027Z"
    }
   },
   "outputs": [],
   "source": [
    "params['subsample'] = 1.0\n",
    "params['colsample_bytree'] = 1.0"
   ]
  },
  {
   "cell_type": "code",
   "execution_count": 86,
   "metadata": {
    "ExecuteTime": {
     "end_time": "2021-02-05T14:00:09.925487Z",
     "start_time": "2021-02-05T14:00:08.335988Z"
    }
   },
   "outputs": [
    {
     "data": {
      "image/png": "[encoded data removed]",
      "text/plain": [
       "<Figure size 720x432 with 1 Axes>"
      ]
     },
     "metadata": {
      "needs_background": "light"
     },
     "output_type": "display_data"
    }
   ],
   "source": [
    "# I my remove this, I am just checking the path of the search\n",
    "mselec.grid_search_rounds(min_test_err_2, min_train_err_2, boost_rounds_2, y_limit=None)"
   ]
  },
  {
   "cell_type": "markdown",
   "metadata": {},
   "source": [
    "## Tuning the parameters that controls the learning and model regularisation"
   ]
  },
  {
   "cell_type": "markdown",
   "metadata": {},
   "source": [
    "* ```eta``` alias ```learning_rate``` controls the shrinkage of the weights associated to features after each round, in other words it defines the amount of \"correction\" we make at each gradient descendetn step. Remember that that at each boosting round is correcting the errors of previous rounds. So having a small value of this parameter makes our model more robust to overfitting, so the smaller it is the most conservative it becomes. But the price to pay is to to increase the number of boosting rounds which takes more time to train, and sometimes without acheving great improvements.\n",
    "\n",
    "\n",
    "* ```reg_lambda```L2 regularization term on weights. Increasing this value will make model more conservative to avoid overfitting."
   ]
  },
  {
   "cell_type": "code",
   "execution_count": 87,
   "metadata": {
    "ExecuteTime": {
     "end_time": "2021-02-05T14:00:20.445095Z",
     "start_time": "2021-02-05T14:00:20.361175Z"
    }
   },
   "outputs": [],
   "source": [
    "learning_rate_val = [.2, .1, .05, .01, .005]"
   ]
  },
  {
   "cell_type": "code",
   "execution_count": 88,
   "metadata": {
    "ExecuteTime": {
     "end_time": "2021-02-05T14:00:21.720311Z",
     "start_time": "2021-02-05T14:00:21.599244Z"
    }
   },
   "outputs": [],
   "source": [
    "reag_lambda_val = [1e-5, 1e-2, 0.1, 1, 20]"
   ]
  },
  {
   "cell_type": "code",
   "execution_count": 89,
   "metadata": {
    "ExecuteTime": {
     "end_time": "2021-02-05T14:00:23.579262Z",
     "start_time": "2021-02-05T14:00:23.477746Z"
    }
   },
   "outputs": [],
   "source": [
    "gridsearch_params = [(learning_rate, reg_lambda)\n",
    "                    for learning_rate in learning_rate_val\n",
    "                    for reg_lambda in reag_lambda_val\n",
    "                    ]"
   ]
  },
  {
   "cell_type": "code",
   "execution_count": 90,
   "metadata": {
    "ExecuteTime": {
     "end_time": "2021-02-05T14:00:24.675860Z",
     "start_time": "2021-02-05T14:00:24.582542Z"
    }
   },
   "outputs": [
    {
     "data": {
      "text/plain": [
       "25"
      ]
     },
     "execution_count": 90,
     "metadata": {},
     "output_type": "execute_result"
    }
   ],
   "source": [
    "len(gridsearch_params)"
   ]
  },
  {
   "cell_type": "code",
   "execution_count": 91,
   "metadata": {
    "ExecuteTime": {
     "end_time": "2021-02-05T17:33:03.021605Z",
     "start_time": "2021-02-05T14:00:28.375247Z"
    }
   },
   "outputs": [
    {
     "name": "stdout",
     "output_type": "stream",
     "text": [
      "CV for learning_rate=0.2 and reg_lambda=1e-05\n",
      "\\RMSE 0.399609 for 183 rounds\n",
      "CV for learning_rate=0.2 and reg_lambda=0.01\n",
      "\\RMSE 0.3999272 for 146 rounds\n",
      "CV for learning_rate=0.2 and reg_lambda=0.1\n",
      "\\RMSE 0.3993626 for 155 rounds\n",
      "CV for learning_rate=0.2 and reg_lambda=1\n",
      "\\RMSE 0.3988758 for 228 rounds\n",
      "CV for learning_rate=0.2 and reg_lambda=20\n",
      "\\RMSE 0.397713 for 297 rounds\n",
      "CV for learning_rate=0.1 and reg_lambda=1e-05\n",
      "\\RMSE 0.3983094 for 375 rounds\n",
      "CV for learning_rate=0.1 and reg_lambda=0.01\n",
      "\\RMSE 0.3987736 for 355 rounds\n",
      "CV for learning_rate=0.1 and reg_lambda=0.1\n",
      "\\RMSE 0.39831159999999993 for 410 rounds\n",
      "CV for learning_rate=0.1 and reg_lambda=1\n",
      "\\RMSE 0.39802299999999996 for 454 rounds\n",
      "CV for learning_rate=0.1 and reg_lambda=20\n",
      "\\RMSE 0.3966082 for 804 rounds\n",
      "CV for learning_rate=0.05 and reg_lambda=1e-05\n",
      "\\RMSE 0.3987512 for 605 rounds\n",
      "CV for learning_rate=0.05 and reg_lambda=0.01\n",
      "\\RMSE 0.3983286 for 683 rounds\n",
      "CV for learning_rate=0.05 and reg_lambda=0.1\n",
      "\\RMSE 0.39853820000000006 for 654 rounds\n",
      "CV for learning_rate=0.05 and reg_lambda=1\n",
      "\\RMSE 0.39794339999999995 for 756 rounds\n",
      "CV for learning_rate=0.05 and reg_lambda=20\n",
      "\\RMSE 0.39737540000000005 for 999 rounds\n",
      "CV for learning_rate=0.01 and reg_lambda=1e-05\n",
      "\\RMSE 0.4038946 for 999 rounds\n",
      "CV for learning_rate=0.01 and reg_lambda=0.01\n",
      "\\RMSE 0.4038018 for 999 rounds\n",
      "CV for learning_rate=0.01 and reg_lambda=0.1\n",
      "\\RMSE 0.4038551999999999 for 999 rounds\n",
      "CV for learning_rate=0.01 and reg_lambda=1\n",
      "\\RMSE 0.4038212 for 999 rounds\n",
      "CV for learning_rate=0.01 and reg_lambda=20\n",
      "\\RMSE 0.40455500000000005 for 999 rounds\n",
      "CV for learning_rate=0.005 and reg_lambda=1e-05\n",
      "\\RMSE 0.4114984 for 999 rounds\n",
      "CV for learning_rate=0.005 and reg_lambda=0.01\n",
      "\\RMSE 0.41149420000000003 for 999 rounds\n",
      "CV for learning_rate=0.005 and reg_lambda=0.1\n",
      "\\RMSE 0.411527 for 999 rounds\n",
      "CV for learning_rate=0.005 and reg_lambda=1\n",
      "\\RMSE 0.4114764 for 999 rounds\n",
      "CV for learning_rate=0.005 and reg_lambda=20\n",
      "\\RMSE 0.41385640000000007 for 999 rounds\n",
      "Best params: learning_rate = 0.1, reg_lambda = 20, MSER: 0.3966082\n",
      "Execution Time 3:32:34.057469\n"
     ]
    }
   ],
   "source": [
    "min_test_err_3, min_train_err_3, boost_rounds_3 = mselec.grid_search(gridsearch_params=gridsearch_params,\n",
    "                                                                orignal_params=params,\n",
    "                                                                param_list_name=['learning_rate', 'reg_lambda'],\n",
    "                                                                dtrain=dtrain,\n",
    "                                                                num_boost_round=num_boost_round,\n",
    "                                                                seed=42,\n",
    "                                                                nfold=5,\n",
    "                                                                metrics={'rmse'},\n",
    "                                                                early_stopping_rounds=10)"
   ]
  },
  {
   "cell_type": "code",
   "execution_count": 95,
   "metadata": {
    "ExecuteTime": {
     "end_time": "2021-02-05T17:54:04.329535Z",
     "start_time": "2021-02-05T17:54:04.275021Z"
    }
   },
   "outputs": [],
   "source": [
    "params['learning_rate'] = 0.1\n",
    "params['reg_lambda'] = 20"
   ]
  },
  {
   "cell_type": "code",
   "execution_count": 92,
   "metadata": {
    "ExecuteTime": {
     "end_time": "2021-02-05T17:52:43.476985Z",
     "start_time": "2021-02-05T17:52:39.111560Z"
    }
   },
   "outputs": [
    {
     "data": {
      "image/png": "[encoded data removed]",
      "text/plain": [
       "<Figure size 720x432 with 1 Axes>"
      ]
     },
     "metadata": {
      "needs_background": "light"
     },
     "output_type": "display_data"
    }
   ],
   "source": [
    "# I my remove this, I am just checking the path of the search\n",
    "mselec.grid_search_rounds(min_test_err_3, min_train_err_3, boost_rounds_3, y_limit=None)"
   ]
  },
  {
   "cell_type": "code",
   "execution_count": 48,
   "metadata": {
    "ExecuteTime": {
     "end_time": "2021-02-08T17:07:52.174051Z",
     "start_time": "2021-02-08T17:07:50.000971Z"
    }
   },
   "outputs": [],
   "source": [
    "params_final = {'max_depth': 5,\n",
    "                 'min_child_weight': 1,\n",
    "                 'subsample': 1.0,\n",
    "                 'colsample_bytree': 1.0,\n",
    "                 'learnig_rate': 0.1,\n",
    "                 'reg_lambda': 20,\n",
    "                 'objective': 'reg:squarederror',\n",
    "                 'random_state': 0,\n",
    "                 'eval_metric': 'rmse',\n",
    "                 'importance_type': 'gain'}"
   ]
  },
  {
   "cell_type": "markdown",
   "metadata": {},
   "source": [
    "## Training  the model"
   ]
  },
  {
   "cell_type": "markdown",
   "metadata": {},
   "source": [
    "Finding the optimal  value of ```num_boost_round optimal``` highly depends on the other parameters, and thus it should be re-tuned each time you update a parameter. In the CV we did something similar for finding the best other parameters, but now that we have the final set, it is the turn to find the optimal number of boosters. Let's see how much we improve our base line score, and the one from the untune model.\n"
   ]
  },
  {
   "cell_type": "code",
   "execution_count": 53,
   "metadata": {
    "ExecuteTime": {
     "end_time": "2021-02-08T17:13:05.409944Z",
     "start_time": "2021-02-08T17:12:28.281459Z"
    },
    "scrolled": true
   },
   "outputs": [
    {
     "name": "stdout",
     "output_type": "stream",
     "text": [
      "[0]\tTest-rmse:2.74791\n",
      "Will train until Test-rmse hasn't improved in 10 rounds.\n",
      "[1]\tTest-rmse:1.95537\n",
      "[2]\tTest-rmse:1.40953\n",
      "[3]\tTest-rmse:1.04001\n",
      "[4]\tTest-rmse:0.794114\n",
      "[5]\tTest-rmse:0.637076\n",
      "[6]\tTest-rmse:0.541455\n",
      "[7]\tTest-rmse:0.486069\n",
      "[8]\tTest-rmse:0.454121\n",
      "[9]\tTest-rmse:0.435344\n",
      "[10]\tTest-rmse:0.425524\n",
      "[11]\tTest-rmse:0.419978\n",
      "[12]\tTest-rmse:0.416386\n",
      "[13]\tTest-rmse:0.414111\n",
      "[14]\tTest-rmse:0.411829\n",
      "[15]\tTest-rmse:0.410443\n",
      "[16]\tTest-rmse:0.409484\n",
      "[17]\tTest-rmse:0.408669\n",
      "[18]\tTest-rmse:0.407895\n",
      "[19]\tTest-rmse:0.407044\n",
      "[20]\tTest-rmse:0.406658\n",
      "[21]\tTest-rmse:0.405803\n",
      "[22]\tTest-rmse:0.405533\n",
      "[23]\tTest-rmse:0.405123\n",
      "[24]\tTest-rmse:0.404377\n",
      "[25]\tTest-rmse:0.404251\n",
      "[26]\tTest-rmse:0.403673\n",
      "[27]\tTest-rmse:0.403502\n",
      "[28]\tTest-rmse:0.403083\n",
      "[29]\tTest-rmse:0.402484\n",
      "[30]\tTest-rmse:0.402313\n",
      "[31]\tTest-rmse:0.402145\n",
      "[32]\tTest-rmse:0.40151\n",
      "[33]\tTest-rmse:0.401314\n",
      "[34]\tTest-rmse:0.401221\n",
      "[35]\tTest-rmse:0.401031\n",
      "[36]\tTest-rmse:0.400997\n",
      "[37]\tTest-rmse:0.400582\n",
      "[38]\tTest-rmse:0.400586\n",
      "[39]\tTest-rmse:0.400577\n",
      "[40]\tTest-rmse:0.400468\n",
      "[41]\tTest-rmse:0.400093\n",
      "[42]\tTest-rmse:0.400098\n",
      "[43]\tTest-rmse:0.399866\n",
      "[44]\tTest-rmse:0.399611\n",
      "[45]\tTest-rmse:0.399632\n",
      "[46]\tTest-rmse:0.399533\n",
      "[47]\tTest-rmse:0.398913\n",
      "[48]\tTest-rmse:0.398446\n",
      "[49]\tTest-rmse:0.398162\n",
      "[50]\tTest-rmse:0.397972\n",
      "[51]\tTest-rmse:0.397955\n",
      "[52]\tTest-rmse:0.397906\n",
      "[53]\tTest-rmse:0.397872\n",
      "[54]\tTest-rmse:0.397853\n",
      "[55]\tTest-rmse:0.397633\n",
      "[56]\tTest-rmse:0.397577\n",
      "[57]\tTest-rmse:0.397402\n",
      "[58]\tTest-rmse:0.397369\n",
      "[59]\tTest-rmse:0.39724\n",
      "[60]\tTest-rmse:0.397231\n",
      "[61]\tTest-rmse:0.397226\n",
      "[62]\tTest-rmse:0.397222\n",
      "[63]\tTest-rmse:0.397129\n",
      "[64]\tTest-rmse:0.39709\n",
      "[65]\tTest-rmse:0.397025\n",
      "[66]\tTest-rmse:0.396937\n",
      "[67]\tTest-rmse:0.396916\n",
      "[68]\tTest-rmse:0.3969\n",
      "[69]\tTest-rmse:0.396763\n",
      "[70]\tTest-rmse:0.396563\n",
      "[71]\tTest-rmse:0.396559\n",
      "[72]\tTest-rmse:0.396503\n",
      "[73]\tTest-rmse:0.39639\n",
      "[74]\tTest-rmse:0.396332\n",
      "[75]\tTest-rmse:0.3964\n",
      "[76]\tTest-rmse:0.396372\n",
      "[77]\tTest-rmse:0.396286\n",
      "[78]\tTest-rmse:0.396272\n",
      "[79]\tTest-rmse:0.396267\n",
      "[80]\tTest-rmse:0.39619\n",
      "[81]\tTest-rmse:0.396179\n",
      "[82]\tTest-rmse:0.396166\n",
      "[83]\tTest-rmse:0.396133\n",
      "[84]\tTest-rmse:0.396125\n",
      "[85]\tTest-rmse:0.39613\n",
      "[86]\tTest-rmse:0.39612\n",
      "[87]\tTest-rmse:0.39613\n",
      "[88]\tTest-rmse:0.396119\n",
      "[89]\tTest-rmse:0.396032\n",
      "[90]\tTest-rmse:0.395961\n",
      "[91]\tTest-rmse:0.395808\n",
      "[92]\tTest-rmse:0.395765\n",
      "[93]\tTest-rmse:0.395618\n",
      "[94]\tTest-rmse:0.395617\n",
      "[95]\tTest-rmse:0.395556\n",
      "[96]\tTest-rmse:0.395552\n",
      "[97]\tTest-rmse:0.395536\n",
      "[98]\tTest-rmse:0.395541\n",
      "[99]\tTest-rmse:0.395459\n",
      "[100]\tTest-rmse:0.395352\n",
      "[101]\tTest-rmse:0.395373\n",
      "[102]\tTest-rmse:0.395246\n",
      "[103]\tTest-rmse:0.395207\n",
      "[104]\tTest-rmse:0.395224\n",
      "[105]\tTest-rmse:0.395198\n",
      "[106]\tTest-rmse:0.395245\n",
      "[107]\tTest-rmse:0.395241\n",
      "[108]\tTest-rmse:0.395245\n",
      "[109]\tTest-rmse:0.395261\n",
      "[110]\tTest-rmse:0.395247\n",
      "[111]\tTest-rmse:0.395228\n",
      "[112]\tTest-rmse:0.395204\n",
      "[113]\tTest-rmse:0.395187\n",
      "[114]\tTest-rmse:0.395205\n",
      "[115]\tTest-rmse:0.395168\n",
      "[116]\tTest-rmse:0.395141\n",
      "[117]\tTest-rmse:0.395137\n",
      "[118]\tTest-rmse:0.395128\n",
      "[119]\tTest-rmse:0.395135\n",
      "[120]\tTest-rmse:0.395147\n",
      "[121]\tTest-rmse:0.395137\n",
      "[122]\tTest-rmse:0.395151\n",
      "[123]\tTest-rmse:0.39511\n",
      "[124]\tTest-rmse:0.395143\n",
      "[125]\tTest-rmse:0.395105\n",
      "[126]\tTest-rmse:0.395\n",
      "[127]\tTest-rmse:0.395001\n",
      "[128]\tTest-rmse:0.394992\n",
      "[129]\tTest-rmse:0.394994\n",
      "[130]\tTest-rmse:0.39499\n",
      "[131]\tTest-rmse:0.394985\n",
      "[132]\tTest-rmse:0.394985\n",
      "[133]\tTest-rmse:0.394979\n",
      "[134]\tTest-rmse:0.394971\n",
      "[135]\tTest-rmse:0.394971\n",
      "[136]\tTest-rmse:0.394966\n",
      "[137]\tTest-rmse:0.394975\n",
      "[138]\tTest-rmse:0.395\n",
      "[139]\tTest-rmse:0.394954\n",
      "[140]\tTest-rmse:0.394983\n",
      "[141]\tTest-rmse:0.394967\n",
      "[142]\tTest-rmse:0.394961\n",
      "[143]\tTest-rmse:0.394955\n",
      "[144]\tTest-rmse:0.394976\n",
      "[145]\tTest-rmse:0.395008\n",
      "[146]\tTest-rmse:0.395004\n",
      "[147]\tTest-rmse:0.395027\n",
      "[148]\tTest-rmse:0.395008\n",
      "[149]\tTest-rmse:0.394934\n",
      "[150]\tTest-rmse:0.394949\n",
      "[151]\tTest-rmse:0.394958\n",
      "[152]\tTest-rmse:0.394874\n",
      "[153]\tTest-rmse:0.394777\n",
      "[154]\tTest-rmse:0.394758\n",
      "[155]\tTest-rmse:0.394716\n",
      "[156]\tTest-rmse:0.394706\n",
      "[157]\tTest-rmse:0.394672\n",
      "[158]\tTest-rmse:0.394617\n",
      "[159]\tTest-rmse:0.394495\n",
      "[160]\tTest-rmse:0.3945\n",
      "[161]\tTest-rmse:0.394506\n",
      "[162]\tTest-rmse:0.39451\n",
      "[163]\tTest-rmse:0.394496\n",
      "[164]\tTest-rmse:0.394456\n",
      "[165]\tTest-rmse:0.394488\n",
      "[166]\tTest-rmse:0.394475\n",
      "[167]\tTest-rmse:0.394526\n",
      "[168]\tTest-rmse:0.394519\n",
      "[169]\tTest-rmse:0.394516\n",
      "[170]\tTest-rmse:0.394513\n",
      "[171]\tTest-rmse:0.394419\n",
      "[172]\tTest-rmse:0.394392\n",
      "[173]\tTest-rmse:0.394367\n",
      "[174]\tTest-rmse:0.394347\n",
      "[175]\tTest-rmse:0.39439\n",
      "[176]\tTest-rmse:0.394391\n",
      "[177]\tTest-rmse:0.394423\n",
      "[178]\tTest-rmse:0.394333\n",
      "[179]\tTest-rmse:0.394271\n",
      "[180]\tTest-rmse:0.394199\n",
      "[181]\tTest-rmse:0.394161\n",
      "[182]\tTest-rmse:0.394156\n",
      "[183]\tTest-rmse:0.394137\n",
      "[184]\tTest-rmse:0.394171\n",
      "[185]\tTest-rmse:0.394184\n",
      "[186]\tTest-rmse:0.394149\n",
      "[187]\tTest-rmse:0.394143\n",
      "[188]\tTest-rmse:0.394189\n",
      "[189]\tTest-rmse:0.394189\n",
      "[190]\tTest-rmse:0.394191\n",
      "[191]\tTest-rmse:0.394208\n",
      "[192]\tTest-rmse:0.39426\n",
      "[193]\tTest-rmse:0.394264\n",
      "Stopping. Best iteration:\n",
      "[183]\tTest-rmse:0.394137\n",
      "\n"
     ]
    }
   ],
   "source": [
    "model_1 = xg.train(params_final,\n",
    "                    dtrain,\n",
    "                    num_boost_round=num_boost_round,\n",
    "                    evals=[(dtest, \"Test\")],\n",
    "                    early_stopping_rounds=10)"
   ]
  },
  {
   "cell_type": "code",
   "execution_count": 54,
   "metadata": {
    "ExecuteTime": {
     "end_time": "2021-02-08T17:13:27.300452Z",
     "start_time": "2021-02-08T17:13:26.945422Z"
    }
   },
   "outputs": [
    {
     "name": "stdout",
     "output_type": "stream",
     "text": [
      "Best RMSE: 0.3941 with 184 rounds\n"
     ]
    }
   ],
   "source": [
    "print(\"Best RMSE: {:.4f} with {} rounds\".format(\n",
    "                 model_1.best_score,\n",
    "                 model_1.best_iteration + 1))"
   ]
  },
  {
   "cell_type": "code",
   "execution_count": 55,
   "metadata": {
    "ExecuteTime": {
     "end_time": "2021-02-08T17:13:30.484417Z",
     "start_time": "2021-02-08T17:13:30.236893Z"
    }
   },
   "outputs": [
    {
     "data": {
      "text/plain": [
       "184"
      ]
     },
     "execution_count": 55,
     "metadata": {},
     "output_type": "execute_result"
    }
   ],
   "source": [
    "# If early stop happens\n",
    "model_1.best_ntree_limit"
   ]
  },
  {
   "cell_type": "markdown",
   "metadata": {},
   "source": [
    "```ntree_limit```is an integer number that limits the number of trees in the prediction; defaults to ```best_ntree_limit``` if defined (i.e. it has been trained with early stopping), otherwise 0 (use all trees)."
   ]
  },
  {
   "cell_type": "code",
   "execution_count": 58,
   "metadata": {
    "ExecuteTime": {
     "end_time": "2021-02-08T17:14:16.375127Z",
     "start_time": "2021-02-08T17:14:16.051190Z"
    }
   },
   "outputs": [
    {
     "data": {
      "text/plain": [
       "array([4.896048 , 4.0409336, 3.9564116, ..., 3.5128784, 4.1208677,\n",
       "       3.6433213], dtype=float32)"
      ]
     },
     "execution_count": 58,
     "metadata": {},
     "output_type": "execute_result"
    }
   ],
   "source": [
    "# model prediction given the trees it was trained on\n",
    "pred_model_1 = model_1.predict(dtest, ntree_limit=model_1.best_ntree_limit) \n",
    "pred_model_1"
   ]
  },
  {
   "cell_type": "code",
   "execution_count": 60,
   "metadata": {
    "ExecuteTime": {
     "end_time": "2021-02-08T17:14:54.711138Z",
     "start_time": "2021-02-08T17:14:53.880383Z"
    }
   },
   "outputs": [
    {
     "name": "stdout",
     "output_type": "stream",
     "text": [
      "Tuned before num_bust_dound and limit the trees for early stop RMSE is 0.3941\n"
     ]
    }
   ],
   "source": [
    "# Compute v\n",
    "rmse_tuned = RMSE(y_test, pred_model_1)\n",
    "print(\"Tuned before num_bust_dound and limit the trees for early stop RMSE is {:.4f}\".format(rmse_tuned))"
   ]
  },
  {
   "cell_type": "code",
   "execution_count": 61,
   "metadata": {
    "ExecuteTime": {
     "end_time": "2021-02-08T17:14:58.525451Z",
     "start_time": "2021-02-08T17:14:58.246751Z"
    }
   },
   "outputs": [
    {
     "data": {
      "text/plain": [
       "1.4831043030503794"
      ]
     },
     "execution_count": 61,
     "metadata": {},
     "output_type": "execute_result"
    }
   ],
   "source": [
    "np.exp(rmse_tuned)"
   ]
  },
  {
   "cell_type": "code",
   "execution_count": 63,
   "metadata": {
    "ExecuteTime": {
     "end_time": "2021-02-08T17:15:40.520723Z",
     "start_time": "2021-02-08T17:15:40.308226Z"
    }
   },
   "outputs": [
    {
     "data": {
      "text/plain": [
       "array([4.8958035, 4.0410132, 3.9656672, ..., 3.514044 , 4.1213136,\n",
       "       3.6439207], dtype=float32)"
      ]
     },
     "execution_count": 63,
     "metadata": {},
     "output_type": "execute_result"
    }
   ],
   "source": [
    "# If we do not provide the best_ntree_limit it will use all the trees\n",
    "pred_model_1_f = model_1.predict(dtest) \n",
    "pred_model_1_f"
   ]
  },
  {
   "cell_type": "code",
   "execution_count": 64,
   "metadata": {
    "ExecuteTime": {
     "end_time": "2021-02-08T17:15:46.039957Z",
     "start_time": "2021-02-08T17:15:45.735945Z"
    }
   },
   "outputs": [
    {
     "name": "stdout",
     "output_type": "stream",
     "text": [
      "Tuned before num_bust_dound and full trees RMSE is 0.3943\n"
     ]
    }
   ],
   "source": [
    "# Compute RMSE\n",
    "rmse_tuned_f = RMSE(y_test, pred_model_1_f)\n",
    "print(\"Tuned before num_bust_dound and full trees RMSE is {:.4f}\".format(rmse_tuned_f))"
   ]
  },
  {
   "cell_type": "code",
   "execution_count": 65,
   "metadata": {
    "ExecuteTime": {
     "end_time": "2021-02-08T17:15:51.598811Z",
     "start_time": "2021-02-08T17:15:51.254380Z"
    }
   },
   "outputs": [
    {
     "data": {
      "text/plain": [
       "1.4832926159961066"
      ]
     },
     "execution_count": 65,
     "metadata": {},
     "output_type": "execute_result"
    }
   ],
   "source": [
    "np.exp(rmse_tuned_f)"
   ]
  },
  {
   "cell_type": "code",
   "execution_count": 66,
   "metadata": {
    "ExecuteTime": {
     "end_time": "2021-02-08T17:18:27.485856Z",
     "start_time": "2021-02-08T17:16:13.628461Z"
    }
   },
   "outputs": [],
   "source": [
    "cv_results_f = xg.cv(params_final, \n",
    "                      dtrain,\n",
    "                      num_boost_round=num_boost_round,\n",
    "                      seed=42,\n",
    "                      nfold=5,\n",
    "                      metrics={'rmse'},\n",
    "                      early_stopping_rounds=10)"
   ]
  },
  {
   "cell_type": "code",
   "execution_count": 67,
   "metadata": {
    "ExecuteTime": {
     "end_time": "2021-02-08T17:18:33.149848Z",
     "start_time": "2021-02-08T17:18:32.840086Z"
    },
    "format": "row"
   },
   "outputs": [
    {
     "data": {
      "text/html": [
       "<div>\n",
       "<style scoped>\n",
       "    .dataframe tbody tr th:only-of-type {\n",
       "        vertical-align: middle;\n",
       "    }\n",
       "\n",
       "    .dataframe tbody tr th {\n",
       "        vertical-align: top;\n",
       "    }\n",
       "\n",
       "    .dataframe thead th {\n",
       "        text-align: right;\n",
       "    }\n",
       "</style>\n",
       "<table border=\"1\" class=\"dataframe\">\n",
       "  <thead>\n",
       "    <tr style=\"text-align: right;\">\n",
       "      <th></th>\n",
       "      <th>train-rmse-mean</th>\n",
       "      <th>train-rmse-std</th>\n",
       "      <th>test-rmse-mean</th>\n",
       "      <th>test-rmse-std</th>\n",
       "    </tr>\n",
       "  </thead>\n",
       "  <tbody>\n",
       "    <tr>\n",
       "      <th>0</th>\n",
       "      <td>2.754335</td>\n",
       "      <td>0.001601</td>\n",
       "      <td>2.754287</td>\n",
       "      <td>0.008363</td>\n",
       "    </tr>\n",
       "    <tr>\n",
       "      <th>1</th>\n",
       "      <td>1.960964</td>\n",
       "      <td>0.001295</td>\n",
       "      <td>1.960918</td>\n",
       "      <td>0.008018</td>\n",
       "    </tr>\n",
       "    <tr>\n",
       "      <th>2</th>\n",
       "      <td>1.415218</td>\n",
       "      <td>0.001123</td>\n",
       "      <td>1.415238</td>\n",
       "      <td>0.008083</td>\n",
       "    </tr>\n",
       "    <tr>\n",
       "      <th>3</th>\n",
       "      <td>1.044442</td>\n",
       "      <td>0.001148</td>\n",
       "      <td>1.044665</td>\n",
       "      <td>0.008116</td>\n",
       "    </tr>\n",
       "    <tr>\n",
       "      <th>4</th>\n",
       "      <td>0.798254</td>\n",
       "      <td>0.001209</td>\n",
       "      <td>0.798839</td>\n",
       "      <td>0.008188</td>\n",
       "    </tr>\n",
       "  </tbody>\n",
       "</table>\n",
       "</div>"
      ],
      "text/plain": [
       "   train-rmse-mean  train-rmse-std  test-rmse-mean  test-rmse-std\n",
       "0         2.754335        0.001601        2.754287       0.008363\n",
       "1         1.960964        0.001295        1.960918       0.008018\n",
       "2         1.415218        0.001123        1.415238       0.008083\n",
       "3         1.044442        0.001148        1.044665       0.008116\n",
       "4         0.798254        0.001209        0.798839       0.008188"
      ]
     },
     "execution_count": 67,
     "metadata": {},
     "output_type": "execute_result"
    }
   ],
   "source": [
    "cv_results_f.head()"
   ]
  },
  {
   "cell_type": "code",
   "execution_count": 68,
   "metadata": {
    "ExecuteTime": {
     "end_time": "2021-02-08T17:18:35.310077Z",
     "start_time": "2021-02-08T17:18:35.144758Z"
    }
   },
   "outputs": [
    {
     "data": {
      "text/plain": [
       "(199, 4)"
      ]
     },
     "execution_count": 68,
     "metadata": {},
     "output_type": "execute_result"
    }
   ],
   "source": [
    "cv_results_f.shape"
   ]
  },
  {
   "cell_type": "code",
   "execution_count": 69,
   "metadata": {
    "ExecuteTime": {
     "end_time": "2021-02-08T17:18:42.598934Z",
     "start_time": "2021-02-08T17:18:42.382088Z"
    }
   },
   "outputs": [
    {
     "data": {
      "text/plain": [
       "198"
      ]
     },
     "execution_count": 69,
     "metadata": {},
     "output_type": "execute_result"
    }
   ],
   "source": [
    "cv_results_f['test-rmse-mean'].argmin()"
   ]
  },
  {
   "cell_type": "code",
   "execution_count": 70,
   "metadata": {
    "ExecuteTime": {
     "end_time": "2021-02-08T17:18:47.415214Z",
     "start_time": "2021-02-08T17:18:44.396993Z"
    }
   },
   "outputs": [
    {
     "name": "stdout",
     "output_type": "stream",
     "text": [
      "train-rmse-mean 0.3660584\n",
      "test-rmse-mean 0.3980704\n",
      "train-rmse-std 0.001089036454853556\n",
      "test-rmse-std 0.005754459800884874\n"
     ]
    },
    {
     "data": {
      "image/png": "[encoded data removed]",
      "text/plain": [
       "<Figure size 720x360 with 1 Axes>"
      ]
     },
     "metadata": {
      "needs_background": "light"
     },
     "output_type": "display_data"
    }
   ],
   "source": [
    "fselec.xgboost_learning_curve(cv_results_f, \n",
    "                              train_label='train-rmse-mean',\n",
    "                              test_label='test-rmse-mean',\n",
    "                              std_col=['train-rmse-std', 'test-rmse-std'],\n",
    "                              y_lim=[0.35, 0.5]\n",
    "                             )"
   ]
  },
  {
   "cell_type": "markdown",
   "metadata": {},
   "source": [
    "Although it was found the best number of rounds, as we mentioned before, it has been trained with more rounds than optimal. Therefore, before using it for predictions, it should be retrained with the good number of rounds. Since ```best num_boost_round``` was found, there is no need the early_stopping_round anymore."
   ]
  },
  {
   "cell_type": "code",
   "execution_count": 71,
   "metadata": {
    "ExecuteTime": {
     "end_time": "2021-02-08T17:18:55.622520Z",
     "start_time": "2021-02-08T17:18:55.354080Z"
    }
   },
   "outputs": [
    {
     "data": {
      "text/plain": [
       "184"
      ]
     },
     "execution_count": 71,
     "metadata": {},
     "output_type": "execute_result"
    }
   ],
   "source": [
    "num_boost_round = model_1.best_iteration + 1\n",
    "num_boost_round"
   ]
  },
  {
   "cell_type": "code",
   "execution_count": 72,
   "metadata": {
    "ExecuteTime": {
     "end_time": "2021-02-08T17:19:27.536869Z",
     "start_time": "2021-02-08T17:18:59.159986Z"
    }
   },
   "outputs": [
    {
     "name": "stdout",
     "output_type": "stream",
     "text": [
      "[0]\tTest-rmse:2.74791\n",
      "[1]\tTest-rmse:1.95537\n",
      "[2]\tTest-rmse:1.40953\n",
      "[3]\tTest-rmse:1.04001\n",
      "[4]\tTest-rmse:0.794114\n",
      "[5]\tTest-rmse:0.637076\n",
      "[6]\tTest-rmse:0.541455\n",
      "[7]\tTest-rmse:0.486069\n",
      "[8]\tTest-rmse:0.454121\n",
      "[9]\tTest-rmse:0.435344\n",
      "[10]\tTest-rmse:0.425524\n",
      "[11]\tTest-rmse:0.419978\n",
      "[12]\tTest-rmse:0.416386\n",
      "[13]\tTest-rmse:0.414111\n",
      "[14]\tTest-rmse:0.411829\n",
      "[15]\tTest-rmse:0.410443\n",
      "[16]\tTest-rmse:0.409484\n",
      "[17]\tTest-rmse:0.408669\n",
      "[18]\tTest-rmse:0.407895\n",
      "[19]\tTest-rmse:0.407044\n",
      "[20]\tTest-rmse:0.406658\n",
      "[21]\tTest-rmse:0.405803\n",
      "[22]\tTest-rmse:0.405533\n",
      "[23]\tTest-rmse:0.405123\n",
      "[24]\tTest-rmse:0.404377\n",
      "[25]\tTest-rmse:0.404251\n",
      "[26]\tTest-rmse:0.403673\n",
      "[27]\tTest-rmse:0.403502\n",
      "[28]\tTest-rmse:0.403083\n",
      "[29]\tTest-rmse:0.402484\n",
      "[30]\tTest-rmse:0.402313\n",
      "[31]\tTest-rmse:0.402145\n",
      "[32]\tTest-rmse:0.40151\n",
      "[33]\tTest-rmse:0.401314\n",
      "[34]\tTest-rmse:0.401221\n",
      "[35]\tTest-rmse:0.401031\n",
      "[36]\tTest-rmse:0.400997\n",
      "[37]\tTest-rmse:0.400582\n",
      "[38]\tTest-rmse:0.400586\n",
      "[39]\tTest-rmse:0.400577\n",
      "[40]\tTest-rmse:0.400468\n",
      "[41]\tTest-rmse:0.400093\n",
      "[42]\tTest-rmse:0.400098\n",
      "[43]\tTest-rmse:0.399866\n",
      "[44]\tTest-rmse:0.399611\n",
      "[45]\tTest-rmse:0.399632\n",
      "[46]\tTest-rmse:0.399533\n",
      "[47]\tTest-rmse:0.398913\n",
      "[48]\tTest-rmse:0.398446\n",
      "[49]\tTest-rmse:0.398162\n",
      "[50]\tTest-rmse:0.397972\n",
      "[51]\tTest-rmse:0.397955\n",
      "[52]\tTest-rmse:0.397906\n",
      "[53]\tTest-rmse:0.397872\n",
      "[54]\tTest-rmse:0.397853\n",
      "[55]\tTest-rmse:0.397633\n",
      "[56]\tTest-rmse:0.397577\n",
      "[57]\tTest-rmse:0.397402\n",
      "[58]\tTest-rmse:0.397369\n",
      "[59]\tTest-rmse:0.39724\n",
      "[60]\tTest-rmse:0.397231\n",
      "[61]\tTest-rmse:0.397226\n",
      "[62]\tTest-rmse:0.397222\n",
      "[63]\tTest-rmse:0.397129\n",
      "[64]\tTest-rmse:0.39709\n",
      "[65]\tTest-rmse:0.397025\n",
      "[66]\tTest-rmse:0.396937\n",
      "[67]\tTest-rmse:0.396916\n",
      "[68]\tTest-rmse:0.3969\n",
      "[69]\tTest-rmse:0.396763\n",
      "[70]\tTest-rmse:0.396563\n",
      "[71]\tTest-rmse:0.396559\n",
      "[72]\tTest-rmse:0.396503\n",
      "[73]\tTest-rmse:0.39639\n",
      "[74]\tTest-rmse:0.396332\n",
      "[75]\tTest-rmse:0.3964\n",
      "[76]\tTest-rmse:0.396372\n",
      "[77]\tTest-rmse:0.396286\n",
      "[78]\tTest-rmse:0.396272\n",
      "[79]\tTest-rmse:0.396267\n",
      "[80]\tTest-rmse:0.39619\n",
      "[81]\tTest-rmse:0.396179\n",
      "[82]\tTest-rmse:0.396166\n",
      "[83]\tTest-rmse:0.396133\n",
      "[84]\tTest-rmse:0.396125\n",
      "[85]\tTest-rmse:0.39613\n",
      "[86]\tTest-rmse:0.39612\n",
      "[87]\tTest-rmse:0.39613\n",
      "[88]\tTest-rmse:0.396119\n",
      "[89]\tTest-rmse:0.396032\n",
      "[90]\tTest-rmse:0.395961\n",
      "[91]\tTest-rmse:0.395808\n",
      "[92]\tTest-rmse:0.395765\n",
      "[93]\tTest-rmse:0.395618\n",
      "[94]\tTest-rmse:0.395617\n",
      "[95]\tTest-rmse:0.395556\n",
      "[96]\tTest-rmse:0.395552\n",
      "[97]\tTest-rmse:0.395536\n",
      "[98]\tTest-rmse:0.395541\n",
      "[99]\tTest-rmse:0.395459\n",
      "[100]\tTest-rmse:0.395352\n",
      "[101]\tTest-rmse:0.395373\n",
      "[102]\tTest-rmse:0.395246\n",
      "[103]\tTest-rmse:0.395207\n",
      "[104]\tTest-rmse:0.395224\n",
      "[105]\tTest-rmse:0.395198\n",
      "[106]\tTest-rmse:0.395245\n",
      "[107]\tTest-rmse:0.395241\n",
      "[108]\tTest-rmse:0.395245\n",
      "[109]\tTest-rmse:0.395261\n",
      "[110]\tTest-rmse:0.395247\n",
      "[111]\tTest-rmse:0.395228\n",
      "[112]\tTest-rmse:0.395204\n",
      "[113]\tTest-rmse:0.395187\n",
      "[114]\tTest-rmse:0.395205\n",
      "[115]\tTest-rmse:0.395168\n",
      "[116]\tTest-rmse:0.395141\n",
      "[117]\tTest-rmse:0.395137\n",
      "[118]\tTest-rmse:0.395128\n",
      "[119]\tTest-rmse:0.395135\n",
      "[120]\tTest-rmse:0.395147\n",
      "[121]\tTest-rmse:0.395137\n",
      "[122]\tTest-rmse:0.395151\n",
      "[123]\tTest-rmse:0.39511\n",
      "[124]\tTest-rmse:0.395143\n",
      "[125]\tTest-rmse:0.395105\n",
      "[126]\tTest-rmse:0.395\n",
      "[127]\tTest-rmse:0.395001\n",
      "[128]\tTest-rmse:0.394992\n",
      "[129]\tTest-rmse:0.394994\n",
      "[130]\tTest-rmse:0.39499\n",
      "[131]\tTest-rmse:0.394985\n",
      "[132]\tTest-rmse:0.394985\n",
      "[133]\tTest-rmse:0.394979\n",
      "[134]\tTest-rmse:0.394971\n",
      "[135]\tTest-rmse:0.394971\n",
      "[136]\tTest-rmse:0.394966\n",
      "[137]\tTest-rmse:0.394975\n",
      "[138]\tTest-rmse:0.395\n",
      "[139]\tTest-rmse:0.394954\n",
      "[140]\tTest-rmse:0.394983\n",
      "[141]\tTest-rmse:0.394967\n",
      "[142]\tTest-rmse:0.394961\n",
      "[143]\tTest-rmse:0.394955\n",
      "[144]\tTest-rmse:0.394976\n",
      "[145]\tTest-rmse:0.395008\n",
      "[146]\tTest-rmse:0.395004\n",
      "[147]\tTest-rmse:0.395027\n",
      "[148]\tTest-rmse:0.395008\n",
      "[149]\tTest-rmse:0.394934\n",
      "[150]\tTest-rmse:0.394949\n",
      "[151]\tTest-rmse:0.394958\n",
      "[152]\tTest-rmse:0.394874\n",
      "[153]\tTest-rmse:0.394777\n",
      "[154]\tTest-rmse:0.394758\n",
      "[155]\tTest-rmse:0.394716\n",
      "[156]\tTest-rmse:0.394706\n",
      "[157]\tTest-rmse:0.394672\n",
      "[158]\tTest-rmse:0.394617\n",
      "[159]\tTest-rmse:0.394495\n",
      "[160]\tTest-rmse:0.3945\n",
      "[161]\tTest-rmse:0.394506\n",
      "[162]\tTest-rmse:0.39451\n",
      "[163]\tTest-rmse:0.394496\n",
      "[164]\tTest-rmse:0.394456\n",
      "[165]\tTest-rmse:0.394488\n",
      "[166]\tTest-rmse:0.394475\n",
      "[167]\tTest-rmse:0.394526\n",
      "[168]\tTest-rmse:0.394519\n",
      "[169]\tTest-rmse:0.394516\n",
      "[170]\tTest-rmse:0.394513\n",
      "[171]\tTest-rmse:0.394419\n",
      "[172]\tTest-rmse:0.394392\n",
      "[173]\tTest-rmse:0.394367\n",
      "[174]\tTest-rmse:0.394347\n",
      "[175]\tTest-rmse:0.39439\n",
      "[176]\tTest-rmse:0.394391\n",
      "[177]\tTest-rmse:0.394423\n",
      "[178]\tTest-rmse:0.394333\n",
      "[179]\tTest-rmse:0.394271\n",
      "[180]\tTest-rmse:0.394199\n",
      "[181]\tTest-rmse:0.394161\n",
      "[182]\tTest-rmse:0.394156\n",
      "[183]\tTest-rmse:0.394137\n"
     ]
    }
   ],
   "source": [
    "model_final = xg.train(params_final,\n",
    "                       dtrain,\n",
    "                       num_boost_round=num_boost_round,\n",
    "                       evals=[(dtest, \"Test\")])"
   ]
  },
  {
   "cell_type": "code",
   "execution_count": 73,
   "metadata": {
    "ExecuteTime": {
     "end_time": "2021-02-08T17:20:25.093492Z",
     "start_time": "2021-02-08T17:20:24.811174Z"
    }
   },
   "outputs": [
    {
     "data": {
      "text/plain": [
       "array([4.896048 , 4.0409303, 3.9564118, ..., 3.5128784, 4.1208677,\n",
       "       3.6433213], dtype=float32)"
      ]
     },
     "execution_count": 73,
     "metadata": {},
     "output_type": "execute_result"
    }
   ],
   "source": [
    "# If we do not provide the best_ntree_limit it will use all the trees\n",
    "pred_model_f_f = model_final.predict(dtest) \n",
    "pred_model_f_f"
   ]
  },
  {
   "cell_type": "code",
   "execution_count": 74,
   "metadata": {
    "ExecuteTime": {
     "end_time": "2021-02-08T17:20:27.580250Z",
     "start_time": "2021-02-08T17:20:27.329347Z"
    }
   },
   "outputs": [
    {
     "name": "stdout",
     "output_type": "stream",
     "text": [
      "Final RMSE is 0.3941\n"
     ]
    }
   ],
   "source": [
    "# Compute RMSE\n",
    "rmse_tuned_f_f = RMSE(y_test, pred_model_f_f)\n",
    "print(\"Final RMSE is {:.4f}\".format(rmse_tuned_f_f))"
   ]
  },
  {
   "cell_type": "code",
   "execution_count": 133,
   "metadata": {
    "ExecuteTime": {
     "end_time": "2021-02-08T18:05:44.963513Z",
     "start_time": "2021-02-08T18:05:44.321093Z"
    }
   },
   "outputs": [
    {
     "data": {
      "text/plain": [
       "1.483104313375277"
      ]
     },
     "execution_count": 133,
     "metadata": {},
     "output_type": "execute_result"
    }
   ],
   "source": [
    "np.exp(rmse_tuned_f_f)"
   ]
  },
  {
   "cell_type": "code",
   "execution_count": 134,
   "metadata": {
    "ExecuteTime": {
     "end_time": "2021-02-08T18:06:13.671263Z",
     "start_time": "2021-02-08T18:06:12.407536Z"
    }
   },
   "outputs": [],
   "source": [
    "#save_model(\"price_model_fina_02_GA_02.model\")"
   ]
  },
  {
   "cell_type": "code",
   "execution_count": 27,
   "metadata": {
    "ExecuteTime": {
     "end_time": "2021-02-06T18:52:16.802051Z",
     "start_time": "2021-02-06T18:52:16.643315Z"
    }
   },
   "outputs": [],
   "source": [
    "save_path_name = os.path.join(path_ouput, 'price_model_fina_02_GA.pkl')\n",
    "with open(save_path_name, 'wb') as f:\n",
    "    pickle.dump(model_final, f, pickle.HIGHEST_PROTOCOL)"
   ]
  },
  {
   "cell_type": "code",
   "execution_count": 107,
   "metadata": {
    "ExecuteTime": {
     "end_time": "2021-02-08T17:33:59.825180Z",
     "start_time": "2021-02-08T17:33:59.424045Z"
    }
   },
   "outputs": [
    {
     "name": "stdout",
     "output_type": "stream",
     "text": [
      "Change in performance -0.016122295888929605\n",
      "Change in % -3.9297781493198043\n"
     ]
    }
   ],
   "source": [
    "# The performance of the model without tunig is lower\n",
    "# We gain by tuning a 4% relative uplift\n",
    "print(\"Change in performance\", rmse_tuned_f_f - rmse_2)\n",
    "print(\"Change in %\", ((rmse_tuned_f_f - rmse_2) / rmse_2) * 100)"
   ]
  },
  {
   "cell_type": "code",
   "execution_count": 108,
   "metadata": {
    "ExecuteTime": {
     "end_time": "2021-02-08T17:34:03.716577Z",
     "start_time": "2021-02-08T17:34:03.596248Z"
    }
   },
   "outputs": [
    {
     "name": "stdout",
     "output_type": "stream",
     "text": [
      "Change in performance £ -0.02410483710704825\n",
      "Change in % -1.5993027310996892\n"
     ]
    }
   ],
   "source": [
    "# Looking in £ units\n",
    "# It was gain 1.6% realative uplif when looking in £ units\n",
    "print(\"Change in performance £\", np.exp(rmse_tuned_f_f) - np.exp(rmse_2))\n",
    "print(\"Change in %\", (np.exp(rmse_tuned_f_f) - np.exp(rmse_2))/np.exp(rmse_2) * 100)"
   ]
  },
  {
   "cell_type": "code",
   "execution_count": 109,
   "metadata": {
    "ExecuteTime": {
     "end_time": "2021-02-08T17:34:05.798044Z",
     "start_time": "2021-02-08T17:34:05.628139Z"
    }
   },
   "outputs": [
    {
     "name": "stdout",
     "output_type": "stream",
     "text": [
      "Change in performance -0.0060971001918631584\n",
      "Change in % -1.5233819641302064\n"
     ]
    }
   ],
   "source": [
    "# The performance w.r.t the model with all the variables\n",
    "# has a 1.5% relative uplift\n",
    "# (remeber that we want a smaller value of the rmse)\n",
    "print(\"Change in performance\", rmse_tuned_f_f - rmse_1)\n",
    "print(\"Change in %\", ((rmse_tuned_f_f - rmse_1) / rmse_1) * 100)"
   ]
  },
  {
   "cell_type": "code",
   "execution_count": 110,
   "metadata": {
    "ExecuteTime": {
     "end_time": "2021-02-08T17:34:08.041072Z",
     "start_time": "2021-02-08T17:34:07.796926Z"
    }
   },
   "outputs": [
    {
     "name": "stdout",
     "output_type": "stream",
     "text": [
      "Change in performance £ -0.009070258632849715\n",
      "Change in % -0.6078550595218369\n"
     ]
    }
   ],
   "source": [
    "# Looking in £ units\n",
    "# The performance w.r.t the model with all the variables\n",
    "# has a 0.6% relative uplift\n",
    "print(\"Change in performance £\", np.exp(rmse_tuned_f_f) - np.exp(rmse_1))\n",
    "print(\"Change in %\", (np.exp(rmse_tuned_f_f) - np.exp(rmse_1))/np.exp(rmse_1) * 100)"
   ]
  },
  {
   "cell_type": "code",
   "execution_count": 111,
   "metadata": {
    "ExecuteTime": {
     "end_time": "2021-02-08T17:34:09.852368Z",
     "start_time": "2021-02-08T17:34:09.703278Z"
    }
   },
   "outputs": [
    {
     "name": "stdout",
     "output_type": "stream",
     "text": [
      "Change in performance -0.3363336752710083\n",
      "Change in % -46.04339399673466\n"
     ]
    }
   ],
   "source": [
    "# The performance of the XGB model has a 46% relative uplift w.r.t the base line \n",
    "print(\"Change in performance\", rmse_tuned_f_f - rmse_baseline)\n",
    "print(\"Change in %\", ((rmse_tuned_f_f - rmse_baseline) / rmse_baseline) * 100)"
   ]
  },
  {
   "cell_type": "code",
   "execution_count": 112,
   "metadata": {
    "ExecuteTime": {
     "end_time": "2021-02-08T17:34:12.674931Z",
     "start_time": "2021-02-08T17:34:12.352016Z"
    }
   },
   "outputs": [
    {
     "name": "stdout",
     "output_type": "stream",
     "text": [
      "Change in performance £ -0.5929540439707133\n",
      "Change in % -28.561530646409146\n"
     ]
    }
   ],
   "source": [
    "# Looking in £ units\n",
    "# The performance of the XGB model has a 28.5% relative uplift w.r.t the base line\n",
    "print(\"Change in performance £\", np.exp(rmse_tuned_f_f) - np.exp(rmse_baseline))\n",
    "print(\"Change in %\", (np.exp(rmse_tuned_f_f) - np.exp(rmse_baseline))/np.exp(rmse_baseline) * 100)"
   ]
  },
  {
   "cell_type": "code",
   "execution_count": 129,
   "metadata": {
    "ExecuteTime": {
     "end_time": "2021-02-08T17:51:03.642456Z",
     "start_time": "2021-02-08T17:51:03.191579Z"
    }
   },
   "outputs": [
    {
     "data": {
      "text/plain": [
       "XGBRegressor(colsample_bytree=1.0, eval_metric='rmse', max_depth=5,\n",
       "             n_estimators=184, objective='reg:squarederror', reg_lambda=20,\n",
       "             subsample=1.0)"
      ]
     },
     "execution_count": 129,
     "metadata": {},
     "output_type": "execute_result"
    }
   ],
   "source": [
    "# set importance type to gain rather than default 'split'\n",
    "clf_f_f.set_params(importance_type='gain')"
   ]
  },
  {
   "cell_type": "code",
   "execution_count": 130,
   "metadata": {
    "ExecuteTime": {
     "end_time": "2021-02-08T17:52:23.314309Z",
     "start_time": "2021-02-08T17:51:26.870628Z"
    }
   },
   "outputs": [
    {
     "data": {
      "text/plain": [
       "XGBRegressor(colsample_bytree=1.0, eval_metric='rmse', max_depth=5,\n",
       "             n_estimators=184, objective='reg:squarederror', reg_lambda=20,\n",
       "             subsample=1.0)"
      ]
     },
     "execution_count": 130,
     "metadata": {},
     "output_type": "execute_result"
    }
   ],
   "source": [
    "clf_f_f.fit(X_train[list_var_GA], y_train)"
   ]
  },
  {
   "cell_type": "code",
   "execution_count": 131,
   "metadata": {
    "ExecuteTime": {
     "end_time": "2021-02-08T17:52:30.119631Z",
     "start_time": "2021-02-08T17:52:28.852123Z"
    }
   },
   "outputs": [
    {
     "data": {
      "image/png": "[encoded data removed]",
      "text/plain": [
       "<Figure size 720x1440 with 1 Axes>"
      ]
     },
     "metadata": {
      "needs_background": "light"
     },
     "output_type": "display_data"
    }
   ],
   "source": [
    "df_feat_import_f_f = fselec.feature_importance(clf_f_f, model_type='Uncalibrated', feature_list=list_var_GA)"
   ]
  },
  {
   "cell_type": "code",
   "execution_count": 132,
   "metadata": {
    "ExecuteTime": {
     "end_time": "2021-02-08T17:52:34.071146Z",
     "start_time": "2021-02-08T17:52:33.691041Z"
    }
   },
   "outputs": [
    {
     "data": {
      "text/html": [
       "<div>\n",
       "<style scoped>\n",
       "    .dataframe tbody tr th:only-of-type {\n",
       "        vertical-align: middle;\n",
       "    }\n",
       "\n",
       "    .dataframe tbody tr th {\n",
       "        vertical-align: top;\n",
       "    }\n",
       "\n",
       "    .dataframe thead th {\n",
       "        text-align: right;\n",
       "    }\n",
       "</style>\n",
       "<table border=\"1\" class=\"dataframe\">\n",
       "  <thead>\n",
       "    <tr style=\"text-align: right;\">\n",
       "      <th></th>\n",
       "      <th>Feature_importance%</th>\n",
       "    </tr>\n",
       "  </thead>\n",
       "  <tbody>\n",
       "    <tr>\n",
       "      <th>room_type_num</th>\n",
       "      <td>71.541931</td>\n",
       "    </tr>\n",
       "    <tr>\n",
       "      <th>bedrooms</th>\n",
       "      <td>7.528047</td>\n",
       "    </tr>\n",
       "    <tr>\n",
       "      <th>accommodates</th>\n",
       "      <td>6.514672</td>\n",
       "    </tr>\n",
       "    <tr>\n",
       "      <th>bathrooms_shared</th>\n",
       "      <td>4.043593</td>\n",
       "    </tr>\n",
       "    <tr>\n",
       "      <th>tv</th>\n",
       "      <td>3.436185</td>\n",
       "    </tr>\n",
       "    <tr>\n",
       "      <th>dishwasher</th>\n",
       "      <td>2.866000</td>\n",
       "    </tr>\n",
       "    <tr>\n",
       "      <th>availability_30</th>\n",
       "      <td>1.106085</td>\n",
       "    </tr>\n",
       "    <tr>\n",
       "      <th>longitude</th>\n",
       "      <td>0.873748</td>\n",
       "    </tr>\n",
       "    <tr>\n",
       "      <th>latitude</th>\n",
       "      <td>0.860276</td>\n",
       "    </tr>\n",
       "    <tr>\n",
       "      <th>hot_water</th>\n",
       "      <td>0.540220</td>\n",
       "    </tr>\n",
       "    <tr>\n",
       "      <th>maximum_nights</th>\n",
       "      <td>0.489207</td>\n",
       "    </tr>\n",
       "    <tr>\n",
       "      <th>cable_tv</th>\n",
       "      <td>0.200041</td>\n",
       "    </tr>\n",
       "  </tbody>\n",
       "</table>\n",
       "</div>"
      ],
      "text/plain": [
       "                  Feature_importance%\n",
       "room_type_num               71.541931\n",
       "bedrooms                     7.528047\n",
       "accommodates                 6.514672\n",
       "bathrooms_shared             4.043593\n",
       "tv                           3.436185\n",
       "dishwasher                   2.866000\n",
       "availability_30              1.106085\n",
       "longitude                    0.873748\n",
       "latitude                     0.860276\n",
       "hot_water                    0.540220\n",
       "maximum_nights               0.489207\n",
       "cable_tv                     0.200041"
      ]
     },
     "execution_count": 132,
     "metadata": {},
     "output_type": "execute_result"
    }
   ],
   "source": [
    "df_feat_import_f_f"
   ]
  },
  {
   "cell_type": "markdown",
   "metadata": {},
   "source": [
    "# Prediction price for th whole data set"
   ]
  },
  {
   "cell_type": "code",
   "execution_count": 113,
   "metadata": {
    "ExecuteTime": {
     "end_time": "2021-02-08T17:35:17.306383Z",
     "start_time": "2021-02-08T17:35:16.689434Z"
    }
   },
   "outputs": [],
   "source": [
    "# Predict all the preices in the data set\n",
    "all_data = xg.DMatrix(df[list_var_GA])"
   ]
  },
  {
   "cell_type": "code",
   "execution_count": 114,
   "metadata": {
    "ExecuteTime": {
     "end_time": "2021-02-08T17:35:20.072728Z",
     "start_time": "2021-02-08T17:35:18.879826Z"
    }
   },
   "outputs": [],
   "source": [
    "pred_model_all = model_final.predict(all_data) "
   ]
  },
  {
   "cell_type": "code",
   "execution_count": 115,
   "metadata": {
    "ExecuteTime": {
     "end_time": "2021-02-08T17:36:12.732411Z",
     "start_time": "2021-02-08T17:36:12.553550Z"
    }
   },
   "outputs": [],
   "source": [
    "# Price is in log scale so we need to convert it back\n",
    "df_c = df.copy()"
   ]
  },
  {
   "cell_type": "code",
   "execution_count": 116,
   "metadata": {
    "ExecuteTime": {
     "end_time": "2021-02-08T17:36:19.617235Z",
     "start_time": "2021-02-08T17:36:18.908043Z"
    }
   },
   "outputs": [],
   "source": [
    "df_c['predicted_price_log_01_GA'] = pred_model_all"
   ]
  },
  {
   "cell_type": "code",
   "execution_count": 117,
   "metadata": {
    "ExecuteTime": {
     "end_time": "2021-02-08T17:36:25.898515Z",
     "start_time": "2021-02-08T17:36:25.694917Z"
    }
   },
   "outputs": [],
   "source": [
    "df_c['predicted_price_01_GA'] = np.exp(pred_model_all)"
   ]
  },
  {
   "cell_type": "code",
   "execution_count": 119,
   "metadata": {
    "ExecuteTime": {
     "end_time": "2021-02-08T17:36:51.297726Z",
     "start_time": "2021-02-08T17:36:50.624083Z"
    }
   },
   "outputs": [
    {
     "data": {
      "text/html": [
       "<div>\n",
       "<style scoped>\n",
       "    .dataframe tbody tr th:only-of-type {\n",
       "        vertical-align: middle;\n",
       "    }\n",
       "\n",
       "    .dataframe tbody tr th {\n",
       "        vertical-align: top;\n",
       "    }\n",
       "\n",
       "    .dataframe thead th {\n",
       "        text-align: right;\n",
       "    }\n",
       "</style>\n",
       "<table border=\"1\" class=\"dataframe\">\n",
       "  <thead>\n",
       "    <tr style=\"text-align: right;\">\n",
       "      <th></th>\n",
       "      <th>price_log</th>\n",
       "      <th>predicted_price_log_01_GA</th>\n",
       "    </tr>\n",
       "  </thead>\n",
       "  <tbody>\n",
       "    <tr>\n",
       "      <th>count</th>\n",
       "      <td>76114.000000</td>\n",
       "      <td>76114.000000</td>\n",
       "    </tr>\n",
       "    <tr>\n",
       "      <th>mean</th>\n",
       "      <td>4.327777</td>\n",
       "      <td>4.328021</td>\n",
       "    </tr>\n",
       "    <tr>\n",
       "      <th>std</th>\n",
       "      <td>0.732286</td>\n",
       "      <td>0.614473</td>\n",
       "    </tr>\n",
       "    <tr>\n",
       "      <th>min</th>\n",
       "      <td>2.397895</td>\n",
       "      <td>2.697338</td>\n",
       "    </tr>\n",
       "    <tr>\n",
       "      <th>25%</th>\n",
       "      <td>3.761200</td>\n",
       "      <td>3.798613</td>\n",
       "    </tr>\n",
       "    <tr>\n",
       "      <th>50%</th>\n",
       "      <td>4.317488</td>\n",
       "      <td>4.326518</td>\n",
       "    </tr>\n",
       "    <tr>\n",
       "      <th>75%</th>\n",
       "      <td>4.820282</td>\n",
       "      <td>4.792853</td>\n",
       "    </tr>\n",
       "    <tr>\n",
       "      <th>max</th>\n",
       "      <td>6.395262</td>\n",
       "      <td>6.383001</td>\n",
       "    </tr>\n",
       "  </tbody>\n",
       "</table>\n",
       "</div>"
      ],
      "text/plain": [
       "          price_log  predicted_price_log_01_GA\n",
       "count  76114.000000               76114.000000\n",
       "mean       4.327777                   4.328021\n",
       "std        0.732286                   0.614473\n",
       "min        2.397895                   2.697338\n",
       "25%        3.761200                   3.798613\n",
       "50%        4.317488                   4.326518\n",
       "75%        4.820282                   4.792853\n",
       "max        6.395262                   6.383001"
      ]
     },
     "execution_count": 119,
     "metadata": {},
     "output_type": "execute_result"
    }
   ],
   "source": [
    "df_c[['price_log', 'predicted_price_log_01_GA']].describe()"
   ]
  },
  {
   "cell_type": "code",
   "execution_count": 125,
   "metadata": {
    "ExecuteTime": {
     "end_time": "2021-02-05T19:05:14.032010Z",
     "start_time": "2021-02-05T19:05:06.884852Z"
    }
   },
   "outputs": [
    {
     "data": {
      "image/png": "[encoded data removed]",
      "text/plain": [
       "<Figure size 720x576 with 1 Axes>"
      ]
     },
     "metadata": {
      "needs_background": "light"
     },
     "output_type": "display_data"
    }
   ],
   "source": [
    "fig, ax = plt.subplots(figsize=(10,8))\n",
    "mtool.plotting_one_kde(df_c, 'predicted_price_log_01_GA', ax=ax, color='g')\n",
    "mtool.plotting_one_kde(df_c, 'price_log', ax=ax, color='b')\n",
    "None"
   ]
  },
  {
   "cell_type": "code",
   "execution_count": 130,
   "metadata": {
    "ExecuteTime": {
     "end_time": "2021-02-05T19:11:30.341953Z",
     "start_time": "2021-02-05T19:11:29.926092Z"
    }
   },
   "outputs": [
    {
     "data": {
      "text/html": [
       "<div>\n",
       "<style scoped>\n",
       "    .dataframe tbody tr th:only-of-type {\n",
       "        vertical-align: middle;\n",
       "    }\n",
       "\n",
       "    .dataframe tbody tr th {\n",
       "        vertical-align: top;\n",
       "    }\n",
       "\n",
       "    .dataframe thead th {\n",
       "        text-align: right;\n",
       "    }\n",
       "</style>\n",
       "<table border=\"1\" class=\"dataframe\">\n",
       "  <thead>\n",
       "    <tr style=\"text-align: right;\">\n",
       "      <th></th>\n",
       "      <th>price_log</th>\n",
       "      <th>predicted_price_log_01_GA</th>\n",
       "    </tr>\n",
       "  </thead>\n",
       "  <tbody>\n",
       "    <tr>\n",
       "      <th>count</th>\n",
       "      <td>76114.000000</td>\n",
       "      <td>76114.000000</td>\n",
       "    </tr>\n",
       "    <tr>\n",
       "      <th>mean</th>\n",
       "      <td>4.327777</td>\n",
       "      <td>4.328021</td>\n",
       "    </tr>\n",
       "    <tr>\n",
       "      <th>std</th>\n",
       "      <td>0.732286</td>\n",
       "      <td>0.614473</td>\n",
       "    </tr>\n",
       "    <tr>\n",
       "      <th>min</th>\n",
       "      <td>2.397895</td>\n",
       "      <td>2.697338</td>\n",
       "    </tr>\n",
       "    <tr>\n",
       "      <th>25%</th>\n",
       "      <td>3.761200</td>\n",
       "      <td>3.798613</td>\n",
       "    </tr>\n",
       "    <tr>\n",
       "      <th>50%</th>\n",
       "      <td>4.317488</td>\n",
       "      <td>4.326518</td>\n",
       "    </tr>\n",
       "    <tr>\n",
       "      <th>75%</th>\n",
       "      <td>4.820282</td>\n",
       "      <td>4.792853</td>\n",
       "    </tr>\n",
       "    <tr>\n",
       "      <th>max</th>\n",
       "      <td>6.395262</td>\n",
       "      <td>6.383001</td>\n",
       "    </tr>\n",
       "    <tr>\n",
       "      <th>median</th>\n",
       "      <td>4.317488</td>\n",
       "      <td>4.326518</td>\n",
       "    </tr>\n",
       "    <tr>\n",
       "      <th>skew</th>\n",
       "      <td>0.238069</td>\n",
       "      <td>0.207438</td>\n",
       "    </tr>\n",
       "    <tr>\n",
       "      <th>kurt</th>\n",
       "      <td>-0.435039</td>\n",
       "      <td>-0.794538</td>\n",
       "    </tr>\n",
       "  </tbody>\n",
       "</table>\n",
       "</div>"
      ],
      "text/plain": [
       "           price_log  predicted_price_log_01_GA\n",
       "count   76114.000000               76114.000000\n",
       "mean        4.327777                   4.328021\n",
       "std         0.732286                   0.614473\n",
       "min         2.397895                   2.697338\n",
       "25%         3.761200                   3.798613\n",
       "50%         4.317488                   4.326518\n",
       "75%         4.820282                   4.792853\n",
       "max         6.395262                   6.383001\n",
       "median      4.317488                   4.326518\n",
       "skew        0.238069                   0.207438\n",
       "kurt       -0.435039                  -0.794538"
      ]
     },
     "execution_count": 130,
     "metadata": {},
     "output_type": "execute_result"
    }
   ],
   "source": [
    "mtool.stats_summary(df_c[['price_log', 'predicted_price_log_01_GA']]).T"
   ]
  },
  {
   "cell_type": "code",
   "execution_count": 629,
   "metadata": {
    "ExecuteTime": {
     "end_time": "2021-02-05T07:29:00.376750Z",
     "start_time": "2021-02-05T07:28:58.959745Z"
    }
   },
   "outputs": [
    {
     "data": {
      "image/png": "[encoded data removed]",
      "text/plain": [
       "<Figure size 720x576 with 1 Axes>"
      ]
     },
     "metadata": {
      "needs_background": "light"
     },
     "output_type": "display_data"
    }
   ],
   "source": [
    "fig, ax = plt.subplots(figsize=(10,8))\n",
    "mtool.plotting_one_kde(df_c, 'predicted_price_01', ax=ax, color='g')\n",
    "mtool.plotting_one_kde(df_c, 'price', ax=ax, color='b')\n",
    "None"
   ]
  },
  {
   "cell_type": "code",
   "execution_count": 34,
   "metadata": {
    "ExecuteTime": {
     "end_time": "2021-02-06T18:53:02.070116Z",
     "start_time": "2021-02-06T18:53:01.805533Z"
    }
   },
   "outputs": [
    {
     "data": {
      "text/html": [
       "<div>\n",
       "<style scoped>\n",
       "    .dataframe tbody tr th:only-of-type {\n",
       "        vertical-align: middle;\n",
       "    }\n",
       "\n",
       "    .dataframe tbody tr th {\n",
       "        vertical-align: top;\n",
       "    }\n",
       "\n",
       "    .dataframe thead th {\n",
       "        text-align: right;\n",
       "    }\n",
       "</style>\n",
       "<table border=\"1\" class=\"dataframe\">\n",
       "  <thead>\n",
       "    <tr style=\"text-align: right;\">\n",
       "      <th></th>\n",
       "      <th>price</th>\n",
       "      <th>predicted_price_01_GA</th>\n",
       "    </tr>\n",
       "  </thead>\n",
       "  <tbody>\n",
       "    <tr>\n",
       "      <th>count</th>\n",
       "      <td>76114.000000</td>\n",
       "      <td>76114.000000</td>\n",
       "    </tr>\n",
       "    <tr>\n",
       "      <th>mean</th>\n",
       "      <td>100.025690</td>\n",
       "      <td>91.833229</td>\n",
       "    </tr>\n",
       "    <tr>\n",
       "      <th>std</th>\n",
       "      <td>84.676740</td>\n",
       "      <td>60.744526</td>\n",
       "    </tr>\n",
       "    <tr>\n",
       "      <th>min</th>\n",
       "      <td>11.000000</td>\n",
       "      <td>14.840177</td>\n",
       "    </tr>\n",
       "    <tr>\n",
       "      <th>25%</th>\n",
       "      <td>43.000000</td>\n",
       "      <td>44.639230</td>\n",
       "    </tr>\n",
       "    <tr>\n",
       "      <th>50%</th>\n",
       "      <td>75.000000</td>\n",
       "      <td>75.680313</td>\n",
       "    </tr>\n",
       "    <tr>\n",
       "      <th>75%</th>\n",
       "      <td>124.000000</td>\n",
       "      <td>120.645105</td>\n",
       "    </tr>\n",
       "    <tr>\n",
       "      <th>max</th>\n",
       "      <td>599.000000</td>\n",
       "      <td>591.700623</td>\n",
       "    </tr>\n",
       "    <tr>\n",
       "      <th>median</th>\n",
       "      <td>75.000000</td>\n",
       "      <td>75.680313</td>\n",
       "    </tr>\n",
       "    <tr>\n",
       "      <th>skew</th>\n",
       "      <td>2.232381</td>\n",
       "      <td>1.577807</td>\n",
       "    </tr>\n",
       "    <tr>\n",
       "      <th>kurt</th>\n",
       "      <td>6.332932</td>\n",
       "      <td>3.330289</td>\n",
       "    </tr>\n",
       "  </tbody>\n",
       "</table>\n",
       "</div>"
      ],
      "text/plain": [
       "               price  predicted_price_01_GA\n",
       "count   76114.000000           76114.000000\n",
       "mean      100.025690              91.833229\n",
       "std        84.676740              60.744526\n",
       "min        11.000000              14.840177\n",
       "25%        43.000000              44.639230\n",
       "50%        75.000000              75.680313\n",
       "75%       124.000000             120.645105\n",
       "max       599.000000             591.700623\n",
       "median     75.000000              75.680313\n",
       "skew        2.232381               1.577807\n",
       "kurt        6.332932               3.330289"
      ]
     },
     "execution_count": 34,
     "metadata": {},
     "output_type": "execute_result"
    }
   ],
   "source": [
    "mtool.stats_summary(df_c[['price', 'predicted_price_01_GA']]).T"
   ]
  },
  {
   "cell_type": "markdown",
   "metadata": {},
   "source": [
    "The standard deviation of the price for the prediction is £64.4, which is smaller than the standar deviation of £ 84.7 in the listings' price. The median for both is similar and better mesure to compare since both distribuions are skewd. "
   ]
  },
  {
   "cell_type": "code",
   "execution_count": 134,
   "metadata": {
    "ExecuteTime": {
     "end_time": "2021-02-05T19:13:41.715858Z",
     "start_time": "2021-02-05T19:13:27.790081Z"
    }
   },
   "outputs": [],
   "source": [
    "# df_c.to_pickle(os.path.join(path_input, 'extended_data_set_pred_01_GA.pick'))"
   ]
  },
  {
   "cell_type": "code",
   "execution_count": null,
   "metadata": {},
   "outputs": [],
   "source": []
  }
 ],
 "metadata": {
  "kernelspec": {
   "display_name": "py37playc",
   "language": "python",
   "name": "py37playc"
  },
  "language_info": {
   "codemirror_mode": {
    "name": "ipython",
    "version": 3
   },
   "file_extension": ".py",
   "mimetype": "text/x-python",
   "name": "python",
   "nbconvert_exporter": "python",
   "pygments_lexer": "ipython3",
   "version": "3.7.1"
  },
  "latex_envs": {
   "LaTeX_envs_menu_present": true,
   "autoclose": false,
   "autocomplete": true,
   "bibliofile": "biblio.bib",
   "cite_by": "apalike",
   "current_citInitial": 1,
   "eqLabelWithNumbers": true,
   "eqNumInitial": 1,
   "hotkeys": {
    "equation": "Ctrl-E",
    "itemize": "Ctrl-I"
   },
   "labels_anchors": false,
   "latex_user_defs": false,
   "report_style_numbering": false,
   "user_envs_cfg": false
  },
  "toc": {
   "base_numbering": 1,
   "nav_menu": {},
   "number_sections": true,
   "sideBar": true,
   "skip_h1_title": false,
   "title_cell": "Table of Contents",
   "title_sidebar": "Contents",
   "toc_cell": false,
   "toc_position": {
    "height": "calc(100% - 180px)",
    "left": "10px",
    "top": "150px",
    "width": "313.391px"
   },
   "toc_section_display": true,
   "toc_window_display": true
  },
  "varInspector": {
   "cols": {
    "lenName": 16,
    "lenType": 16,
    "lenVar": 40
   },
   "kernels_config": {
    "python": {
     "delete_cmd_postfix": "",
     "delete_cmd_prefix": "del ",
     "library": "var_list.py",
     "varRefreshCmd": "print(var_dic_list())"
    },
    "r": {
     "delete_cmd_postfix": ") ",
     "delete_cmd_prefix": "rm(",
     "library": "var_list.r",
     "varRefreshCmd": "cat(var_dic_list()) "
    }
   },
   "types_to_exclude": [
    "module",
    "function",
    "builtin_function_or_method",
    "instance",
    "_Feature"
   ],
   "window_display": false
  }
 },
 "nbformat": 4,
 "nbformat_minor": 2
}
