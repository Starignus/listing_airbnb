{
  "nbformat": 4,
  "nbformat_minor": 0,
  "metadata": {
    "colab": {
      "name": "01_Genetic_algorithm_Airbnb_Model_1.ipynb",
      "provenance": [],
      "collapsed_sections": [],
      "toc_visible": true
    },
    "kernelspec": {
      "name": "python3",
      "display_name": "Python 3"
    }
  },
  "cells": [
    {
      "cell_type": "markdown",
      "metadata": {
        "id": "tb6kCCVj5RKr"
      },
      "source": [
        "# Genetic Algorithm for feature selection"
      ]
    },
    {
      "cell_type": "markdown",
      "metadata": {
        "id": "HVMCbn4zurp_"
      },
      "source": [
        "A XGBoosting regression model will be build for modeling the pricing. Therefore, the feature selection process uses an instance of XGboost regressor to go through different rounds in the GA algorithm and get the most predictive variables. \n",
        "\n",
        "\n",
        "\n"
      ]
    },
    {
      "cell_type": "markdown",
      "metadata": {
        "id": "yodIsCNqLf8C"
      },
      "source": [
        "## Libraries"
      ]
    },
    {
      "cell_type": "code",
      "metadata": {
        "id": "HOtW2lV659lA"
      },
      "source": [
        "%reload_ext autoreload\n",
        "%autoreload 2\n",
        "\n",
        "# visualisation and data manipulation\n",
        "import pandas as pd\n",
        "import numpy as np\n",
        "import matplotlib.pyplot as plt\n",
        "import seaborn as sns\n",
        "%matplotlib inline\n",
        "pd.set_option('display.max_columns', 200)\n",
        "\n",
        "\n",
        "# system and files managment\n",
        "import os\n",
        "import sys\n",
        "import pickle\n",
        "import ast\n",
        "import collections\n",
        "\n",
        "# model splits\n",
        "from sklearn.model_selection import train_test_split\n",
        "from sklearn.metrics import mean_squared_error as MSE\n",
        "\n",
        "# model\n",
        "import xgboost as xg\n",
        "\n",
        "import warnings\n",
        "warnings.filterwarnings('ignore')"
      ],
      "execution_count": null,
      "outputs": []
    },
    {
      "cell_type": "code",
      "metadata": {
        "id": "qPhdrBl46Kfj"
      },
      "source": [
        "# modules added to system path\n",
        "path_tools = os.path.abspath(r'/tools')\n",
        "sys.path.extend([path_tools])"
      ],
      "execution_count": null,
      "outputs": []
    },
    {
      "cell_type": "code",
      "metadata": {
        "colab": {
          "base_uri": "https://localhost:8080/"
        },
        "id": "qw7Zu3Ze9azE",
        "outputId": "95b725e1-8d94-40f0-fcaf-bc8e2216d91a"
      },
      "source": [
        "sys.path"
      ],
      "execution_count": null,
      "outputs": [
        {
          "output_type": "execute_result",
          "data": {
            "text/plain": [
              "['',\n",
              " '/env/python',\n",
              " '/usr/lib/python36.zip',\n",
              " '/usr/lib/python3.6',\n",
              " '/usr/lib/python3.6/lib-dynload',\n",
              " '/usr/local/lib/python3.6/dist-packages',\n",
              " '/usr/lib/python3/dist-packages',\n",
              " '/usr/local/lib/python3.6/dist-packages/IPython/extensions',\n",
              " '/root/.ipython',\n",
              " '/tools']"
            ]
          },
          "metadata": {
            "tags": []
          },
          "execution_count": 5
        }
      ]
    },
    {
      "cell_type": "code",
      "metadata": {
        "id": "LV31Bax_9cSu"
      },
      "source": [
        "import tools.feature_selection as fselec\n",
        "import tools.exploring_tools as mtools"
      ],
      "execution_count": null,
      "outputs": []
    },
    {
      "cell_type": "markdown",
      "metadata": {
        "id": "n-kcIM2_LoOP"
      },
      "source": [
        "## Support functions"
      ]
    },
    {
      "cell_type": "code",
      "metadata": {
        "id": "tGtS6DqnAtSH"
      },
      "source": [
        "def best_in_gene(best_scores):\n",
        "    plt.plot(best_scores)\n",
        "    plt.xlabel(\"Iterations\")\n",
        "    plt.ylabel(\"Fitness metrix\")\n",
        "\n",
        "\n",
        "def bests_chromos_coparison(bests_chromos, best_scores):\n",
        "    \"\"\"\n",
        "    Comparing the best chromosomes to look for degenerated clases.\n",
        "\n",
        "    :param bests_chromos: list with the chromosomes as numpy arrays\n",
        "    :param best_scores: list with the score of each chromosome\n",
        "\n",
        "    :return: list of tuples with the comparison and score:\n",
        "    (index, pair of index compared, result of comparison,\n",
        "    score of chromosome in the index)\n",
        "    \"\"\"\n",
        "    list_compare = []\n",
        "    for chromosome_idx in range(len(bests_chromos)):\n",
        "        next_idx = (1 + chromosome_idx)%len(bests_chromos)\n",
        "        list_compare.append((chromosome_idx,\n",
        "                             \"c{}-{}\".format(chromosome_idx, next_idx),\n",
        "                            (bests_chromos[chromosome_idx] == bests_chromos[next_idx]). all(),\n",
        "                            \"sc-{}\".format(chromosome_idx), best_scores[chromosome_idx],\n",
        "                             \"# features {}\".format(np.sum(bests_chromos[chromosome_idx]))))\n",
        "    return list_compare"
      ],
      "execution_count": null,
      "outputs": []
    },
    {
      "cell_type": "code",
      "metadata": {
        "id": "2RD2t1I9-fr_"
      },
      "source": [
        "def RMSE(y_true, y_pred):\n",
        "    return np.sqrt(MSE(y_true, y_pred))"
      ],
      "execution_count": null,
      "outputs": []
    },
    {
      "cell_type": "markdown",
      "metadata": {
        "id": "yFc0Ieg8L0GO"
      },
      "source": [
        "## Loading data set and list of variables"
      ]
    },
    {
      "cell_type": "code",
      "metadata": {
        "id": "RTWosSCL90TX"
      },
      "source": [
        "df = pd.read_pickle('extended_data_set.pickle')"
      ],
      "execution_count": null,
      "outputs": []
    },
    {
      "cell_type": "code",
      "metadata": {
        "id": "gofAEBE8-Fzu"
      },
      "source": [
        "var_set_1 = [\n",
        "'price_log',\n",
        "'latitude',\n",
        "'longitude',\n",
        "'accommodates',\n",
        "'bedrooms',\n",
        "'beds',\n",
        "'minimum_nights',\n",
        "'maximum_nights',\n",
        "'minimum_minimum_nights',\n",
        "'maximum_minimum_nights',\n",
        "'minimum_maximum_nights',\n",
        "'maximum_maximum_nights',\n",
        "'minimum_nights_avg_ntm',\n",
        "'maximum_nights_avg_ntm',\n",
        "'has_availability',\n",
        "'availability_30',\n",
        "'availability_60',\n",
        "'availability_90',\n",
        "'availability_365',\n",
        "'bathrooms_shared',\n",
        "'number_amenities',\n",
        "'room_type_num']\n",
        "\n",
        "var_amenties = ['wifi',\n",
        "'heating',\n",
        "'essentials',\n",
        "'kitchen',\n",
        "'smoke_alarm',\n",
        "'washer',\n",
        "'hangers',\n",
        "'iron',\n",
        "'tv',\n",
        "'hair_dryer',\n",
        "'shampoo',\n",
        "'dedicated_workspace',\n",
        "'carbon_monoxide_alarm',\n",
        "'hot_water',\n",
        "'dryer',\n",
        "'refrigerator',\n",
        "'dishes_and_silverware',\n",
        "'cooking_basics',\n",
        "'oven',\n",
        "'bed_linens',\n",
        "'microwave',\n",
        "'stove',\n",
        "'fire_extinguisher',\n",
        "'first_aid_kit',\n",
        "'private_entrance',\n",
        "'dishwasher',\n",
        "'coffee_maker',\n",
        "'long_term_stays_allowed',\n",
        "'elevator',\n",
        "'free_parking_on_premises',\n",
        "'extra_pillows_and_blankets',\n",
        "'lock_on_bedroom_door',\n",
        "'host_greets_you',\n",
        "'cable_tv',\n",
        "'luggage_dropoff_allowed',\n",
        "'patio_or_balcony',\n",
        "'garden_or_backyard',\n",
        "'breakfast',\n",
        "'paid_parking_off_premises',\n",
        "'lockbox',\n",
        "'free_street_parking',\n",
        "'bathtub']"
      ],
      "execution_count": null,
      "outputs": []
    },
    {
      "cell_type": "markdown",
      "metadata": {
        "id": "fYLPAumdMMH0"
      },
      "source": [
        "## Dividig data into Train/Test"
      ]
    },
    {
      "cell_type": "code",
      "metadata": {
        "id": "s2KRPVxR-LeQ"
      },
      "source": [
        "y = df['price_log'].values"
      ],
      "execution_count": null,
      "outputs": []
    },
    {
      "cell_type": "code",
      "metadata": {
        "id": "NGqpnxyf-Qpf"
      },
      "source": [
        "X = df[var_set_1[1:] + var_amenties].copy()"
      ],
      "execution_count": null,
      "outputs": []
    },
    {
      "cell_type": "code",
      "metadata": {
        "colab": {
          "base_uri": "https://localhost:8080/",
          "height": 224
        },
        "id": "yGXwgyW5-SsV",
        "outputId": "9c18c222-99da-4e02-b2cc-721d5804b7b1"
      },
      "source": [
        "X.head()"
      ],
      "execution_count": null,
      "outputs": [
        {
          "output_type": "execute_result",
          "data": {
            "text/html": [
              "<div>\n",
              "<style scoped>\n",
              "    .dataframe tbody tr th:only-of-type {\n",
              "        vertical-align: middle;\n",
              "    }\n",
              "\n",
              "    .dataframe tbody tr th {\n",
              "        vertical-align: top;\n",
              "    }\n",
              "\n",
              "    .dataframe thead th {\n",
              "        text-align: right;\n",
              "    }\n",
              "</style>\n",
              "<table border=\"1\" class=\"dataframe\">\n",
              "  <thead>\n",
              "    <tr style=\"text-align: right;\">\n",
              "      <th></th>\n",
              "      <th>latitude</th>\n",
              "      <th>longitude</th>\n",
              "      <th>accommodates</th>\n",
              "      <th>bedrooms</th>\n",
              "      <th>beds</th>\n",
              "      <th>minimum_nights</th>\n",
              "      <th>maximum_nights</th>\n",
              "      <th>minimum_minimum_nights</th>\n",
              "      <th>maximum_minimum_nights</th>\n",
              "      <th>minimum_maximum_nights</th>\n",
              "      <th>maximum_maximum_nights</th>\n",
              "      <th>minimum_nights_avg_ntm</th>\n",
              "      <th>maximum_nights_avg_ntm</th>\n",
              "      <th>has_availability</th>\n",
              "      <th>availability_30</th>\n",
              "      <th>availability_60</th>\n",
              "      <th>availability_90</th>\n",
              "      <th>availability_365</th>\n",
              "      <th>bathrooms_shared</th>\n",
              "      <th>number_amenities</th>\n",
              "      <th>room_type_num</th>\n",
              "      <th>wifi</th>\n",
              "      <th>heating</th>\n",
              "      <th>essentials</th>\n",
              "      <th>kitchen</th>\n",
              "      <th>smoke_alarm</th>\n",
              "      <th>washer</th>\n",
              "      <th>hangers</th>\n",
              "      <th>iron</th>\n",
              "      <th>tv</th>\n",
              "      <th>hair_dryer</th>\n",
              "      <th>shampoo</th>\n",
              "      <th>dedicated_workspace</th>\n",
              "      <th>carbon_monoxide_alarm</th>\n",
              "      <th>hot_water</th>\n",
              "      <th>dryer</th>\n",
              "      <th>refrigerator</th>\n",
              "      <th>dishes_and_silverware</th>\n",
              "      <th>cooking_basics</th>\n",
              "      <th>oven</th>\n",
              "      <th>bed_linens</th>\n",
              "      <th>microwave</th>\n",
              "      <th>stove</th>\n",
              "      <th>fire_extinguisher</th>\n",
              "      <th>first_aid_kit</th>\n",
              "      <th>private_entrance</th>\n",
              "      <th>dishwasher</th>\n",
              "      <th>coffee_maker</th>\n",
              "      <th>long_term_stays_allowed</th>\n",
              "      <th>elevator</th>\n",
              "      <th>free_parking_on_premises</th>\n",
              "      <th>extra_pillows_and_blankets</th>\n",
              "      <th>lock_on_bedroom_door</th>\n",
              "      <th>host_greets_you</th>\n",
              "      <th>cable_tv</th>\n",
              "      <th>luggage_dropoff_allowed</th>\n",
              "      <th>patio_or_balcony</th>\n",
              "      <th>garden_or_backyard</th>\n",
              "      <th>breakfast</th>\n",
              "      <th>paid_parking_off_premises</th>\n",
              "      <th>lockbox</th>\n",
              "      <th>free_street_parking</th>\n",
              "      <th>bathtub</th>\n",
              "    </tr>\n",
              "  </thead>\n",
              "  <tbody>\n",
              "    <tr>\n",
              "      <th>0</th>\n",
              "      <td>51.46225</td>\n",
              "      <td>-0.11732</td>\n",
              "      <td>4</td>\n",
              "      <td>1.0</td>\n",
              "      <td>3.0</td>\n",
              "      <td>2</td>\n",
              "      <td>1125</td>\n",
              "      <td>2.0</td>\n",
              "      <td>2.0</td>\n",
              "      <td>1125.0</td>\n",
              "      <td>1125.0</td>\n",
              "      <td>2.0</td>\n",
              "      <td>1125.0</td>\n",
              "      <td>1.0</td>\n",
              "      <td>3</td>\n",
              "      <td>33</td>\n",
              "      <td>63</td>\n",
              "      <td>338</td>\n",
              "      <td>0.0</td>\n",
              "      <td>28</td>\n",
              "      <td>1</td>\n",
              "      <td>1.0</td>\n",
              "      <td>1.0</td>\n",
              "      <td>1.0</td>\n",
              "      <td>1.0</td>\n",
              "      <td>1.0</td>\n",
              "      <td>1.0</td>\n",
              "      <td>1.0</td>\n",
              "      <td>1.0</td>\n",
              "      <td>1.0</td>\n",
              "      <td>1.0</td>\n",
              "      <td>0.0</td>\n",
              "      <td>1.0</td>\n",
              "      <td>1.0</td>\n",
              "      <td>1.0</td>\n",
              "      <td>0.0</td>\n",
              "      <td>1.0</td>\n",
              "      <td>1.0</td>\n",
              "      <td>1.0</td>\n",
              "      <td>1.0</td>\n",
              "      <td>0.0</td>\n",
              "      <td>1.0</td>\n",
              "      <td>1.0</td>\n",
              "      <td>1.0</td>\n",
              "      <td>0.0</td>\n",
              "      <td>0.0</td>\n",
              "      <td>0.0</td>\n",
              "      <td>1.0</td>\n",
              "      <td>1.0</td>\n",
              "      <td>0.0</td>\n",
              "      <td>0.0</td>\n",
              "      <td>0.0</td>\n",
              "      <td>0.0</td>\n",
              "      <td>0.0</td>\n",
              "      <td>1.0</td>\n",
              "      <td>0.0</td>\n",
              "      <td>0.0</td>\n",
              "      <td>0.0</td>\n",
              "      <td>0.0</td>\n",
              "      <td>1.0</td>\n",
              "      <td>1.0</td>\n",
              "      <td>0.0</td>\n",
              "      <td>0.0</td>\n",
              "    </tr>\n",
              "    <tr>\n",
              "      <th>1</th>\n",
              "      <td>51.56802</td>\n",
              "      <td>-0.11121</td>\n",
              "      <td>2</td>\n",
              "      <td>1.0</td>\n",
              "      <td>0.0</td>\n",
              "      <td>1</td>\n",
              "      <td>29</td>\n",
              "      <td>1.0</td>\n",
              "      <td>1.0</td>\n",
              "      <td>29.0</td>\n",
              "      <td>29.0</td>\n",
              "      <td>1.0</td>\n",
              "      <td>29.0</td>\n",
              "      <td>1.0</td>\n",
              "      <td>30</td>\n",
              "      <td>60</td>\n",
              "      <td>90</td>\n",
              "      <td>365</td>\n",
              "      <td>1.0</td>\n",
              "      <td>41</td>\n",
              "      <td>2</td>\n",
              "      <td>1.0</td>\n",
              "      <td>1.0</td>\n",
              "      <td>1.0</td>\n",
              "      <td>1.0</td>\n",
              "      <td>1.0</td>\n",
              "      <td>1.0</td>\n",
              "      <td>1.0</td>\n",
              "      <td>1.0</td>\n",
              "      <td>1.0</td>\n",
              "      <td>1.0</td>\n",
              "      <td>1.0</td>\n",
              "      <td>1.0</td>\n",
              "      <td>1.0</td>\n",
              "      <td>1.0</td>\n",
              "      <td>1.0</td>\n",
              "      <td>1.0</td>\n",
              "      <td>1.0</td>\n",
              "      <td>1.0</td>\n",
              "      <td>1.0</td>\n",
              "      <td>1.0</td>\n",
              "      <td>0.0</td>\n",
              "      <td>1.0</td>\n",
              "      <td>1.0</td>\n",
              "      <td>0.0</td>\n",
              "      <td>0.0</td>\n",
              "      <td>0.0</td>\n",
              "      <td>1.0</td>\n",
              "      <td>1.0</td>\n",
              "      <td>0.0</td>\n",
              "      <td>0.0</td>\n",
              "      <td>1.0</td>\n",
              "      <td>1.0</td>\n",
              "      <td>1.0</td>\n",
              "      <td>1.0</td>\n",
              "      <td>1.0</td>\n",
              "      <td>1.0</td>\n",
              "      <td>0.0</td>\n",
              "      <td>0.0</td>\n",
              "      <td>1.0</td>\n",
              "      <td>0.0</td>\n",
              "      <td>1.0</td>\n",
              "      <td>1.0</td>\n",
              "    </tr>\n",
              "    <tr>\n",
              "      <th>2</th>\n",
              "      <td>51.48796</td>\n",
              "      <td>-0.16898</td>\n",
              "      <td>2</td>\n",
              "      <td>1.0</td>\n",
              "      <td>1.0</td>\n",
              "      <td>10</td>\n",
              "      <td>50</td>\n",
              "      <td>10.0</td>\n",
              "      <td>10.0</td>\n",
              "      <td>50.0</td>\n",
              "      <td>50.0</td>\n",
              "      <td>10.0</td>\n",
              "      <td>50.0</td>\n",
              "      <td>1.0</td>\n",
              "      <td>29</td>\n",
              "      <td>59</td>\n",
              "      <td>62</td>\n",
              "      <td>189</td>\n",
              "      <td>0.0</td>\n",
              "      <td>24</td>\n",
              "      <td>1</td>\n",
              "      <td>1.0</td>\n",
              "      <td>1.0</td>\n",
              "      <td>1.0</td>\n",
              "      <td>1.0</td>\n",
              "      <td>1.0</td>\n",
              "      <td>1.0</td>\n",
              "      <td>1.0</td>\n",
              "      <td>1.0</td>\n",
              "      <td>1.0</td>\n",
              "      <td>1.0</td>\n",
              "      <td>1.0</td>\n",
              "      <td>1.0</td>\n",
              "      <td>0.0</td>\n",
              "      <td>1.0</td>\n",
              "      <td>1.0</td>\n",
              "      <td>1.0</td>\n",
              "      <td>1.0</td>\n",
              "      <td>1.0</td>\n",
              "      <td>0.0</td>\n",
              "      <td>0.0</td>\n",
              "      <td>1.0</td>\n",
              "      <td>0.0</td>\n",
              "      <td>1.0</td>\n",
              "      <td>0.0</td>\n",
              "      <td>0.0</td>\n",
              "      <td>0.0</td>\n",
              "      <td>1.0</td>\n",
              "      <td>1.0</td>\n",
              "      <td>0.0</td>\n",
              "      <td>0.0</td>\n",
              "      <td>0.0</td>\n",
              "      <td>0.0</td>\n",
              "      <td>0.0</td>\n",
              "      <td>1.0</td>\n",
              "      <td>1.0</td>\n",
              "      <td>0.0</td>\n",
              "      <td>0.0</td>\n",
              "      <td>0.0</td>\n",
              "      <td>0.0</td>\n",
              "      <td>0.0</td>\n",
              "      <td>0.0</td>\n",
              "      <td>0.0</td>\n",
              "    </tr>\n",
              "    <tr>\n",
              "      <th>3</th>\n",
              "      <td>51.52195</td>\n",
              "      <td>-0.14094</td>\n",
              "      <td>6</td>\n",
              "      <td>3.0</td>\n",
              "      <td>3.0</td>\n",
              "      <td>4</td>\n",
              "      <td>365</td>\n",
              "      <td>4.0</td>\n",
              "      <td>4.0</td>\n",
              "      <td>365.0</td>\n",
              "      <td>365.0</td>\n",
              "      <td>4.0</td>\n",
              "      <td>365.0</td>\n",
              "      <td>1.0</td>\n",
              "      <td>16</td>\n",
              "      <td>16</td>\n",
              "      <td>16</td>\n",
              "      <td>231</td>\n",
              "      <td>0.0</td>\n",
              "      <td>27</td>\n",
              "      <td>1</td>\n",
              "      <td>1.0</td>\n",
              "      <td>1.0</td>\n",
              "      <td>1.0</td>\n",
              "      <td>1.0</td>\n",
              "      <td>1.0</td>\n",
              "      <td>1.0</td>\n",
              "      <td>1.0</td>\n",
              "      <td>1.0</td>\n",
              "      <td>1.0</td>\n",
              "      <td>1.0</td>\n",
              "      <td>1.0</td>\n",
              "      <td>1.0</td>\n",
              "      <td>0.0</td>\n",
              "      <td>1.0</td>\n",
              "      <td>1.0</td>\n",
              "      <td>1.0</td>\n",
              "      <td>1.0</td>\n",
              "      <td>1.0</td>\n",
              "      <td>1.0</td>\n",
              "      <td>1.0</td>\n",
              "      <td>1.0</td>\n",
              "      <td>1.0</td>\n",
              "      <td>0.0</td>\n",
              "      <td>0.0</td>\n",
              "      <td>0.0</td>\n",
              "      <td>1.0</td>\n",
              "      <td>1.0</td>\n",
              "      <td>1.0</td>\n",
              "      <td>1.0</td>\n",
              "      <td>0.0</td>\n",
              "      <td>0.0</td>\n",
              "      <td>0.0</td>\n",
              "      <td>0.0</td>\n",
              "      <td>0.0</td>\n",
              "      <td>0.0</td>\n",
              "      <td>0.0</td>\n",
              "      <td>0.0</td>\n",
              "      <td>0.0</td>\n",
              "      <td>1.0</td>\n",
              "      <td>1.0</td>\n",
              "      <td>0.0</td>\n",
              "      <td>0.0</td>\n",
              "    </tr>\n",
              "    <tr>\n",
              "      <th>4</th>\n",
              "      <td>51.47935</td>\n",
              "      <td>-0.19743</td>\n",
              "      <td>2</td>\n",
              "      <td>1.0</td>\n",
              "      <td>1.0</td>\n",
              "      <td>3</td>\n",
              "      <td>21</td>\n",
              "      <td>3.0</td>\n",
              "      <td>3.0</td>\n",
              "      <td>21.0</td>\n",
              "      <td>21.0</td>\n",
              "      <td>3.0</td>\n",
              "      <td>21.0</td>\n",
              "      <td>1.0</td>\n",
              "      <td>29</td>\n",
              "      <td>59</td>\n",
              "      <td>89</td>\n",
              "      <td>364</td>\n",
              "      <td>0.0</td>\n",
              "      <td>16</td>\n",
              "      <td>2</td>\n",
              "      <td>1.0</td>\n",
              "      <td>1.0</td>\n",
              "      <td>1.0</td>\n",
              "      <td>0.0</td>\n",
              "      <td>1.0</td>\n",
              "      <td>0.0</td>\n",
              "      <td>1.0</td>\n",
              "      <td>1.0</td>\n",
              "      <td>1.0</td>\n",
              "      <td>1.0</td>\n",
              "      <td>1.0</td>\n",
              "      <td>1.0</td>\n",
              "      <td>1.0</td>\n",
              "      <td>1.0</td>\n",
              "      <td>0.0</td>\n",
              "      <td>0.0</td>\n",
              "      <td>0.0</td>\n",
              "      <td>0.0</td>\n",
              "      <td>0.0</td>\n",
              "      <td>0.0</td>\n",
              "      <td>0.0</td>\n",
              "      <td>0.0</td>\n",
              "      <td>0.0</td>\n",
              "      <td>0.0</td>\n",
              "      <td>0.0</td>\n",
              "      <td>0.0</td>\n",
              "      <td>0.0</td>\n",
              "      <td>0.0</td>\n",
              "      <td>0.0</td>\n",
              "      <td>0.0</td>\n",
              "      <td>0.0</td>\n",
              "      <td>1.0</td>\n",
              "      <td>0.0</td>\n",
              "      <td>0.0</td>\n",
              "      <td>0.0</td>\n",
              "      <td>0.0</td>\n",
              "      <td>0.0</td>\n",
              "      <td>1.0</td>\n",
              "      <td>0.0</td>\n",
              "      <td>0.0</td>\n",
              "      <td>0.0</td>\n",
              "      <td>0.0</td>\n",
              "    </tr>\n",
              "  </tbody>\n",
              "</table>\n",
              "</div>"
            ],
            "text/plain": [
              "   latitude  longitude  accommodates  bedrooms  beds  minimum_nights  \\\n",
              "0  51.46225   -0.11732             4       1.0   3.0               2   \n",
              "1  51.56802   -0.11121             2       1.0   0.0               1   \n",
              "2  51.48796   -0.16898             2       1.0   1.0              10   \n",
              "3  51.52195   -0.14094             6       3.0   3.0               4   \n",
              "4  51.47935   -0.19743             2       1.0   1.0               3   \n",
              "\n",
              "   maximum_nights  minimum_minimum_nights  maximum_minimum_nights  \\\n",
              "0            1125                     2.0                     2.0   \n",
              "1              29                     1.0                     1.0   \n",
              "2              50                    10.0                    10.0   \n",
              "3             365                     4.0                     4.0   \n",
              "4              21                     3.0                     3.0   \n",
              "\n",
              "   minimum_maximum_nights  maximum_maximum_nights  minimum_nights_avg_ntm  \\\n",
              "0                  1125.0                  1125.0                     2.0   \n",
              "1                    29.0                    29.0                     1.0   \n",
              "2                    50.0                    50.0                    10.0   \n",
              "3                   365.0                   365.0                     4.0   \n",
              "4                    21.0                    21.0                     3.0   \n",
              "\n",
              "   maximum_nights_avg_ntm  has_availability  availability_30  availability_60  \\\n",
              "0                  1125.0               1.0                3               33   \n",
              "1                    29.0               1.0               30               60   \n",
              "2                    50.0               1.0               29               59   \n",
              "3                   365.0               1.0               16               16   \n",
              "4                    21.0               1.0               29               59   \n",
              "\n",
              "   availability_90  availability_365  bathrooms_shared  number_amenities  \\\n",
              "0               63               338               0.0                28   \n",
              "1               90               365               1.0                41   \n",
              "2               62               189               0.0                24   \n",
              "3               16               231               0.0                27   \n",
              "4               89               364               0.0                16   \n",
              "\n",
              "   room_type_num  wifi  heating  essentials  kitchen  smoke_alarm  washer  \\\n",
              "0              1   1.0      1.0         1.0      1.0          1.0     1.0   \n",
              "1              2   1.0      1.0         1.0      1.0          1.0     1.0   \n",
              "2              1   1.0      1.0         1.0      1.0          1.0     1.0   \n",
              "3              1   1.0      1.0         1.0      1.0          1.0     1.0   \n",
              "4              2   1.0      1.0         1.0      0.0          1.0     0.0   \n",
              "\n",
              "   hangers  iron   tv  hair_dryer  shampoo  dedicated_workspace  \\\n",
              "0      1.0   1.0  1.0         1.0      0.0                  1.0   \n",
              "1      1.0   1.0  1.0         1.0      1.0                  1.0   \n",
              "2      1.0   1.0  1.0         1.0      1.0                  1.0   \n",
              "3      1.0   1.0  1.0         1.0      1.0                  1.0   \n",
              "4      1.0   1.0  1.0         1.0      1.0                  1.0   \n",
              "\n",
              "   carbon_monoxide_alarm  hot_water  dryer  refrigerator  \\\n",
              "0                    1.0        1.0    0.0           1.0   \n",
              "1                    1.0        1.0    1.0           1.0   \n",
              "2                    0.0        1.0    1.0           1.0   \n",
              "3                    0.0        1.0    1.0           1.0   \n",
              "4                    1.0        1.0    0.0           0.0   \n",
              "\n",
              "   dishes_and_silverware  cooking_basics  oven  bed_linens  microwave  stove  \\\n",
              "0                    1.0             1.0   1.0         0.0        1.0    1.0   \n",
              "1                    1.0             1.0   1.0         1.0        0.0    1.0   \n",
              "2                    1.0             1.0   0.0         0.0        1.0    0.0   \n",
              "3                    1.0             1.0   1.0         1.0        1.0    1.0   \n",
              "4                    0.0             0.0   0.0         0.0        0.0    0.0   \n",
              "\n",
              "   fire_extinguisher  first_aid_kit  private_entrance  dishwasher  \\\n",
              "0                1.0            0.0               0.0         0.0   \n",
              "1                1.0            0.0               0.0         0.0   \n",
              "2                1.0            0.0               0.0         0.0   \n",
              "3                0.0            0.0               0.0         1.0   \n",
              "4                0.0            0.0               0.0         0.0   \n",
              "\n",
              "   coffee_maker  long_term_stays_allowed  elevator  free_parking_on_premises  \\\n",
              "0           1.0                      1.0       0.0                       0.0   \n",
              "1           1.0                      1.0       0.0                       0.0   \n",
              "2           1.0                      1.0       0.0                       0.0   \n",
              "3           1.0                      1.0       1.0                       0.0   \n",
              "4           0.0                      0.0       0.0                       0.0   \n",
              "\n",
              "   extra_pillows_and_blankets  lock_on_bedroom_door  host_greets_you  \\\n",
              "0                         0.0                   0.0              0.0   \n",
              "1                         1.0                   1.0              1.0   \n",
              "2                         0.0                   0.0              0.0   \n",
              "3                         0.0                   0.0              0.0   \n",
              "4                         0.0                   1.0              0.0   \n",
              "\n",
              "   cable_tv  luggage_dropoff_allowed  patio_or_balcony  garden_or_backyard  \\\n",
              "0       1.0                      0.0               0.0                 0.0   \n",
              "1       1.0                      1.0               1.0                 0.0   \n",
              "2       1.0                      1.0               0.0                 0.0   \n",
              "3       0.0                      0.0               0.0                 0.0   \n",
              "4       0.0                      0.0               0.0                 0.0   \n",
              "\n",
              "   breakfast  paid_parking_off_premises  lockbox  free_street_parking  bathtub  \n",
              "0        0.0                        1.0      1.0                  0.0      0.0  \n",
              "1        0.0                        1.0      0.0                  1.0      1.0  \n",
              "2        0.0                        0.0      0.0                  0.0      0.0  \n",
              "3        0.0                        1.0      1.0                  0.0      0.0  \n",
              "4        1.0                        0.0      0.0                  0.0      0.0  "
            ]
          },
          "metadata": {
            "tags": []
          },
          "execution_count": 12
        }
      ]
    },
    {
      "cell_type": "code",
      "metadata": {
        "id": "R0LwwiOR-Unj"
      },
      "source": [
        "X_train, X_test, y_train, y_test = train_test_split(X, y, test_size=0.2, \n",
        "                                                    random_state=42)"
      ],
      "execution_count": null,
      "outputs": []
    },
    {
      "cell_type": "code",
      "metadata": {
        "colab": {
          "base_uri": "https://localhost:8080/"
        },
        "id": "HuYQCjc5-YDu",
        "outputId": "2ae3c14f-16c8-47f9-c337-75730c77216a"
      },
      "source": [
        "y_train"
      ],
      "execution_count": null,
      "outputs": [
        {
          "output_type": "execute_result",
          "data": {
            "text/plain": [
              "array([3.33220451, 4.15888308, 4.31748811, ..., 4.38202663, 3.55534806,\n",
              "       3.09104245])"
            ]
          },
          "metadata": {
            "tags": []
          },
          "execution_count": 14
        }
      ]
    },
    {
      "cell_type": "code",
      "metadata": {
        "colab": {
          "base_uri": "https://localhost:8080/"
        },
        "id": "JDq_XAx3ChGe",
        "outputId": "bb50aefb-1f2f-4b4d-826e-911c4ab88db6"
      },
      "source": [
        "X_train.shape"
      ],
      "execution_count": null,
      "outputs": [
        {
          "output_type": "execute_result",
          "data": {
            "text/plain": [
              "(60891, 63)"
            ]
          },
          "metadata": {
            "tags": []
          },
          "execution_count": 15
        }
      ]
    },
    {
      "cell_type": "markdown",
      "metadata": {
        "id": "NMN0Jn_KMjBV"
      },
      "source": [
        "# Genetic Algorithm feature selection rounds"
      ]
    },
    {
      "cell_type": "markdown",
      "metadata": {
        "id": "j2CblvbgMuXq"
      },
      "source": [
        "## 1st Round"
      ]
    },
    {
      "cell_type": "code",
      "metadata": {
        "id": "fbwOk6Pb-Z6_"
      },
      "source": [
        "# Instantiation \n",
        "clf = xg.XGBRegressor(objective ='reg:squarederror', \n",
        "                        max_depth=3, \n",
        "                        n_estimators=100, \n",
        "                        random_state=0)"
      ],
      "execution_count": null,
      "outputs": []
    },
    {
      "cell_type": "code",
      "metadata": {
        "colab": {
          "base_uri": "https://localhost:8080/"
        },
        "id": "m99-nBf--dqV",
        "outputId": "cb22bb5f-0f4a-45b4-b4fc-75fbf4826083"
      },
      "source": [
        "# set importance type to gain rather than default 'split'\n",
        "clf.set_params(importance_type='gain')"
      ],
      "execution_count": null,
      "outputs": [
        {
          "output_type": "execute_result",
          "data": {
            "text/plain": [
              "XGBRegressor(base_score=0.5, booster='gbtree', colsample_bylevel=1,\n",
              "             colsample_bynode=1, colsample_bytree=1, gamma=0,\n",
              "             importance_type='gain', learning_rate=0.1, max_delta_step=0,\n",
              "             max_depth=3, min_child_weight=1, missing=None, n_estimators=100,\n",
              "             n_jobs=1, nthread=None, objective='reg:squarederror',\n",
              "             random_state=0, reg_alpha=0, reg_lambda=1, scale_pos_weight=1,\n",
              "             seed=None, silent=None, subsample=1, verbosity=1)"
            ]
          },
          "metadata": {
            "tags": []
          },
          "execution_count": 17
        }
      ]
    },
    {
      "cell_type": "code",
      "metadata": {
        "colab": {
          "base_uri": "https://localhost:8080/"
        },
        "id": "JwFueuQx-odx",
        "outputId": "b104e7c4-86c4-45c1-c2ef-8148580b8932"
      },
      "source": [
        "bests_chromos_hlf_4, best_scores_hlf_4 = fselec.generations_v4(size=200,\n",
        "                                                              n_feat=X_train.shape[1],\n",
        "                                                              metric=RMSE,\n",
        "                                                              clf=clf,\n",
        "                                                              n_parents=100,\n",
        "                                                              mutation_rate=0.2, \n",
        "                                                              n_generations=10,\n",
        "                                                              X_train=X_train,\n",
        "                                                              y_train=y_train,\n",
        "                                                              percent_not_feat=0.7,\n",
        "                                                              seed=42,\n",
        "                                                              random_state_fit=42,\n",
        "                                                              classification=False,\n",
        "                                                              early_stop_ths=0.005,\n",
        "                                                              early_stop_falg=False)"
      ],
      "execution_count": null,
      "outputs": [
        {
          "output_type": "stream",
          "text": [
            "[0.43307517917836275, 0.43434674927713246]\n",
            "[0.4237627970695444, 0.4320519494521144]\n",
            "[0.4141127255990032, 0.41929699906326096]\n",
            "[0.41181957631484734, 0.4141127255990032]\n",
            "[0.41181957631484734, 0.4123259546832378]\n",
            "[0.41181957631484734, 0.4123259546832378]\n",
            "[0.41181957631484734, 0.4123259546832378]\n",
            "[0.40985388120645627, 0.4109103727078686]\n",
            "[0.40985388120645627, 0.41036087212493744]\n",
            "[0.40985388120645627, 0.41036087212493744]\n"
          ],
          "name": "stdout"
        }
      ]
    },
    {
      "cell_type": "code",
      "metadata": {
        "colab": {
          "base_uri": "https://localhost:8080/",
          "height": 279
        },
        "id": "rYlwKm32-rol",
        "outputId": "8e7505b5-2026-4b77-ce45-890dc32d1f81"
      },
      "source": [
        "best_in_gene(best_scores_hlf_4)"
      ],
      "execution_count": null,
      "outputs": [
        {
          "output_type": "display_data",
          "data": {
            "image/png": "[encoded data removed]",
            "text/plain": [
              "<Figure size 432x288 with 1 Axes>"
            ]
          },
          "metadata": {
            "tags": [],
            "needs_background": "light"
          }
        }
      ]
    },
    {
      "cell_type": "code",
      "metadata": {
        "id": "VBdx78ojAdEg"
      },
      "source": [
        "list_compare_hlf_4 = bests_chromos_coparison(bests_chromos=bests_chromos_hlf_4, \n",
        "                                             best_scores=best_scores_hlf_4)"
      ],
      "execution_count": null,
      "outputs": []
    },
    {
      "cell_type": "code",
      "metadata": {
        "colab": {
          "base_uri": "https://localhost:8080/"
        },
        "id": "ErxleW_VBQPW",
        "outputId": "f9bf85f5-11e0-4297-fad7-d85517c9b52d"
      },
      "source": [
        "list_compare_hlf_4"
      ],
      "execution_count": null,
      "outputs": [
        {
          "output_type": "execute_result",
          "data": {
            "text/plain": [
              "[(0, 'c0-1', False, 'sc-0', 0.43307517917836275, '# features 19'),\n",
              " (1, 'c1-2', False, 'sc-1', 0.4237627970695444, '# features 27'),\n",
              " (2, 'c2-3', False, 'sc-2', 0.4141127255990032, '# features 25'),\n",
              " (3, 'c3-4', True, 'sc-3', 0.41181957631484734, '# features 34'),\n",
              " (4, 'c4-5', True, 'sc-4', 0.41181957631484734, '# features 34'),\n",
              " (5, 'c5-6', True, 'sc-5', 0.41181957631484734, '# features 34'),\n",
              " (6, 'c6-7', False, 'sc-6', 0.41181957631484734, '# features 34'),\n",
              " (7, 'c7-8', True, 'sc-7', 0.40985388120645627, '# features 33'),\n",
              " (8, 'c8-9', True, 'sc-8', 0.40985388120645627, '# features 33'),\n",
              " (9, 'c9-0', False, 'sc-9', 0.40985388120645627, '# features 33')]"
            ]
          },
          "metadata": {
            "tags": []
          },
          "execution_count": 35
        }
      ]
    },
    {
      "cell_type": "code",
      "metadata": {
        "colab": {
          "base_uri": "https://localhost:8080/"
        },
        "id": "qsBlHkQQBSpk",
        "outputId": "2d354c8d-e079-4e8e-be22-bb17d6edc0ab"
      },
      "source": [
        "print(bests_chromos_hlf_4[-1])\n",
        "X_train.iloc[:,bests_chromos_hlf_4[-1]].columns"
      ],
      "execution_count": null,
      "outputs": [
        {
          "output_type": "stream",
          "text": [
            "[ True  True  True  True False False  True False False False False  True\n",
            " False  True  True  True False False  True  True  True  True  True False\n",
            "  True False False False False  True  True  True  True False  True False\n",
            " False  True  True False False  True False  True False  True  True  True\n",
            " False  True False  True False  True  True False  True False False  True\n",
            " False False False]\n"
          ],
          "name": "stdout"
        },
        {
          "output_type": "execute_result",
          "data": {
            "text/plain": [
              "Index(['latitude', 'longitude', 'accommodates', 'bedrooms', 'maximum_nights',\n",
              "       'minimum_nights_avg_ntm', 'has_availability', 'availability_30',\n",
              "       'availability_60', 'bathrooms_shared', 'number_amenities',\n",
              "       'room_type_num', 'wifi', 'heating', 'kitchen', 'tv', 'hair_dryer',\n",
              "       'shampoo', 'dedicated_workspace', 'hot_water', 'dishes_and_silverware',\n",
              "       'cooking_basics', 'microwave', 'fire_extinguisher', 'private_entrance',\n",
              "       'dishwasher', 'coffee_maker', 'elevator', 'extra_pillows_and_blankets',\n",
              "       'host_greets_you', 'cable_tv', 'patio_or_balcony',\n",
              "       'paid_parking_off_premises'],\n",
              "      dtype='object')"
            ]
          },
          "metadata": {
            "tags": []
          },
          "execution_count": 41
        }
      ]
    },
    {
      "cell_type": "code",
      "metadata": {
        "id": "hV26nii6CSvj"
      },
      "source": [
        "first_round_list = ['latitude', 'longitude', 'accommodates', 'bedrooms', 'maximum_nights',\n",
        "       'minimum_nights_avg_ntm', 'has_availability', 'availability_30',\n",
        "       'availability_60', 'bathrooms_shared', 'number_amenities',\n",
        "       'room_type_num', 'wifi', 'heating', 'kitchen', 'tv', 'hair_dryer',\n",
        "       'shampoo', 'dedicated_workspace', 'hot_water', 'dishes_and_silverware',\n",
        "       'cooking_basics', 'microwave', 'fire_extinguisher', 'private_entrance',\n",
        "       'dishwasher', 'coffee_maker', 'elevator', 'extra_pillows_and_blankets',\n",
        "       'host_greets_you', 'cable_tv', 'patio_or_balcony',\n",
        "       'paid_parking_off_premises']"
      ],
      "execution_count": null,
      "outputs": []
    },
    {
      "cell_type": "code",
      "metadata": {
        "id": "DxVK-jPv-T9U"
      },
      "source": [
        "X_train_01 = X_train[first_round_list].copy()"
      ],
      "execution_count": null,
      "outputs": []
    },
    {
      "cell_type": "code",
      "metadata": {
        "id": "5qq0PSio_rFw"
      },
      "source": [
        "clf_01 = xg.XGBRegressor(objective ='reg:squarederror', \n",
        "                        max_depth=3, \n",
        "                        n_estimators=100, \n",
        "                        random_state=0)"
      ],
      "execution_count": null,
      "outputs": []
    },
    {
      "cell_type": "code",
      "metadata": {
        "colab": {
          "base_uri": "https://localhost:8080/"
        },
        "id": "qQPV0OIb_uDy",
        "outputId": "55ad0d60-4e48-43b6-ed10-22c35154d0a2"
      },
      "source": [
        "clf_01.fit(X_train[first_round_list], y_train)"
      ],
      "execution_count": null,
      "outputs": [
        {
          "output_type": "execute_result",
          "data": {
            "text/plain": [
              "XGBRegressor(base_score=0.5, booster='gbtree', colsample_bylevel=1,\n",
              "             colsample_bynode=1, colsample_bytree=1, gamma=0,\n",
              "             importance_type='gain', learning_rate=0.1, max_delta_step=0,\n",
              "             max_depth=3, min_child_weight=1, missing=None, n_estimators=100,\n",
              "             n_jobs=1, nthread=None, objective='reg:squarederror',\n",
              "             random_state=0, reg_alpha=0, reg_lambda=1, scale_pos_weight=1,\n",
              "             seed=None, silent=None, subsample=1, verbosity=1)"
            ]
          },
          "metadata": {
            "tags": []
          },
          "execution_count": 38
        }
      ]
    },
    {
      "cell_type": "code",
      "metadata": {
        "colab": {
          "base_uri": "https://localhost:8080/",
          "height": 1000
        },
        "id": "KM-ViY3XANcD",
        "outputId": "dd7b97cb-058e-465b-9817-fe277f63e649"
      },
      "source": [
        "df_feature_importance_01 = fselec.feature_importance(model=clf_01, \n",
        "                                                     model_type='Uncalibrated',\n",
        "                                                     feature_list=first_round_list)                "
      ],
      "execution_count": null,
      "outputs": [
        {
          "output_type": "display_data",
          "data": {
            "image/png": "[encoded data removed]",
            "text/plain": [
              "<Figure size 720x1440 with 1 Axes>"
            ]
          },
          "metadata": {
            "tags": [],
            "needs_background": "light"
          }
        }
      ]
    },
    {
      "cell_type": "code",
      "metadata": {
        "colab": {
          "base_uri": "https://localhost:8080/",
          "height": 1000
        },
        "id": "YI2hEti3CPbG",
        "outputId": "d322b182-80d0-4adb-fe71-9a4f962e79a3"
      },
      "source": [
        "df_feature_importance_01"
      ],
      "execution_count": null,
      "outputs": [
        {
          "output_type": "execute_result",
          "data": {
            "text/html": [
              "<div>\n",
              "<style scoped>\n",
              "    .dataframe tbody tr th:only-of-type {\n",
              "        vertical-align: middle;\n",
              "    }\n",
              "\n",
              "    .dataframe tbody tr th {\n",
              "        vertical-align: top;\n",
              "    }\n",
              "\n",
              "    .dataframe thead th {\n",
              "        text-align: right;\n",
              "    }\n",
              "</style>\n",
              "<table border=\"1\" class=\"dataframe\">\n",
              "  <thead>\n",
              "    <tr style=\"text-align: right;\">\n",
              "      <th></th>\n",
              "      <th>Feature_importance%</th>\n",
              "    </tr>\n",
              "  </thead>\n",
              "  <tbody>\n",
              "    <tr>\n",
              "      <th>room_type_num</th>\n",
              "      <td>60.822701</td>\n",
              "    </tr>\n",
              "    <tr>\n",
              "      <th>accommodates</th>\n",
              "      <td>7.136811</td>\n",
              "    </tr>\n",
              "    <tr>\n",
              "      <th>bedrooms</th>\n",
              "      <td>6.401356</td>\n",
              "    </tr>\n",
              "    <tr>\n",
              "      <th>bathrooms_shared</th>\n",
              "      <td>6.218227</td>\n",
              "    </tr>\n",
              "    <tr>\n",
              "      <th>tv</th>\n",
              "      <td>3.026444</td>\n",
              "    </tr>\n",
              "    <tr>\n",
              "      <th>dishwasher</th>\n",
              "      <td>1.839549</td>\n",
              "    </tr>\n",
              "    <tr>\n",
              "      <th>availability_60</th>\n",
              "      <td>1.665193</td>\n",
              "    </tr>\n",
              "    <tr>\n",
              "      <th>microwave</th>\n",
              "      <td>1.476967</td>\n",
              "    </tr>\n",
              "    <tr>\n",
              "      <th>longitude</th>\n",
              "      <td>1.411121</td>\n",
              "    </tr>\n",
              "    <tr>\n",
              "      <th>availability_30</th>\n",
              "      <td>1.389183</td>\n",
              "    </tr>\n",
              "    <tr>\n",
              "      <th>latitude</th>\n",
              "      <td>1.377891</td>\n",
              "    </tr>\n",
              "    <tr>\n",
              "      <th>elevator</th>\n",
              "      <td>1.171121</td>\n",
              "    </tr>\n",
              "    <tr>\n",
              "      <th>maximum_nights</th>\n",
              "      <td>0.707924</td>\n",
              "    </tr>\n",
              "    <tr>\n",
              "      <th>cooking_basics</th>\n",
              "      <td>0.621723</td>\n",
              "    </tr>\n",
              "    <tr>\n",
              "      <th>coffee_maker</th>\n",
              "      <td>0.504325</td>\n",
              "    </tr>\n",
              "    <tr>\n",
              "      <th>shampoo</th>\n",
              "      <td>0.460425</td>\n",
              "    </tr>\n",
              "    <tr>\n",
              "      <th>kitchen</th>\n",
              "      <td>0.458807</td>\n",
              "    </tr>\n",
              "    <tr>\n",
              "      <th>hair_dryer</th>\n",
              "      <td>0.450690</td>\n",
              "    </tr>\n",
              "    <tr>\n",
              "      <th>hot_water</th>\n",
              "      <td>0.417117</td>\n",
              "    </tr>\n",
              "    <tr>\n",
              "      <th>number_amenities</th>\n",
              "      <td>0.337375</td>\n",
              "    </tr>\n",
              "    <tr>\n",
              "      <th>minimum_nights_avg_ntm</th>\n",
              "      <td>0.335093</td>\n",
              "    </tr>\n",
              "    <tr>\n",
              "      <th>fire_extinguisher</th>\n",
              "      <td>0.329256</td>\n",
              "    </tr>\n",
              "    <tr>\n",
              "      <th>heating</th>\n",
              "      <td>0.325061</td>\n",
              "    </tr>\n",
              "    <tr>\n",
              "      <th>dishes_and_silverware</th>\n",
              "      <td>0.311763</td>\n",
              "    </tr>\n",
              "    <tr>\n",
              "      <th>dedicated_workspace</th>\n",
              "      <td>0.275028</td>\n",
              "    </tr>\n",
              "    <tr>\n",
              "      <th>cable_tv</th>\n",
              "      <td>0.240938</td>\n",
              "    </tr>\n",
              "    <tr>\n",
              "      <th>private_entrance</th>\n",
              "      <td>0.175718</td>\n",
              "    </tr>\n",
              "    <tr>\n",
              "      <th>extra_pillows_and_blankets</th>\n",
              "      <td>0.112197</td>\n",
              "    </tr>\n",
              "    <tr>\n",
              "      <th>host_greets_you</th>\n",
              "      <td>0.000000</td>\n",
              "    </tr>\n",
              "    <tr>\n",
              "      <th>patio_or_balcony</th>\n",
              "      <td>0.000000</td>\n",
              "    </tr>\n",
              "    <tr>\n",
              "      <th>wifi</th>\n",
              "      <td>0.000000</td>\n",
              "    </tr>\n",
              "    <tr>\n",
              "      <th>has_availability</th>\n",
              "      <td>0.000000</td>\n",
              "    </tr>\n",
              "    <tr>\n",
              "      <th>paid_parking_off_premises</th>\n",
              "      <td>0.000000</td>\n",
              "    </tr>\n",
              "  </tbody>\n",
              "</table>\n",
              "</div>"
            ],
            "text/plain": [
              "                            Feature_importance%\n",
              "room_type_num                         60.822701\n",
              "accommodates                           7.136811\n",
              "bedrooms                               6.401356\n",
              "bathrooms_shared                       6.218227\n",
              "tv                                     3.026444\n",
              "dishwasher                             1.839549\n",
              "availability_60                        1.665193\n",
              "microwave                              1.476967\n",
              "longitude                              1.411121\n",
              "availability_30                        1.389183\n",
              "latitude                               1.377891\n",
              "elevator                               1.171121\n",
              "maximum_nights                         0.707924\n",
              "cooking_basics                         0.621723\n",
              "coffee_maker                           0.504325\n",
              "shampoo                                0.460425\n",
              "kitchen                                0.458807\n",
              "hair_dryer                             0.450690\n",
              "hot_water                              0.417117\n",
              "number_amenities                       0.337375\n",
              "minimum_nights_avg_ntm                 0.335093\n",
              "fire_extinguisher                      0.329256\n",
              "heating                                0.325061\n",
              "dishes_and_silverware                  0.311763\n",
              "dedicated_workspace                    0.275028\n",
              "cable_tv                               0.240938\n",
              "private_entrance                       0.175718\n",
              "extra_pillows_and_blankets             0.112197\n",
              "host_greets_you                        0.000000\n",
              "patio_or_balcony                       0.000000\n",
              "wifi                                   0.000000\n",
              "has_availability                       0.000000\n",
              "paid_parking_off_premises              0.000000"
            ]
          },
          "metadata": {
            "tags": []
          },
          "execution_count": 67
        }
      ]
    },
    {
      "cell_type": "code",
      "metadata": {
        "id": "siMGPF26Ydb4"
      },
      "source": [
        "X_test_01 = X_test[first_round_list].copy()"
      ],
      "execution_count": null,
      "outputs": []
    },
    {
      "cell_type": "code",
      "metadata": {
        "colab": {
          "base_uri": "https://localhost:8080/"
        },
        "id": "AEoyXGlQYAg_",
        "outputId": "74b28188-178e-45cc-c5c1-8ba8f14de11d"
      },
      "source": [
        "# Predict the model \n",
        "pred_1 = clf_01.predict(X_test_01) \n",
        "pred_1"
      ],
      "execution_count": null,
      "outputs": [
        {
          "output_type": "execute_result",
          "data": {
            "text/plain": [
              "array([4.706099 , 4.0292974, 3.9971528, ..., 3.5223298, 3.9327188,\n",
              "       3.580825 ], dtype=float32)"
            ]
          },
          "metadata": {
            "tags": []
          },
          "execution_count": 40
        }
      ]
    },
    {
      "cell_type": "code",
      "metadata": {
        "colab": {
          "base_uri": "https://localhost:8080/"
        },
        "id": "sClZCrQcY4lg",
        "outputId": "5f2e28b9-add3-4b36-e436-5c6d211d7f13"
      },
      "source": [
        "# evaluating prediction\n",
        "rmse_1 = RMSE(y_test, pred_1)\n",
        "rmse_1"
      ],
      "execution_count": null,
      "outputs": [
        {
          "output_type": "execute_result",
          "data": {
            "text/plain": [
              "0.40512962256023827"
            ]
          },
          "metadata": {
            "tags": []
          },
          "execution_count": 41
        }
      ]
    },
    {
      "cell_type": "markdown",
      "metadata": {
        "id": "wggTSMXrM3js"
      },
      "source": [
        "## 2nd Round"
      ]
    },
    {
      "cell_type": "code",
      "metadata": {
        "colab": {
          "base_uri": "https://localhost:8080/"
        },
        "id": "f8wLSWANBk4m",
        "outputId": "ba645acd-48eb-48ff-fe50-3429c279d9cc"
      },
      "source": [
        "# best columns from firs roound\n",
        "bests_chromos_hlf_5, best_scores_hlf_5 = fselec.generations_v4(size=200,\n",
        "                                                              n_feat=len(first_round_list),\n",
        "                                                              metric=RMSE,\n",
        "                                                              clf=clf,\n",
        "                                                              n_parents=100,\n",
        "                                                              mutation_rate=0.2, \n",
        "                                                              n_generations=10,\n",
        "                                                              X_train=X_train[first_round_list],\n",
        "                                                              y_train=y_train,\n",
        "                                                              percent_not_feat=0.8,\n",
        "                                                              seed=42,\n",
        "                                                              random_state_fit=42,\n",
        "                                                              classification=False,\n",
        "                                                              early_stop_ths=0.005,\n",
        "                                                              early_stop_falg=False)"
      ],
      "execution_count": null,
      "outputs": [
        {
          "output_type": "stream",
          "text": [
            "[0.4461544182885245, 0.45750709658296457]\n",
            "[0.4298946581677378, 0.44103269050220867]\n",
            "[0.41429386166228643, 0.416471567628069]\n",
            "[0.41429386166228643, 0.416471567628069]\n",
            "[0.41429386166228643, 0.41529905413866214]\n",
            "[0.41266163188961685, 0.41271699273414697]\n",
            "[0.410720243447765, 0.41266163188961685]\n",
            "[0.410720243447765, 0.41201862300739633]\n",
            "[0.410720243447765, 0.41201862300739633]\n",
            "[0.410720243447765, 0.41119675632489394]\n"
          ],
          "name": "stdout"
        }
      ]
    },
    {
      "cell_type": "code",
      "metadata": {
        "colab": {
          "base_uri": "https://localhost:8080/",
          "height": 279
        },
        "id": "58lBeiNpCDeQ",
        "outputId": "ba0efbcd-e424-4878-b7af-88568c5d369d"
      },
      "source": [
        "best_in_gene(best_scores_hlf_5)"
      ],
      "execution_count": null,
      "outputs": [
        {
          "output_type": "display_data",
          "data": {
            "image/png": "[encoded data removed]",
            "text/plain": [
              "<Figure size 432x288 with 1 Axes>"
            ]
          },
          "metadata": {
            "tags": [],
            "needs_background": "light"
          }
        }
      ]
    },
    {
      "cell_type": "code",
      "metadata": {
        "id": "zt7aExdKyXRy"
      },
      "source": [
        "list_compare_hlf_5 = bests_chromos_coparison(bests_chromos=bests_chromos_hlf_5, \n",
        "                                             best_scores=best_scores_hlf_5)"
      ],
      "execution_count": null,
      "outputs": []
    },
    {
      "cell_type": "code",
      "metadata": {
        "colab": {
          "base_uri": "https://localhost:8080/"
        },
        "id": "KpIp5K5vyeHB",
        "outputId": "d7549aa4-aac1-4d0f-ba41-753a0ab19d56"
      },
      "source": [
        "list_compare_hlf_5"
      ],
      "execution_count": null,
      "outputs": [
        {
          "output_type": "execute_result",
          "data": {
            "text/plain": [
              "[(0, 'c0-1', False, 'sc-0', 0.4461544182885245, '# features 7'),\n",
              " (1, 'c1-2', False, 'sc-1', 0.4298946581677378, '# features 16'),\n",
              " (2, 'c2-3', True, 'sc-2', 0.41429386166228643, '# features 16'),\n",
              " (3, 'c3-4', True, 'sc-3', 0.41429386166228643, '# features 16'),\n",
              " (4, 'c4-5', False, 'sc-4', 0.41429386166228643, '# features 16'),\n",
              " (5, 'c5-6', False, 'sc-5', 0.41266163188961685, '# features 14'),\n",
              " (6, 'c6-7', True, 'sc-6', 0.410720243447765, '# features 25'),\n",
              " (7, 'c7-8', True, 'sc-7', 0.410720243447765, '# features 25'),\n",
              " (8, 'c8-9', True, 'sc-8', 0.410720243447765, '# features 25'),\n",
              " (9, 'c9-0', False, 'sc-9', 0.410720243447765, '# features 25')]"
            ]
          },
          "metadata": {
            "tags": []
          },
          "execution_count": 47
        }
      ]
    },
    {
      "cell_type": "code",
      "metadata": {
        "colab": {
          "base_uri": "https://localhost:8080/"
        },
        "id": "WR5c_f2XyhWe",
        "outputId": "dc6fd5c3-a7d6-4129-e42a-1487d9abb31f"
      },
      "source": [
        "print(bests_chromos_hlf_5[-1])"
      ],
      "execution_count": null,
      "outputs": [
        {
          "output_type": "stream",
          "text": [
            "[ True  True  True  True  True False False  True  True  True False  True\n",
            " False  True  True  True False  True  True  True False  True  True False\n",
            "  True  True  True  True False  True  True  True  True]\n"
          ],
          "name": "stdout"
        }
      ]
    },
    {
      "cell_type": "code",
      "metadata": {
        "colab": {
          "base_uri": "https://localhost:8080/"
        },
        "id": "DPaBbNdS-L8G",
        "outputId": "cd7a4051-75fd-483c-d6f3-5032d13b77eb"
      },
      "source": [
        "X_train_01.iloc[:,bests_chromos_hlf_5[-1]].columns"
      ],
      "execution_count": null,
      "outputs": [
        {
          "output_type": "execute_result",
          "data": {
            "text/plain": [
              "Index(['latitude', 'longitude', 'accommodates', 'bedrooms', 'maximum_nights',\n",
              "       'availability_30', 'availability_60', 'bathrooms_shared',\n",
              "       'room_type_num', 'heating', 'kitchen', 'tv', 'shampoo',\n",
              "       'dedicated_workspace', 'hot_water', 'cooking_basics', 'microwave',\n",
              "       'private_entrance', 'dishwasher', 'coffee_maker', 'elevator',\n",
              "       'host_greets_you', 'cable_tv', 'patio_or_balcony',\n",
              "       'paid_parking_off_premises'],\n",
              "      dtype='object')"
            ]
          },
          "metadata": {
            "tags": []
          },
          "execution_count": 50
        }
      ]
    },
    {
      "cell_type": "code",
      "metadata": {
        "id": "-9Lxle4f-3v7"
      },
      "source": [
        "first_round_list_02 = ['latitude', 'longitude', 'accommodates', 'bedrooms', 'maximum_nights',\n",
        "       'availability_30', 'availability_60', 'bathrooms_shared',\n",
        "       'room_type_num', 'heating', 'kitchen', 'tv', 'shampoo',\n",
        "       'dedicated_workspace', 'hot_water', 'cooking_basics', 'microwave',\n",
        "       'private_entrance', 'dishwasher', 'coffee_maker', 'elevator',\n",
        "       'host_greets_you', 'cable_tv', 'patio_or_balcony',\n",
        "       'paid_parking_off_premises']"
      ],
      "execution_count": null,
      "outputs": []
    },
    {
      "cell_type": "code",
      "metadata": {
        "id": "-bTGwiydB_DH"
      },
      "source": [
        "X_train_02 = X_train_01[first_round_list_02].copy()"
      ],
      "execution_count": null,
      "outputs": []
    },
    {
      "cell_type": "code",
      "metadata": {
        "id": "iGcR0-5-BY1e"
      },
      "source": [
        "clf_02 = xg.XGBRegressor(objective ='reg:squarederror', \n",
        "                        max_depth=3, \n",
        "                        n_estimators=100, \n",
        "                        random_state=0)"
      ],
      "execution_count": null,
      "outputs": []
    },
    {
      "cell_type": "code",
      "metadata": {
        "colab": {
          "base_uri": "https://localhost:8080/"
        },
        "id": "zsNzuXNWBY1x",
        "outputId": "dd536269-f8dc-4a1b-f5db-d9479f64bd7e"
      },
      "source": [
        "clf_02.fit(X_train_02, y_train)"
      ],
      "execution_count": null,
      "outputs": [
        {
          "output_type": "execute_result",
          "data": {
            "text/plain": [
              "XGBRegressor(base_score=0.5, booster='gbtree', colsample_bylevel=1,\n",
              "             colsample_bynode=1, colsample_bytree=1, gamma=0,\n",
              "             importance_type='gain', learning_rate=0.1, max_delta_step=0,\n",
              "             max_depth=3, min_child_weight=1, missing=None, n_estimators=100,\n",
              "             n_jobs=1, nthread=None, objective='reg:squarederror',\n",
              "             random_state=0, reg_alpha=0, reg_lambda=1, scale_pos_weight=1,\n",
              "             seed=None, silent=None, subsample=1, verbosity=1)"
            ]
          },
          "metadata": {
            "tags": []
          },
          "execution_count": 54
        }
      ]
    },
    {
      "cell_type": "code",
      "metadata": {
        "colab": {
          "base_uri": "https://localhost:8080/",
          "height": 1000
        },
        "id": "I7OmFtCZ_EVD",
        "outputId": "daeb8532-6253-4a93-efc3-cf4b0fd8b4c3"
      },
      "source": [
        "df_feature_importance_02 = fselec.feature_importance(model=clf_02, \n",
        "                                                     model_type='Uncalibrated',\n",
        "                                                     feature_list=first_round_list_02)                "
      ],
      "execution_count": null,
      "outputs": [
        {
          "output_type": "display_data",
          "data": {
            "image/png": "[encoded data removed]",
            "text/plain": [
              "<Figure size 720x1440 with 1 Axes>"
            ]
          },
          "metadata": {
            "tags": [],
            "needs_background": "light"
          }
        }
      ]
    },
    {
      "cell_type": "code",
      "metadata": {
        "colab": {
          "base_uri": "https://localhost:8080/",
          "height": 824
        },
        "id": "K_0dzDWoCXJZ",
        "outputId": "e1898577-cb41-46a3-e4a0-9b7cbab78651"
      },
      "source": [
        "df_feature_importance_02"
      ],
      "execution_count": null,
      "outputs": [
        {
          "output_type": "execute_result",
          "data": {
            "text/html": [
              "<div>\n",
              "<style scoped>\n",
              "    .dataframe tbody tr th:only-of-type {\n",
              "        vertical-align: middle;\n",
              "    }\n",
              "\n",
              "    .dataframe tbody tr th {\n",
              "        vertical-align: top;\n",
              "    }\n",
              "\n",
              "    .dataframe thead th {\n",
              "        text-align: right;\n",
              "    }\n",
              "</style>\n",
              "<table border=\"1\" class=\"dataframe\">\n",
              "  <thead>\n",
              "    <tr style=\"text-align: right;\">\n",
              "      <th></th>\n",
              "      <th>Feature_importance%</th>\n",
              "    </tr>\n",
              "  </thead>\n",
              "  <tbody>\n",
              "    <tr>\n",
              "      <th>room_type_num</th>\n",
              "      <td>60.915054</td>\n",
              "    </tr>\n",
              "    <tr>\n",
              "      <th>accommodates</th>\n",
              "      <td>8.613807</td>\n",
              "    </tr>\n",
              "    <tr>\n",
              "      <th>bedrooms</th>\n",
              "      <td>6.649660</td>\n",
              "    </tr>\n",
              "    <tr>\n",
              "      <th>bathrooms_shared</th>\n",
              "      <td>5.791234</td>\n",
              "    </tr>\n",
              "    <tr>\n",
              "      <th>tv</th>\n",
              "      <td>3.137387</td>\n",
              "    </tr>\n",
              "    <tr>\n",
              "      <th>dishwasher</th>\n",
              "      <td>1.793111</td>\n",
              "    </tr>\n",
              "    <tr>\n",
              "      <th>availability_60</th>\n",
              "      <td>1.753305</td>\n",
              "    </tr>\n",
              "    <tr>\n",
              "      <th>availability_30</th>\n",
              "      <td>1.623776</td>\n",
              "    </tr>\n",
              "    <tr>\n",
              "      <th>longitude</th>\n",
              "      <td>1.344454</td>\n",
              "    </tr>\n",
              "    <tr>\n",
              "      <th>latitude</th>\n",
              "      <td>1.335617</td>\n",
              "    </tr>\n",
              "    <tr>\n",
              "      <th>elevator</th>\n",
              "      <td>1.184568</td>\n",
              "    </tr>\n",
              "    <tr>\n",
              "      <th>microwave</th>\n",
              "      <td>1.105842</td>\n",
              "    </tr>\n",
              "    <tr>\n",
              "      <th>cooking_basics</th>\n",
              "      <td>0.684038</td>\n",
              "    </tr>\n",
              "    <tr>\n",
              "      <th>maximum_nights</th>\n",
              "      <td>0.648138</td>\n",
              "    </tr>\n",
              "    <tr>\n",
              "      <th>kitchen</th>\n",
              "      <td>0.525154</td>\n",
              "    </tr>\n",
              "    <tr>\n",
              "      <th>coffee_maker</th>\n",
              "      <td>0.488894</td>\n",
              "    </tr>\n",
              "    <tr>\n",
              "      <th>hot_water</th>\n",
              "      <td>0.436627</td>\n",
              "    </tr>\n",
              "    <tr>\n",
              "      <th>shampoo</th>\n",
              "      <td>0.399261</td>\n",
              "    </tr>\n",
              "    <tr>\n",
              "      <th>heating</th>\n",
              "      <td>0.373439</td>\n",
              "    </tr>\n",
              "    <tr>\n",
              "      <th>patio_or_balcony</th>\n",
              "      <td>0.238997</td>\n",
              "    </tr>\n",
              "    <tr>\n",
              "      <th>cable_tv</th>\n",
              "      <td>0.234718</td>\n",
              "    </tr>\n",
              "    <tr>\n",
              "      <th>dedicated_workspace</th>\n",
              "      <td>0.230841</td>\n",
              "    </tr>\n",
              "    <tr>\n",
              "      <th>private_entrance</th>\n",
              "      <td>0.202024</td>\n",
              "    </tr>\n",
              "    <tr>\n",
              "      <th>host_greets_you</th>\n",
              "      <td>0.178972</td>\n",
              "    </tr>\n",
              "    <tr>\n",
              "      <th>paid_parking_off_premises</th>\n",
              "      <td>0.111078</td>\n",
              "    </tr>\n",
              "  </tbody>\n",
              "</table>\n",
              "</div>"
            ],
            "text/plain": [
              "                           Feature_importance%\n",
              "room_type_num                        60.915054\n",
              "accommodates                          8.613807\n",
              "bedrooms                              6.649660\n",
              "bathrooms_shared                      5.791234\n",
              "tv                                    3.137387\n",
              "dishwasher                            1.793111\n",
              "availability_60                       1.753305\n",
              "availability_30                       1.623776\n",
              "longitude                             1.344454\n",
              "latitude                              1.335617\n",
              "elevator                              1.184568\n",
              "microwave                             1.105842\n",
              "cooking_basics                        0.684038\n",
              "maximum_nights                        0.648138\n",
              "kitchen                               0.525154\n",
              "coffee_maker                          0.488894\n",
              "hot_water                             0.436627\n",
              "shampoo                               0.399261\n",
              "heating                               0.373439\n",
              "patio_or_balcony                      0.238997\n",
              "cable_tv                              0.234718\n",
              "dedicated_workspace                   0.230841\n",
              "private_entrance                      0.202024\n",
              "host_greets_you                       0.178972\n",
              "paid_parking_off_premises             0.111078"
            ]
          },
          "metadata": {
            "tags": []
          },
          "execution_count": 56
        }
      ]
    },
    {
      "cell_type": "code",
      "metadata": {
        "id": "dciBT7hfZGQI"
      },
      "source": [
        "X_test_02 = X_test_01[first_round_list_02].copy()"
      ],
      "execution_count": null,
      "outputs": []
    },
    {
      "cell_type": "code",
      "metadata": {
        "colab": {
          "base_uri": "https://localhost:8080/"
        },
        "id": "brmgikHiZGQI",
        "outputId": "e1a76c4c-6815-4114-f37e-e7662a117c60"
      },
      "source": [
        "# Predict the model \n",
        "pred_2 = clf_02.predict(X_test_02) \n",
        "pred_2"
      ],
      "execution_count": null,
      "outputs": [
        {
          "output_type": "execute_result",
          "data": {
            "text/plain": [
              "array([4.7538824, 4.0873456, 3.9877684, ..., 3.4857101, 3.9409385,\n",
              "       3.6069477], dtype=float32)"
            ]
          },
          "metadata": {
            "tags": []
          },
          "execution_count": 58
        }
      ]
    },
    {
      "cell_type": "code",
      "metadata": {
        "colab": {
          "base_uri": "https://localhost:8080/"
        },
        "id": "OkpqcnwsZGQL",
        "outputId": "1aadc052-a172-46de-fcaa-89f1615762ee"
      },
      "source": [
        "# evaluating prediction\n",
        "rmse_2= RMSE(y_test, pred_2)\n",
        "rmse_2"
      ],
      "execution_count": null,
      "outputs": [
        {
          "output_type": "execute_result",
          "data": {
            "text/plain": [
              "0.40640160394948976"
            ]
          },
          "metadata": {
            "tags": []
          },
          "execution_count": 59
        }
      ]
    },
    {
      "cell_type": "markdown",
      "metadata": {
        "id": "L0E-LwH3XH3_"
      },
      "source": [
        "## 3rd Round"
      ]
    },
    {
      "cell_type": "code",
      "metadata": {
        "colab": {
          "base_uri": "https://localhost:8080/"
        },
        "id": "Sc_ReVKoCjNT",
        "outputId": "74fe8ce7-aa08-4c75-96ad-9199fa476253"
      },
      "source": [
        "# best columns from firs roound\n",
        "bests_chromos_hlf_6, best_scores_hlf_6 = fselec.generations_v4(size=200,\n",
        "                                                              n_feat=len(first_round_list_02),\n",
        "                                                              metric=RMSE,\n",
        "                                                              clf=clf,\n",
        "                                                              n_parents=100,\n",
        "                                                              mutation_rate=0.2, \n",
        "                                                              n_generations=10,\n",
        "                                                              X_train=X_train_02,\n",
        "                                                              y_train=y_train,\n",
        "                                                              percent_not_feat=0.8,\n",
        "                                                              seed=42,\n",
        "                                                              random_state_fit=42,\n",
        "                                                              classification=False,\n",
        "                                                              early_stop_ths=0.005,\n",
        "                                                              early_stop_falg=False)"
      ],
      "execution_count": null,
      "outputs": [
        {
          "output_type": "stream",
          "text": [
            "[0.45972204596964145, 0.4623239005682988]\n",
            "[0.4390947076293226, 0.4391857824998006]\n",
            "[0.41871771949725867, 0.4200932621187648]\n",
            "[0.41871771949725867, 0.4198019406593893]\n",
            "[0.4177002735072351, 0.41871771949725867]\n",
            "[0.41685836019485684, 0.41704160262495216]\n",
            "[0.4147216421657601, 0.4156128700064488]\n",
            "[0.41213191025600926, 0.4135321383633907]\n",
            "[0.41213191025600926, 0.4135321383633907]\n",
            "[0.41213191025600926, 0.4135321383633907]\n"
          ],
          "name": "stdout"
        }
      ]
    },
    {
      "cell_type": "code",
      "metadata": {
        "colab": {
          "base_uri": "https://localhost:8080/",
          "height": 279
        },
        "id": "W-uBkHOvC-QH",
        "outputId": "2109e52c-797c-4435-9268-df66e242a0bf"
      },
      "source": [
        "best_in_gene(best_scores_hlf_6)"
      ],
      "execution_count": null,
      "outputs": [
        {
          "output_type": "display_data",
          "data": {
            "image/png": "[encoded data removed]",
            "text/plain": [
              "<Figure size 432x288 with 1 Axes>"
            ]
          },
          "metadata": {
            "tags": [],
            "needs_background": "light"
          }
        }
      ]
    },
    {
      "cell_type": "code",
      "metadata": {
        "id": "DISlnAGVC-QJ"
      },
      "source": [
        "list_compare_hlf_6 = bests_chromos_coparison(bests_chromos=bests_chromos_hlf_6, \n",
        "                                             best_scores=best_scores_hlf_6)"
      ],
      "execution_count": null,
      "outputs": []
    },
    {
      "cell_type": "code",
      "metadata": {
        "colab": {
          "base_uri": "https://localhost:8080/"
        },
        "id": "eFG2Nt70C-QJ",
        "outputId": "9c97a048-9478-4a56-9687-24315857ce75"
      },
      "source": [
        "list_compare_hlf_6"
      ],
      "execution_count": null,
      "outputs": [
        {
          "output_type": "execute_result",
          "data": {
            "text/plain": [
              "[(0, 'c0-1', False, 'sc-0', 0.45972204596964145, '# features 5'),\n",
              " (1, 'c1-2', False, 'sc-1', 0.4390947076293226, '# features 10'),\n",
              " (2, 'c2-3', True, 'sc-2', 0.41871771949725867, '# features 13'),\n",
              " (3, 'c3-4', False, 'sc-3', 0.41871771949725867, '# features 13'),\n",
              " (4, 'c4-5', False, 'sc-4', 0.4177002735072351, '# features 13'),\n",
              " (5, 'c5-6', False, 'sc-5', 0.41685836019485684, '# features 18'),\n",
              " (6, 'c6-7', False, 'sc-6', 0.4147216421657601, '# features 17'),\n",
              " (7, 'c7-8', True, 'sc-7', 0.41213191025600926, '# features 18'),\n",
              " (8, 'c8-9', True, 'sc-8', 0.41213191025600926, '# features 18'),\n",
              " (9, 'c9-0', False, 'sc-9', 0.41213191025600926, '# features 18')]"
            ]
          },
          "metadata": {
            "tags": []
          },
          "execution_count": 29
        }
      ]
    },
    {
      "cell_type": "code",
      "metadata": {
        "colab": {
          "base_uri": "https://localhost:8080/"
        },
        "id": "eonedTA_C-QJ",
        "outputId": "4cc364e0-c723-4a7c-df2d-68be453511d9"
      },
      "source": [
        "print(bests_chromos_hlf_6[-1])"
      ],
      "execution_count": null,
      "outputs": [
        {
          "output_type": "stream",
          "text": [
            "[ True  True  True  True  True  True  True  True  True False False  True\n",
            "  True False  True  True False False  True False  True  True  True False\n",
            "  True]\n"
          ],
          "name": "stdout"
        }
      ]
    },
    {
      "cell_type": "code",
      "metadata": {
        "colab": {
          "base_uri": "https://localhost:8080/"
        },
        "id": "-FxAUq-sCyaT",
        "outputId": "e187d901-7da1-4c39-9b0a-7e742950ab9d"
      },
      "source": [
        "X_train_02.iloc[:, bests_chromos_hlf_6[-1]].columns"
      ],
      "execution_count": null,
      "outputs": [
        {
          "output_type": "execute_result",
          "data": {
            "text/plain": [
              "Index(['latitude', 'longitude', 'accommodates', 'bedrooms', 'maximum_nights',\n",
              "       'availability_30', 'availability_60', 'bathrooms_shared',\n",
              "       'room_type_num', 'tv', 'shampoo', 'hot_water', 'cooking_basics',\n",
              "       'dishwasher', 'elevator', 'host_greets_you', 'cable_tv',\n",
              "       'paid_parking_off_premises'],\n",
              "      dtype='object')"
            ]
          },
          "metadata": {
            "tags": []
          },
          "execution_count": 32
        }
      ]
    },
    {
      "cell_type": "code",
      "metadata": {
        "id": "O-29GkK9DZOj"
      },
      "source": [
        "first_round_list_03 = ['latitude', 'longitude', 'accommodates', 'bedrooms', 'maximum_nights',\n",
        "       'availability_30', 'availability_60', 'bathrooms_shared',\n",
        "       'room_type_num', 'tv', 'shampoo', 'hot_water', 'cooking_basics',\n",
        "       'dishwasher', 'elevator', 'host_greets_you', 'cable_tv',\n",
        "       'paid_parking_off_premises']"
      ],
      "execution_count": null,
      "outputs": []
    },
    {
      "cell_type": "code",
      "metadata": {
        "id": "7qIThjdXDAmu"
      },
      "source": [
        "X_train_03 = X_train_02.loc[:, first_round_list_03].copy()"
      ],
      "execution_count": null,
      "outputs": []
    },
    {
      "cell_type": "code",
      "metadata": {
        "colab": {
          "base_uri": "https://localhost:8080/"
        },
        "id": "oulryN6dDuMp",
        "outputId": "9229b964-bf5f-44ed-bb4c-bb1d2cde7061"
      },
      "source": [
        "len(first_round_list_03)"
      ],
      "execution_count": null,
      "outputs": [
        {
          "output_type": "execute_result",
          "data": {
            "text/plain": [
              "18"
            ]
          },
          "metadata": {
            "tags": []
          },
          "execution_count": 61
        }
      ]
    },
    {
      "cell_type": "code",
      "metadata": {
        "id": "jWRbYknCaheD"
      },
      "source": [
        "clf_03 = xg.XGBRegressor(objective ='reg:squarederror', \n",
        "                        max_depth=3, \n",
        "                        n_estimators=100, \n",
        "                        random_state=0)"
      ],
      "execution_count": null,
      "outputs": []
    },
    {
      "cell_type": "code",
      "metadata": {
        "colab": {
          "base_uri": "https://localhost:8080/"
        },
        "id": "e3yl6ltnaheE",
        "outputId": "8f2d1bd0-1807-403f-b4d3-9ffcb8b9200e"
      },
      "source": [
        "clf_03.fit(X_train_03, y_train)"
      ],
      "execution_count": null,
      "outputs": [
        {
          "output_type": "execute_result",
          "data": {
            "text/plain": [
              "XGBRegressor(base_score=0.5, booster='gbtree', colsample_bylevel=1,\n",
              "             colsample_bynode=1, colsample_bytree=1, gamma=0,\n",
              "             importance_type='gain', learning_rate=0.1, max_delta_step=0,\n",
              "             max_depth=3, min_child_weight=1, missing=None, n_estimators=100,\n",
              "             n_jobs=1, nthread=None, objective='reg:squarederror',\n",
              "             random_state=0, reg_alpha=0, reg_lambda=1, scale_pos_weight=1,\n",
              "             seed=None, silent=None, subsample=1, verbosity=1)"
            ]
          },
          "metadata": {
            "tags": []
          },
          "execution_count": 63
        }
      ]
    },
    {
      "cell_type": "code",
      "metadata": {
        "colab": {
          "base_uri": "https://localhost:8080/",
          "height": 1000
        },
        "id": "xJKSX8pZaheE",
        "outputId": "fe9286ea-9df2-4fc4-baf7-b8848a39b440"
      },
      "source": [
        "df_feature_importance_03 = fselec.feature_importance(model=clf_03, \n",
        "                                                     model_type='Uncalibrated',\n",
        "                                                     feature_list=first_round_list_03)                "
      ],
      "execution_count": null,
      "outputs": [
        {
          "output_type": "display_data",
          "data": {
            "image/png": "[encoded data removed]",
            "text/plain": [
              "<Figure size 720x1440 with 1 Axes>"
            ]
          },
          "metadata": {
            "tags": [],
            "needs_background": "light"
          }
        }
      ]
    },
    {
      "cell_type": "code",
      "metadata": {
        "colab": {
          "base_uri": "https://localhost:8080/",
          "height": 607
        },
        "id": "jwltB5J1aheF",
        "outputId": "79cef607-fb1c-432d-95ef-1b2dfaa9daf6"
      },
      "source": [
        "df_feature_importance_03"
      ],
      "execution_count": null,
      "outputs": [
        {
          "output_type": "execute_result",
          "data": {
            "text/html": [
              "<div>\n",
              "<style scoped>\n",
              "    .dataframe tbody tr th:only-of-type {\n",
              "        vertical-align: middle;\n",
              "    }\n",
              "\n",
              "    .dataframe tbody tr th {\n",
              "        vertical-align: top;\n",
              "    }\n",
              "\n",
              "    .dataframe thead th {\n",
              "        text-align: right;\n",
              "    }\n",
              "</style>\n",
              "<table border=\"1\" class=\"dataframe\">\n",
              "  <thead>\n",
              "    <tr style=\"text-align: right;\">\n",
              "      <th></th>\n",
              "      <th>Feature_importance%</th>\n",
              "    </tr>\n",
              "  </thead>\n",
              "  <tbody>\n",
              "    <tr>\n",
              "      <th>room_type_num</th>\n",
              "      <td>63.646008</td>\n",
              "    </tr>\n",
              "    <tr>\n",
              "      <th>accommodates</th>\n",
              "      <td>8.472505</td>\n",
              "    </tr>\n",
              "    <tr>\n",
              "      <th>bedrooms</th>\n",
              "      <td>6.284707</td>\n",
              "    </tr>\n",
              "    <tr>\n",
              "      <th>bathrooms_shared</th>\n",
              "      <td>5.366036</td>\n",
              "    </tr>\n",
              "    <tr>\n",
              "      <th>tv</th>\n",
              "      <td>3.987548</td>\n",
              "    </tr>\n",
              "    <tr>\n",
              "      <th>availability_30</th>\n",
              "      <td>1.955242</td>\n",
              "    </tr>\n",
              "    <tr>\n",
              "      <th>dishwasher</th>\n",
              "      <td>1.894462</td>\n",
              "    </tr>\n",
              "    <tr>\n",
              "      <th>availability_60</th>\n",
              "      <td>1.713724</td>\n",
              "    </tr>\n",
              "    <tr>\n",
              "      <th>latitude</th>\n",
              "      <td>1.400090</td>\n",
              "    </tr>\n",
              "    <tr>\n",
              "      <th>longitude</th>\n",
              "      <td>1.365225</td>\n",
              "    </tr>\n",
              "    <tr>\n",
              "      <th>elevator</th>\n",
              "      <td>1.339997</td>\n",
              "    </tr>\n",
              "    <tr>\n",
              "      <th>cooking_basics</th>\n",
              "      <td>0.840502</td>\n",
              "    </tr>\n",
              "    <tr>\n",
              "      <th>maximum_nights</th>\n",
              "      <td>0.659398</td>\n",
              "    </tr>\n",
              "    <tr>\n",
              "      <th>hot_water</th>\n",
              "      <td>0.447645</td>\n",
              "    </tr>\n",
              "    <tr>\n",
              "      <th>shampoo</th>\n",
              "      <td>0.362727</td>\n",
              "    </tr>\n",
              "    <tr>\n",
              "      <th>cable_tv</th>\n",
              "      <td>0.178842</td>\n",
              "    </tr>\n",
              "    <tr>\n",
              "      <th>host_greets_you</th>\n",
              "      <td>0.085341</td>\n",
              "    </tr>\n",
              "    <tr>\n",
              "      <th>paid_parking_off_premises</th>\n",
              "      <td>0.000000</td>\n",
              "    </tr>\n",
              "  </tbody>\n",
              "</table>\n",
              "</div>"
            ],
            "text/plain": [
              "                           Feature_importance%\n",
              "room_type_num                        63.646008\n",
              "accommodates                          8.472505\n",
              "bedrooms                              6.284707\n",
              "bathrooms_shared                      5.366036\n",
              "tv                                    3.987548\n",
              "availability_30                       1.955242\n",
              "dishwasher                            1.894462\n",
              "availability_60                       1.713724\n",
              "latitude                              1.400090\n",
              "longitude                             1.365225\n",
              "elevator                              1.339997\n",
              "cooking_basics                        0.840502\n",
              "maximum_nights                        0.659398\n",
              "hot_water                             0.447645\n",
              "shampoo                               0.362727\n",
              "cable_tv                              0.178842\n",
              "host_greets_you                       0.085341\n",
              "paid_parking_off_premises             0.000000"
            ]
          },
          "metadata": {
            "tags": []
          },
          "execution_count": 45
        }
      ]
    },
    {
      "cell_type": "code",
      "metadata": {
        "id": "oSMbWXdQaheG"
      },
      "source": [
        "X_test_03 = X_test_02[first_round_list_03].copy()"
      ],
      "execution_count": null,
      "outputs": []
    },
    {
      "cell_type": "code",
      "metadata": {
        "colab": {
          "base_uri": "https://localhost:8080/"
        },
        "id": "uyR2Nbf3aheH",
        "outputId": "de69adbd-ec25-43cc-9350-07f9bd3cd7e3"
      },
      "source": [
        "# Predict the model \n",
        "pred_3 = clf_03.predict(X_test_03) \n",
        "pred_3"
      ],
      "execution_count": null,
      "outputs": [
        {
          "output_type": "execute_result",
          "data": {
            "text/plain": [
              "array([4.755425 , 4.060215 , 3.9383528, ..., 3.5149748, 3.9343395,\n",
              "       3.6162007], dtype=float32)"
            ]
          },
          "metadata": {
            "tags": []
          },
          "execution_count": 65
        }
      ]
    },
    {
      "cell_type": "code",
      "metadata": {
        "colab": {
          "base_uri": "https://localhost:8080/"
        },
        "id": "IjBvw9DxaheO",
        "outputId": "f21c4243-abe7-4253-d844-22ced05720a0"
      },
      "source": [
        "# evaluating prediction\n",
        "rmse_3 = RMSE(y_test, pred_3)\n",
        "rmse_3"
      ],
      "execution_count": null,
      "outputs": [
        {
          "output_type": "execute_result",
          "data": {
            "text/plain": [
              "0.40785734788935235"
            ]
          },
          "metadata": {
            "tags": []
          },
          "execution_count": 66
        }
      ]
    },
    {
      "cell_type": "code",
      "metadata": {
        "colab": {
          "base_uri": "https://localhost:8080/"
        },
        "id": "CVTGF4knD0qA",
        "outputId": "7d40f860-d2d6-45e6-b4e8-a2fa7138fda5"
      },
      "source": [
        "# best columns from firs roound\n",
        "bests_chromos_hlf_7, best_scores_hlf_7 = fselec.generations_v4(size=200,\n",
        "                                                              n_feat=len(first_round_list_03),\n",
        "                                                              metric=RMSE,\n",
        "                                                              clf=clf,\n",
        "                                                              n_parents=100,\n",
        "                                                              mutation_rate=0.2, \n",
        "                                                              n_generations=10,\n",
        "                                                              X_train=X_train_03,\n",
        "                                                              y_train=y_train,\n",
        "                                                              percent_not_feat=0.8,\n",
        "                                                              seed=42,\n",
        "                                                              random_state_fit=42,\n",
        "                                                              classification=False,\n",
        "                                                              early_stop_ths=0.005,\n",
        "                                                              early_stop_falg=False)"
      ],
      "execution_count": null,
      "outputs": [
        {
          "output_type": "stream",
          "text": [
            "[0.4695919440803298, 0.4696546562306318]\n",
            "[0.435426440045426, 0.43720833852561153]\n",
            "[0.4281497979985267, 0.4337671545176269]\n",
            "[0.42259605102767334, 0.4237562251370907]\n",
            "[0.42114636367879976, 0.42259605102767334]\n",
            "[0.41673599726445404, 0.41999756683839456]\n",
            "[0.41485331197617875, 0.415214450451906]\n",
            "[0.41462702126135526, 0.41464317451633964]\n",
            "[0.4141729121730931, 0.4142404587269135]\n",
            "[0.4141729121730931, 0.4142404587269135]\n"
          ],
          "name": "stdout"
        }
      ]
    },
    {
      "cell_type": "code",
      "metadata": {
        "colab": {
          "base_uri": "https://localhost:8080/",
          "height": 279
        },
        "id": "MvKuN08xEEpK",
        "outputId": "267f2abb-819c-4f64-f1a3-efa29a2cf7d9"
      },
      "source": [
        "best_in_gene(best_scores_hlf_7)"
      ],
      "execution_count": null,
      "outputs": [
        {
          "output_type": "display_data",
          "data": {
            "image/png": "[encoded data removed]",
            "text/plain": [
              "<Figure size 432x288 with 1 Axes>"
            ]
          },
          "metadata": {
            "tags": [],
            "needs_background": "light"
          }
        }
      ]
    },
    {
      "cell_type": "code",
      "metadata": {
        "id": "oDSuOORuEQ_o"
      },
      "source": [
        "list_compare_hlf_7 = bests_chromos_coparison(bests_chromos=bests_chromos_hlf_7, \n",
        "                                             best_scores=best_scores_hlf_7)"
      ],
      "execution_count": null,
      "outputs": []
    },
    {
      "cell_type": "code",
      "metadata": {
        "colab": {
          "base_uri": "https://localhost:8080/"
        },
        "id": "v0nyDnZBEXVW",
        "outputId": "2f4a86a7-9d2d-4df5-96cc-b22f6dd65a07"
      },
      "source": [
        "list_compare_hlf_7"
      ],
      "execution_count": null,
      "outputs": [
        {
          "output_type": "execute_result",
          "data": {
            "text/plain": [
              "[(0, 'c0-1', False, 'sc-0', 0.4695919440803298, '# features 4'),\n",
              " (1, 'c1-2', False, 'sc-1', 0.435426440045426, '# features 10'),\n",
              " (2, 'c2-3', False, 'sc-2', 0.4281497979985267, '# features 8'),\n",
              " (3, 'c3-4', False, 'sc-3', 0.42259605102767334, '# features 11'),\n",
              " (4, 'c4-5', False, 'sc-4', 0.42114636367879976, '# features 12'),\n",
              " (5, 'c5-6', False, 'sc-5', 0.41673599726445404, '# features 10'),\n",
              " (6, 'c6-7', False, 'sc-6', 0.41485331197617875, '# features 11'),\n",
              " (7, 'c7-8', False, 'sc-7', 0.41462702126135526, '# features 13'),\n",
              " (8, 'c8-9', True, 'sc-8', 0.4141729121730931, '# features 12'),\n",
              " (9, 'c9-0', False, 'sc-9', 0.4141729121730931, '# features 12')]"
            ]
          },
          "metadata": {
            "tags": []
          },
          "execution_count": 45
        }
      ]
    },
    {
      "cell_type": "code",
      "metadata": {
        "colab": {
          "base_uri": "https://localhost:8080/"
        },
        "id": "UFut3szSEXf0",
        "outputId": "dbe23978-b9fd-4b2a-dab5-201d60210cb7"
      },
      "source": [
        "print(bests_chromos_hlf_7[-1])"
      ],
      "execution_count": null,
      "outputs": [
        {
          "output_type": "stream",
          "text": [
            "[ True  True  True  True  True  True False  True  True  True False  True\n",
            " False  True False False  True False]\n"
          ],
          "name": "stdout"
        }
      ]
    },
    {
      "cell_type": "code",
      "metadata": {
        "id": "_2gmqkbIJa0p"
      },
      "source": [
        "select_hlf_7 = [ True, True, True ,True,  True,  True, False,  True,  True,  True, False,  True,\n",
        " False,  True, False, False,  True, False]"
      ],
      "execution_count": null,
      "outputs": []
    },
    {
      "cell_type": "code",
      "metadata": {
        "colab": {
          "base_uri": "https://localhost:8080/"
        },
        "id": "cGLyge1YE0JC",
        "outputId": "5dcbb02f-1ab8-4578-be13-30fd588508d3"
      },
      "source": [
        "X_train_03.iloc[:, select_hlf_7].columns"
      ],
      "execution_count": null,
      "outputs": [
        {
          "output_type": "execute_result",
          "data": {
            "text/plain": [
              "Index(['latitude', 'longitude', 'accommodates', 'bedrooms', 'maximum_nights',\n",
              "       'availability_30', 'bathrooms_shared', 'room_type_num', 'tv',\n",
              "       'hot_water', 'dishwasher', 'cable_tv'],\n",
              "      dtype='object')"
            ]
          },
          "metadata": {
            "tags": []
          },
          "execution_count": 28
        }
      ]
    },
    {
      "cell_type": "code",
      "metadata": {
        "id": "oEMGsNqNEgkn"
      },
      "source": [
        "first_round_list_04 = list(X_train_03.iloc[:, select_hlf_7].columns)"
      ],
      "execution_count": null,
      "outputs": []
    },
    {
      "cell_type": "code",
      "metadata": {
        "colab": {
          "base_uri": "https://localhost:8080/"
        },
        "id": "9Lqnqvu_EqYg",
        "outputId": "33920cf9-eb13-4f1c-ad61-f764ef7497dd"
      },
      "source": [
        "len(first_round_list_04)"
      ],
      "execution_count": null,
      "outputs": [
        {
          "output_type": "execute_result",
          "data": {
            "text/plain": [
              "12"
            ]
          },
          "metadata": {
            "tags": []
          },
          "execution_count": 30
        }
      ]
    },
    {
      "cell_type": "code",
      "metadata": {
        "id": "zKX0YBZhXeoJ"
      },
      "source": [
        "X_train_04 = X_train_03.iloc[:, select_hlf_7].copy()"
      ],
      "execution_count": null,
      "outputs": []
    },
    {
      "cell_type": "code",
      "metadata": {
        "id": "NXCoYI7zXWbY"
      },
      "source": [
        "clf_04 = xg.XGBRegressor(objective ='reg:squarederror', \n",
        "                        max_depth=3, \n",
        "                        n_estimators=100, \n",
        "                        random_state=0)"
      ],
      "execution_count": null,
      "outputs": []
    },
    {
      "cell_type": "code",
      "metadata": {
        "colab": {
          "base_uri": "https://localhost:8080/"
        },
        "id": "iKK6jS-DXWbZ",
        "outputId": "56656f06-b59f-4cee-f57a-99973bc2df26"
      },
      "source": [
        "clf_04.fit(X_train_04, y_train)"
      ],
      "execution_count": null,
      "outputs": [
        {
          "output_type": "execute_result",
          "data": {
            "text/plain": [
              "XGBRegressor(base_score=0.5, booster='gbtree', colsample_bylevel=1,\n",
              "             colsample_bynode=1, colsample_bytree=1, gamma=0,\n",
              "             importance_type='gain', learning_rate=0.1, max_delta_step=0,\n",
              "             max_depth=3, min_child_weight=1, missing=None, n_estimators=100,\n",
              "             n_jobs=1, nthread=None, objective='reg:squarederror',\n",
              "             random_state=0, reg_alpha=0, reg_lambda=1, scale_pos_weight=1,\n",
              "             seed=None, silent=None, subsample=1, verbosity=1)"
            ]
          },
          "metadata": {
            "tags": []
          },
          "execution_count": 69
        }
      ]
    },
    {
      "cell_type": "code",
      "metadata": {
        "colab": {
          "base_uri": "https://localhost:8080/",
          "height": 1000
        },
        "id": "SsJ3184cXWbb",
        "outputId": "0d2e9f6f-0acb-4d92-c8d4-b3fedc652513"
      },
      "source": [
        "df_feature_importance_04 = fselec.feature_importance(model=clf_04, \n",
        "                                                     model_type='Uncalibrated',\n",
        "                                                     feature_list=first_round_list_04)                "
      ],
      "execution_count": null,
      "outputs": [
        {
          "output_type": "display_data",
          "data": {
            "image/png": "[encoded data removed]",
            "text/plain": [
              "<Figure size 720x1440 with 1 Axes>"
            ]
          },
          "metadata": {
            "tags": [],
            "needs_background": "light"
          }
        }
      ]
    },
    {
      "cell_type": "code",
      "metadata": {
        "colab": {
          "base_uri": "https://localhost:8080/",
          "height": 421
        },
        "id": "DXgZcKUsXWbb",
        "outputId": "3e07c58e-1c23-4323-a9fb-60cd2ec78324"
      },
      "source": [
        "df_feature_importance_04"
      ],
      "execution_count": null,
      "outputs": [
        {
          "output_type": "execute_result",
          "data": {
            "text/html": [
              "<div>\n",
              "<style scoped>\n",
              "    .dataframe tbody tr th:only-of-type {\n",
              "        vertical-align: middle;\n",
              "    }\n",
              "\n",
              "    .dataframe tbody tr th {\n",
              "        vertical-align: top;\n",
              "    }\n",
              "\n",
              "    .dataframe thead th {\n",
              "        text-align: right;\n",
              "    }\n",
              "</style>\n",
              "<table border=\"1\" class=\"dataframe\">\n",
              "  <thead>\n",
              "    <tr style=\"text-align: right;\">\n",
              "      <th></th>\n",
              "      <th>Feature_importance%</th>\n",
              "    </tr>\n",
              "  </thead>\n",
              "  <tbody>\n",
              "    <tr>\n",
              "      <th>room_type_num</th>\n",
              "      <td>63.133419</td>\n",
              "    </tr>\n",
              "    <tr>\n",
              "      <th>accommodates</th>\n",
              "      <td>9.053519</td>\n",
              "    </tr>\n",
              "    <tr>\n",
              "      <th>bedrooms</th>\n",
              "      <td>8.388864</td>\n",
              "    </tr>\n",
              "    <tr>\n",
              "      <th>bathrooms_shared</th>\n",
              "      <td>5.873417</td>\n",
              "    </tr>\n",
              "    <tr>\n",
              "      <th>tv</th>\n",
              "      <td>4.094971</td>\n",
              "    </tr>\n",
              "    <tr>\n",
              "      <th>dishwasher</th>\n",
              "      <td>3.219708</td>\n",
              "    </tr>\n",
              "    <tr>\n",
              "      <th>availability_30</th>\n",
              "      <td>1.831721</td>\n",
              "    </tr>\n",
              "    <tr>\n",
              "      <th>latitude</th>\n",
              "      <td>1.538228</td>\n",
              "    </tr>\n",
              "    <tr>\n",
              "      <th>longitude</th>\n",
              "      <td>1.521373</td>\n",
              "    </tr>\n",
              "    <tr>\n",
              "      <th>maximum_nights</th>\n",
              "      <td>0.719187</td>\n",
              "    </tr>\n",
              "    <tr>\n",
              "      <th>hot_water</th>\n",
              "      <td>0.625593</td>\n",
              "    </tr>\n",
              "    <tr>\n",
              "      <th>cable_tv</th>\n",
              "      <td>0.000000</td>\n",
              "    </tr>\n",
              "  </tbody>\n",
              "</table>\n",
              "</div>"
            ],
            "text/plain": [
              "                  Feature_importance%\n",
              "room_type_num               63.133419\n",
              "accommodates                 9.053519\n",
              "bedrooms                     8.388864\n",
              "bathrooms_shared             5.873417\n",
              "tv                           4.094971\n",
              "dishwasher                   3.219708\n",
              "availability_30              1.831721\n",
              "latitude                     1.538228\n",
              "longitude                    1.521373\n",
              "maximum_nights               0.719187\n",
              "hot_water                    0.625593\n",
              "cable_tv                     0.000000"
            ]
          },
          "metadata": {
            "tags": []
          },
          "execution_count": 71
        }
      ]
    },
    {
      "cell_type": "code",
      "metadata": {
        "id": "ewQ8B_tblcp4"
      },
      "source": [
        "X_test_04 = X_test_03[first_round_list_04].copy()"
      ],
      "execution_count": null,
      "outputs": []
    },
    {
      "cell_type": "code",
      "metadata": {
        "colab": {
          "base_uri": "https://localhost:8080/"
        },
        "id": "EBNRYYaflcp8",
        "outputId": "34aeb46d-5cdc-46db-9f79-1a8d030e213e"
      },
      "source": [
        "# Predict the model \n",
        "pred_4 = clf_04.predict(X_test_04) \n",
        "pred_4"
      ],
      "execution_count": null,
      "outputs": [
        {
          "output_type": "execute_result",
          "data": {
            "text/plain": [
              "array([4.7807984, 4.085519 , 3.9452255, ..., 3.5450904, 3.8987665,\n",
              "       3.614887 ], dtype=float32)"
            ]
          },
          "metadata": {
            "tags": []
          },
          "execution_count": 73
        }
      ]
    },
    {
      "cell_type": "code",
      "metadata": {
        "colab": {
          "base_uri": "https://localhost:8080/"
        },
        "id": "ddb-lvVDlcp9",
        "outputId": "b36789f9-85b9-417f-c52b-dadba8b3e5e3"
      },
      "source": [
        "# evaluating prediction\n",
        "rmse_4 = RMSE(y_test, pred_2)\n",
        "rmse_4"
      ],
      "execution_count": null,
      "outputs": [
        {
          "output_type": "execute_result",
          "data": {
            "text/plain": [
              "0.40640160394948976"
            ]
          },
          "metadata": {
            "tags": []
          },
          "execution_count": 74
        }
      ]
    },
    {
      "cell_type": "code",
      "metadata": {
        "id": "JzyqC9aGKH0u"
      },
      "source": [
        "corr_spear_4 = df[first_round_list_04 + ['price_log']].corr(method='spearman').abs()"
      ],
      "execution_count": null,
      "outputs": []
    },
    {
      "cell_type": "code",
      "metadata": {
        "id": "hAhY3j7DntUH"
      },
      "source": [
        "cmap = sns.diverging_palette(250, 10, as_cmap=True)"
      ],
      "execution_count": null,
      "outputs": []
    },
    {
      "cell_type": "code",
      "metadata": {
        "colab": {
          "base_uri": "https://localhost:8080/",
          "height": 969
        },
        "id": "4RzEhEGmnzOU",
        "outputId": "01451264-f0b2-4ce1-d34d-b2ef315acae8"
      },
      "source": [
        "mtools.heat_map_corr(corr_spear_4, cmap, square=False, annot=True)"
      ],
      "execution_count": null,
      "outputs": [
        {
          "output_type": "display_data",
          "data": {
            "image/png": "[encoded data removed]",
            "text/plain": [
              "<Figure size 1440x1080 with 2 Axes>"
            ]
          },
          "metadata": {
            "tags": [],
            "needs_background": "light"
          }
        }
      ]
    },
    {
      "cell_type": "code",
      "metadata": {
        "id": "5F-Us74Bn5KC"
      },
      "source": [
        ""
      ],
      "execution_count": null,
      "outputs": []
    }
  ]
}